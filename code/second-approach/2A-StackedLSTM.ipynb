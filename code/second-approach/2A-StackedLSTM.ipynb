{
  "cells": [
    {
      "cell_type": "markdown",
      "metadata": {},
      "source": [
        "![Instituto Politécnico de Leiria](https://www.ipleiria.pt/wp-content/webpc-passthru.php?src=https://www.ipleiria.pt/wp-content/uploads/2021/10/estg_h-01.png&nocache=1)\n",
        "\n",
        "<center>\n",
        "\n",
        "# AI Driving Classification  <span style=\"font-size: 14px;\">2023/2024</span>\n",
        "\n",
        "<div align=\"center\" style=\"font-weight: bold\">Team Members:</div>\n",
        "\n",
        "<div align=\"center\">Alberto Manuel de Matos Pingo - 2202145</div>\n",
        "\n",
        "<div align=\"center\">João Pedro Quintela de Castro - 2201781</div>\n",
        "\n",
        "---\n",
        "\n",
        "## **Second Approach - Stacked LSTM**\n",
        "\n",
        "</center>\n",
        "\n",
        "---"
      ]
    },
    {
      "cell_type": "markdown",
      "metadata": {},
      "source": [
        "## Directories"
      ]
    },
    {
      "cell_type": "code",
      "execution_count": 1,
      "metadata": {},
      "outputs": [
        {
          "name": "stdout",
          "output_type": "stream",
          "text": [
            "Root directory: /home/pws/code/CoEProject-AI-DrivingClassification\n",
            "Datasets directory: /home/pws/code/CoEProject-AI-DrivingClassification/datasets\n",
            "Dataset directory: /home/pws/code/CoEProject-AI-DrivingClassification/datasets/IPL-Dataset\n"
          ]
        }
      ],
      "source": [
        "import os\n",
        "\n",
        "# Make auxiliar folders\n",
        "if not os.path.exists('runtime_saves'):\n",
        "    os.makedirs('runtime_saves')\n",
        "if not os.path.exists('runtime_saves/models'):\n",
        "    os.makedirs('runtime_saves/models')\n",
        "if not os.path.exists('runtime_saves/train&test'):\n",
        "    os.makedirs('runtime_saves/train&test')\n",
        "    \n",
        "current_dir = os.getcwd()\n",
        "\n",
        "root_dir = os.path.abspath(os.path.join(current_dir, os.pardir, os.pardir))\n",
        "\n",
        "datasets_dir = os.path.join(root_dir, 'datasets')\n",
        "\n",
        "dataset_dir = os.path.join(datasets_dir, 'IPL-Dataset')\n",
        "\n",
        "\n",
        "print(f'Root directory: {root_dir}')\n",
        "print(f'Datasets directory: {datasets_dir}')\n",
        "print(f'Dataset directory: {dataset_dir}')"
      ]
    },
    {
      "cell_type": "markdown",
      "metadata": {},
      "source": [
        "# **DATA PREPROCESSING**\n",
        "\n",
        "## Data Structure\n",
        "\n",
        "Accelerometer (m/s²): Acceleration along the each axis.\n",
        "- **accelerometerXAxis**\n",
        "- **accelerometerZAxis**\n",
        "- **accelerometerYAxis**\n",
        "\n",
        "Gyroscope (°/s): Angular velocity along the each axis.\n",
        "- **gyroscopeXAxis**\n",
        "- **gyroscopeYAxis**\n",
        "- **gyroscopeZAxis**\n",
        "\n",
        "GPS Coordinates (°): \n",
        "- **Latitude**\n",
        "- **Longitude**"
      ]
    },
    {
      "cell_type": "markdown",
      "metadata": {},
      "source": [
        "## Load dataset and apply rolling window"
      ]
    },
    {
      "cell_type": "code",
      "execution_count": 2,
      "metadata": {},
      "outputs": [],
      "source": [
        "import json\n",
        "import pandas as pd\n",
        "import numpy as np\n",
        "\n",
        "directories = ['Acceleration', 'Brake', 'Intersection']\n",
        "column_names = ['accelerometerXAxis', 'accelerometerYAxis', 'accelerometerZAxis', 'gyroscopeXAxis', 'gyroscopeYAxis', 'gyroscopeZAxis', 'Latitude', 'Longitude']\n",
        "label_names = ['Slow', 'Normal', 'Aggressive']\n",
        "\n",
        "df_bmw = pd.DataFrame(columns=column_names)\n",
        "labels_bmw = []\n",
        "df_honda = pd.DataFrame(columns=column_names)\n",
        "labels_honda = []\n",
        "\n",
        "data_bmw_list = []\n",
        "data_honda_list = []\n",
        "\n",
        "# TODO Import other folders too\n",
        "\n",
        "for directory in directories:\n",
        "    for root, dirs, files in os.walk(os.path.join(dataset_dir, directory)):\n",
        "        if 'turn 90 degree constant speed' in root: # Skip this directory\n",
        "            continue\n",
        "        for file in files:\n",
        "            if file.endswith('.json'):\n",
        "                f_car = os.path.basename(root).split()[0].upper()            \n",
        "                f_label = os.path.basename(os.path.dirname(root))\n",
        "                \n",
        "                f_data = json.load(open(os.path.join(root, file)))\n",
        "                f_data = f_data['capturedData']\n",
        "                f_data = pd.DataFrame(f_data)\n",
        "                \n",
        "                f_data = f_data[column_names]\n",
        "                \n",
        "                # Add Label to each row\n",
        "                f_labels = np.full((f_data.shape[0]), f_label)\n",
        "                                \n",
        "                if f_car == 'BMW':                                      \n",
        "                    data_bmw_list.append(f_data.copy())\n",
        "                    labels_bmw.extend(f_labels)                    \n",
        "                elif f_car == 'HONDA':\n",
        "                    data_honda_list.append(f_data.copy())\n",
        "                    labels_honda.extend(f_labels)                    \n",
        "\n",
        "label_names = np.unique(labels_bmw)\n",
        "\n",
        "# Raw Data\n",
        "df_bmw = pd.concat(data_bmw_list, axis=0)\n",
        "df_honda = pd.concat(data_honda_list, axis=0)\n",
        "# Save Data to CSV - runtime_saves folder\n",
        "df_bmw.to_csv('runtime_saves/00BMW_raw.csv', index=False)\n",
        "df_honda.to_csv('runtime_saves/00HONDA_raw.csv', index=False)\n",
        "\n",
        "# Labels\n",
        "labels_bmw = np.array(labels_bmw)\n",
        "labels_honda = np.array(labels_honda)\n",
        "labels = np.concatenate((labels_bmw, labels_honda))\n",
        "# Save Labels to CSV - runtime_saves folder\n",
        "np.savetxt('runtime_saves/BMW_labels.csv', labels_bmw, delimiter=',', fmt='%s')\n",
        "np.savetxt('runtime_saves/HONDA_labels.csv', labels_honda, delimiter=',', fmt='%s')"
      ]
    },
    {
      "cell_type": "markdown",
      "metadata": {},
      "source": [
        "## Rolling Window\n",
        "\n",
        "This processes **reduces the sensor data noise** by applying a centered rolling mean with a window of 3 to each column of the DataFrame. \\\n",
        "For each value, the function computes the mean of the current value, the one before, and the one after.\n",
        "\n",
        "    Applied to each scenario individually."
      ]
    },
    {
      "cell_type": "code",
      "execution_count": 3,
      "metadata": {},
      "outputs": [],
      "source": [
        "def apply_rolling_window(df):\n",
        "    df = df.rolling(window=3, center=True, min_periods=1).mean()   \n",
        "     \n",
        "    return df\n",
        "\n",
        "columns_to_process = ['accelerometerXAxis', 'accelerometerYAxis', 'accelerometerZAxis', 'gyroscopeXAxis', 'gyroscopeYAxis', 'gyroscopeZAxis']\n",
        "\n",
        "for i in range(len(data_bmw_list)):\n",
        "    data_bmw_list[i][columns_to_process] = apply_rolling_window(data_bmw_list[i][columns_to_process].copy())\n",
        "for i in range(len(data_honda_list)):\n",
        "    data_honda_list[i][columns_to_process] = apply_rolling_window(data_honda_list[i][columns_to_process].copy())\n",
        "\n",
        "data_bmw = pd.concat(data_bmw_list, axis=0)\n",
        "data_honda = pd.concat(data_honda_list, axis=0)\n",
        "\n",
        "# Save Data to CSV - runtime_saves folder\n",
        "data_bmw.to_csv('runtime_saves/01BMW_rollingwindow.csv', index=False)\n",
        "data_honda.to_csv('runtime_saves/01HONDA_rollingwindow.csv', index=False)"
      ]
    },
    {
      "cell_type": "code",
      "execution_count": 4,
      "metadata": {
        "id": "B5wPPy3OiYj9"
      },
      "outputs": [],
      "source": [
        "# import numpy as np\n",
        "# import pandas as pd\n",
        "\n",
        "# # Load the dataset into a DataFrame\n",
        "# df_bmw = pd.read_csv('runtime_saves/bmw_data.csv')\n",
        "# df_honda = pd.read_csv('runtime_saves/honda_data.csv')\n",
        "\n",
        "# # Load the labels into a NumPy array\n",
        "# labels_bmw = np.loadtxt('runtime_saves/bmw_labels.csv', delimiter=',', dtype=str)\n",
        "# labels_honda = np.loadtxt('runtime_saves/honda_labels.csv', delimiter=',', dtype=str)"
      ]
    },
    {
      "cell_type": "markdown",
      "metadata": {},
      "source": [
        "## Statistics - Label Distribution"
      ]
    },
    {
      "cell_type": "code",
      "execution_count": 5,
      "metadata": {},
      "outputs": [
        {
          "data": {
            "image/png": "[encoded data removed]",
            "text/plain": [
              "<Figure size 1200x600 with 1 Axes>"
            ]
          },
          "metadata": {},
          "output_type": "display_data"
        }
      ],
      "source": [
        "import matplotlib.pyplot as plt\n",
        "import seaborn as sns\n",
        "\n",
        "labels = pd.Series(labels)\n",
        "\n",
        "# plot the count of each label\n",
        "plt.figure(figsize=(12, 6))\n",
        "sns.countplot(x=labels, color='lightgreen')\n",
        "plt.title('Distribution of Labels')\n",
        "plt.xlabel('Label')\n",
        "plt.ylabel('Count')\n",
        "plt.show()"
      ]
    },
    {
      "cell_type": "markdown",
      "metadata": {},
      "source": [
        "# Label Encoding\n",
        "\n",
        "This process encodes each unique Categorical label as a distinct integer."
      ]
    },
    {
      "cell_type": "code",
      "execution_count": 6,
      "metadata": {},
      "outputs": [],
      "source": [
        "from sklearn.preprocessing import LabelEncoder\n",
        "\n",
        "label_encoder = LabelEncoder()\n",
        "\n",
        "labels = label_encoder.fit_transform(labels)"
      ]
    },
    {
      "cell_type": "markdown",
      "metadata": {},
      "source": [
        "# Normalize Data\n",
        "\n",
        "This process **helps the model performance** by rescaling specified columns of the dataset to a range between 0 and 1, based on the minimum and maximum values of that column.\n",
        "    \n",
        "    Applied to each car individually."
      ]
    },
    {
      "cell_type": "code",
      "execution_count": 7,
      "metadata": {},
      "outputs": [],
      "source": [
        "def normalize_between_0_and_1(data, columns):\n",
        "    for column in columns:\n",
        "        if column not in data.columns:\n",
        "            print(f\"[WARNING] {column} not found in DataFrame.\")\n",
        "            continue\n",
        "        else:\n",
        "            max_value = np.max(data[column])\n",
        "            min_value = np.min(data[column])\n",
        "            data[column] = (data[column] - min_value) / (max_value - min_value)\n",
        "    return data\n",
        "\n",
        "columns_to_normalize = ['accelerometerXAxis', 'accelerometerYAxis', 'accelerometerZAxis', 'gyroscopeXAxis', 'gyroscopeYAxis', 'gyroscopeZAxis']\n",
        "\n",
        "\n",
        "df_bmw = normalize_between_0_and_1(df_bmw, columns_to_normalize)\n",
        "df_honda = normalize_between_0_and_1(df_honda, columns_to_normalize)"
      ]
    },
    {
      "cell_type": "markdown",
      "metadata": {},
      "source": [
        "## Concatenate Data\n",
        "\n",
        "This process concatenates all cars into a single DataFrame after applyting the rolling window and normalization."
      ]
    },
    {
      "cell_type": "code",
      "execution_count": 8,
      "metadata": {},
      "outputs": [],
      "source": [
        "df = pd.concat([df_bmw, df_honda], axis=0)\n",
        "\n",
        "# create label column in the dataframe\n",
        "df['label'] = labels"
      ]
    },
    {
      "cell_type": "markdown",
      "metadata": {},
      "source": [
        "## Create Sequences\n",
        "\n",
        "This process involves segmenting time-series data into overlapping sequences and associating each sequence with a label based on the most frequent label within that window.## Create Sequences"
      ]
    },
    {
      "cell_type": "code",
      "execution_count": 9,
      "metadata": {},
      "outputs": [],
      "source": [
        "import numpy as np\n",
        "from scipy.stats import mode\n",
        "\n",
        "def create_sequences(data, labels, window_size=16, step_size=2):\n",
        "    X, y = [], []\n",
        "    for i in range(0, len(data) - window_size + 1, step_size):\n",
        "        # Create the window of data\n",
        "        X.append(data[i:i + window_size].values)        \n",
        "        \n",
        "         # Find the most frequent string label in the current window\n",
        "        window_labels = labels[i:i + window_size]\n",
        "        most_frequent_label = mode(window_labels, axis=None)[0]\n",
        "        \n",
        "        # Add the most frequent label as the label of the current window\n",
        "        y.append(most_frequent_label)\n",
        "            \n",
        "    return np.array(X), np.array(y)\n",
        "\n",
        "time_steps = 16\n",
        "step_size = 1\n",
        "\n",
        "X, y = create_sequences(\n",
        "    df[['accelerometerXAxis', 'accelerometerYAxis', 'accelerometerZAxis',\n",
        "        'gyroscopeXAxis', 'gyroscopeYAxis', 'gyroscopeZAxis', \n",
        "        'Latitude', 'Longitude']],\n",
        "    df['label'],\n",
        "    window_size=time_steps,\n",
        "    step_size=step_size    \n",
        ")\n",
        "\n",
        "# Save Features and Labels\n",
        "np.save('runtime_saves/X.npy', X)\n",
        "np.savetxt('runtime_saves/y.csv', y, delimiter=',', fmt='%d')"
      ]
    },
    {
      "cell_type": "markdown",
      "metadata": {},
      "source": [
        "# Split Dataset for Model Training\n",
        "\n",
        "This section splits the dataset into training, test, and validation sets\n",
        "\n",
        "- 70% Training\n",
        "- 20% Test\n",
        "- 10% Validation\n",
        "\n",
        "Stratify ensures each set maintains the original class distribution, while shuffle randomizes data to avoid any biases."
      ]
    },
    {
      "cell_type": "code",
      "execution_count": 10,
      "metadata": {},
      "outputs": [
        {
          "name": "stdout",
          "output_type": "stream",
          "text": [
            "Train Info: (2927, 16, 8), (2927,)\n",
            "Test Info: (814, 16, 8), (814,)\n",
            "Validation Info: (326, 16, 8), (326,)\n"
          ]
        }
      ],
      "source": [
        "from sklearn.model_selection import train_test_split\n",
        "\n",
        "X_train, X_test, y_train, y_test = train_test_split(X, y, test_size=0.2, shuffle=True, stratify=y, random_state=23)\n",
        "\n",
        "X_train, X_validation, y_train, y_validation = train_test_split(X_train, y_train, test_size=0.1, shuffle=True, stratify=y_train, random_state=23)\n",
        "\n",
        "\n",
        "print(f'Train Info: {X_train.shape}, {y_train.shape}')\n",
        "print(f'Test Info: {X_test.shape}, {y_test.shape}')\n",
        "print(f'Validation Info: {X_validation.shape}, {y_validation.shape}')"
      ]
    },
    {
      "cell_type": "markdown",
      "metadata": {},
      "source": [
        "# **MODEL ARCHITECTURE** - LSTM\n",
        "\n",
        "**Architecture:**\n",
        "\n",
        "Input -> LSTM - BN -> LSTM - BN -> LSTM - BN -> Dense - Output\n",
        "\n",
        "1. **Input Layer**\n",
        "   - The input layer expects sequences with shape `(timesteps, features)`, where `timesteps` is the number of time steps and `features` is the number of features at each time step.\n",
        "   - No specific preprocessing is applied to the input sequences beyond normalization.\n",
        "\n",
        "2. **LSTM Layers**\n",
        "   - The model consists of three LSTM layers, each with 64 units.\n",
        "   - The first two LSTM layers use `return_sequences=True` to ensure that the output at each time step is returned. This is necessary for stacking multiple LSTM layers, allowing the subsequent LSTM layers to process the full sequence.\n",
        "   - The third LSTM layer outputs the final hidden state for each sequence.\n",
        "\n",
        "3. **Batch Normalization**\n",
        "   - Batch normalization is applied after each LSTM layer to normalize the activations. This helps in stabilizing and accelerating the training process by maintaining a consistent distribution of activations.\n",
        "\n",
        "4. **Fully Connected (Dense) Layer**\n",
        "   - A dense layer with 3 units and a softmax activation function is used as the output layer.\n",
        "   - The softmax function provides a probability distribution over the 3 classes, which is used for classification.\n",
        "\n",
        "**Overfitting Measures**\n",
        "   - Dropout layers are not included in this architecture but are often used in practice to mitigate overfitting. For this model, the focus is on using LSTM layers and batch normalization to handle overfitting and ensure robust training.\n",
        "\n",
        "**Batch Normalization**\n",
        "   - Batch normalization is used after each LSTM layer to stabilize the learning process and accelerate convergence by normalizing the activations of each layer."
      ]
    },
    {
      "cell_type": "code",
      "execution_count": 11,
      "metadata": {},
      "outputs": [
        {
          "name": "stderr",
          "output_type": "stream",
          "text": [
            "2024-08-29 04:23:12.366218: E external/local_xla/xla/stream_executor/cuda/cuda_dnn.cc:9261] Unable to register cuDNN factory: Attempting to register factory for plugin cuDNN when one has already been registered\n",
            "2024-08-29 04:23:12.366276: E external/local_xla/xla/stream_executor/cuda/cuda_fft.cc:607] Unable to register cuFFT factory: Attempting to register factory for plugin cuFFT when one has already been registered\n",
            "2024-08-29 04:23:12.367541: E external/local_xla/xla/stream_executor/cuda/cuda_blas.cc:1515] Unable to register cuBLAS factory: Attempting to register factory for plugin cuBLAS when one has already been registered\n",
            "2024-08-29 04:23:12.374299: I tensorflow/core/platform/cpu_feature_guard.cc:182] This TensorFlow binary is optimized to use available CPU instructions in performance-critical operations.\n",
            "To enable the following instructions: AVX2 FMA, in other operations, rebuild TensorFlow with the appropriate compiler flags.\n",
            "2024-08-29 04:23:13.210880: W tensorflow/compiler/tf2tensorrt/utils/py_utils.cc:38] TF-TRT Warning: Could not find TensorRT\n",
            "2024-08-29 04:23:13.837891: I external/local_xla/xla/stream_executor/cuda/cuda_executor.cc:901] successful NUMA node read from SysFS had negative value (-1), but there must be at least one NUMA node, so returning NUMA node zero. See more at https://github.com/torvalds/linux/blob/v6.0/Documentation/ABI/testing/sysfs-bus-pci#L344-L355\n",
            "2024-08-29 04:23:13.874977: I external/local_xla/xla/stream_executor/cuda/cuda_executor.cc:901] successful NUMA node read from SysFS had negative value (-1), but there must be at least one NUMA node, so returning NUMA node zero. See more at https://github.com/torvalds/linux/blob/v6.0/Documentation/ABI/testing/sysfs-bus-pci#L344-L355\n",
            "2024-08-29 04:23:13.875162: I external/local_xla/xla/stream_executor/cuda/cuda_executor.cc:901] successful NUMA node read from SysFS had negative value (-1), but there must be at least one NUMA node, so returning NUMA node zero. See more at https://github.com/torvalds/linux/blob/v6.0/Documentation/ABI/testing/sysfs-bus-pci#L344-L355\n",
            "2024-08-29 04:23:13.876107: I external/local_xla/xla/stream_executor/cuda/cuda_executor.cc:901] successful NUMA node read from SysFS had negative value (-1), but there must be at least one NUMA node, so returning NUMA node zero. See more at https://github.com/torvalds/linux/blob/v6.0/Documentation/ABI/testing/sysfs-bus-pci#L344-L355\n",
            "2024-08-29 04:23:13.876339: I external/local_xla/xla/stream_executor/cuda/cuda_executor.cc:901] successful NUMA node read from SysFS had negative value (-1), but there must be at least one NUMA node, so returning NUMA node zero. See more at https://github.com/torvalds/linux/blob/v6.0/Documentation/ABI/testing/sysfs-bus-pci#L344-L355\n",
            "2024-08-29 04:23:13.876479: I external/local_xla/xla/stream_executor/cuda/cuda_executor.cc:901] successful NUMA node read from SysFS had negative value (-1), but there must be at least one NUMA node, so returning NUMA node zero. See more at https://github.com/torvalds/linux/blob/v6.0/Documentation/ABI/testing/sysfs-bus-pci#L344-L355\n",
            "2024-08-29 04:23:13.947402: I external/local_xla/xla/stream_executor/cuda/cuda_executor.cc:901] successful NUMA node read from SysFS had negative value (-1), but there must be at least one NUMA node, so returning NUMA node zero. See more at https://github.com/torvalds/linux/blob/v6.0/Documentation/ABI/testing/sysfs-bus-pci#L344-L355\n",
            "2024-08-29 04:23:13.947572: I external/local_xla/xla/stream_executor/cuda/cuda_executor.cc:901] successful NUMA node read from SysFS had negative value (-1), but there must be at least one NUMA node, so returning NUMA node zero. See more at https://github.com/torvalds/linux/blob/v6.0/Documentation/ABI/testing/sysfs-bus-pci#L344-L355\n",
            "2024-08-29 04:23:13.947717: I external/local_xla/xla/stream_executor/cuda/cuda_executor.cc:901] successful NUMA node read from SysFS had negative value (-1), but there must be at least one NUMA node, so returning NUMA node zero. See more at https://github.com/torvalds/linux/blob/v6.0/Documentation/ABI/testing/sysfs-bus-pci#L344-L355\n",
            "2024-08-29 04:23:13.947817: I tensorflow/core/common_runtime/gpu/gpu_device.cc:1929] Created device /job:localhost/replica:0/task:0/device:GPU:0 with 68 MB memory:  -> device: 0, name: NVIDIA GeForce GTX 1060 6GB, pci bus id: 0000:01:00.0, compute capability: 6.1\n"
          ]
        },
        {
          "name": "stdout",
          "output_type": "stream",
          "text": [
            "Model: \"model\"\n",
            "_________________________________________________________________\n",
            " Layer (type)                Output Shape              Param #   \n",
            "=================================================================\n",
            " input_1 (InputLayer)        [(None, 16, 8)]           0         \n",
            "                                                                 \n",
            " lstm (LSTM)                 (None, 16, 64)            18688     \n",
            "                                                                 \n",
            " batch_normalization (Batch  (None, 16, 64)            256       \n",
            " Normalization)                                                  \n",
            "                                                                 \n",
            " lstm_1 (LSTM)               (None, 16, 64)            33024     \n",
            "                                                                 \n",
            " batch_normalization_1 (Bat  (None, 16, 64)            256       \n",
            " chNormalization)                                                \n",
            "                                                                 \n",
            " lstm_2 (LSTM)               (None, 64)                33024     \n",
            "                                                                 \n",
            " batch_normalization_2 (Bat  (None, 64)                256       \n",
            " chNormalization)                                                \n",
            "                                                                 \n",
            " dense (Dense)               (None, 3)                 195       \n",
            "                                                                 \n",
            "=================================================================\n",
            "Total params: 85699 (334.76 KB)\n",
            "Trainable params: 85315 (333.26 KB)\n",
            "Non-trainable params: 384 (1.50 KB)\n",
            "_________________________________________________________________\n"
          ]
        }
      ],
      "source": [
        "from tensorflow import keras\n",
        "from tensorflow.keras.layers import LSTM, Dense, Dropout, BatchNormalization\n",
        "\n",
        "# Inputs\n",
        "input_shape = (X_train.shape[1], X_train.shape[2])\n",
        "inputs = keras.Input(shape=input_shape)\n",
        "\n",
        "# Architecture\n",
        "x = LSTM(64, return_sequences=True)(inputs)\n",
        "x = BatchNormalization()(x)\n",
        "\n",
        "x = LSTM(64, return_sequences=True)(x)\n",
        "x = BatchNormalization()(x)\n",
        "\n",
        "x = LSTM(64)(x)\n",
        "x = BatchNormalization()(x)\n",
        "\n",
        "outputs = Dense(3, activation='softmax')(x)\n",
        "\n",
        "# Create the model\n",
        "model = keras.Model(inputs=inputs, outputs=outputs)\n",
        "\n",
        "model.summary()"
      ]
    },
    {
      "cell_type": "markdown",
      "metadata": {},
      "source": [
        "## Compile Model\n",
        "\n",
        "**Loss function:** \\\n",
        "Use the *Sparse Categorical Crossentropy* loss function because it is a `multi-class classification` problem.\n",
        "\n",
        "**Optimizer: RMSprop** \\\n",
        "Exploring the *Adam* optimizer."
      ]
    },
    {
      "cell_type": "code",
      "execution_count": 12,
      "metadata": {},
      "outputs": [],
      "source": [
        "from tensorflow.keras import optimizers\n",
        "\n",
        "model.compile(optimizer='adam', loss='sparse_categorical_crossentropy', metrics=['accuracy'])"
      ]
    },
    {
      "cell_type": "markdown",
      "metadata": {},
      "source": [
        "## Train Model\n",
        "Train the model with Early stopping, Model checkpoint, and Learning rate reduction callbacks."
      ]
    },
    {
      "cell_type": "code",
      "execution_count": 13,
      "metadata": {},
      "outputs": [
        {
          "name": "stdout",
          "output_type": "stream",
          "text": [
            "Epoch 1/100\n"
          ]
        },
        {
          "name": "stderr",
          "output_type": "stream",
          "text": [
            "2024-08-29 04:23:19.566796: I external/local_xla/xla/stream_executor/cuda/cuda_dnn.cc:454] Loaded cuDNN version 8904\n",
            "2024-08-29 04:23:20.053502: I external/local_xla/xla/service/service.cc:168] XLA service 0x7de56653a230 initialized for platform CUDA (this does not guarantee that XLA will be used). Devices:\n",
            "2024-08-29 04:23:20.053543: I external/local_xla/xla/service/service.cc:176]   StreamExecutor device (0): NVIDIA GeForce GTX 1060 6GB, Compute Capability 6.1\n",
            "2024-08-29 04:23:20.059611: I tensorflow/compiler/mlir/tensorflow/utils/dump_mlir_util.cc:269] disabling MLIR crash reproducer, set env var `MLIR_CRASH_REPRODUCER_DIRECTORY` to enable.\n",
            "WARNING: All log messages before absl::InitializeLog() is called are written to STDERR\n",
            "I0000 00:00:1724901800.143852  202718 device_compiler.h:186] Compiled cluster using XLA!  This line is logged at most once for the lifetime of the process.\n"
          ]
        },
        {
          "name": "stdout",
          "output_type": "stream",
          "text": [
            "183/183 [==============================] - 9s 16ms/step - loss: 1.0597 - accuracy: 0.4773 - val_loss: 1.1161 - val_accuracy: 0.4356 - lr: 0.0010\n",
            "Epoch 2/100\n",
            " 12/183 [>.............................] - ETA: 1s - loss: 0.9969 - accuracy: 0.4792"
          ]
        },
        {
          "name": "stderr",
          "output_type": "stream",
          "text": [
            "/home/pws/miniconda3/envs/tensorflow/lib/python3.11/site-packages/keras/src/engine/training.py:3103: UserWarning: You are saving your model as an HDF5 file via `model.save()`. This file format is considered legacy. We recommend using instead the native Keras format, e.g. `model.save('my_model.keras')`.\n",
            "  saving_api.save_model(\n"
          ]
        },
        {
          "name": "stdout",
          "output_type": "stream",
          "text": [
            "183/183 [==============================] - 2s 11ms/step - loss: 0.9620 - accuracy: 0.5419 - val_loss: 1.7419 - val_accuracy: 0.2546 - lr: 0.0010\n",
            "Epoch 3/100\n",
            "183/183 [==============================] - 2s 10ms/step - loss: 0.8961 - accuracy: 0.5787 - val_loss: 1.7939 - val_accuracy: 0.2546 - lr: 0.0010\n",
            "Epoch 4/100\n",
            "183/183 [==============================] - 2s 9ms/step - loss: 0.8508 - accuracy: 0.6143 - val_loss: 4.2158 - val_accuracy: 0.2546 - lr: 0.0010\n",
            "Epoch 5/100\n",
            "183/183 [==============================] - 2s 10ms/step - loss: 0.7843 - accuracy: 0.6426 - val_loss: 9.9238 - val_accuracy: 0.2546 - lr: 0.0010\n",
            "Epoch 6/100\n",
            "183/183 [==============================] - 2s 9ms/step - loss: 0.7280 - accuracy: 0.6816 - val_loss: 5.9230 - val_accuracy: 0.2546 - lr: 0.0010\n",
            "Epoch 7/100\n",
            "183/183 [==============================] - 2s 11ms/step - loss: 0.6866 - accuracy: 0.6922 - val_loss: 3.8203 - val_accuracy: 0.2485 - lr: 0.0010\n",
            "Epoch 8/100\n",
            "180/183 [============================>.] - ETA: 0s - loss: 0.6625 - accuracy: 0.7118\n",
            "Epoch 8: ReduceLROnPlateau reducing learning rate to 0.0005000000237487257.\n",
            "183/183 [==============================] - 2s 10ms/step - loss: 0.6639 - accuracy: 0.7099 - val_loss: 3.8253 - val_accuracy: 0.2546 - lr: 0.0010\n",
            "Epoch 9/100\n",
            "183/183 [==============================] - 2s 9ms/step - loss: 0.5858 - accuracy: 0.7485 - val_loss: 3.2710 - val_accuracy: 0.3742 - lr: 5.0000e-04\n",
            "Epoch 10/100\n",
            "183/183 [==============================] - 2s 9ms/step - loss: 0.5462 - accuracy: 0.7646 - val_loss: 4.9561 - val_accuracy: 0.2699 - lr: 5.0000e-04\n",
            "Epoch 11/100\n",
            "183/183 [==============================] - 2s 11ms/step - loss: 0.5378 - accuracy: 0.7742 - val_loss: 2.7909 - val_accuracy: 0.4632 - lr: 5.0000e-04\n",
            "Epoch 12/100\n",
            "183/183 [==============================] - 2s 11ms/step - loss: 0.5314 - accuracy: 0.7776 - val_loss: 2.8379 - val_accuracy: 0.5092 - lr: 5.0000e-04\n",
            "Epoch 13/100\n",
            "183/183 [==============================] - 2s 12ms/step - loss: 0.5046 - accuracy: 0.7865 - val_loss: 2.0302 - val_accuracy: 0.5399 - lr: 5.0000e-04\n",
            "Epoch 14/100\n",
            "183/183 [==============================] - 2s 12ms/step - loss: 0.4718 - accuracy: 0.8005 - val_loss: 2.5568 - val_accuracy: 0.3252 - lr: 5.0000e-04\n",
            "Epoch 15/100\n",
            "183/183 [==============================] - 2s 9ms/step - loss: 0.4521 - accuracy: 0.8097 - val_loss: 5.8524 - val_accuracy: 0.2485 - lr: 5.0000e-04\n",
            "Epoch 16/100\n",
            "183/183 [==============================] - 2s 9ms/step - loss: 0.4461 - accuracy: 0.8141 - val_loss: 1.1239 - val_accuracy: 0.5337 - lr: 5.0000e-04\n",
            "Epoch 17/100\n",
            "183/183 [==============================] - 2s 11ms/step - loss: 0.4385 - accuracy: 0.8169 - val_loss: 1.1974 - val_accuracy: 0.5491 - lr: 5.0000e-04\n",
            "Epoch 18/100\n",
            "183/183 [==============================] - 2s 10ms/step - loss: 0.3997 - accuracy: 0.8350 - val_loss: 1.5157 - val_accuracy: 0.5460 - lr: 5.0000e-04\n",
            "Epoch 19/100\n",
            "183/183 [==============================] - 2s 9ms/step - loss: 0.3831 - accuracy: 0.8480 - val_loss: 1.1823 - val_accuracy: 0.5859 - lr: 5.0000e-04\n",
            "Epoch 20/100\n",
            "183/183 [==============================] - 2s 9ms/step - loss: 0.3817 - accuracy: 0.8466 - val_loss: 1.4826 - val_accuracy: 0.5521 - lr: 5.0000e-04\n",
            "Epoch 21/100\n",
            "183/183 [==============================] - 2s 9ms/step - loss: 0.3419 - accuracy: 0.8589 - val_loss: 4.0553 - val_accuracy: 0.3037 - lr: 5.0000e-04\n",
            "Epoch 22/100\n",
            "183/183 [==============================] - 2s 9ms/step - loss: 0.3411 - accuracy: 0.8606 - val_loss: 1.3007 - val_accuracy: 0.4540 - lr: 5.0000e-04\n",
            "Epoch 23/100\n",
            "183/183 [==============================] - 2s 9ms/step - loss: 0.3215 - accuracy: 0.8722 - val_loss: 2.4053 - val_accuracy: 0.4049 - lr: 5.0000e-04\n",
            "Epoch 24/100\n",
            "183/183 [==============================] - 2s 9ms/step - loss: 0.2904 - accuracy: 0.8821 - val_loss: 1.6718 - val_accuracy: 0.4479 - lr: 5.0000e-04\n",
            "Epoch 25/100\n",
            "183/183 [==============================] - 2s 9ms/step - loss: 0.3036 - accuracy: 0.8746 - val_loss: 2.6750 - val_accuracy: 0.3221 - lr: 5.0000e-04\n",
            "Epoch 26/100\n",
            "178/183 [============================>.] - ETA: 0s - loss: 0.2826 - accuracy: 0.8922\n",
            "Epoch 26: ReduceLROnPlateau reducing learning rate to 0.0002500000118743628.\n",
            "183/183 [==============================] - 2s 9ms/step - loss: 0.2824 - accuracy: 0.8920 - val_loss: 1.8063 - val_accuracy: 0.4110 - lr: 5.0000e-04\n",
            "Epoch 27/100\n",
            "183/183 [==============================] - 2s 9ms/step - loss: 0.2353 - accuracy: 0.9122 - val_loss: 2.2432 - val_accuracy: 0.5767 - lr: 2.5000e-04\n",
            "Epoch 28/100\n",
            "183/183 [==============================] - 2s 9ms/step - loss: 0.2263 - accuracy: 0.9153 - val_loss: 1.7065 - val_accuracy: 0.4509 - lr: 2.5000e-04\n",
            "Epoch 29/100\n",
            "183/183 [==============================] - 2s 9ms/step - loss: 0.2080 - accuracy: 0.9160 - val_loss: 1.4281 - val_accuracy: 0.5399 - lr: 2.5000e-04\n",
            "Epoch 30/100\n",
            "183/183 [==============================] - 2s 9ms/step - loss: 0.2139 - accuracy: 0.9163 - val_loss: 1.7325 - val_accuracy: 0.5368 - lr: 2.5000e-04\n",
            "Epoch 31/100\n",
            "183/183 [==============================] - 2s 9ms/step - loss: 0.2155 - accuracy: 0.9190 - val_loss: 1.6110 - val_accuracy: 0.6472 - lr: 2.5000e-04\n",
            "Epoch 32/100\n",
            "183/183 [==============================] - 2s 9ms/step - loss: 0.1746 - accuracy: 0.9385 - val_loss: 2.6841 - val_accuracy: 0.4356 - lr: 2.5000e-04\n",
            "Epoch 33/100\n",
            "183/183 [==============================] - 2s 10ms/step - loss: 0.1781 - accuracy: 0.9293 - val_loss: 1.5312 - val_accuracy: 0.6074 - lr: 2.5000e-04\n",
            "Epoch 34/100\n",
            "183/183 [==============================] - 2s 10ms/step - loss: 0.1827 - accuracy: 0.9272 - val_loss: 3.8041 - val_accuracy: 0.2699 - lr: 2.5000e-04\n",
            "Epoch 35/100\n",
            "183/183 [==============================] - 2s 9ms/step - loss: 0.1758 - accuracy: 0.9351 - val_loss: 3.1456 - val_accuracy: 0.4264 - lr: 2.5000e-04\n",
            "Epoch 36/100\n",
            "183/183 [==============================] - 2s 9ms/step - loss: 0.1603 - accuracy: 0.9388 - val_loss: 1.8235 - val_accuracy: 0.5767 - lr: 2.5000e-04\n",
            "Epoch 37/100\n",
            "183/183 [==============================] - 2s 9ms/step - loss: 0.1701 - accuracy: 0.9354 - val_loss: 2.3309 - val_accuracy: 0.5644 - lr: 2.5000e-04\n",
            "Epoch 38/100\n",
            "177/183 [============================>.] - ETA: 0s - loss: 0.1557 - accuracy: 0.9417\n",
            "Epoch 38: ReduceLROnPlateau reducing learning rate to 0.0001250000059371814.\n",
            "183/183 [==============================] - 2s 9ms/step - loss: 0.1573 - accuracy: 0.9402 - val_loss: 1.6551 - val_accuracy: 0.5521 - lr: 2.5000e-04\n",
            "Epoch 39/100\n",
            "183/183 [==============================] - 2s 9ms/step - loss: 0.1425 - accuracy: 0.9450 - val_loss: 2.4945 - val_accuracy: 0.4356 - lr: 1.2500e-04\n",
            "Epoch 40/100\n",
            "183/183 [==============================] - 2s 9ms/step - loss: 0.1396 - accuracy: 0.9470 - val_loss: 1.2957 - val_accuracy: 0.6534 - lr: 1.2500e-04\n",
            "Epoch 41/100\n",
            "183/183 [==============================] - 2s 9ms/step - loss: 0.1330 - accuracy: 0.9546 - val_loss: 1.9803 - val_accuracy: 0.6380 - lr: 1.2500e-04\n",
            "Epoch 42/100\n",
            "183/183 [==============================] - 2s 9ms/step - loss: 0.1090 - accuracy: 0.9611 - val_loss: 0.9208 - val_accuracy: 0.7423 - lr: 1.2500e-04\n",
            "Epoch 43/100\n",
            "183/183 [==============================] - 2s 9ms/step - loss: 0.1294 - accuracy: 0.9542 - val_loss: 1.3374 - val_accuracy: 0.6380 - lr: 1.2500e-04\n",
            "Epoch 44/100\n",
            "183/183 [==============================] - 2s 9ms/step - loss: 0.1203 - accuracy: 0.9580 - val_loss: 1.2535 - val_accuracy: 0.6718 - lr: 1.2500e-04\n",
            "Epoch 45/100\n",
            "183/183 [==============================] - 2s 9ms/step - loss: 0.1147 - accuracy: 0.9597 - val_loss: 1.8071 - val_accuracy: 0.6748 - lr: 1.2500e-04\n",
            "Epoch 46/100\n",
            "183/183 [==============================] - 2s 9ms/step - loss: 0.1160 - accuracy: 0.9645 - val_loss: 2.8254 - val_accuracy: 0.4693 - lr: 1.2500e-04\n",
            "Epoch 47/100\n",
            "183/183 [==============================] - 2s 9ms/step - loss: 0.1036 - accuracy: 0.9648 - val_loss: 3.4360 - val_accuracy: 0.5061 - lr: 1.2500e-04\n",
            "Epoch 48/100\n",
            "183/183 [==============================] - 2s 9ms/step - loss: 0.1148 - accuracy: 0.9573 - val_loss: 1.6334 - val_accuracy: 0.5982 - lr: 1.2500e-04\n",
            "Epoch 49/100\n",
            "178/183 [============================>.] - ETA: 0s - loss: 0.1285 - accuracy: 0.9565\n",
            "Epoch 49: ReduceLROnPlateau reducing learning rate to 6.25000029685907e-05.\n",
            "183/183 [==============================] - 2s 9ms/step - loss: 0.1269 - accuracy: 0.9570 - val_loss: 2.6144 - val_accuracy: 0.5031 - lr: 1.2500e-04\n",
            "Epoch 50/100\n",
            "183/183 [==============================] - 2s 9ms/step - loss: 0.1046 - accuracy: 0.9634 - val_loss: 1.0231 - val_accuracy: 0.7577 - lr: 6.2500e-05\n",
            "Epoch 51/100\n",
            "183/183 [==============================] - 2s 9ms/step - loss: 0.0855 - accuracy: 0.9682 - val_loss: 0.3233 - val_accuracy: 0.8742 - lr: 6.2500e-05\n",
            "Epoch 52/100\n",
            "183/183 [==============================] - 2s 9ms/step - loss: 0.1110 - accuracy: 0.9614 - val_loss: 0.3824 - val_accuracy: 0.8589 - lr: 6.2500e-05\n",
            "Epoch 53/100\n",
            "183/183 [==============================] - 2s 9ms/step - loss: 0.0968 - accuracy: 0.9665 - val_loss: 2.5101 - val_accuracy: 0.6350 - lr: 6.2500e-05\n",
            "Epoch 54/100\n",
            "183/183 [==============================] - 2s 9ms/step - loss: 0.1080 - accuracy: 0.9593 - val_loss: 0.3428 - val_accuracy: 0.8589 - lr: 6.2500e-05\n",
            "Epoch 55/100\n",
            "183/183 [==============================] - 2s 10ms/step - loss: 0.1026 - accuracy: 0.9621 - val_loss: 0.1450 - val_accuracy: 0.9571 - lr: 6.2500e-05\n",
            "Epoch 56/100\n",
            "183/183 [==============================] - 2s 9ms/step - loss: 0.0901 - accuracy: 0.9723 - val_loss: 1.7268 - val_accuracy: 0.6994 - lr: 6.2500e-05\n",
            "Epoch 57/100\n",
            "183/183 [==============================] - 2s 9ms/step - loss: 0.0908 - accuracy: 0.9710 - val_loss: 1.4137 - val_accuracy: 0.6748 - lr: 6.2500e-05\n",
            "Epoch 58/100\n",
            "183/183 [==============================] - 2s 9ms/step - loss: 0.0878 - accuracy: 0.9730 - val_loss: 3.0071 - val_accuracy: 0.5583 - lr: 6.2500e-05\n",
            "Epoch 59/100\n",
            "183/183 [==============================] - 2s 9ms/step - loss: 0.0960 - accuracy: 0.9641 - val_loss: 1.2528 - val_accuracy: 0.6411 - lr: 6.2500e-05\n",
            "Epoch 60/100\n",
            "183/183 [==============================] - 2s 9ms/step - loss: 0.1003 - accuracy: 0.9689 - val_loss: 0.9854 - val_accuracy: 0.7546 - lr: 6.2500e-05\n",
            "Epoch 61/100\n",
            "183/183 [==============================] - 2s 9ms/step - loss: 0.0813 - accuracy: 0.9727 - val_loss: 0.5793 - val_accuracy: 0.8344 - lr: 6.2500e-05\n",
            "Epoch 62/100\n",
            "183/183 [==============================] - ETA: 0s - loss: 0.0969 - accuracy: 0.9669\n",
            "Epoch 62: ReduceLROnPlateau reducing learning rate to 3.125000148429535e-05.\n",
            "183/183 [==============================] - 2s 9ms/step - loss: 0.0969 - accuracy: 0.9669 - val_loss: 0.6308 - val_accuracy: 0.7945 - lr: 6.2500e-05\n",
            "Epoch 63/100\n",
            "183/183 [==============================] - 2s 9ms/step - loss: 0.0781 - accuracy: 0.9740 - val_loss: 0.2798 - val_accuracy: 0.8926 - lr: 3.1250e-05\n",
            "Epoch 64/100\n",
            "183/183 [==============================] - 2s 9ms/step - loss: 0.0838 - accuracy: 0.9737 - val_loss: 0.4059 - val_accuracy: 0.8834 - lr: 3.1250e-05\n",
            "Epoch 65/100\n",
            "183/183 [==============================] - 2s 9ms/step - loss: 0.0773 - accuracy: 0.9761 - val_loss: 0.1274 - val_accuracy: 0.9571 - lr: 3.1250e-05\n",
            "Epoch 66/100\n",
            "183/183 [==============================] - 2s 9ms/step - loss: 0.0797 - accuracy: 0.9720 - val_loss: 0.5872 - val_accuracy: 0.8129 - lr: 3.1250e-05\n",
            "Epoch 67/100\n",
            "183/183 [==============================] - 2s 9ms/step - loss: 0.0870 - accuracy: 0.9696 - val_loss: 0.2465 - val_accuracy: 0.9049 - lr: 3.1250e-05\n",
            "Epoch 68/100\n",
            "183/183 [==============================] - 2s 9ms/step - loss: 0.0727 - accuracy: 0.9775 - val_loss: 1.0292 - val_accuracy: 0.7638 - lr: 3.1250e-05\n",
            "Epoch 69/100\n",
            "182/183 [============================>.] - ETA: 0s - loss: 0.0864 - accuracy: 0.9718\n",
            "Epoch 69: ReduceLROnPlateau reducing learning rate to 1.5625000742147677e-05.\n",
            "183/183 [==============================] - 2s 9ms/step - loss: 0.0862 - accuracy: 0.9720 - val_loss: 0.2682 - val_accuracy: 0.9080 - lr: 3.1250e-05\n",
            "Epoch 70/100\n",
            "183/183 [==============================] - 2s 9ms/step - loss: 0.0820 - accuracy: 0.9737 - val_loss: 0.2640 - val_accuracy: 0.8988 - lr: 1.5625e-05\n",
            "Epoch 71/100\n",
            "183/183 [==============================] - 2s 9ms/step - loss: 0.0805 - accuracy: 0.9734 - val_loss: 0.1389 - val_accuracy: 0.9448 - lr: 1.5625e-05\n",
            "Epoch 72/100\n",
            "183/183 [==============================] - 2s 9ms/step - loss: 0.0747 - accuracy: 0.9747 - val_loss: 0.1558 - val_accuracy: 0.9387 - lr: 1.5625e-05\n",
            "Epoch 73/100\n",
            "183/183 [==============================] - 2s 9ms/step - loss: 0.0835 - accuracy: 0.9710 - val_loss: 0.1721 - val_accuracy: 0.9325 - lr: 1.5625e-05\n",
            "Epoch 74/100\n",
            "183/183 [==============================] - 2s 9ms/step - loss: 0.0667 - accuracy: 0.9788 - val_loss: 0.1160 - val_accuracy: 0.9540 - lr: 1.5625e-05\n",
            "Epoch 75/100\n",
            "183/183 [==============================] - 2s 9ms/step - loss: 0.0698 - accuracy: 0.9781 - val_loss: 0.1485 - val_accuracy: 0.9417 - lr: 1.5625e-05\n",
            "Epoch 76/100\n",
            "183/183 [==============================] - 2s 9ms/step - loss: 0.0686 - accuracy: 0.9754 - val_loss: 0.0905 - val_accuracy: 0.9601 - lr: 1.5625e-05\n",
            "Epoch 77/100\n",
            "183/183 [==============================] - 2s 9ms/step - loss: 0.0856 - accuracy: 0.9693 - val_loss: 0.2458 - val_accuracy: 0.9172 - lr: 1.5625e-05\n",
            "Epoch 78/100\n",
            "183/183 [==============================] - 2s 9ms/step - loss: 0.0764 - accuracy: 0.9720 - val_loss: 0.3330 - val_accuracy: 0.8681 - lr: 1.5625e-05\n",
            "Epoch 79/100\n",
            "183/183 [==============================] - 2s 9ms/step - loss: 0.0735 - accuracy: 0.9740 - val_loss: 0.0925 - val_accuracy: 0.9601 - lr: 1.5625e-05\n",
            "Epoch 80/100\n",
            "183/183 [==============================] - 2s 9ms/step - loss: 0.0596 - accuracy: 0.9843 - val_loss: 0.1146 - val_accuracy: 0.9540 - lr: 1.5625e-05\n",
            "Epoch 81/100\n",
            "183/183 [==============================] - 2s 9ms/step - loss: 0.0724 - accuracy: 0.9764 - val_loss: 0.6020 - val_accuracy: 0.8190 - lr: 1.5625e-05\n",
            "Epoch 82/100\n",
            "183/183 [==============================] - 2s 9ms/step - loss: 0.0681 - accuracy: 0.9768 - val_loss: 0.1521 - val_accuracy: 0.9479 - lr: 1.5625e-05\n",
            "Epoch 83/100\n",
            "179/183 [============================>.] - ETA: 0s - loss: 0.0694 - accuracy: 0.9804\n",
            "Epoch 83: ReduceLROnPlateau reducing learning rate to 7.812500371073838e-06.\n",
            "183/183 [==============================] - 2s 9ms/step - loss: 0.0709 - accuracy: 0.9795 - val_loss: 0.4452 - val_accuracy: 0.8497 - lr: 1.5625e-05\n",
            "Epoch 84/100\n",
            "183/183 [==============================] - 2s 9ms/step - loss: 0.0737 - accuracy: 0.9751 - val_loss: 0.1476 - val_accuracy: 0.9325 - lr: 7.8125e-06\n",
            "Epoch 85/100\n",
            "183/183 [==============================] - 2s 9ms/step - loss: 0.0736 - accuracy: 0.9761 - val_loss: 0.1158 - val_accuracy: 0.9540 - lr: 7.8125e-06\n",
            "Epoch 86/100\n",
            "183/183 [==============================] - 2s 9ms/step - loss: 0.0734 - accuracy: 0.9775 - val_loss: 0.1013 - val_accuracy: 0.9601 - lr: 7.8125e-06\n",
            "Epoch 87/100\n",
            "183/183 [==============================] - 2s 9ms/step - loss: 0.0824 - accuracy: 0.9716 - val_loss: 0.1009 - val_accuracy: 0.9540 - lr: 7.8125e-06\n",
            "Epoch 88/100\n",
            "183/183 [==============================] - 2s 9ms/step - loss: 0.0795 - accuracy: 0.9696 - val_loss: 0.0920 - val_accuracy: 0.9632 - lr: 7.8125e-06\n",
            "Epoch 89/100\n",
            "183/183 [==============================] - 2s 9ms/step - loss: 0.0742 - accuracy: 0.9754 - val_loss: 0.1138 - val_accuracy: 0.9693 - lr: 7.8125e-06\n",
            "Epoch 90/100\n",
            "183/183 [==============================] - 2s 9ms/step - loss: 0.0766 - accuracy: 0.9754 - val_loss: 0.1062 - val_accuracy: 0.9540 - lr: 7.8125e-06\n",
            "Epoch 91/100\n",
            "183/183 [==============================] - 2s 9ms/step - loss: 0.0733 - accuracy: 0.9747 - val_loss: 0.1198 - val_accuracy: 0.9601 - lr: 7.8125e-06\n",
            "Epoch 92/100\n",
            "183/183 [==============================] - 2s 9ms/step - loss: 0.0645 - accuracy: 0.9798 - val_loss: 0.1000 - val_accuracy: 0.9663 - lr: 7.8125e-06\n",
            "Epoch 93/100\n",
            "183/183 [==============================] - 2s 9ms/step - loss: 0.0674 - accuracy: 0.9802 - val_loss: 0.0930 - val_accuracy: 0.9632 - lr: 7.8125e-06\n",
            "Epoch 94/100\n",
            "183/183 [==============================] - 2s 9ms/step - loss: 0.0834 - accuracy: 0.9706 - val_loss: 0.1217 - val_accuracy: 0.9479 - lr: 7.8125e-06\n",
            "Epoch 95/100\n",
            "183/183 [==============================] - 2s 9ms/step - loss: 0.0705 - accuracy: 0.9747 - val_loss: 0.1516 - val_accuracy: 0.9387 - lr: 7.8125e-06\n",
            "Epoch 96/100\n",
            "182/183 [============================>.] - ETA: 0s - loss: 0.0753 - accuracy: 0.9715\n",
            "Epoch 96: ReduceLROnPlateau reducing learning rate to 3.906250185536919e-06.\n",
            "183/183 [==============================] - 2s 9ms/step - loss: 0.0751 - accuracy: 0.9716 - val_loss: 0.1466 - val_accuracy: 0.9325 - lr: 7.8125e-06\n",
            "Epoch 97/100\n",
            "183/183 [==============================] - 2s 9ms/step - loss: 0.0845 - accuracy: 0.9716 - val_loss: 0.0918 - val_accuracy: 0.9632 - lr: 3.9063e-06\n",
            "Epoch 98/100\n",
            "183/183 [==============================] - 2s 10ms/step - loss: 0.0731 - accuracy: 0.9754 - val_loss: 0.0953 - val_accuracy: 0.9632 - lr: 3.9063e-06\n",
            "Epoch 99/100\n",
            "183/183 [==============================] - 2s 9ms/step - loss: 0.0775 - accuracy: 0.9706 - val_loss: 0.0964 - val_accuracy: 0.9601 - lr: 3.9063e-06\n",
            "Epoch 100/100\n",
            "183/183 [==============================] - 2s 10ms/step - loss: 0.0656 - accuracy: 0.9764 - val_loss: 0.0856 - val_accuracy: 0.9632 - lr: 3.9063e-06\n"
          ]
        }
      ],
      "source": [
        "from tensorflow.keras.callbacks import EarlyStopping, ModelCheckpoint, ReduceLROnPlateau\n",
        "\n",
        "learning_rate_reduction = ReduceLROnPlateau(\n",
        "    monitor='val_accuracy', \n",
        "    patience=7, \n",
        "    verbose=1, \n",
        "    factor=0.5, \n",
        "    min_lr=1e-8)\n",
        "\n",
        "early_stop = EarlyStopping(monitor='val_accuracy',\n",
        "                           patience=15,\n",
        "                           restore_best_weights=True)\n",
        "model_checkpoint = ModelCheckpoint('models/checkpoints/2A-StackedLSTM-cp.h5', save_best_only=True)\n",
        "\n",
        "\n",
        "history = model.fit(\n",
        "    X_train, y_train,\n",
        "    epochs=100,\n",
        "    batch_size=16,\n",
        "    validation_data=(X_validation, y_validation),\n",
        "    verbose=1,\n",
        "    callbacks=[model_checkpoint, learning_rate_reduction])"
      ]
    },
    {
      "cell_type": "markdown",
      "metadata": {},
      "source": [
        "## Save Model"
      ]
    },
    {
      "cell_type": "code",
      "execution_count": 14,
      "metadata": {},
      "outputs": [],
      "source": [
        "model.save('runtime_saves/models/2A-StackedLSTM.h5')"
      ]
    },
    {
      "cell_type": "markdown",
      "metadata": {},
      "source": [
        "## Load Model"
      ]
    },
    {
      "cell_type": "code",
      "execution_count": 15,
      "metadata": {},
      "outputs": [],
      "source": [
        "from keras.models import load_model\n",
        "\n",
        "model = load_model('runtime_saves/models/2A-StackedLSTM.h5')"
      ]
    },
    {
      "cell_type": "markdown",
      "metadata": {
        "id": "Ct_S460uGhxP"
      },
      "source": [
        "# **RESULTS AND EVALUATION**"
      ]
    },
    {
      "cell_type": "markdown",
      "metadata": {},
      "source": [
        "## Training History"
      ]
    },
    {
      "cell_type": "code",
      "execution_count": 16,
      "metadata": {},
      "outputs": [
        {
          "data": {
            "image/png": "[encoded data removed]",
            "text/plain": [
              "<Figure size 640x480 with 1 Axes>"
            ]
          },
          "metadata": {},
          "output_type": "display_data"
        },
        {
          "data": {
            "image/png": "[encoded data removed]",
            "text/plain": [
              "<Figure size 640x480 with 1 Axes>"
            ]
          },
          "metadata": {},
          "output_type": "display_data"
        }
      ],
      "source": [
        "import matplotlib.pyplot as plt\n",
        "\n",
        "# Extract the history from the training process\n",
        "acc = history.history['accuracy']\n",
        "val_acc = history.history['val_accuracy']\n",
        "loss = history.history['loss']\n",
        "val_loss = history.history['val_loss']\n",
        "epochs = range(1, len(acc) + 1)\n",
        "\n",
        "# Plot the training and validation accuracy\n",
        "plt.plot(epochs, acc, 'bo', label='Training acc')\n",
        "plt.plot(epochs, val_acc, 'b', label='Validation acc')\n",
        "plt.title('Training and validation accuracy')\n",
        "plt.legend()\n",
        "\n",
        "# Plot the training and validation loss\n",
        "plt.figure()\n",
        "plt.plot(epochs, loss, 'bo', label='Training loss')\n",
        "plt.plot(epochs, val_loss, 'b', label='Validation loss')\n",
        "plt.title('Training and validation loss')\n",
        "plt.legend()\n",
        "plt.show()"
      ]
    },
    {
      "cell_type": "markdown",
      "metadata": {},
      "source": [
        "## Evaluate the model"
      ]
    },
    {
      "cell_type": "code",
      "execution_count": 17,
      "metadata": {},
      "outputs": [
        {
          "name": "stdout",
          "output_type": "stream",
          "text": [
            "Train accuracy: 99.7608%\n",
            "Train loss: 0.0154\n",
            "\n",
            "Test accuracy: 97.1744%\n",
            "Test loss: 0.0996\n",
            "\n",
            "Validation accuracy: 96.3190%\n",
            "Validation loss: 0.0856\n"
          ]
        }
      ],
      "source": [
        "# Train accuracy and loss\n",
        "train_loss, train_accuracy = model.evaluate(X_train, y_train, verbose=0)\n",
        "print(f'Train accuracy: {train_accuracy*100:.4f}%')\n",
        "print(f'Train loss: {train_loss:.4f}')\n",
        "print()\n",
        "\n",
        "# Test accuracy and loss\n",
        "test_loss, test_accuracy = model.evaluate(X_test, y_test, verbose=0)\n",
        "print(f'Test accuracy: {test_accuracy*100:.4f}%')\n",
        "print(f'Test loss: {test_loss:.4f}')\n",
        "print()\n",
        "\n",
        "# Validation accuracy and loss\n",
        "validation_loss, validation_accuracy = model.evaluate(X_validation, y_validation, verbose=0)\n",
        "print(f'Validation accuracy: {validation_accuracy*100:.4f}%')\n",
        "print(f'Validation loss: {validation_loss:.4f}')"
      ]
    },
    {
      "cell_type": "markdown",
      "metadata": {},
      "source": [
        "# Confusion Matrix"
      ]
    },
    {
      "cell_type": "code",
      "execution_count": 18,
      "metadata": {},
      "outputs": [
        {
          "name": "stdout",
          "output_type": "stream",
          "text": [
            "26/26 [==============================] - 1s 4ms/step\n",
            "[[201   2   3]\n",
            " [  1 245   8]\n",
            " [  4   5 345]]\n"
          ]
        },
        {
          "data": {
            "image/png": "[encoded data removed]",
            "text/plain": [
              "<Figure size 1000x600 with 2 Axes>"
            ]
          },
          "metadata": {},
          "output_type": "display_data"
        }
      ],
      "source": [
        "from sklearn import metrics\n",
        "import seaborn as sns\n",
        "import matplotlib.pyplot as plt\n",
        "\n",
        "# Simple confusion matrix\n",
        "pred = model.predict(X_test)\n",
        "pred = np.argmax(pred, axis=1)\n",
        "\n",
        "\n",
        "conf_matrix = metrics.confusion_matrix(y_test, pred)\n",
        "print(conf_matrix)\n",
        "\n",
        "# Graphical confusion matrix\n",
        "conf_matrix = metrics.confusion_matrix(y_test, pred)\n",
        "\n",
        "plt.figure(figsize=(10, 6))\n",
        "sns.heatmap(conf_matrix, annot=True, fmt='d', cmap='Greens', xticklabels=label_names, yticklabels=label_names)\n",
        "plt.xlabel('Predicted')\n",
        "plt.ylabel('Real')\n",
        "plt.title('Confusion Matrix')\n",
        "plt.show()"
      ]
    },
    {
      "cell_type": "markdown",
      "metadata": {},
      "source": [
        "## PCE and MPCE\n",
        "\n",
        "\n",
        "- **Per-Class Error (PCE)** $\\large = \\frac{1 - \\text{Accuracy}}{\\text{Classes}}$\n",
        "\n",
        "- **Mean Per-Class Error (MPCE)** $\\large = \\frac{1}{k} \\sum \\text{PCE}$"
      ]
    },
    {
      "cell_type": "code",
      "execution_count": 19,
      "metadata": {},
      "outputs": [
        {
          "name": "stdout",
          "output_type": "stream",
          "text": [
            "Mean per-class error (MCPE): 0.02838\n",
            "\n",
            "'aggressive'\n",
            "Per-class Error (PCE): 0.02427\n",
            "Per-class Accuracy (PCA): 0.97573\n",
            "\n",
            "'normal'\n",
            "Per-class Error (PCE): 0.03543\n",
            "Per-class Accuracy (PCA): 0.96457\n",
            "\n",
            "'slow'\n",
            "Per-class Error (PCE): 0.02542\n",
            "Per-class Accuracy (PCA): 0.97458\n",
            "\n"
          ]
        },
        {
          "data": {
            "image/png": "[encoded data removed]",
            "text/plain": [
              "<Figure size 1000x600 with 1 Axes>"
            ]
          },
          "metadata": {},
          "output_type": "display_data"
        }
      ],
      "source": [
        "from sklearn.metrics import confusion_matrix\n",
        "import numpy as np\n",
        "\n",
        "conf_matrix = confusion_matrix(y_test, pred)\n",
        "\n",
        "# Calculate per-class accuracy\n",
        "per_class_accuracy = conf_matrix.diagonal() / conf_matrix.sum(axis=1)\n",
        "\n",
        "# Convert per-class accuracy to per-class error\n",
        "per_class_error = 1 - per_class_accuracy\n",
        "\n",
        "# Mean per-class error\n",
        "mean_per_class_error = np.mean(per_class_error)\n",
        "print(f\"Mean per-class error (MCPE): {mean_per_class_error:.5f}\")\n",
        "print()\n",
        "\n",
        "# Display per-class error\n",
        "for idx, class_name in enumerate(label_names):\n",
        "    print(f\"'{class_name}'\")\n",
        "    print(f\"Per-class Error (PCE): {per_class_error[idx]:.5f}\")\n",
        "    print(f\"Per-class Accuracy (PCA): {per_class_accuracy[idx]:.5f}\")\n",
        "    print()\n",
        "    \n",
        "import matplotlib.pyplot as plt\n",
        "\n",
        "plt.figure(figsize=(10, 6))\n",
        "plt.bar(label_names, per_class_error, color='green')\n",
        "plt.xlabel('Class')\n",
        "plt.ylabel('Error Rate')\n",
        "plt.title('Per-Class Error Rate')\n",
        "plt.show()"
      ]
    },
    {
      "cell_type": "markdown",
      "metadata": {},
      "source": [
        "\n",
        "\n",
        "\n",
        "\n",
        "\n",
        "\n",
        "\n",
        "\n",
        "\n",
        "\n",
        "\n",
        "\n",
        "\n",
        "\n",
        "\n",
        "\n",
        "\n",
        "\n",
        "\n",
        "\n",
        "\n",
        "\n",
        "## Performance Metrics"
      ]
    },
    {
      "cell_type": "markdown",
      "metadata": {},
      "source": [
        "- Accuracy  $\\large = \\frac{Correct~Predictions}{All~Predictions}$\n",
        "- Precision for a given class  $\\large = \\frac{Correct~Predictions~for~the~Class}{All~Predictions~for~the~Class}$   \n",
        "- Recall for a given class  $\\large = \\frac{Correct~Predictions~for~the~Class}{All~Instances~of~the~Class}$  \n",
        "- F1 Score $\\large = \\frac{2 \\times \\text{Precision} \\times \\text{Recall}}{\\text{Precision} + \\text{Recall}}$  \n",
        "- Hamming Loss $\\large = \\frac{1}{N} \\sum_{i=1}^{N} \\frac{\\text{Incorrect Labels}}{\\text{Total Labels}}$  \n",
        "- Jaccard Score $\\large = \\frac{|Y_{pred} \\cap Y_{true}|}{|Y_{pred} \\cup Y_{true}|}$  \n",
        "\n",
        "\n",
        "\n",
        "- Averaging is a way to get a single number for multiclass. Depending on the importance one wants to give to minority classes: \n",
        "    - Macro average: Compute the metric for each class, and returns the average without considering the proportion for each class in the dataset. For instance:\n",
        "\n",
        "        Precision = $\\large = \\frac{P_{class 1} ~+~ P_{class 2} ~+~ ... ~+~ P_{class n}}{N}$   \n",
        "    \n",
        "    - Weighted average: Compute the metric for each class, and returns the average considering the proportion (weighted) for each class in the dataset. For instance:\n",
        "\n",
        "        Precision = $\\large = \\frac{N_1 ~*~ P_{class 1} ~+~ N_2 ~*~ P_{class 2} ~+~ ... ~+~ N_n ~*~ P_{class n}}{N}$"
      ]
    },
    {
      "cell_type": "code",
      "execution_count": 20,
      "metadata": {},
      "outputs": [
        {
          "name": "stdout",
          "output_type": "stream",
          "text": [
            "Accuracy : 97.17%\n",
            "\n",
            "Precision - Macro: 97.24%\n",
            "Recall - Macro: 97.16%\n",
            "F1-score - Macro: 97.2%\n",
            "\n",
            "Precision - Weighted: 97.18%\n",
            "Recall - Weighted: 97.17%\n",
            "F1-score - Weighted: 97.17%\n"
          ]
        }
      ],
      "source": [
        "from sklearn.metrics import accuracy_score, precision_score, recall_score, f1_score\n",
        "\n",
        "# Calculates performance metrics\n",
        "acc = accuracy_score(y_true =  y_test, y_pred = pred)\n",
        "print(f'Accuracy : {np.round(acc*100,2)}%')\n",
        "\n",
        "print()\n",
        "          \n",
        "precision = precision_score(y_true =  y_test, y_pred = pred, average='macro')\n",
        "print(f'Precision - Macro: {np.round(precision*100,2)}%')\n",
        "\n",
        "recall = recall_score(y_true =  y_test, y_pred = pred, average='macro')\n",
        "print(f'Recall - Macro: {np.round(recall*100,2)}%')\n",
        "\n",
        "f1 = f1_score(y_true =  y_test, y_pred = pred, average='macro')\n",
        "print(f'F1-score - Macro: {np.round(f1*100,2)}%')\n",
        "\n",
        "print()\n",
        "\n",
        "precision = precision_score(y_true =  y_test, y_pred = pred, average='weighted')\n",
        "print(f'Precision - Weighted: {np.round(precision*100,2)}%')\n",
        "\n",
        "recall = recall_score(y_true =  y_test, y_pred = pred, average='weighted')\n",
        "print(f'Recall - Weighted: {np.round(recall*100,2)}%')\n",
        "\n",
        "f1 = f1_score(y_true =  y_test, y_pred = pred, average='weighted')\n",
        "print(f'F1-score - Weighted: {np.round(f1*100,2)}%')"
      ]
    },
    {
      "cell_type": "markdown",
      "metadata": {},
      "source": [
        "## Classification report"
      ]
    },
    {
      "cell_type": "code",
      "execution_count": 21,
      "metadata": {},
      "outputs": [
        {
          "name": "stdout",
          "output_type": "stream",
          "text": [
            "              precision    recall  f1-score   support\n",
            "\n",
            "  aggressive       0.98      0.98      0.98       206\n",
            "      normal       0.97      0.96      0.97       254\n",
            "        slow       0.97      0.97      0.97       354\n",
            "\n",
            "    accuracy                           0.97       814\n",
            "   macro avg       0.97      0.97      0.97       814\n",
            "weighted avg       0.97      0.97      0.97       814\n",
            "\n"
          ]
        }
      ],
      "source": [
        "from sklearn.metrics import classification_report\n",
        "\n",
        "# Classification report\n",
        "print(classification_report(y_test, pred, target_names=label_names))"
      ]
    }
  ],
  "metadata": {
    "accelerator": "GPU",
    "colab": {
      "gpuType": "T4",
      "provenance": []
    },
    "kernelspec": {
      "display_name": "Python 3",
      "name": "python3"
    },
    "language_info": {
      "codemirror_mode": {
        "name": "ipython",
        "version": 3
      },
      "file_extension": ".py",
      "mimetype": "text/x-python",
      "name": "python",
      "nbconvert_exporter": "python",
      "pygments_lexer": "ipython3",
      "version": "3.1.-1"
    }
  },
  "nbformat": 4,
  "nbformat_minor": 0
}
