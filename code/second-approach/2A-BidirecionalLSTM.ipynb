{
  "cells": [
    {
      "cell_type": "markdown",
      "metadata": {},
      "source": [
        "![Instituto Politécnico de Leiria](https://www.ipleiria.pt/wp-content/webpc-passthru.php?src=https://www.ipleiria.pt/wp-content/uploads/2021/10/estg_h-01.png&nocache=1)\n",
        "\n",
        "<center>\n",
        "\n",
        "# AI Driving Classification  <span style=\"font-size: 14px;\">2023/2024</span>\n",
        "\n",
        "\n",
        "<div align=\"center\" style=\"font-weight: bold\">Team Members:</div>\n",
        "\n",
        "<div align=\"center\">Alberto Manuel de Matos Pingo - 2202145</div>\n",
        "\n",
        "<div align=\"center\">João Pedro Quintela de Castro - 2201781</div>\n",
        "\n",
        "---\n",
        "\n",
        "## **Second Approach - Bidirectional LSTM**\n",
        "\n",
        "</center>\n",
        "\n",
        "---"
      ]
    },
    {
      "cell_type": "markdown",
      "metadata": {},
      "source": [
        "## Directories"
      ]
    },
    {
      "cell_type": "code",
      "execution_count": 22,
      "metadata": {},
      "outputs": [
        {
          "name": "stdout",
          "output_type": "stream",
          "text": [
            "Root directory: /home/pws/code/CoEProject-AI-DrivingClassification\n",
            "Datasets directory: /home/pws/code/CoEProject-AI-DrivingClassification/datasets\n",
            "Dataset directory: /home/pws/code/CoEProject-AI-DrivingClassification/datasets/IPL-Dataset\n"
          ]
        }
      ],
      "source": [
        "import os\n",
        "\n",
        "# Make auxiliar folders\n",
        "if not os.path.exists('runtime_saves'):\n",
        "    os.makedirs('runtime_saves')\n",
        "if not os.path.exists('runtime_saves/models'):\n",
        "    os.makedirs('runtime_saves/models')\n",
        "if not os.path.exists('runtime_saves/train&test'):\n",
        "    os.makedirs('runtime_saves/train&test')\n",
        "    \n",
        "current_dir = os.getcwd()\n",
        "\n",
        "root_dir = os.path.abspath(os.path.join(current_dir, os.pardir, os.pardir))\n",
        "\n",
        "datasets_dir = os.path.join(root_dir, 'datasets')\n",
        "\n",
        "dataset_dir = os.path.join(datasets_dir, 'IPL-Dataset')\n",
        "\n",
        "\n",
        "print(f'Root directory: {root_dir}')\n",
        "print(f'Datasets directory: {datasets_dir}')\n",
        "print(f'Dataset directory: {dataset_dir}')"
      ]
    },
    {
      "cell_type": "markdown",
      "metadata": {},
      "source": [
        "# **DATA PREPROCESSING**\n",
        "\n",
        "## Data Structure\n",
        "\n",
        "Accelerometer (m/s²): Acceleration along the each axis.\n",
        "- **accelerometerXAxis**\n",
        "- **accelerometerZAxis**\n",
        "- **accelerometerYAxis**\n",
        "\n",
        "Gyroscope (°/s): Angular velocity along the each axis.\n",
        "- **gyroscopeXAxis**\n",
        "- **gyroscopeYAxis**\n",
        "- **gyroscopeZAxis**\n",
        "\n",
        "GPS Coordinates (°): \n",
        "- **Latitude**\n",
        "- **Longitude**"
      ]
    },
    {
      "cell_type": "markdown",
      "metadata": {},
      "source": [
        "## Load Scenarios and Data Cleaning"
      ]
    },
    {
      "cell_type": "code",
      "execution_count": 23,
      "metadata": {},
      "outputs": [],
      "source": [
        "import json\n",
        "import pandas as pd\n",
        "import numpy as np\n",
        "\n",
        "directories = ['Acceleration', 'Brake', 'Intersection']\n",
        "column_names = ['accelerometerXAxis', 'accelerometerYAxis', 'accelerometerZAxis', 'gyroscopeXAxis', 'gyroscopeYAxis', 'gyroscopeZAxis', 'Latitude', 'Longitude']\n",
        "label_names = ['Slow', 'Normal', 'Aggressive']\n",
        "\n",
        "df_bmw = pd.DataFrame(columns=column_names)\n",
        "labels_bmw = []\n",
        "df_honda = pd.DataFrame(columns=column_names)\n",
        "labels_honda = []\n",
        "\n",
        "data_bmw_list = []\n",
        "data_honda_list = []\n",
        "\n",
        "# TODO Import other folders too\n",
        "\n",
        "for directory in directories:\n",
        "    for root, dirs, files in os.walk(os.path.join(dataset_dir, directory)):\n",
        "        if 'turn 90 degree constant speed' in root: # Skip this directory\n",
        "            continue\n",
        "        for file in files:\n",
        "            if file.endswith('.json'):\n",
        "                f_car = os.path.basename(root).split()[0].upper()            \n",
        "                f_label = os.path.basename(os.path.dirname(root))\n",
        "                \n",
        "                f_data = json.load(open(os.path.join(root, file)))\n",
        "                f_data = f_data['capturedData']\n",
        "                f_data = pd.DataFrame(f_data)\n",
        "                \n",
        "                f_data = f_data[column_names]\n",
        "                \n",
        "                # Add Label to each row\n",
        "                f_labels = np.full((f_data.shape[0]), f_label)\n",
        "                                \n",
        "                if f_car == 'BMW':                                      \n",
        "                    data_bmw_list.append(f_data.copy())\n",
        "                    labels_bmw.extend(f_labels)                    \n",
        "                elif f_car == 'HONDA':\n",
        "                    data_honda_list.append(f_data.copy())\n",
        "                    labels_honda.extend(f_labels)                    \n",
        "\n",
        "label_names = np.unique(labels_bmw)\n",
        "\n",
        "# Raw Data\n",
        "df_bmw = pd.concat(data_bmw_list, axis=0)\n",
        "df_honda = pd.concat(data_honda_list, axis=0)\n",
        "# Save Data to CSV - runtime_saves folder\n",
        "df_bmw.to_csv('runtime_saves/00BMW_raw.csv', index=False)\n",
        "df_honda.to_csv('runtime_saves/00HONDA_raw.csv', index=False)\n",
        "\n",
        "# Labels\n",
        "labels_bmw = np.array(labels_bmw)\n",
        "labels_honda = np.array(labels_honda)\n",
        "labels = np.concatenate((labels_bmw, labels_honda))\n",
        "# Save Labels to CSV - runtime_saves folder\n",
        "np.savetxt('runtime_saves/BMW_labels.csv', labels_bmw, delimiter=',', fmt='%s')\n",
        "np.savetxt('runtime_saves/HONDA_labels.csv', labels_honda, delimiter=',', fmt='%s')"
      ]
    },
    {
      "cell_type": "markdown",
      "metadata": {},
      "source": [
        "## Rolling Window\n",
        "\n",
        "This processes **reduces the sensor data noise** by applying a centered rolling mean with a window of 3 to each column of the DataFrame. \\\n",
        "For each value, the function computes the mean of the current value, the one before, and the one after.\n",
        "\n",
        "    Applied to each scenario individually."
      ]
    },
    {
      "cell_type": "code",
      "execution_count": 24,
      "metadata": {},
      "outputs": [],
      "source": [
        "def apply_rolling_window(df):\n",
        "    df = df.rolling(window=3, center=True, min_periods=1).mean()   \n",
        "     \n",
        "    return df\n",
        "\n",
        "columns_to_process = ['accelerometerXAxis', 'accelerometerYAxis', 'accelerometerZAxis', 'gyroscopeXAxis', 'gyroscopeYAxis', 'gyroscopeZAxis']\n",
        "\n",
        "for i in range(len(data_bmw_list)):\n",
        "    data_bmw_list[i][columns_to_process] = apply_rolling_window(data_bmw_list[i][columns_to_process].copy())\n",
        "for i in range(len(data_honda_list)):\n",
        "    data_honda_list[i][columns_to_process] = apply_rolling_window(data_honda_list[i][columns_to_process].copy())\n",
        "\n",
        "data_bmw = pd.concat(data_bmw_list, axis=0)\n",
        "data_honda = pd.concat(data_honda_list, axis=0)\n",
        "\n",
        "# Save Data to CSV - runtime_saves folder\n",
        "data_bmw.to_csv('runtime_saves/01BMW_rollingwindow.csv', index=False)\n",
        "data_honda.to_csv('runtime_saves/01HONDA_rollingwindow.csv', index=False)"
      ]
    },
    {
      "cell_type": "code",
      "execution_count": 25,
      "metadata": {
        "id": "B5wPPy3OiYj9"
      },
      "outputs": [],
      "source": [
        "# import numpy as np\n",
        "# import pandas as pd\n",
        "\n",
        "# # Load the dataset into a DataFrame\n",
        "# df_bmw = pd.read_csv('runtime_saves/01BMW_rollingwindow.csv')\n",
        "# df_honda = pd.read_csv('runtime_saves/01HONDA_rollingwindow.csv')\n",
        "\n",
        "# # Load the labels into a NumPy array\n",
        "# labels_bmw = np.loadtxt('runtime_saves/bmw_labels.csv', delimiter=',', dtype=str)\n",
        "# labels_honda = np.loadtxt('runtime_saves/honda_labels.csv', delimiter=',', dtype=str)"
      ]
    },
    {
      "cell_type": "markdown",
      "metadata": {},
      "source": [
        "## Statistics - Label Distribution"
      ]
    },
    {
      "cell_type": "code",
      "execution_count": 26,
      "metadata": {},
      "outputs": [
        {
          "data": {
            "image/png": "[encoded data removed]",
            "text/plain": [
              "<Figure size 1200x600 with 1 Axes>"
            ]
          },
          "metadata": {},
          "output_type": "display_data"
        }
      ],
      "source": [
        "import matplotlib.pyplot as plt\n",
        "import seaborn as sns\n",
        "\n",
        "labels = pd.Series(labels)\n",
        "\n",
        "# plot the count of each label\n",
        "plt.figure(figsize=(12, 6))\n",
        "sns.countplot(x=labels, color='lightgreen')\n",
        "plt.title('Distribution of Labels')\n",
        "plt.xlabel('Label')\n",
        "plt.ylabel('Count')\n",
        "plt.show()"
      ]
    },
    {
      "cell_type": "markdown",
      "metadata": {},
      "source": [
        "# Label Encoding\n",
        "\n",
        "This process encodes each unique Categorical label as a distinct integer."
      ]
    },
    {
      "cell_type": "code",
      "execution_count": 27,
      "metadata": {},
      "outputs": [],
      "source": [
        "from sklearn.preprocessing import LabelEncoder\n",
        "\n",
        "label_encoder = LabelEncoder()\n",
        "\n",
        "labels = label_encoder.fit_transform(labels)"
      ]
    },
    {
      "cell_type": "markdown",
      "metadata": {},
      "source": [
        "## Normalize Data\n",
        "\n",
        "This process **helps the model performance** by rescaling specified columns of the dataset to a range between 0 and 1, based on the minimum and maximum values of that column.\n",
        "    \n",
        "    Applied to each car individually."
      ]
    },
    {
      "cell_type": "code",
      "execution_count": 28,
      "metadata": {},
      "outputs": [],
      "source": [
        "def normalize_between_0_and_1(data, columns):\n",
        "    for column in columns:\n",
        "        if column not in data.columns:\n",
        "            print(f\"[WARNING] {column} not found in DataFrame.\")\n",
        "            continue\n",
        "        else:\n",
        "            max_value = np.max(data[column])\n",
        "            min_value = np.min(data[column])\n",
        "            data[column] = (data[column] - min_value) / (max_value - min_value)\n",
        "    return data\n",
        "\n",
        "columns_to_normalize = ['accelerometerXAxis', 'accelerometerYAxis', 'accelerometerZAxis', 'gyroscopeXAxis', 'gyroscopeYAxis', 'gyroscopeZAxis']\n",
        "\n",
        "\n",
        "df_bmw = normalize_between_0_and_1(df_bmw, columns_to_normalize)\n",
        "df_honda = normalize_between_0_and_1(df_honda, columns_to_normalize)"
      ]
    },
    {
      "cell_type": "markdown",
      "metadata": {},
      "source": [
        "## Concatenate Data\n",
        "\n",
        "This process concatenates all cars into a single DataFrame after applyting the rolling window and normalization."
      ]
    },
    {
      "cell_type": "code",
      "execution_count": 29,
      "metadata": {},
      "outputs": [],
      "source": [
        "df = pd.concat([df_bmw, df_honda], axis=0)\n",
        "\n",
        "# create label column in the dataframe\n",
        "df['label'] = labels"
      ]
    },
    {
      "cell_type": "markdown",
      "metadata": {},
      "source": [
        "## Create Sequences\n",
        "\n",
        "This process involves segmenting time-series data into overlapping sequences and associating each sequence with a label based on the most frequent label within that window."
      ]
    },
    {
      "cell_type": "code",
      "execution_count": 30,
      "metadata": {},
      "outputs": [],
      "source": [
        "import numpy as np\n",
        "from scipy.stats import mode\n",
        "\n",
        "def create_sequences(data, labels, window_size=16, step_size=2):\n",
        "    X, y = [], []\n",
        "    for i in range(0, len(data) - window_size + 1, step_size):\n",
        "        # Create the window of data\n",
        "        X.append(data[i:i + window_size].values)        \n",
        "        \n",
        "         # Find the most frequent string label in the current window\n",
        "        window_labels = labels[i:i + window_size]\n",
        "        most_frequent_label = mode(window_labels, axis=None)[0]\n",
        "        \n",
        "        # Add the most frequent label as the label of the current window\n",
        "        y.append(most_frequent_label)\n",
        "            \n",
        "    return np.array(X), np.array(y)\n",
        "\n",
        "time_steps = 16\n",
        "step_size = 1\n",
        "\n",
        "X, y = create_sequences(\n",
        "    df[['accelerometerXAxis', 'accelerometerYAxis', 'accelerometerZAxis',\n",
        "        'gyroscopeXAxis', 'gyroscopeYAxis', 'gyroscopeZAxis', \n",
        "        'Latitude', 'Longitude']],\n",
        "    df['label'],\n",
        "    window_size=time_steps,\n",
        "    step_size=step_size    \n",
        ")\n",
        "\n",
        "# Save Features and Labels\n",
        "np.save('runtime_saves/X.npy', X)\n",
        "np.savetxt('runtime_saves/y.csv', y, delimiter=',', fmt='%d')"
      ]
    },
    {
      "cell_type": "markdown",
      "metadata": {},
      "source": [
        "# Split Dataset for Model Training\n",
        "\n",
        "This section splits the dataset into training, test, and validation sets\n",
        "\n",
        "- 70% Training\n",
        "- 20% Test\n",
        "- 10% Validation\n",
        "\n",
        "Stratify ensures each set maintains the original class distribution, while shuffle randomizes data to avoid any biases."
      ]
    },
    {
      "cell_type": "code",
      "execution_count": 31,
      "metadata": {},
      "outputs": [
        {
          "name": "stdout",
          "output_type": "stream",
          "text": [
            "Train Info: (2927, 16, 8), (2927,)\n",
            "Test Info: (814, 16, 8), (814,)\n",
            "Validation Info: (326, 16, 8), (326,)\n"
          ]
        }
      ],
      "source": [
        "from sklearn.model_selection import train_test_split\n",
        "\n",
        "X_train, X_test, y_train, y_test = train_test_split(X, y, test_size=0.2, shuffle=True, stratify=y, random_state=23)\n",
        "\n",
        "X_train, X_validation, y_train, y_validation = train_test_split(X_train, y_train, test_size=0.1, shuffle=True, stratify=y_train, random_state=23)\n",
        "\n",
        "\n",
        "print(f'Train Info: {X_train.shape}, {y_train.shape}')\n",
        "print(f'Test Info: {X_test.shape}, {y_test.shape}')\n",
        "print(f'Validation Info: {X_validation.shape}, {y_validation.shape}')"
      ]
    },
    {
      "cell_type": "markdown",
      "metadata": {},
      "source": [
        "# **MODEL ARCHITECTURE** - Bidirectional LSTM\n",
        "\n",
        "**Architecture:**\n",
        "\n",
        "Input -> Bidirectional LSTM - BN -> Dropout -> Bidirectional LSTM - BN -> Dropout -> Bidirectional LSTM - BN -> Dropout -> Dense - Output\n",
        "\n",
        "1. **Input Layer**\n",
        "   - The input layer expects sequences with shape `(timesteps, features)`, where `timesteps` is the number of time steps and `features` is the number of features at each time step.\n",
        "   - No specific preprocessing is applied to the input sequences beyond normalization.\n",
        "\n",
        "2. **Bidirectional LSTM Layers**\n",
        "   - The model contains three Bidirectional LSTM layers, each with 64 units.\n",
        "   - The Bidirectional wrapper allows each LSTM to process sequences in both forward and backward directions, capturing dependencies from both sides of the sequence.\n",
        "   - `return_sequences=True` is used for the first two LSTM layers to ensure that the output at each time step is returned, which is necessary for stacking multiple LSTM layers.\n",
        "\n",
        "3. **Fully Connected (Dense) Layer**\n",
        "   - A dense layer with 3 units and a softmax activation function is used as the output layer.\n",
        "   - The softmax function outputs the probability distribution over the 3 classes.\n",
        "\n",
        "**Overfitting Measures**\n",
        "   - Dropout layers are utilized after each LSTM and dense layer to reduce the risk of overfitting by preventing the model from relying too heavily on any single feature or connection.\n",
        "\n",
        "**Batch Normalization**\n",
        "   - Batch normalization is used after each LSTM layer to normalize the activations, which helps in stabilizing and speeding up the training process by maintaining a consistent distribution of activations."
      ]
    },
    {
      "cell_type": "code",
      "execution_count": 32,
      "metadata": {},
      "outputs": [
        {
          "name": "stdout",
          "output_type": "stream",
          "text": [
            "Model: \"model_1\"\n",
            "_________________________________________________________________\n",
            " Layer (type)                Output Shape              Param #   \n",
            "=================================================================\n",
            " input_2 (InputLayer)        [(None, 16, 8)]           0         \n",
            "                                                                 \n",
            " bidirectional_3 (Bidirecti  (None, 16, 128)           37376     \n",
            " onal)                                                           \n",
            "                                                                 \n",
            " batch_normalization_3 (Bat  (None, 16, 128)           512       \n",
            " chNormalization)                                                \n",
            "                                                                 \n",
            " dropout_3 (Dropout)         (None, 16, 128)           0         \n",
            "                                                                 \n",
            " bidirectional_4 (Bidirecti  (None, 16, 128)           98816     \n",
            " onal)                                                           \n",
            "                                                                 \n",
            " batch_normalization_4 (Bat  (None, 16, 128)           512       \n",
            " chNormalization)                                                \n",
            "                                                                 \n",
            " dropout_4 (Dropout)         (None, 16, 128)           0         \n",
            "                                                                 \n",
            " bidirectional_5 (Bidirecti  (None, 128)               98816     \n",
            " onal)                                                           \n",
            "                                                                 \n",
            " batch_normalization_5 (Bat  (None, 128)               512       \n",
            " chNormalization)                                                \n",
            "                                                                 \n",
            " dropout_5 (Dropout)         (None, 128)               0         \n",
            "                                                                 \n",
            " dense_1 (Dense)             (None, 3)                 387       \n",
            "                                                                 \n",
            "=================================================================\n",
            "Total params: 236931 (925.51 KB)\n",
            "Trainable params: 236163 (922.51 KB)\n",
            "Non-trainable params: 768 (3.00 KB)\n",
            "_________________________________________________________________\n"
          ]
        }
      ],
      "source": [
        "from tensorflow import keras\n",
        "from tensorflow.keras.layers import LSTM, Dense, Dropout, BatchNormalization, Bidirectional\n",
        "\n",
        "# Inputs\n",
        "input_shape = (X_train.shape[1], X_train.shape[2])\n",
        "inputs = keras.Input(shape=input_shape)\n",
        "\n",
        "# Architecture\n",
        "x = Bidirectional(LSTM(64, return_sequences=True))(inputs)\n",
        "x = BatchNormalization()(x)\n",
        "x = Dropout(0.2)(x)\n",
        "\n",
        "x = Bidirectional(LSTM(64, return_sequences=True))(x)\n",
        "x = BatchNormalization()(x)\n",
        "x = Dropout(0.3)(x)\n",
        "\n",
        "x = Bidirectional(LSTM(64))(x)\n",
        "x = BatchNormalization()(x)\n",
        "x = Dropout(0.4)(x)\n",
        "\n",
        "outputs = Dense(3, activation='softmax')(x)\n",
        "\n",
        "# Create the model\n",
        "model = keras.Model(inputs=inputs, outputs=outputs)\n",
        "\n",
        "model.summary()"
      ]
    },
    {
      "cell_type": "markdown",
      "metadata": {},
      "source": [
        "## Compile Model\n",
        "\n",
        "**Loss function:** \\\n",
        "Use the *Sparse Categorical Crossentropy* loss function because it is a `multi-class classification` problem.\n",
        "\n",
        "**Optimizer: RMSprop** \\\n",
        "Exploring the *Adam* optimizer."
      ]
    },
    {
      "cell_type": "code",
      "execution_count": 33,
      "metadata": {},
      "outputs": [],
      "source": [
        "# model.compile(optimizer='adam', loss='sparse_categorical_crossentropy', metrics=['accuracy'])\n",
        "\n",
        "# import adam\n",
        "from tensorflow.keras.optimizers import Adam\n",
        "\n",
        "model.compile(optimizer=Adam(learning_rate=1e-3), loss='sparse_categorical_crossentropy', metrics=['accuracy'])"
      ]
    },
    {
      "cell_type": "markdown",
      "metadata": {},
      "source": [
        "## Train Model\n",
        "\n",
        "- 100 epochs\n",
        "- Batch size of 16\n",
        "- Early stopping\n",
        "- Learning rate reduction on plateau\n",
        "- Model checkpoint"
      ]
    },
    {
      "cell_type": "code",
      "execution_count": 34,
      "metadata": {},
      "outputs": [
        {
          "name": "stdout",
          "output_type": "stream",
          "text": [
            "Epoch 1/100\n"
          ]
        },
        {
          "name": "stdout",
          "output_type": "stream",
          "text": [
            "183/183 [==============================] - 17s 34ms/step - loss: 1.5516 - accuracy: 0.3632 - val_loss: 1.0783 - val_accuracy: 0.4356 - lr: 0.0010\n",
            "Epoch 2/100\n",
            "  9/183 [>.............................] - ETA: 2s - loss: 1.3755 - accuracy: 0.3958"
          ]
        },
        {
          "name": "stderr",
          "output_type": "stream",
          "text": [
            "/home/pws/miniconda3/envs/tensorflow/lib/python3.11/site-packages/keras/src/engine/training.py:3103: UserWarning: You are saving your model as an HDF5 file via `model.save()`. This file format is considered legacy. We recommend using instead the native Keras format, e.g. `model.save('my_model.keras')`.\n",
            "  saving_api.save_model(\n"
          ]
        },
        {
          "name": "stdout",
          "output_type": "stream",
          "text": [
            "183/183 [==============================] - 3s 18ms/step - loss: 1.2572 - accuracy: 0.4144 - val_loss: 1.1897 - val_accuracy: 0.3098 - lr: 0.0010\n",
            "Epoch 3/100\n",
            "183/183 [==============================] - 3s 19ms/step - loss: 1.0861 - accuracy: 0.4646 - val_loss: 1.3883 - val_accuracy: 0.2546 - lr: 0.0010\n",
            "Epoch 4/100\n",
            "183/183 [==============================] - 3s 18ms/step - loss: 0.9536 - accuracy: 0.5378 - val_loss: 1.4889 - val_accuracy: 0.4663 - lr: 0.0010\n",
            "Epoch 5/100\n",
            "183/183 [==============================] - 3s 17ms/step - loss: 0.8702 - accuracy: 0.5904 - val_loss: 3.4170 - val_accuracy: 0.2546 - lr: 0.0010\n",
            "Epoch 6/100\n",
            "183/183 [==============================] - 3s 17ms/step - loss: 0.7824 - accuracy: 0.6515 - val_loss: 1.5011 - val_accuracy: 0.2577 - lr: 0.0010\n",
            "Epoch 7/100\n",
            "183/183 [==============================] - 3s 18ms/step - loss: 0.7578 - accuracy: 0.6529 - val_loss: 2.4749 - val_accuracy: 0.2669 - lr: 0.0010\n",
            "Epoch 8/100\n",
            "183/183 [==============================] - 3s 17ms/step - loss: 0.7403 - accuracy: 0.6683 - val_loss: 3.8613 - val_accuracy: 0.2546 - lr: 0.0010\n",
            "Epoch 9/100\n",
            "183/183 [==============================] - 3s 16ms/step - loss: 0.7217 - accuracy: 0.6724 - val_loss: 2.4126 - val_accuracy: 0.2638 - lr: 0.0010\n",
            "Epoch 10/100\n",
            "183/183 [==============================] - 3s 18ms/step - loss: 0.6904 - accuracy: 0.6990 - val_loss: 2.2318 - val_accuracy: 0.4172 - lr: 0.0010\n",
            "Epoch 11/100\n",
            "181/183 [============================>.] - ETA: 0s - loss: 0.6989 - accuracy: 0.6972\n",
            "Epoch 11: ReduceLROnPlateau reducing learning rate to 0.0005000000237487257.\n",
            "183/183 [==============================] - 3s 16ms/step - loss: 0.6991 - accuracy: 0.6970 - val_loss: 1.3478 - val_accuracy: 0.4571 - lr: 0.0010\n",
            "Epoch 12/100\n",
            "183/183 [==============================] - 3s 16ms/step - loss: 0.6435 - accuracy: 0.7151 - val_loss: 2.6298 - val_accuracy: 0.2546 - lr: 5.0000e-04\n",
            "Epoch 13/100\n",
            "183/183 [==============================] - 3s 16ms/step - loss: 0.6162 - accuracy: 0.7349 - val_loss: 2.2331 - val_accuracy: 0.2577 - lr: 5.0000e-04\n",
            "Epoch 14/100\n",
            "183/183 [==============================] - 3s 17ms/step - loss: 0.6052 - accuracy: 0.7438 - val_loss: 3.5191 - val_accuracy: 0.2546 - lr: 5.0000e-04\n",
            "Epoch 15/100\n",
            "183/183 [==============================] - 3s 15ms/step - loss: 0.5965 - accuracy: 0.7489 - val_loss: 1.3604 - val_accuracy: 0.2515 - lr: 5.0000e-04\n",
            "Epoch 16/100\n",
            "183/183 [==============================] - 3s 17ms/step - loss: 0.5896 - accuracy: 0.7479 - val_loss: 4.1111 - val_accuracy: 0.2546 - lr: 5.0000e-04\n",
            "Epoch 17/100\n",
            "183/183 [==============================] - 3s 18ms/step - loss: 0.5527 - accuracy: 0.7554 - val_loss: 1.3443 - val_accuracy: 0.4939 - lr: 5.0000e-04\n",
            "Epoch 18/100\n",
            "183/183 [==============================] - 3s 18ms/step - loss: 0.5607 - accuracy: 0.7557 - val_loss: 1.2083 - val_accuracy: 0.4417 - lr: 5.0000e-04\n",
            "Epoch 19/100\n",
            "183/183 [==============================] - 3s 18ms/step - loss: 0.5381 - accuracy: 0.7673 - val_loss: 2.0986 - val_accuracy: 0.4233 - lr: 5.0000e-04\n",
            "Epoch 20/100\n",
            "183/183 [==============================] - 3s 17ms/step - loss: 0.5299 - accuracy: 0.7861 - val_loss: 1.7832 - val_accuracy: 0.2607 - lr: 5.0000e-04\n",
            "Epoch 21/100\n",
            "183/183 [==============================] - 3s 18ms/step - loss: 0.5127 - accuracy: 0.7861 - val_loss: 3.1710 - val_accuracy: 0.2669 - lr: 5.0000e-04\n",
            "Epoch 22/100\n",
            "183/183 [==============================] - 3s 17ms/step - loss: 0.4868 - accuracy: 0.7865 - val_loss: 1.5403 - val_accuracy: 0.4356 - lr: 5.0000e-04\n",
            "Epoch 23/100\n",
            "183/183 [==============================] - 3s 19ms/step - loss: 0.4436 - accuracy: 0.8090 - val_loss: 1.6030 - val_accuracy: 0.4172 - lr: 5.0000e-04\n",
            "Epoch 24/100\n",
            "182/183 [============================>.] - ETA: 0s - loss: 0.4808 - accuracy: 0.7974\n",
            "Epoch 24: ReduceLROnPlateau reducing learning rate to 0.0002500000118743628.\n",
            "183/183 [==============================] - 3s 18ms/step - loss: 0.4808 - accuracy: 0.7974 - val_loss: 1.5546 - val_accuracy: 0.3221 - lr: 5.0000e-04\n",
            "Epoch 25/100\n",
            "183/183 [==============================] - 3s 18ms/step - loss: 0.4219 - accuracy: 0.8241 - val_loss: 2.6756 - val_accuracy: 0.4233 - lr: 2.5000e-04\n",
            "Epoch 26/100\n",
            "183/183 [==============================] - 3s 19ms/step - loss: 0.4188 - accuracy: 0.8282 - val_loss: 2.5871 - val_accuracy: 0.2730 - lr: 2.5000e-04\n",
            "Epoch 27/100\n",
            "183/183 [==============================] - 3s 15ms/step - loss: 0.4097 - accuracy: 0.8357 - val_loss: 1.5940 - val_accuracy: 0.4172 - lr: 2.5000e-04\n",
            "Epoch 28/100\n",
            "183/183 [==============================] - 3s 16ms/step - loss: 0.3917 - accuracy: 0.8374 - val_loss: 3.0152 - val_accuracy: 0.4387 - lr: 2.5000e-04\n",
            "Epoch 29/100\n",
            "183/183 [==============================] - 3s 16ms/step - loss: 0.4035 - accuracy: 0.8302 - val_loss: 1.3225 - val_accuracy: 0.5675 - lr: 2.5000e-04\n",
            "Epoch 30/100\n",
            "183/183 [==============================] - 3s 17ms/step - loss: 0.3778 - accuracy: 0.8408 - val_loss: 2.0621 - val_accuracy: 0.5859 - lr: 2.5000e-04\n",
            "Epoch 31/100\n",
            "183/183 [==============================] - 4s 21ms/step - loss: 0.3717 - accuracy: 0.8435 - val_loss: 2.7329 - val_accuracy: 0.3742 - lr: 2.5000e-04\n",
            "Epoch 32/100\n",
            "183/183 [==============================] - 3s 18ms/step - loss: 0.3694 - accuracy: 0.8425 - val_loss: 3.1162 - val_accuracy: 0.4018 - lr: 2.5000e-04\n",
            "Epoch 33/100\n",
            "183/183 [==============================] - 3s 17ms/step - loss: 0.3579 - accuracy: 0.8528 - val_loss: 1.1906 - val_accuracy: 0.5583 - lr: 2.5000e-04\n",
            "Epoch 34/100\n",
            "183/183 [==============================] - 3s 17ms/step - loss: 0.3354 - accuracy: 0.8657 - val_loss: 1.5508 - val_accuracy: 0.4356 - lr: 2.5000e-04\n",
            "Epoch 35/100\n",
            "183/183 [==============================] - 3s 14ms/step - loss: 0.3139 - accuracy: 0.8767 - val_loss: 1.0507 - val_accuracy: 0.6595 - lr: 2.5000e-04\n",
            "Epoch 36/100\n",
            "183/183 [==============================] - 2s 13ms/step - loss: 0.3074 - accuracy: 0.8685 - val_loss: 1.9787 - val_accuracy: 0.5123 - lr: 2.5000e-04\n",
            "Epoch 37/100\n",
            "183/183 [==============================] - 3s 14ms/step - loss: 0.3057 - accuracy: 0.8814 - val_loss: 2.0547 - val_accuracy: 0.4448 - lr: 2.5000e-04\n",
            "Epoch 38/100\n",
            "183/183 [==============================] - 3s 16ms/step - loss: 0.3018 - accuracy: 0.8801 - val_loss: 1.5483 - val_accuracy: 0.5521 - lr: 2.5000e-04\n",
            "Epoch 39/100\n",
            "183/183 [==============================] - 3s 17ms/step - loss: 0.2890 - accuracy: 0.8842 - val_loss: 3.6882 - val_accuracy: 0.3129 - lr: 2.5000e-04\n",
            "Epoch 40/100\n",
            "183/183 [==============================] - 3s 16ms/step - loss: 0.2852 - accuracy: 0.8876 - val_loss: 1.7378 - val_accuracy: 0.3865 - lr: 2.5000e-04\n",
            "Epoch 41/100\n",
            "183/183 [==============================] - 3s 17ms/step - loss: 0.2859 - accuracy: 0.8862 - val_loss: 1.4563 - val_accuracy: 0.5429 - lr: 2.5000e-04\n",
            "Epoch 42/100\n",
            "182/183 [============================>.] - ETA: 0s - loss: 0.2838 - accuracy: 0.8918\n",
            "Epoch 42: ReduceLROnPlateau reducing learning rate to 0.0001250000059371814.\n",
            "183/183 [==============================] - 3s 17ms/step - loss: 0.2833 - accuracy: 0.8920 - val_loss: 2.5903 - val_accuracy: 0.4448 - lr: 2.5000e-04\n",
            "Epoch 43/100\n",
            "183/183 [==============================] - 3s 15ms/step - loss: 0.2668 - accuracy: 0.8961 - val_loss: 2.3332 - val_accuracy: 0.4479 - lr: 1.2500e-04\n",
            "Epoch 44/100\n",
            "183/183 [==============================] - 3s 15ms/step - loss: 0.2525 - accuracy: 0.9054 - val_loss: 0.8413 - val_accuracy: 0.6933 - lr: 1.2500e-04\n",
            "Epoch 45/100\n",
            "183/183 [==============================] - 3s 15ms/step - loss: 0.2282 - accuracy: 0.9142 - val_loss: 0.9916 - val_accuracy: 0.6227 - lr: 1.2500e-04\n",
            "Epoch 46/100\n",
            "183/183 [==============================] - 3s 14ms/step - loss: 0.2228 - accuracy: 0.9105 - val_loss: 0.8656 - val_accuracy: 0.7055 - lr: 1.2500e-04\n",
            "Epoch 47/100\n",
            "183/183 [==============================] - 3s 16ms/step - loss: 0.2348 - accuracy: 0.9067 - val_loss: 1.5118 - val_accuracy: 0.6196 - lr: 1.2500e-04\n",
            "Epoch 48/100\n",
            "183/183 [==============================] - 3s 16ms/step - loss: 0.2376 - accuracy: 0.9081 - val_loss: 2.1379 - val_accuracy: 0.4785 - lr: 1.2500e-04\n",
            "Epoch 49/100\n",
            "183/183 [==============================] - 2s 13ms/step - loss: 0.2267 - accuracy: 0.9177 - val_loss: 1.2756 - val_accuracy: 0.6411 - lr: 1.2500e-04\n",
            "Epoch 50/100\n",
            "183/183 [==============================] - 3s 14ms/step - loss: 0.2179 - accuracy: 0.9115 - val_loss: 1.6897 - val_accuracy: 0.5429 - lr: 1.2500e-04\n",
            "Epoch 51/100\n",
            "183/183 [==============================] - 3s 14ms/step - loss: 0.2247 - accuracy: 0.9098 - val_loss: 0.6998 - val_accuracy: 0.7791 - lr: 1.2500e-04\n",
            "Epoch 52/100\n",
            "183/183 [==============================] - 2s 13ms/step - loss: 0.1948 - accuracy: 0.9276 - val_loss: 1.6142 - val_accuracy: 0.4877 - lr: 1.2500e-04\n",
            "Epoch 53/100\n",
            "183/183 [==============================] - 2s 13ms/step - loss: 0.2077 - accuracy: 0.9221 - val_loss: 1.2190 - val_accuracy: 0.7270 - lr: 1.2500e-04\n",
            "Epoch 54/100\n",
            "183/183 [==============================] - 2s 14ms/step - loss: 0.1880 - accuracy: 0.9310 - val_loss: 1.2467 - val_accuracy: 0.5184 - lr: 1.2500e-04\n",
            "Epoch 55/100\n",
            "183/183 [==============================] - 3s 18ms/step - loss: 0.1878 - accuracy: 0.9289 - val_loss: 3.1595 - val_accuracy: 0.4847 - lr: 1.2500e-04\n",
            "Epoch 56/100\n",
            "183/183 [==============================] - 4s 23ms/step - loss: 0.1898 - accuracy: 0.9300 - val_loss: 1.2619 - val_accuracy: 0.6994 - lr: 1.2500e-04\n",
            "Epoch 57/100\n",
            "183/183 [==============================] - 3s 17ms/step - loss: 0.2056 - accuracy: 0.9235 - val_loss: 3.2775 - val_accuracy: 0.3466 - lr: 1.2500e-04\n",
            "Epoch 58/100\n",
            "183/183 [==============================] - ETA: 0s - loss: 0.1973 - accuracy: 0.9300\n",
            "Epoch 58: ReduceLROnPlateau reducing learning rate to 6.25000029685907e-05.\n",
            "183/183 [==============================] - 3s 18ms/step - loss: 0.1973 - accuracy: 0.9300 - val_loss: 1.6503 - val_accuracy: 0.6626 - lr: 1.2500e-04\n",
            "Epoch 59/100\n",
            "183/183 [==============================] - 3s 16ms/step - loss: 0.1795 - accuracy: 0.9300 - val_loss: 0.4620 - val_accuracy: 0.8405 - lr: 6.2500e-05\n",
            "Epoch 60/100\n",
            "183/183 [==============================] - 3s 17ms/step - loss: 0.1583 - accuracy: 0.9365 - val_loss: 0.4310 - val_accuracy: 0.8620 - lr: 6.2500e-05\n",
            "Epoch 61/100\n",
            "183/183 [==============================] - 3s 16ms/step - loss: 0.1678 - accuracy: 0.9337 - val_loss: 0.3621 - val_accuracy: 0.8712 - lr: 6.2500e-05\n",
            "Epoch 62/100\n",
            "183/183 [==============================] - 3s 16ms/step - loss: 0.1719 - accuracy: 0.9416 - val_loss: 0.3731 - val_accuracy: 0.8926 - lr: 6.2500e-05\n",
            "Epoch 63/100\n",
            "183/183 [==============================] - 3s 16ms/step - loss: 0.1696 - accuracy: 0.9385 - val_loss: 1.4091 - val_accuracy: 0.7239 - lr: 6.2500e-05\n",
            "Epoch 64/100\n",
            "183/183 [==============================] - 3s 17ms/step - loss: 0.1536 - accuracy: 0.9429 - val_loss: 0.8143 - val_accuracy: 0.7914 - lr: 6.2500e-05\n",
            "Epoch 65/100\n",
            "183/183 [==============================] - 3s 16ms/step - loss: 0.1568 - accuracy: 0.9399 - val_loss: 0.8787 - val_accuracy: 0.7669 - lr: 6.2500e-05\n",
            "Epoch 66/100\n",
            "183/183 [==============================] - 3s 17ms/step - loss: 0.1733 - accuracy: 0.9409 - val_loss: 0.3294 - val_accuracy: 0.8865 - lr: 6.2500e-05\n",
            "Epoch 67/100\n",
            "183/183 [==============================] - 3s 17ms/step - loss: 0.1600 - accuracy: 0.9406 - val_loss: 1.3959 - val_accuracy: 0.6871 - lr: 6.2500e-05\n",
            "Epoch 68/100\n",
            "183/183 [==============================] - 3s 19ms/step - loss: 0.1680 - accuracy: 0.9402 - val_loss: 1.1628 - val_accuracy: 0.6718 - lr: 6.2500e-05\n",
            "Epoch 69/100\n",
            "183/183 [==============================] - ETA: 0s - loss: 0.1676 - accuracy: 0.9395\n",
            "Epoch 69: ReduceLROnPlateau reducing learning rate to 3.125000148429535e-05.\n",
            "183/183 [==============================] - 3s 17ms/step - loss: 0.1676 - accuracy: 0.9395 - val_loss: 0.8761 - val_accuracy: 0.7178 - lr: 6.2500e-05\n",
            "Epoch 70/100\n",
            "183/183 [==============================] - 3s 17ms/step - loss: 0.1565 - accuracy: 0.9402 - val_loss: 1.0156 - val_accuracy: 0.6840 - lr: 3.1250e-05\n",
            "Epoch 71/100\n",
            "183/183 [==============================] - 3s 17ms/step - loss: 0.1620 - accuracy: 0.9416 - val_loss: 0.3529 - val_accuracy: 0.8712 - lr: 3.1250e-05\n",
            "Epoch 72/100\n",
            "183/183 [==============================] - 3s 16ms/step - loss: 0.1519 - accuracy: 0.9412 - val_loss: 0.9559 - val_accuracy: 0.7577 - lr: 3.1250e-05\n",
            "Epoch 73/100\n",
            "183/183 [==============================] - 3s 17ms/step - loss: 0.1428 - accuracy: 0.9484 - val_loss: 0.6856 - val_accuracy: 0.7853 - lr: 3.1250e-05\n",
            "Epoch 74/100\n",
            "183/183 [==============================] - 3s 18ms/step - loss: 0.1619 - accuracy: 0.9426 - val_loss: 0.4133 - val_accuracy: 0.8712 - lr: 3.1250e-05\n",
            "Epoch 75/100\n",
            "183/183 [==============================] - 3s 16ms/step - loss: 0.1484 - accuracy: 0.9481 - val_loss: 0.6775 - val_accuracy: 0.8190 - lr: 3.1250e-05\n",
            "Epoch 76/100\n",
            "183/183 [==============================] - ETA: 0s - loss: 0.1462 - accuracy: 0.9498\n",
            "Epoch 76: ReduceLROnPlateau reducing learning rate to 1.5625000742147677e-05.\n",
            "183/183 [==============================] - 3s 17ms/step - loss: 0.1462 - accuracy: 0.9498 - val_loss: 0.2912 - val_accuracy: 0.8926 - lr: 3.1250e-05\n",
            "Epoch 77/100\n",
            "183/183 [==============================] - 3s 17ms/step - loss: 0.1451 - accuracy: 0.9467 - val_loss: 0.1172 - val_accuracy: 0.9479 - lr: 1.5625e-05\n",
            "Epoch 78/100\n",
            "183/183 [==============================] - 3s 16ms/step - loss: 0.1441 - accuracy: 0.9450 - val_loss: 0.2334 - val_accuracy: 0.9080 - lr: 1.5625e-05\n",
            "Epoch 79/100\n",
            "183/183 [==============================] - 3s 16ms/step - loss: 0.1636 - accuracy: 0.9416 - val_loss: 0.1689 - val_accuracy: 0.9448 - lr: 1.5625e-05\n",
            "Epoch 80/100\n",
            "183/183 [==============================] - 3s 16ms/step - loss: 0.1534 - accuracy: 0.9406 - val_loss: 0.2411 - val_accuracy: 0.9141 - lr: 1.5625e-05\n",
            "Epoch 81/100\n",
            "183/183 [==============================] - 3s 17ms/step - loss: 0.1398 - accuracy: 0.9481 - val_loss: 0.6606 - val_accuracy: 0.7669 - lr: 1.5625e-05\n",
            "Epoch 82/100\n",
            "183/183 [==============================] - 3s 16ms/step - loss: 0.1450 - accuracy: 0.9477 - val_loss: 0.3943 - val_accuracy: 0.8528 - lr: 1.5625e-05\n",
            "Epoch 83/100\n",
            "183/183 [==============================] - 3s 16ms/step - loss: 0.1527 - accuracy: 0.9488 - val_loss: 0.2100 - val_accuracy: 0.9264 - lr: 1.5625e-05\n",
            "Epoch 84/100\n",
            "183/183 [==============================] - ETA: 0s - loss: 0.1417 - accuracy: 0.9501\n",
            "Epoch 84: ReduceLROnPlateau reducing learning rate to 7.812500371073838e-06.\n",
            "183/183 [==============================] - 3s 18ms/step - loss: 0.1417 - accuracy: 0.9501 - val_loss: 0.1268 - val_accuracy: 0.9479 - lr: 1.5625e-05\n",
            "Epoch 85/100\n",
            "183/183 [==============================] - 3s 18ms/step - loss: 0.1340 - accuracy: 0.9518 - val_loss: 0.1137 - val_accuracy: 0.9540 - lr: 7.8125e-06\n",
            "Epoch 86/100\n",
            "183/183 [==============================] - 3s 16ms/step - loss: 0.1386 - accuracy: 0.9515 - val_loss: 0.0998 - val_accuracy: 0.9632 - lr: 7.8125e-06\n",
            "Epoch 87/100\n",
            "183/183 [==============================] - 3s 17ms/step - loss: 0.1451 - accuracy: 0.9498 - val_loss: 0.1163 - val_accuracy: 0.9571 - lr: 7.8125e-06\n",
            "Epoch 88/100\n",
            "183/183 [==============================] - 3s 18ms/step - loss: 0.1395 - accuracy: 0.9508 - val_loss: 0.0987 - val_accuracy: 0.9601 - lr: 7.8125e-06\n",
            "Epoch 89/100\n",
            "183/183 [==============================] - 3s 16ms/step - loss: 0.1513 - accuracy: 0.9447 - val_loss: 0.0983 - val_accuracy: 0.9693 - lr: 7.8125e-06\n",
            "Epoch 90/100\n",
            "183/183 [==============================] - 3s 16ms/step - loss: 0.1448 - accuracy: 0.9470 - val_loss: 0.1290 - val_accuracy: 0.9571 - lr: 7.8125e-06\n",
            "Epoch 91/100\n",
            "183/183 [==============================] - 3s 17ms/step - loss: 0.1383 - accuracy: 0.9484 - val_loss: 0.1039 - val_accuracy: 0.9693 - lr: 7.8125e-06\n",
            "Epoch 92/100\n",
            "183/183 [==============================] - 3s 15ms/step - loss: 0.1300 - accuracy: 0.9511 - val_loss: 0.1442 - val_accuracy: 0.9417 - lr: 7.8125e-06\n",
            "Epoch 93/100\n",
            "183/183 [==============================] - 3s 15ms/step - loss: 0.1363 - accuracy: 0.9542 - val_loss: 0.1256 - val_accuracy: 0.9387 - lr: 7.8125e-06\n",
            "Epoch 94/100\n",
            "183/183 [==============================] - 3s 16ms/step - loss: 0.1388 - accuracy: 0.9511 - val_loss: 0.1729 - val_accuracy: 0.9479 - lr: 7.8125e-06\n",
            "Epoch 95/100\n",
            "183/183 [==============================] - 3s 16ms/step - loss: 0.1427 - accuracy: 0.9467 - val_loss: 0.1248 - val_accuracy: 0.9479 - lr: 7.8125e-06\n",
            "Epoch 96/100\n",
            "183/183 [==============================] - ETA: 0s - loss: 0.1511 - accuracy: 0.9457\n",
            "Epoch 96: ReduceLROnPlateau reducing learning rate to 3.906250185536919e-06.\n",
            "183/183 [==============================] - 3s 17ms/step - loss: 0.1511 - accuracy: 0.9457 - val_loss: 0.1107 - val_accuracy: 0.9632 - lr: 7.8125e-06\n",
            "Epoch 97/100\n",
            "183/183 [==============================] - 3s 16ms/step - loss: 0.1304 - accuracy: 0.9488 - val_loss: 0.0991 - val_accuracy: 0.9663 - lr: 3.9063e-06\n",
            "Epoch 98/100\n",
            "183/183 [==============================] - 3s 18ms/step - loss: 0.1422 - accuracy: 0.9498 - val_loss: 0.1113 - val_accuracy: 0.9601 - lr: 3.9063e-06\n",
            "Epoch 99/100\n",
            "183/183 [==============================] - 3s 16ms/step - loss: 0.1483 - accuracy: 0.9481 - val_loss: 0.0871 - val_accuracy: 0.9785 - lr: 3.9063e-06\n",
            "Epoch 100/100\n",
            "183/183 [==============================] - 3s 15ms/step - loss: 0.1400 - accuracy: 0.9453 - val_loss: 0.0972 - val_accuracy: 0.9693 - lr: 3.9063e-06\n"
          ]
        }
      ],
      "source": [
        "from tensorflow.keras.callbacks import EarlyStopping, ModelCheckpoint, ReduceLROnPlateau\n",
        "\n",
        "learning_rate_reduction = ReduceLROnPlateau(\n",
        "    monitor='val_accuracy', \n",
        "    patience=7, \n",
        "    verbose=1, \n",
        "    factor=0.5, \n",
        "    min_lr=1e-8)\n",
        "\n",
        "early_stop = EarlyStopping(monitor='val_accuracy',\n",
        "                           patience=12,\n",
        "                           restore_best_weights=True)\n",
        "model_checkpoint = ModelCheckpoint('models/checkpoints/2A-BidirecionalLSTM-cp.h5', save_best_only=True)\n",
        "\n",
        "\n",
        "history = model.fit(\n",
        "    X_train, y_train,\n",
        "    epochs=100,\n",
        "    batch_size=16,\n",
        "    validation_data=(X_validation, y_validation),\n",
        "    verbose=1,\n",
        "    callbacks=[model_checkpoint, learning_rate_reduction])"
      ]
    },
    {
      "cell_type": "markdown",
      "metadata": {},
      "source": [
        "## Save Model"
      ]
    },
    {
      "cell_type": "code",
      "execution_count": 43,
      "metadata": {},
      "outputs": [
        {
          "name": "stderr",
          "output_type": "stream",
          "text": [
            "/home/pws/miniconda3/envs/tensorflow/lib/python3.11/site-packages/keras/src/engine/training.py:3103: UserWarning: You are saving your model as an HDF5 file via `model.save()`. This file format is considered legacy. We recommend using instead the native Keras format, e.g. `model.save('my_model.keras')`.\n",
            "  saving_api.save_model(\n"
          ]
        }
      ],
      "source": [
        "model.save('runtime_saves/models/2A-BidirecionalLSTM.h5')"
      ]
    },
    {
      "cell_type": "markdown",
      "metadata": {},
      "source": [
        "## Load Model"
      ]
    },
    {
      "cell_type": "code",
      "execution_count": 36,
      "metadata": {},
      "outputs": [],
      "source": [
        "from keras.models import load_model\n",
        "\n",
        "model = load_model('runtime_saves/models/2A-BidirecionalLSTM.h5')"
      ]
    },
    {
      "cell_type": "markdown",
      "metadata": {
        "id": "Ct_S460uGhxP"
      },
      "source": [
        "# **RESULTS AND EVALUATION**"
      ]
    },
    {
      "cell_type": "markdown",
      "metadata": {},
      "source": [
        "## Training History"
      ]
    },
    {
      "cell_type": "code",
      "execution_count": 37,
      "metadata": {},
      "outputs": [
        {
          "data": {
            "image/png": "[encoded data removed]",
            "text/plain": [
              "<Figure size 640x480 with 1 Axes>"
            ]
          },
          "metadata": {},
          "output_type": "display_data"
        },
        {
          "data": {
            "image/png": "[encoded data removed]",
            "text/plain": [
              "<Figure size 640x480 with 1 Axes>"
            ]
          },
          "metadata": {},
          "output_type": "display_data"
        }
      ],
      "source": [
        "import matplotlib.pyplot as plt\n",
        "\n",
        "# Extract the history from the training process\n",
        "acc = history.history['accuracy']\n",
        "val_acc = history.history['val_accuracy']\n",
        "loss = history.history['loss']\n",
        "val_loss = history.history['val_loss']\n",
        "epochs = range(1, len(acc) + 1)\n",
        "\n",
        "# Plot the training and validation accuracy\n",
        "plt.plot(epochs, acc, 'bo', label='Training acc')\n",
        "plt.plot(epochs, val_acc, 'b', label='Validation acc')\n",
        "plt.title('Training and validation accuracy')\n",
        "plt.legend()\n",
        "\n",
        "# Plot the training and validation loss\n",
        "plt.figure()\n",
        "plt.plot(epochs, loss, 'bo', label='Training loss')\n",
        "plt.plot(epochs, val_loss, 'b', label='Validation loss')\n",
        "plt.title('Training and validation loss')\n",
        "plt.legend()\n",
        "plt.show()"
      ]
    },
    {
      "cell_type": "markdown",
      "metadata": {},
      "source": [
        "## Evaluate the model"
      ]
    },
    {
      "cell_type": "code",
      "execution_count": 38,
      "metadata": {},
      "outputs": [
        {
          "name": "stdout",
          "output_type": "stream",
          "text": [
            "Train accuracy: 99.6242%\n",
            "Train loss: 0.0209\n",
            "\n",
            "Test accuracy: 96.5602%\n",
            "Test loss: 0.0839\n",
            "\n",
            "Validation accuracy: 96.9325%\n",
            "Validation loss: 0.0972\n"
          ]
        }
      ],
      "source": [
        "# Train accuracy and loss\n",
        "train_loss, train_accuracy = model.evaluate(X_train, y_train, verbose=0)\n",
        "print(f'Train accuracy: {train_accuracy*100:.4f}%')\n",
        "print(f'Train loss: {train_loss:.4f}')\n",
        "print()\n",
        "\n",
        "# Test accuracy and loss\n",
        "test_loss, test_accuracy = model.evaluate(X_test, y_test, verbose=0)\n",
        "print(f'Test accuracy: {test_accuracy*100:.4f}%')\n",
        "print(f'Test loss: {test_loss:.4f}')\n",
        "print()\n",
        "\n",
        "# Validation accuracy and loss\n",
        "validation_loss, validation_accuracy = model.evaluate(X_validation, y_validation, verbose=0)\n",
        "print(f'Validation accuracy: {validation_accuracy*100:.4f}%')\n",
        "print(f'Validation loss: {validation_loss:.4f}')"
      ]
    },
    {
      "cell_type": "markdown",
      "metadata": {},
      "source": [
        "# Confusion Matrix"
      ]
    },
    {
      "cell_type": "code",
      "execution_count": 39,
      "metadata": {},
      "outputs": [
        {
          "name": "stdout",
          "output_type": "stream",
          "text": [
            "26/26 [==============================] - 2s 5ms/step\n",
            "[[196   3   7]\n",
            " [  2 244   8]\n",
            " [  3   5 346]]\n"
          ]
        },
        {
          "data": {
            "image/png": "[encoded data removed]",
            "text/plain": [
              "<Figure size 1000x600 with 2 Axes>"
            ]
          },
          "metadata": {},
          "output_type": "display_data"
        }
      ],
      "source": [
        "from sklearn import metrics\n",
        "import seaborn as sns\n",
        "import matplotlib.pyplot as plt\n",
        "\n",
        "# Simple confusion matrix\n",
        "pred = model.predict(X_test)\n",
        "pred = np.argmax(pred, axis=1)\n",
        "\n",
        "\n",
        "conf_matrix = metrics.confusion_matrix(y_test, pred)\n",
        "print(conf_matrix)\n",
        "\n",
        "# Graphical confusion matrix\n",
        "conf_matrix = metrics.confusion_matrix(y_test, pred)\n",
        "\n",
        "plt.figure(figsize=(10, 6))\n",
        "sns.heatmap(conf_matrix, annot=True, fmt='d', cmap='Greens', xticklabels=label_names, yticklabels=label_names)\n",
        "plt.xlabel('Predicted')\n",
        "plt.ylabel('Actual')\n",
        "plt.title('Confusion Matrix')\n",
        "plt.show()"
      ]
    },
    {
      "cell_type": "markdown",
      "metadata": {},
      "source": [
        "## PCE and MPCE\n",
        "\n",
        "\n",
        "- **Per-Class Error (PCE)** $\\large = \\frac{1 - \\text{Accuracy}}{\\text{Classes}}$\n",
        "\n",
        "- **Mean Per-Class Error (MPCE)** $\\large = \\frac{1}{k} \\sum \\text{PCE}$"
      ]
    },
    {
      "cell_type": "code",
      "execution_count": 40,
      "metadata": {},
      "outputs": [
        {
          "name": "stdout",
          "output_type": "stream",
          "text": [
            "Mean per-class error (MCPE): 0.03684\n",
            "\n",
            "'aggressive'\n",
            "Per-class Error (PCE): 0.04854\n",
            "Per-class Accuracy (PCA): 0.95146\n",
            "\n",
            "'normal'\n",
            "Per-class Error (PCE): 0.03937\n",
            "Per-class Accuracy (PCA): 0.96063\n",
            "\n",
            "'slow'\n",
            "Per-class Error (PCE): 0.02260\n",
            "Per-class Accuracy (PCA): 0.97740\n",
            "\n"
          ]
        },
        {
          "data": {
            "image/png": "[encoded data removed]",
            "text/plain": [
              "<Figure size 1000x600 with 1 Axes>"
            ]
          },
          "metadata": {},
          "output_type": "display_data"
        }
      ],
      "source": [
        "import numpy as np\n",
        "from sklearn.metrics import confusion_matrix\n",
        "import matplotlib.pyplot as plt\n",
        "\n",
        "conf_matrix = confusion_matrix(y_test, pred)\n",
        "\n",
        "# Calculate per-class accuracy\n",
        "per_class_accuracy = conf_matrix.diagonal() / conf_matrix.sum(axis=1)\n",
        "\n",
        "# Convert per-class accuracy to per-class error\n",
        "per_class_error = 1 - per_class_accuracy\n",
        "\n",
        "# Mean per-class error\n",
        "mean_per_class_error = np.mean(per_class_error)\n",
        "print(f\"Mean per-class error (MCPE): {mean_per_class_error:.5f}\")\n",
        "print()\n",
        "\n",
        "# Display per-class error\n",
        "for idx, class_name in enumerate(label_names):\n",
        "    print(f\"'{class_name}'\")\n",
        "    print(f\"Per-class Error (PCE): {per_class_error[idx]:.5f}\")\n",
        "    print(f\"Per-class Accuracy (PCA): {per_class_accuracy[idx]:.5f}\")\n",
        "    print()\n",
        "    \n",
        "\n",
        "plt.figure(figsize=(10, 6))\n",
        "plt.bar(label_names, per_class_error, color='green')\n",
        "plt.xlabel('Class')\n",
        "plt.ylabel('Error Rate')\n",
        "plt.title('Per-Class Error Rate')\n",
        "plt.show()"
      ]
    },
    {
      "cell_type": "markdown",
      "metadata": {},
      "source": [
        "\n",
        "\n",
        "\n",
        "\n",
        "\n",
        "\n",
        "\n",
        "\n",
        "\n",
        "\n",
        "\n",
        "\n",
        "\n",
        "\n",
        "\n",
        "\n",
        "\n",
        "\n",
        "\n",
        "\n",
        "\n",
        "\n",
        "## Performance Metrics"
      ]
    },
    {
      "cell_type": "markdown",
      "metadata": {},
      "source": [
        "- Accuracy  $\\large = \\frac{Correct~Predictions}{All~Predictions}$\n",
        "- Precision for a given class  $\\large = \\frac{Correct~Predictions~for~the~Class}{All~Predictions~for~the~Class}$   \n",
        "- Recall for a given class  $\\large = \\frac{Correct~Predictions~for~the~Class}{All~Instances~of~the~Class}$  \n",
        "- F1 Score $\\large = \\frac{2 \\times \\text{Precision} \\times \\text{Recall}}{\\text{Precision} + \\text{Recall}}$  \n",
        "- Hamming Loss $\\large = \\frac{1}{N} \\sum_{i=1}^{N} \\frac{\\text{Incorrect Labels}}{\\text{Total Labels}}$  \n",
        "- Jaccard Score $\\large = \\frac{|Y_{pred} \\cap Y_{true}|}{|Y_{pred} \\cup Y_{true}|}$  \n",
        "\n",
        "\n",
        "\n",
        "- Averaging is a way to get a single number for multiclass. Depending on the importance one wants to give to minority classes: \n",
        "    - Macro average: Compute the metric for each class, and returns the average without considering the proportion for each class in the dataset. For instance:\n",
        "\n",
        "        Precision = $\\large = \\frac{P_{class 1} ~+~ P_{class 2} ~+~ ... ~+~ P_{class n}}{N}$   \n",
        "    \n",
        "    - Weighted average: Compute the metric for each class, and returns the average considering the proportion (weighted) for each class in the dataset. For instance:\n",
        "\n",
        "        Precision = $\\large = \\frac{N_1 ~*~ P_{class 1} ~+~ N_2 ~*~ P_{class 2} ~+~ ... ~+~ N_n ~*~ P_{class n}}{N}$"
      ]
    },
    {
      "cell_type": "code",
      "execution_count": 41,
      "metadata": {},
      "outputs": [
        {
          "name": "stdout",
          "output_type": "stream",
          "text": [
            "Accuracy : 96.56%\n",
            "\n",
            "Precision - Macro: 96.73%\n",
            "Recall - Macro: 96.32%\n",
            "F1-score - Macro: 96.51%\n",
            "\n",
            "Precision - Weighted: 96.57%\n",
            "Recall - Weighted: 96.56%\n",
            "F1-score - Weighted: 96.56%\n"
          ]
        }
      ],
      "source": [
        "from sklearn.metrics import accuracy_score, precision_score, recall_score, f1_score\n",
        "\n",
        "# Calculates performance metrics\n",
        "acc = accuracy_score(y_true =  y_test, y_pred = pred)\n",
        "print(f'Accuracy : {np.round(acc*100,2)}%')\n",
        "\n",
        "print()\n",
        "          \n",
        "precision = precision_score(y_true =  y_test, y_pred = pred, average='macro')\n",
        "print(f'Precision - Macro: {np.round(precision*100,2)}%')\n",
        "\n",
        "recall = recall_score(y_true =  y_test, y_pred = pred, average='macro')\n",
        "print(f'Recall - Macro: {np.round(recall*100,2)}%')\n",
        "\n",
        "f1 = f1_score(y_true =  y_test, y_pred = pred, average='macro')\n",
        "print(f'F1-score - Macro: {np.round(f1*100,2)}%')\n",
        "\n",
        "print()\n",
        "\n",
        "precision = precision_score(y_true =  y_test, y_pred = pred, average='weighted')\n",
        "print(f'Precision - Weighted: {np.round(precision*100,2)}%')\n",
        "\n",
        "recall = recall_score(y_true =  y_test, y_pred = pred, average='weighted')\n",
        "print(f'Recall - Weighted: {np.round(recall*100,2)}%')\n",
        "\n",
        "f1 = f1_score(y_true =  y_test, y_pred = pred, average='weighted')\n",
        "print(f'F1-score - Weighted: {np.round(f1*100,2)}%')"
      ]
    },
    {
      "cell_type": "markdown",
      "metadata": {},
      "source": [
        "## Classification report\n",
        "\n",
        "Detailed summary of the classification model's performance across different classes."
      ]
    },
    {
      "cell_type": "code",
      "execution_count": 42,
      "metadata": {},
      "outputs": [
        {
          "name": "stdout",
          "output_type": "stream",
          "text": [
            "              precision    recall  f1-score   support\n",
            "\n",
            "  aggressive       0.98      0.95      0.96       206\n",
            "      normal       0.97      0.96      0.96       254\n",
            "        slow       0.96      0.98      0.97       354\n",
            "\n",
            "    accuracy                           0.97       814\n",
            "   macro avg       0.97      0.96      0.97       814\n",
            "weighted avg       0.97      0.97      0.97       814\n",
            "\n"
          ]
        }
      ],
      "source": [
        "from sklearn.metrics import classification_report\n",
        "\n",
        "print(classification_report(y_test, pred, target_names=label_names))"
      ]
    }
  ],
  "metadata": {
    "accelerator": "GPU",
    "colab": {
      "gpuType": "T4",
      "provenance": []
    },
    "kernelspec": {
      "display_name": "Python 3",
      "name": "python3"
    },
    "language_info": {
      "codemirror_mode": {
        "name": "ipython",
        "version": 3
      },
      "file_extension": ".py",
      "mimetype": "text/x-python",
      "name": "python",
      "nbconvert_exporter": "python",
      "pygments_lexer": "ipython3",
      "version": "3.11.4"
    }
  },
  "nbformat": 4,
  "nbformat_minor": 0
}
