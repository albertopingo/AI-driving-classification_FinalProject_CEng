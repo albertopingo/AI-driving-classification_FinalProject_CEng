{
  "cells": [
    {
      "cell_type": "markdown",
      "metadata": {},
      "source": [
        "# 2023/24 - LSTM\n",
        "\n",
        "This notebook is a implementation of a **LSTM** for Driving Behavior Classification. The model is trained on the [IPL-Dataset](http://www.robesafe.uah.es/personal/eduardo.romera/uah-driveset/) dataset. \n",
        "\n",
        "The dataset contains recorded driving scenarios like Intersections, Acceleration, Brake. The dataset is divided into 3 classes: **Slow, Normal and Aggressive**.\n",
        "\n",
        "Each driving scenario is represented by a sequence of sensor data. The sensor data is collected from the following sensors:\n",
        "- Accelerometer\n",
        "- Gyroscope\n",
        "- GPS\n"
      ]
    },
    {
      "cell_type": "markdown",
      "metadata": {
        "id": "RzTK7gM5ydFL"
      },
      "source": [
        "## Libraries"
      ]
    },
    {
      "cell_type": "markdown",
      "metadata": {},
      "source": [
        "## Directories"
      ]
    },
    {
      "cell_type": "code",
      "execution_count": 1,
      "metadata": {},
      "outputs": [
        {
          "name": "stdout",
          "output_type": "stream",
          "text": [
            "Root directory: c:\\codeUni\\ProjetoInformatico\\FinalProject-AI-DrivingClassification\n",
            "Datasets directory: c:\\codeUni\\ProjetoInformatico\\FinalProject-AI-DrivingClassification\\datasets\n",
            "Dataset directory: c:\\codeUni\\ProjetoInformatico\\FinalProject-AI-DrivingClassification\\datasets\\IPL-Dataset\n"
          ]
        }
      ],
      "source": [
        "import os\n",
        "\n",
        "# Make auxiliar folders\n",
        "if not os.path.exists('runtime_saves'):\n",
        "    os.makedirs('runtime_saves')\n",
        "if not os.path.exists('runtime_saves/models'):\n",
        "    os.makedirs('runtime_saves/models')\n",
        "if not os.path.exists('runtime_saves/train&test'):\n",
        "    os.makedirs('runtime_saves/train&test')\n",
        "    \n",
        "current_dir = os.getcwd()\n",
        "\n",
        "root_dir = os.path.abspath(os.path.join(current_dir, os.pardir, os.pardir))\n",
        "\n",
        "datasets_dir = os.path.join(root_dir, 'datasets')\n",
        "\n",
        "dataset_dir = os.path.join(datasets_dir, 'IPL-Dataset')\n",
        "\n",
        "\n",
        "print(f'Root directory: {root_dir}')\n",
        "print(f'Datasets directory: {datasets_dir}')\n",
        "print(f'Dataset directory: {dataset_dir}')"
      ]
    },
    {
      "cell_type": "markdown",
      "metadata": {},
      "source": [
        "# **Data Preprocessing**\n",
        "\n",
        "## Data structure:\n",
        "- Acceleration (m/s2): X, Y, Z Axis \n",
        "\n",
        "- Gyroscope (°/s): X, Y, Z Axis\n",
        "\n",
        "- GPS: Latitude and Longitude "
      ]
    },
    {
      "cell_type": "code",
      "execution_count": 2,
      "metadata": {},
      "outputs": [
        {
          "name": "stderr",
          "output_type": "stream",
          "text": [
            "C:\\Users\\PDesktop\\AppData\\Local\\Temp\\ipykernel_7420\\1933527817.py:71: FutureWarning: The behavior of DataFrame concatenation with empty or all-NA entries is deprecated. In a future version, this will no longer exclude empty or all-NA columns when determining the result dtypes. To retain the old behavior, exclude the relevant entries before the concat operation.\n",
            "  data_bmw = pd.concat([data_bmw, file_data.copy()], axis=0)\n",
            "C:\\Users\\PDesktop\\AppData\\Local\\Temp\\ipykernel_7420\\1933527817.py:78: FutureWarning: The behavior of DataFrame concatenation with empty or all-NA entries is deprecated. In a future version, this will no longer exclude empty or all-NA columns when determining the result dtypes. To retain the old behavior, exclude the relevant entries before the concat operation.\n",
            "  data_honda = pd.concat([data_honda, file_data.copy()], axis=0)\n"
          ]
        },
        {
          "name": "stdout",
          "output_type": "stream",
          "text": [
            "BMW Data shape: (3001, 8)\n",
            "BMW Labels shape: 3001\n",
            "Honda Data shape: (1081, 8)\n",
            "Honda Labels shape: 1081\n",
            "BMW Labels: ['aggressive' 'normal' 'slow']\n",
            "Honda Labels: ['aggressive' 'normal' 'slow']\n"
          ]
        }
      ],
      "source": [
        "import json\n",
        "import pandas as pd\n",
        "import numpy as np\n",
        "\n",
        "def apply_rolling_window(df):\n",
        "    \"\"\"\n",
        "    Apply a centered rolling mean with a window of 3 to each column of the DataFrame.\n",
        "    For each value, the function computes the mean of the value itself, the one before, and the one after.\n",
        "    \"\"\"\n",
        "    df = df.rolling(window=3, center=True, min_periods=1).mean()    \n",
        "    \n",
        "    return df\n",
        "\n",
        "directories = ['Acceleration', 'Brake', 'Intersection']\n",
        "column_names = ['accelerometerXAxis', 'accelerometerYAxis', 'accelerometerZAxis', 'gyroscopeXAxis', 'gyroscopeYAxis', 'gyroscopeZAxis', 'Latitude', 'Longitude']\n",
        "\n",
        "data_bmw = pd.DataFrame(columns=column_names)\n",
        "labels_bmw = []\n",
        "data_honda = pd.DataFrame(columns=column_names)\n",
        "labels_honda = []\n",
        "\n",
        "label_names = []\n",
        "\n",
        "\n",
        "# TODO Import other folders too\n",
        "\n",
        "for directory in directories:\n",
        "    for root, dirs, files in os.walk(os.path.join(dataset_dir, directory)):\n",
        "        if 'turn 90 degree constant speed' in root: # Skip this directory\n",
        "            continue\n",
        "        for file in files:\n",
        "            if file.endswith('.json'):\n",
        "                car = os.path.basename(root).split()[0].upper()            \n",
        "                label = os.path.basename(os.path.dirname(root))\n",
        "                # print(f'Processing: {car} : {label} : {directory} : {file}')\n",
        "                \n",
        "                file_data = json.load(open(os.path.join(root, file)))\n",
        "                file_data = file_data['capturedData']\n",
        "                file_data = pd.DataFrame(file_data)\n",
        "                \n",
        "                # Rename speed Km/h to speed\n",
        "                file_data.rename(columns={'speed Km/h': 'speed'}, inplace=True)\n",
        "                file_data.rename(columns={'speedKmh': 'speed'}, inplace=True)\n",
        "                \n",
        "                file_data.drop(['speed'], axis=1, inplace=True, errors='ignore')\n",
        "                \n",
        "                 # Drop timestamp\n",
        "                file_data = file_data.drop(['createdAt'], axis=1, errors='ignore')\n",
        "                file_data = file_data.drop(['timestamp'], axis=1, errors='ignore')   \n",
        "                file_data = file_data.drop(['id'], axis=1, errors='ignore')\n",
        "                \n",
        "                # Apply rolling window\n",
        "                file_data_rolling = apply_rolling_window(file_data[['accelerometerXAxis', 'accelerometerYAxis', 'accelerometerZAxis', 'gyroscopeXAxis', 'gyroscopeYAxis', 'gyroscopeZAxis']])\n",
        "                \n",
        "                file_data[['accelerometerXAxis', 'accelerometerYAxis', 'accelerometerZAxis', 'gyroscopeXAxis', 'gyroscopeYAxis', 'gyroscopeZAxis']] = file_data_rolling\n",
        "    \n",
        "                labels = np.full((file_data.shape[0], 1), label)\n",
        "                \n",
        "                column_names = file_data.columns\n",
        "                # print(f'Column names: {column_names}')\n",
        "                \n",
        "                # If data is empty, create a new dataframe with the column names\n",
        "                if data_bmw.empty:\n",
        "                    data_bmw = pd.DataFrame(columns=column_names)\n",
        "                    # print(f'Data BMW shape: {data_bmw.shape}')\n",
        "                if data_honda.empty:\n",
        "                    data_honda = pd.DataFrame(columns=column_names)\n",
        "                    # print(f'Data HONDA shape: {data_honda.shape}')\n",
        "                \n",
        "                if car == 'BMW':                                      \n",
        "                    data_bmw = pd.concat([data_bmw, file_data.copy()], axis=0)\n",
        "                    # print(f'Data BMW shape: {data_bmw.shape}')\n",
        "                    \n",
        "                    labels_bmw += labels.tolist()\n",
        "                    # print(f'Labels BMW shape: {len(labels_bmw)}')\n",
        "                    \n",
        "                elif car == 'HONDA':\n",
        "                    data_honda = pd.concat([data_honda, file_data.copy()], axis=0)\n",
        "                    # print(f'Data HONDA shape: {data_honda.shape}')\n",
        "                    \n",
        "                    labels_honda += labels.tolist()\n",
        "                    # print(f'Labels HONDA shape: {len(labels_honda)}')\n",
        "                    \n",
        "# Show data shapes      \n",
        "print(f'BMW Data shape: {data_bmw.shape}')\n",
        "print(f'BMW Labels shape: {len(labels_bmw)}')\n",
        "print(f'Honda Data shape: {data_honda.shape}')\n",
        "print(f'Honda Labels shape: {len(labels_honda)}')\n",
        "\n",
        "# Show unique labels\n",
        "print(f'BMW Labels: {np.unique(labels_bmw)}')\n",
        "print(f'Honda Labels: {np.unique(labels_honda)}')\n",
        "label_names = np.unique(labels_bmw)\n",
        "\n",
        "# Save Data to CSV - runtime_saves folder\n",
        "data_bmw.to_csv('runtime_saves/bmw_data.csv', index=False)\n",
        "data_honda.to_csv('runtime_saves/honda_data.csv', index=False)\n",
        "labels_bmw = np.array(labels_bmw)\n",
        "labels_honda = np.array(labels_honda)\n",
        "\n",
        "# Save Labels to CSV - runtime_saves folder\n",
        "np.savetxt('runtime_saves/bmw_labels.csv', labels_bmw, delimiter=',', fmt='%s')\n",
        "np.savetxt('runtime_saves/honda_labels.csv', labels_honda, delimiter=',', fmt='%s')"
      ]
    },
    {
      "cell_type": "code",
      "execution_count": 3,
      "metadata": {
        "id": "B5wPPy3OiYj9"
      },
      "outputs": [],
      "source": [
        "import numpy as np\n",
        "import pandas as pd\n",
        "\n",
        "# Load the dataset into a DataFrame\n",
        "df_bmw = pd.read_csv('runtime_saves/bmw_data.csv')\n",
        "df_honda = pd.read_csv('runtime_saves/honda_data.csv')\n",
        "\n",
        "# Load the labels into a NumPy array\n",
        "labels_bmw = np.loadtxt('runtime_saves/bmw_labels.csv', delimiter=',', dtype=str)\n",
        "labels_honda = np.loadtxt('runtime_saves/honda_labels.csv', delimiter=',', dtype=str)\n",
        "\n",
        "labels = np.concatenate([labels_bmw, labels_honda], axis=0)"
      ]
    },
    {
      "cell_type": "code",
      "execution_count": 4,
      "metadata": {},
      "outputs": [
        {
          "data": {
            "image/png": "[encoded data removed]",
            "text/plain": [
              "<Figure size 1200x600 with 1 Axes>"
            ]
          },
          "metadata": {},
          "output_type": "display_data"
        }
      ],
      "source": [
        "import matplotlib.pyplot as plt\n",
        "import seaborn as sns\n",
        "\n",
        "labels = pd.Series(labels)\n",
        "\n",
        "# plot the count of each label\n",
        "plt.figure(figsize=(12, 6))\n",
        "sns.countplot(labels)\n",
        "plt.title('Count of each label')\n",
        "plt.show()"
      ]
    },
    {
      "cell_type": "markdown",
      "metadata": {},
      "source": [
        "# Encode Labels"
      ]
    },
    {
      "cell_type": "code",
      "execution_count": 5,
      "metadata": {},
      "outputs": [],
      "source": [
        "from sklearn.preprocessing import LabelEncoder\n",
        "\n",
        "label_encoder = LabelEncoder()\n",
        "\n",
        "labels = label_encoder.fit_transform(labels)"
      ]
    },
    {
      "cell_type": "markdown",
      "metadata": {},
      "source": [
        "# Normalize Data"
      ]
    },
    {
      "cell_type": "code",
      "execution_count": 6,
      "metadata": {},
      "outputs": [],
      "source": [
        "def normalize_between_0_and_1(data, columns):\n",
        "    for column in columns:\n",
        "        if column not in data.columns:\n",
        "            print(f\"[WARNING] {column} not found in DataFrame.\")\n",
        "            continue\n",
        "        else:\n",
        "            max_value = np.max(data[column])\n",
        "            min_value = np.min(data[column])\n",
        "            data[column] = (data[column] - min_value) / (max_value - min_value)\n",
        "    return data\n",
        "\n",
        "columns_to_normalize = ['accelerometerXAxis', 'accelerometerYAxis', 'accelerometerZAxis', 'gyroscopeXAxis', 'gyroscopeYAxis', 'gyroscopeZAxis']\n",
        "\n",
        "\n",
        "df_bmw = normalize_between_0_and_1(df_bmw, columns_to_normalize)\n",
        "df_honda = normalize_between_0_and_1(df_honda, columns_to_normalize)"
      ]
    },
    {
      "cell_type": "markdown",
      "metadata": {},
      "source": [
        "## Concatenate Data"
      ]
    },
    {
      "cell_type": "code",
      "execution_count": 7,
      "metadata": {},
      "outputs": [],
      "source": [
        "df = pd.concat([df_bmw, df_honda], axis=0)\n",
        "\n",
        "# create label column in the dataframe\n",
        "df['label'] = labels"
      ]
    },
    {
      "cell_type": "markdown",
      "metadata": {},
      "source": [
        "## Create Sequences"
      ]
    },
    {
      "cell_type": "code",
      "execution_count": 8,
      "metadata": {},
      "outputs": [
        {
          "name": "stdout",
          "output_type": "stream",
          "text": [
            "X shape: (4067, 16, 8)\n",
            "y shape: (4067,)\n"
          ]
        }
      ],
      "source": [
        "import numpy as np\n",
        "from scipy.stats import mode\n",
        "\n",
        "def create_dataset(data, labels, window_size=16, step_size=2):\n",
        "    X, y = [], []\n",
        "    for i in range(0, len(data) - window_size + 1, step_size):\n",
        "        # Create the window of data\n",
        "        X.append(data[i:i + window_size].values)        \n",
        "        \n",
        "         # Find the most frequent string label in the current window\n",
        "        window_labels = labels[i:i + window_size]\n",
        "        most_frequent_label = mode(window_labels, axis=None)[0]\n",
        "        \n",
        "        # Add the most frequent label as the label of the current window\n",
        "        y.append(most_frequent_label)\n",
        "            \n",
        "    return np.array(X), np.array(y)\n",
        "\n",
        "time_steps = 16\n",
        "step_size = 1\n",
        "\n",
        "X, y = create_dataset(\n",
        "    df[['accelerometerXAxis', 'accelerometerYAxis', 'accelerometerZAxis',\n",
        "                   'gyroscopeXAxis', 'gyroscopeYAxis', 'gyroscopeZAxis', 'Latitude', 'Longitude']],\n",
        "    df['label'],\n",
        "    window_size=time_steps,\n",
        "    step_size=step_size    \n",
        ")\n",
        "\n",
        "print(f'X shape: {X.shape}')\n",
        "print(f'y shape: {y.shape}')\n",
        "\n",
        "# save the data to a npy\n",
        "np.save('runtime_saves/X.npy', X)\n",
        "np.savetxt('runtime_saves/y.csv', y, delimiter=',', fmt='%d')"
      ]
    },
    {
      "cell_type": "markdown",
      "metadata": {},
      "source": [
        "# Split Dataset for Model Training\n",
        "- 70% Training\n",
        "- 20% Test\n",
        "- 10% Validation"
      ]
    },
    {
      "cell_type": "code",
      "execution_count": 9,
      "metadata": {},
      "outputs": [
        {
          "name": "stdout",
          "output_type": "stream",
          "text": [
            "X_train shape: (2927, 16, 8)\n",
            "y_train shape: (2927,)\n",
            "\n",
            "X_test shape: (814, 16, 8)\n",
            "y_test shape: (814,)\n",
            "\n",
            "X_validation shape: (326, 16, 8)\n",
            "y_validation shape: (326,)\n"
          ]
        }
      ],
      "source": [
        "from sklearn.model_selection import train_test_split\n",
        "\n",
        "X_train, X_test, y_train, y_test = train_test_split(X, y, test_size=0.2, shuffle=True, stratify=y, random_state=23)\n",
        "\n",
        "X_train, X_validation, y_train, y_validation = train_test_split(X_train, y_train, test_size=0.1, shuffle=True, stratify=y_train, random_state=23)\n",
        "\n",
        "\n",
        "print(f'X_train shape: {X_train.shape}')\n",
        "print(f'y_train shape: {y_train.shape}\\n')\n",
        "print(f'X_test shape: {X_test.shape}')\n",
        "print(f'y_test shape: {y_test.shape}\\n')\n",
        "print(f'X_validation shape: {X_validation.shape}')\n",
        "print(f'y_validation shape: {y_validation.shape}')\n"
      ]
    },
    {
      "cell_type": "code",
      "execution_count": 10,
      "metadata": {},
      "outputs": [],
      "source": [
        "# from tensorflow.keras import backend as K\n",
        "\n",
        "# K.clear_session()"
      ]
    },
    {
      "cell_type": "markdown",
      "metadata": {},
      "source": [
        "# **MODEL ARCHITECTURE** - Bidirecional LSTM"
      ]
    },
    {
      "cell_type": "code",
      "execution_count": 11,
      "metadata": {},
      "outputs": [
        {
          "name": "stdout",
          "output_type": "stream",
          "text": [
            "WARNING:tensorflow:From c:\\Users\\PDesktop\\AppData\\Local\\Programs\\Python\\Python311\\Lib\\site-packages\\keras\\src\\losses.py:2976: The name tf.losses.sparse_softmax_cross_entropy is deprecated. Please use tf.compat.v1.losses.sparse_softmax_cross_entropy instead.\n",
            "\n",
            "WARNING:tensorflow:From c:\\Users\\PDesktop\\AppData\\Local\\Programs\\Python\\Python311\\Lib\\site-packages\\keras\\src\\backend.py:1398: The name tf.executing_eagerly_outside_functions is deprecated. Please use tf.compat.v1.executing_eagerly_outside_functions instead.\n",
            "\n",
            "Model: \"model\"\n",
            "_________________________________________________________________\n",
            " Layer (type)                Output Shape              Param #   \n",
            "=================================================================\n",
            " input_1 (InputLayer)        [(None, 16, 8)]           0         \n",
            "                                                                 \n",
            " bidirectional (Bidirection  (None, 16, 128)           37376     \n",
            " al)                                                             \n",
            "                                                                 \n",
            " batch_normalization (Batch  (None, 16, 128)           512       \n",
            " Normalization)                                                  \n",
            "                                                                 \n",
            " dropout (Dropout)           (None, 16, 128)           0         \n",
            "                                                                 \n",
            " bidirectional_1 (Bidirecti  (None, 16, 128)           98816     \n",
            " onal)                                                           \n",
            "                                                                 \n",
            " batch_normalization_1 (Bat  (None, 16, 128)           512       \n",
            " chNormalization)                                                \n",
            "                                                                 \n",
            " dropout_1 (Dropout)         (None, 16, 128)           0         \n",
            "                                                                 \n",
            " bidirectional_2 (Bidirecti  (None, 128)               98816     \n",
            " onal)                                                           \n",
            "                                                                 \n",
            " batch_normalization_2 (Bat  (None, 128)               512       \n",
            " chNormalization)                                                \n",
            "                                                                 \n",
            " dropout_2 (Dropout)         (None, 128)               0         \n",
            "                                                                 \n",
            " dense (Dense)               (None, 3)                 387       \n",
            "                                                                 \n",
            "=================================================================\n",
            "Total params: 236931 (925.51 KB)\n",
            "Trainable params: 236163 (922.51 KB)\n",
            "Non-trainable params: 768 (3.00 KB)\n",
            "_________________________________________________________________\n"
          ]
        }
      ],
      "source": [
        "from tensorflow import keras\n",
        "from tensorflow.keras.layers import LSTM, Dense, Dropout, BatchNormalization, Bidirectional\n",
        "\n",
        "# Inputs\n",
        "input_shape = (X_train.shape[1], X_train.shape[2])\n",
        "inputs = keras.Input(shape=input_shape)\n",
        "\n",
        "# Architecture\n",
        "x = Bidirectional(LSTM(64, return_sequences=True))(inputs)\n",
        "x = BatchNormalization()(x)\n",
        "x = Dropout(0.2)(x)\n",
        "\n",
        "x = Bidirectional(LSTM(64, return_sequences=True))(x)\n",
        "x = BatchNormalization()(x)\n",
        "x = Dropout(0.2)(x)\n",
        "\n",
        "x = Bidirectional(LSTM(64))(x)\n",
        "x = BatchNormalization()(x)\n",
        "x = Dropout(0.2)(x)\n",
        "\n",
        "outputs = Dense(3, activation='softmax')(x)\n",
        "\n",
        "# Create the model\n",
        "model = keras.Model(inputs=inputs, outputs=outputs)\n",
        "\n",
        "model.summary()"
      ]
    },
    {
      "cell_type": "markdown",
      "metadata": {},
      "source": [
        "## Compile Model"
      ]
    },
    {
      "cell_type": "code",
      "execution_count": 12,
      "metadata": {},
      "outputs": [
        {
          "name": "stdout",
          "output_type": "stream",
          "text": [
            "WARNING:tensorflow:From c:\\Users\\PDesktop\\AppData\\Local\\Programs\\Python\\Python311\\Lib\\site-packages\\keras\\src\\optimizers\\__init__.py:309: The name tf.train.Optimizer is deprecated. Please use tf.compat.v1.train.Optimizer instead.\n",
            "\n"
          ]
        }
      ],
      "source": [
        "model.compile(optimizer='adam', loss='sparse_categorical_crossentropy', metrics=['accuracy'])"
      ]
    },
    {
      "cell_type": "markdown",
      "metadata": {},
      "source": [
        "## Model Training"
      ]
    },
    {
      "cell_type": "code",
      "execution_count": 13,
      "metadata": {},
      "outputs": [
        {
          "name": "stdout",
          "output_type": "stream",
          "text": [
            "Epoch 1/150\n",
            "WARNING:tensorflow:From c:\\Users\\PDesktop\\AppData\\Local\\Programs\\Python\\Python311\\Lib\\site-packages\\keras\\src\\utils\\tf_utils.py:492: The name tf.ragged.RaggedTensorValue is deprecated. Please use tf.compat.v1.ragged.RaggedTensorValue instead.\n",
            "\n",
            "WARNING:tensorflow:From c:\\Users\\PDesktop\\AppData\\Local\\Programs\\Python\\Python311\\Lib\\site-packages\\keras\\src\\engine\\base_layer_utils.py:384: The name tf.executing_eagerly_outside_functions is deprecated. Please use tf.compat.v1.executing_eagerly_outside_functions instead.\n",
            "\n",
            "183/183 [==============================] - 21s 41ms/step - loss: 1.3279 - accuracy: 0.3963 - val_loss: 1.1403 - val_accuracy: 0.3098 - lr: 0.0010\n",
            "Epoch 2/150\n",
            "  1/183 [..............................] - ETA: 7s - loss: 1.2849 - accuracy: 0.2500"
          ]
        },
        {
          "name": "stderr",
          "output_type": "stream",
          "text": [
            "c:\\Users\\PDesktop\\AppData\\Local\\Programs\\Python\\Python311\\Lib\\site-packages\\keras\\src\\engine\\training.py:3103: UserWarning: You are saving your model as an HDF5 file via `model.save()`. This file format is considered legacy. We recommend using instead the native Keras format, e.g. `model.save('my_model.keras')`.\n",
            "  saving_api.save_model(\n"
          ]
        },
        {
          "name": "stdout",
          "output_type": "stream",
          "text": [
            "183/183 [==============================] - 6s 30ms/step - loss: 1.0270 - accuracy: 0.5056 - val_loss: 3.4891 - val_accuracy: 0.2546 - lr: 0.0010\n",
            "Epoch 3/150\n",
            "183/183 [==============================] - 4s 22ms/step - loss: 0.9379 - accuracy: 0.5600 - val_loss: 6.0155 - val_accuracy: 0.2546 - lr: 0.0010\n",
            "Epoch 4/150\n",
            "183/183 [==============================] - 4s 23ms/step - loss: 0.8732 - accuracy: 0.5951 - val_loss: 1.6700 - val_accuracy: 0.3344 - lr: 0.0010\n",
            "Epoch 5/150\n",
            "183/183 [==============================] - 5s 25ms/step - loss: 0.8172 - accuracy: 0.6283 - val_loss: 1.4058 - val_accuracy: 0.2638 - lr: 0.0010\n",
            "Epoch 6/150\n",
            "183/183 [==============================] - 4s 24ms/step - loss: 0.7797 - accuracy: 0.6467 - val_loss: 1.4164 - val_accuracy: 0.3620 - lr: 0.0010\n",
            "Epoch 7/150\n",
            "183/183 [==============================] - 4s 23ms/step - loss: 0.7486 - accuracy: 0.6645 - val_loss: 1.0049 - val_accuracy: 0.4387 - lr: 0.0010\n",
            "Epoch 8/150\n",
            "183/183 [==============================] - 6s 30ms/step - loss: 0.7167 - accuracy: 0.6751 - val_loss: 4.7628 - val_accuracy: 0.2546 - lr: 0.0010\n",
            "Epoch 9/150\n",
            "183/183 [==============================] - 5s 25ms/step - loss: 0.6931 - accuracy: 0.6857 - val_loss: 1.8584 - val_accuracy: 0.3528 - lr: 0.0010\n",
            "Epoch 10/150\n",
            "183/183 [==============================] - 5s 25ms/step - loss: 0.6690 - accuracy: 0.7041 - val_loss: 1.3697 - val_accuracy: 0.2546 - lr: 0.0010\n",
            "Epoch 11/150\n",
            "183/183 [==============================] - 4s 23ms/step - loss: 0.6277 - accuracy: 0.7284 - val_loss: 1.2084 - val_accuracy: 0.3712 - lr: 0.0010\n",
            "Epoch 12/150\n",
            "183/183 [==============================] - 4s 24ms/step - loss: 0.6075 - accuracy: 0.7414 - val_loss: 1.3282 - val_accuracy: 0.2699 - lr: 0.0010\n",
            "Epoch 13/150\n",
            "183/183 [==============================] - 4s 23ms/step - loss: 0.5915 - accuracy: 0.7393 - val_loss: 1.8973 - val_accuracy: 0.2669 - lr: 0.0010\n",
            "Epoch 14/150\n",
            "183/183 [==============================] - ETA: 0s - loss: 0.5580 - accuracy: 0.7533\n",
            "Epoch 14: ReduceLROnPlateau reducing learning rate to 0.0005000000237487257.\n",
            "183/183 [==============================] - 4s 24ms/step - loss: 0.5580 - accuracy: 0.7533 - val_loss: 2.6388 - val_accuracy: 0.2546 - lr: 0.0010\n",
            "Epoch 15/150\n",
            "183/183 [==============================] - 6s 32ms/step - loss: 0.5044 - accuracy: 0.7834 - val_loss: 2.6341 - val_accuracy: 0.2546 - lr: 5.0000e-04\n",
            "Epoch 16/150\n",
            "183/183 [==============================] - 4s 23ms/step - loss: 0.4536 - accuracy: 0.8104 - val_loss: 1.8584 - val_accuracy: 0.4264 - lr: 5.0000e-04\n",
            "Epoch 17/150\n",
            "183/183 [==============================] - 4s 23ms/step - loss: 0.4576 - accuracy: 0.8008 - val_loss: 0.9030 - val_accuracy: 0.5982 - lr: 5.0000e-04\n",
            "Epoch 18/150\n",
            "183/183 [==============================] - 4s 23ms/step - loss: 0.4176 - accuracy: 0.8247 - val_loss: 1.7135 - val_accuracy: 0.5245 - lr: 5.0000e-04\n",
            "Epoch 19/150\n",
            "183/183 [==============================] - 4s 23ms/step - loss: 0.4033 - accuracy: 0.8333 - val_loss: 1.0344 - val_accuracy: 0.5123 - lr: 5.0000e-04\n",
            "Epoch 20/150\n",
            "183/183 [==============================] - 4s 23ms/step - loss: 0.3757 - accuracy: 0.8394 - val_loss: 1.4574 - val_accuracy: 0.4877 - lr: 5.0000e-04\n",
            "Epoch 21/150\n",
            "183/183 [==============================] - 5s 28ms/step - loss: 0.3672 - accuracy: 0.8514 - val_loss: 1.2440 - val_accuracy: 0.5245 - lr: 5.0000e-04\n",
            "Epoch 22/150\n",
            "183/183 [==============================] - 7s 39ms/step - loss: 0.3498 - accuracy: 0.8541 - val_loss: 1.6070 - val_accuracy: 0.4847 - lr: 5.0000e-04\n",
            "Epoch 23/150\n",
            "183/183 [==============================] - 8s 45ms/step - loss: 0.3095 - accuracy: 0.8780 - val_loss: 2.7468 - val_accuracy: 0.2454 - lr: 5.0000e-04\n",
            "Epoch 24/150\n",
            "183/183 [==============================] - ETA: 0s - loss: 0.2775 - accuracy: 0.8937\n",
            "Epoch 24: ReduceLROnPlateau reducing learning rate to 0.0002500000118743628.\n",
            "183/183 [==============================] - 7s 36ms/step - loss: 0.2775 - accuracy: 0.8937 - val_loss: 2.2710 - val_accuracy: 0.3742 - lr: 5.0000e-04\n",
            "Epoch 25/150\n",
            "183/183 [==============================] - 7s 39ms/step - loss: 0.2486 - accuracy: 0.9019 - val_loss: 1.2740 - val_accuracy: 0.4356 - lr: 2.5000e-04\n",
            "Epoch 26/150\n",
            "183/183 [==============================] - 6s 32ms/step - loss: 0.2435 - accuracy: 0.9071 - val_loss: 2.2823 - val_accuracy: 0.3497 - lr: 2.5000e-04\n",
            "Epoch 27/150\n",
            "183/183 [==============================] - 7s 39ms/step - loss: 0.2268 - accuracy: 0.9105 - val_loss: 1.0475 - val_accuracy: 0.6902 - lr: 2.5000e-04\n",
            "Epoch 28/150\n",
            "183/183 [==============================] - 6s 31ms/step - loss: 0.2184 - accuracy: 0.9156 - val_loss: 3.7817 - val_accuracy: 0.2822 - lr: 2.5000e-04\n",
            "Epoch 29/150\n",
            "183/183 [==============================] - 6s 30ms/step - loss: 0.2055 - accuracy: 0.9228 - val_loss: 1.0599 - val_accuracy: 0.6626 - lr: 2.5000e-04\n",
            "Epoch 30/150\n",
            "183/183 [==============================] - 6s 33ms/step - loss: 0.1985 - accuracy: 0.9231 - val_loss: 1.5931 - val_accuracy: 0.5583 - lr: 2.5000e-04\n",
            "Epoch 31/150\n",
            "183/183 [==============================] - 7s 37ms/step - loss: 0.2134 - accuracy: 0.9214 - val_loss: 2.7328 - val_accuracy: 0.3037 - lr: 2.5000e-04\n",
            "Epoch 32/150\n",
            "183/183 [==============================] - 6s 32ms/step - loss: 0.2093 - accuracy: 0.9218 - val_loss: 2.8724 - val_accuracy: 0.2699 - lr: 2.5000e-04\n",
            "Epoch 33/150\n",
            "183/183 [==============================] - 6s 32ms/step - loss: 0.2032 - accuracy: 0.9259 - val_loss: 1.1644 - val_accuracy: 0.6043 - lr: 2.5000e-04\n",
            "Epoch 34/150\n",
            "181/183 [============================>.] - ETA: 0s - loss: 0.1874 - accuracy: 0.9285\n",
            "Epoch 34: ReduceLROnPlateau reducing learning rate to 0.0001250000059371814.\n",
            "183/183 [==============================] - 8s 42ms/step - loss: 0.1875 - accuracy: 0.9283 - val_loss: 1.2037 - val_accuracy: 0.6380 - lr: 2.5000e-04\n",
            "Epoch 35/150\n",
            "183/183 [==============================] - 6s 32ms/step - loss: 0.1521 - accuracy: 0.9464 - val_loss: 1.1549 - val_accuracy: 0.6779 - lr: 1.2500e-04\n",
            "Epoch 36/150\n",
            "183/183 [==============================] - 5s 27ms/step - loss: 0.1534 - accuracy: 0.9426 - val_loss: 1.9050 - val_accuracy: 0.4969 - lr: 1.2500e-04\n",
            "Epoch 37/150\n",
            "183/183 [==============================] - 5s 29ms/step - loss: 0.1564 - accuracy: 0.9433 - val_loss: 0.8953 - val_accuracy: 0.6994 - lr: 1.2500e-04\n",
            "Epoch 38/150\n",
            "183/183 [==============================] - 5s 25ms/step - loss: 0.1292 - accuracy: 0.9559 - val_loss: 0.3254 - val_accuracy: 0.8742 - lr: 1.2500e-04\n",
            "Epoch 39/150\n",
            "183/183 [==============================] - 5s 27ms/step - loss: 0.1489 - accuracy: 0.9426 - val_loss: 0.8851 - val_accuracy: 0.7485 - lr: 1.2500e-04\n",
            "Epoch 40/150\n",
            "183/183 [==============================] - 4s 22ms/step - loss: 0.1365 - accuracy: 0.9494 - val_loss: 1.3449 - val_accuracy: 0.6656 - lr: 1.2500e-04\n",
            "Epoch 41/150\n",
            "183/183 [==============================] - 5s 26ms/step - loss: 0.1279 - accuracy: 0.9552 - val_loss: 1.6549 - val_accuracy: 0.4356 - lr: 1.2500e-04\n",
            "Epoch 42/150\n",
            "183/183 [==============================] - 5s 25ms/step - loss: 0.1273 - accuracy: 0.9542 - val_loss: 0.5829 - val_accuracy: 0.7761 - lr: 1.2500e-04\n",
            "Epoch 43/150\n",
            "183/183 [==============================] - 4s 22ms/step - loss: 0.1289 - accuracy: 0.9552 - val_loss: 0.7388 - val_accuracy: 0.8006 - lr: 1.2500e-04\n",
            "Epoch 44/150\n",
            "183/183 [==============================] - 4s 22ms/step - loss: 0.1111 - accuracy: 0.9597 - val_loss: 1.9290 - val_accuracy: 0.5675 - lr: 1.2500e-04\n",
            "Epoch 45/150\n",
            "183/183 [==============================] - ETA: 0s - loss: 0.1275 - accuracy: 0.9532\n",
            "Epoch 45: ReduceLROnPlateau reducing learning rate to 6.25000029685907e-05.\n",
            "183/183 [==============================] - 4s 22ms/step - loss: 0.1275 - accuracy: 0.9532 - val_loss: 2.5660 - val_accuracy: 0.5890 - lr: 1.2500e-04\n",
            "Epoch 46/150\n",
            "183/183 [==============================] - 4s 22ms/step - loss: 0.1276 - accuracy: 0.9546 - val_loss: 1.2076 - val_accuracy: 0.6994 - lr: 6.2500e-05\n",
            "Epoch 47/150\n",
            "183/183 [==============================] - 4s 22ms/step - loss: 0.1150 - accuracy: 0.9621 - val_loss: 0.3166 - val_accuracy: 0.8896 - lr: 6.2500e-05\n",
            "Epoch 48/150\n",
            "183/183 [==============================] - 4s 24ms/step - loss: 0.1207 - accuracy: 0.9580 - val_loss: 0.3758 - val_accuracy: 0.8804 - lr: 6.2500e-05\n",
            "Epoch 49/150\n",
            "183/183 [==============================] - 4s 21ms/step - loss: 0.1066 - accuracy: 0.9638 - val_loss: 0.4543 - val_accuracy: 0.8466 - lr: 6.2500e-05\n",
            "Epoch 50/150\n",
            "183/183 [==============================] - 4s 22ms/step - loss: 0.1096 - accuracy: 0.9570 - val_loss: 0.4850 - val_accuracy: 0.8282 - lr: 6.2500e-05\n",
            "Epoch 51/150\n",
            "183/183 [==============================] - 4s 22ms/step - loss: 0.0993 - accuracy: 0.9607 - val_loss: 0.1607 - val_accuracy: 0.9571 - lr: 6.2500e-05\n",
            "Epoch 52/150\n",
            "183/183 [==============================] - 4s 22ms/step - loss: 0.0987 - accuracy: 0.9645 - val_loss: 0.7908 - val_accuracy: 0.7791 - lr: 6.2500e-05\n",
            "Epoch 53/150\n",
            "183/183 [==============================] - 4s 21ms/step - loss: 0.1085 - accuracy: 0.9621 - val_loss: 1.5215 - val_accuracy: 0.7147 - lr: 6.2500e-05\n",
            "Epoch 54/150\n",
            "183/183 [==============================] - 4s 22ms/step - loss: 0.0965 - accuracy: 0.9652 - val_loss: 0.1705 - val_accuracy: 0.9356 - lr: 6.2500e-05\n",
            "Epoch 55/150\n",
            "183/183 [==============================] - 4s 22ms/step - loss: 0.1098 - accuracy: 0.9607 - val_loss: 0.3383 - val_accuracy: 0.8957 - lr: 6.2500e-05\n",
            "Epoch 56/150\n",
            "183/183 [==============================] - 4s 23ms/step - loss: 0.1007 - accuracy: 0.9655 - val_loss: 0.6875 - val_accuracy: 0.7730 - lr: 6.2500e-05\n",
            "Epoch 57/150\n",
            "183/183 [==============================] - 4s 22ms/step - loss: 0.1092 - accuracy: 0.9563 - val_loss: 0.5796 - val_accuracy: 0.8098 - lr: 6.2500e-05\n",
            "Epoch 58/150\n",
            "182/183 [============================>.] - ETA: 0s - loss: 0.0995 - accuracy: 0.9615\n",
            "Epoch 58: ReduceLROnPlateau reducing learning rate to 3.125000148429535e-05.\n",
            "183/183 [==============================] - 4s 22ms/step - loss: 0.0991 - accuracy: 0.9617 - val_loss: 0.2901 - val_accuracy: 0.9018 - lr: 6.2500e-05\n",
            "Epoch 59/150\n",
            "183/183 [==============================] - 4s 23ms/step - loss: 0.1026 - accuracy: 0.9648 - val_loss: 0.2662 - val_accuracy: 0.9049 - lr: 3.1250e-05\n",
            "Epoch 60/150\n",
            "183/183 [==============================] - 4s 22ms/step - loss: 0.0901 - accuracy: 0.9665 - val_loss: 0.1807 - val_accuracy: 0.9356 - lr: 3.1250e-05\n",
            "Epoch 61/150\n",
            "183/183 [==============================] - 4s 22ms/step - loss: 0.0877 - accuracy: 0.9686 - val_loss: 0.2545 - val_accuracy: 0.9202 - lr: 3.1250e-05\n",
            "Epoch 62/150\n",
            "183/183 [==============================] - 4s 22ms/step - loss: 0.1047 - accuracy: 0.9655 - val_loss: 0.1302 - val_accuracy: 0.9632 - lr: 3.1250e-05\n",
            "Epoch 63/150\n",
            "183/183 [==============================] - 9s 51ms/step - loss: 0.0904 - accuracy: 0.9696 - val_loss: 0.2851 - val_accuracy: 0.8957 - lr: 3.1250e-05\n",
            "Epoch 64/150\n",
            "183/183 [==============================] - 7s 36ms/step - loss: 0.0932 - accuracy: 0.9634 - val_loss: 0.1746 - val_accuracy: 0.9417 - lr: 3.1250e-05\n",
            "Epoch 65/150\n",
            "183/183 [==============================] - 6s 32ms/step - loss: 0.0837 - accuracy: 0.9693 - val_loss: 0.1308 - val_accuracy: 0.9571 - lr: 3.1250e-05\n",
            "Epoch 66/150\n",
            "183/183 [==============================] - 6s 32ms/step - loss: 0.1053 - accuracy: 0.9621 - val_loss: 0.3501 - val_accuracy: 0.8742 - lr: 3.1250e-05\n",
            "Epoch 67/150\n",
            "183/183 [==============================] - 6s 35ms/step - loss: 0.0766 - accuracy: 0.9734 - val_loss: 0.1868 - val_accuracy: 0.9356 - lr: 3.1250e-05\n",
            "Epoch 68/150\n",
            "183/183 [==============================] - 7s 35ms/step - loss: 0.0932 - accuracy: 0.9658 - val_loss: 0.6255 - val_accuracy: 0.8374 - lr: 3.1250e-05\n",
            "Epoch 69/150\n",
            "182/183 [============================>.] - ETA: 0s - loss: 0.0865 - accuracy: 0.9691\n",
            "Epoch 69: ReduceLROnPlateau reducing learning rate to 1.5625000742147677e-05.\n",
            "183/183 [==============================] - 7s 36ms/step - loss: 0.0866 - accuracy: 0.9693 - val_loss: 0.1795 - val_accuracy: 0.9479 - lr: 3.1250e-05\n",
            "Epoch 70/150\n",
            "183/183 [==============================] - 6s 34ms/step - loss: 0.0816 - accuracy: 0.9730 - val_loss: 0.1324 - val_accuracy: 0.9601 - lr: 1.5625e-05\n",
            "Epoch 71/150\n",
            "183/183 [==============================] - 6s 35ms/step - loss: 0.0867 - accuracy: 0.9689 - val_loss: 0.1311 - val_accuracy: 0.9571 - lr: 1.5625e-05\n",
            "Epoch 72/150\n",
            "183/183 [==============================] - 7s 40ms/step - loss: 0.0840 - accuracy: 0.9696 - val_loss: 0.0960 - val_accuracy: 0.9663 - lr: 1.5625e-05\n",
            "Epoch 73/150\n",
            "183/183 [==============================] - 6s 31ms/step - loss: 0.0803 - accuracy: 0.9740 - val_loss: 0.1437 - val_accuracy: 0.9540 - lr: 1.5625e-05\n",
            "Epoch 74/150\n",
            "183/183 [==============================] - 7s 37ms/step - loss: 0.0787 - accuracy: 0.9740 - val_loss: 0.1208 - val_accuracy: 0.9693 - lr: 1.5625e-05\n",
            "Epoch 75/150\n",
            "183/183 [==============================] - 7s 36ms/step - loss: 0.0943 - accuracy: 0.9675 - val_loss: 0.1108 - val_accuracy: 0.9663 - lr: 1.5625e-05\n",
            "Epoch 76/150\n",
            "183/183 [==============================] - 7s 40ms/step - loss: 0.0808 - accuracy: 0.9696 - val_loss: 0.1071 - val_accuracy: 0.9632 - lr: 1.5625e-05\n",
            "Epoch 77/150\n",
            "183/183 [==============================] - 6s 34ms/step - loss: 0.0803 - accuracy: 0.9734 - val_loss: 0.1230 - val_accuracy: 0.9632 - lr: 1.5625e-05\n",
            "Epoch 78/150\n",
            "183/183 [==============================] - 6s 33ms/step - loss: 0.0821 - accuracy: 0.9710 - val_loss: 0.1206 - val_accuracy: 0.9663 - lr: 1.5625e-05\n",
            "Epoch 79/150\n",
            "183/183 [==============================] - 6s 31ms/step - loss: 0.0793 - accuracy: 0.9706 - val_loss: 0.1038 - val_accuracy: 0.9724 - lr: 1.5625e-05\n",
            "Epoch 80/150\n",
            "183/183 [==============================] - 6s 34ms/step - loss: 0.0845 - accuracy: 0.9696 - val_loss: 0.1593 - val_accuracy: 0.9448 - lr: 1.5625e-05\n",
            "Epoch 81/150\n",
            "183/183 [==============================] - 6s 34ms/step - loss: 0.0716 - accuracy: 0.9778 - val_loss: 0.1162 - val_accuracy: 0.9632 - lr: 1.5625e-05\n",
            "Epoch 82/150\n",
            "183/183 [==============================] - 7s 36ms/step - loss: 0.0945 - accuracy: 0.9658 - val_loss: 0.1853 - val_accuracy: 0.9417 - lr: 1.5625e-05\n",
            "Epoch 83/150\n",
            "183/183 [==============================] - 6s 30ms/step - loss: 0.0763 - accuracy: 0.9737 - val_loss: 0.1816 - val_accuracy: 0.9172 - lr: 1.5625e-05\n",
            "Epoch 84/150\n",
            "183/183 [==============================] - 6s 31ms/step - loss: 0.0750 - accuracy: 0.9768 - val_loss: 0.1156 - val_accuracy: 0.9571 - lr: 1.5625e-05\n",
            "Epoch 85/150\n",
            "183/183 [==============================] - 6s 34ms/step - loss: 0.0939 - accuracy: 0.9675 - val_loss: 0.1395 - val_accuracy: 0.9417 - lr: 1.5625e-05\n",
            "Epoch 86/150\n",
            "182/183 [============================>.] - ETA: 0s - loss: 0.0759 - accuracy: 0.9732\n",
            "Epoch 86: ReduceLROnPlateau reducing learning rate to 7.812500371073838e-06.\n",
            "183/183 [==============================] - 7s 37ms/step - loss: 0.0759 - accuracy: 0.9734 - val_loss: 0.0926 - val_accuracy: 0.9724 - lr: 1.5625e-05\n",
            "Epoch 87/150\n",
            "183/183 [==============================] - 7s 36ms/step - loss: 0.0766 - accuracy: 0.9730 - val_loss: 0.1079 - val_accuracy: 0.9632 - lr: 7.8125e-06\n",
            "Epoch 88/150\n",
            "183/183 [==============================] - 6s 31ms/step - loss: 0.0863 - accuracy: 0.9720 - val_loss: 0.1149 - val_accuracy: 0.9601 - lr: 7.8125e-06\n",
            "Epoch 89/150\n",
            "183/183 [==============================] - 6s 31ms/step - loss: 0.0860 - accuracy: 0.9699 - val_loss: 0.1140 - val_accuracy: 0.9601 - lr: 7.8125e-06\n",
            "Epoch 90/150\n",
            "183/183 [==============================] - 6s 35ms/step - loss: 0.0885 - accuracy: 0.9710 - val_loss: 0.1061 - val_accuracy: 0.9663 - lr: 7.8125e-06\n",
            "Epoch 91/150\n",
            "183/183 [==============================] - 7s 39ms/step - loss: 0.0849 - accuracy: 0.9682 - val_loss: 0.1158 - val_accuracy: 0.9540 - lr: 7.8125e-06\n",
            "Epoch 92/150\n",
            "183/183 [==============================] - 7s 36ms/step - loss: 0.0843 - accuracy: 0.9723 - val_loss: 0.0921 - val_accuracy: 0.9540 - lr: 7.8125e-06\n",
            "Epoch 93/150\n",
            "182/183 [============================>.] - ETA: 0s - loss: 0.0904 - accuracy: 0.9646\n",
            "Epoch 93: ReduceLROnPlateau reducing learning rate to 3.906250185536919e-06.\n",
            "183/183 [==============================] - 6s 31ms/step - loss: 0.0906 - accuracy: 0.9645 - val_loss: 0.1133 - val_accuracy: 0.9540 - lr: 7.8125e-06\n",
            "Epoch 94/150\n",
            "183/183 [==============================] - 6s 31ms/step - loss: 0.0952 - accuracy: 0.9696 - val_loss: 0.1058 - val_accuracy: 0.9601 - lr: 3.9063e-06\n",
            "Epoch 95/150\n",
            "183/183 [==============================] - 7s 37ms/step - loss: 0.0766 - accuracy: 0.9734 - val_loss: 0.1136 - val_accuracy: 0.9571 - lr: 3.9063e-06\n",
            "Epoch 96/150\n",
            "183/183 [==============================] - 9s 48ms/step - loss: 0.0931 - accuracy: 0.9645 - val_loss: 0.1147 - val_accuracy: 0.9571 - lr: 3.9063e-06\n",
            "Epoch 97/150\n",
            "183/183 [==============================] - 5s 26ms/step - loss: 0.0853 - accuracy: 0.9686 - val_loss: 0.1039 - val_accuracy: 0.9571 - lr: 3.9063e-06\n",
            "Epoch 98/150\n",
            "183/183 [==============================] - 8s 45ms/step - loss: 0.0717 - accuracy: 0.9720 - val_loss: 0.1112 - val_accuracy: 0.9540 - lr: 3.9063e-06\n",
            "Epoch 99/150\n",
            "183/183 [==============================] - 6s 32ms/step - loss: 0.0711 - accuracy: 0.9771 - val_loss: 0.1078 - val_accuracy: 0.9601 - lr: 3.9063e-06\n",
            "Epoch 100/150\n",
            "183/183 [==============================] - ETA: 0s - loss: 0.0748 - accuracy: 0.9764\n",
            "Epoch 100: ReduceLROnPlateau reducing learning rate to 1.9531250927684596e-06.\n",
            "183/183 [==============================] - 7s 37ms/step - loss: 0.0748 - accuracy: 0.9764 - val_loss: 0.1087 - val_accuracy: 0.9632 - lr: 3.9063e-06\n",
            "Epoch 101/150\n",
            "183/183 [==============================] - 6s 34ms/step - loss: 0.0960 - accuracy: 0.9645 - val_loss: 0.1098 - val_accuracy: 0.9601 - lr: 1.9531e-06\n",
            "Epoch 102/150\n",
            "183/183 [==============================] - 7s 37ms/step - loss: 0.0723 - accuracy: 0.9727 - val_loss: 0.1119 - val_accuracy: 0.9540 - lr: 1.9531e-06\n",
            "Epoch 103/150\n",
            "183/183 [==============================] - 6s 34ms/step - loss: 0.0845 - accuracy: 0.9710 - val_loss: 0.1116 - val_accuracy: 0.9571 - lr: 1.9531e-06\n",
            "Epoch 104/150\n",
            "183/183 [==============================] - 6s 35ms/step - loss: 0.0888 - accuracy: 0.9699 - val_loss: 0.1075 - val_accuracy: 0.9571 - lr: 1.9531e-06\n",
            "Epoch 105/150\n",
            "183/183 [==============================] - 8s 42ms/step - loss: 0.0902 - accuracy: 0.9682 - val_loss: 0.1084 - val_accuracy: 0.9571 - lr: 1.9531e-06\n",
            "Epoch 106/150\n",
            "183/183 [==============================] - 7s 38ms/step - loss: 0.0748 - accuracy: 0.9747 - val_loss: 0.1100 - val_accuracy: 0.9571 - lr: 1.9531e-06\n",
            "Epoch 107/150\n",
            "183/183 [==============================] - ETA: 0s - loss: 0.0705 - accuracy: 0.9761\n",
            "Epoch 107: ReduceLROnPlateau reducing learning rate to 9.765625463842298e-07.\n",
            "183/183 [==============================] - 8s 46ms/step - loss: 0.0705 - accuracy: 0.9761 - val_loss: 0.1075 - val_accuracy: 0.9601 - lr: 1.9531e-06\n",
            "Epoch 108/150\n",
            "183/183 [==============================] - 6s 33ms/step - loss: 0.0940 - accuracy: 0.9641 - val_loss: 0.1093 - val_accuracy: 0.9571 - lr: 9.7656e-07\n",
            "Epoch 109/150\n",
            "183/183 [==============================] - 9s 52ms/step - loss: 0.0820 - accuracy: 0.9696 - val_loss: 0.1077 - val_accuracy: 0.9571 - lr: 9.7656e-07\n"
          ]
        }
      ],
      "source": [
        "from tensorflow.keras.callbacks import EarlyStopping, ModelCheckpoint, ReduceLROnPlateau\n",
        "\n",
        "learning_rate_reduction = ReduceLROnPlateau(\n",
        "    monitor='val_accuracy', \n",
        "    patience=7, \n",
        "    verbose=1, \n",
        "    factor=0.5, \n",
        "    min_lr=1e-8)\n",
        "\n",
        "early_stop = EarlyStopping(monitor='val_accuracy',\n",
        "                           patience=20,\n",
        "                           restore_best_weights=True)\n",
        "model_checkpoint = ModelCheckpoint('models/checkpoints/BidirecionalLSTM-cp.h5', save_best_only=True)\n",
        "\n",
        "\n",
        "history = model.fit(\n",
        "    X_train, y_train,\n",
        "    epochs=150,\n",
        "    batch_size=16,\n",
        "    validation_data=(X_validation, y_validation),\n",
        "    callbacks=[model_checkpoint, learning_rate_reduction, early_stop])"
      ]
    },
    {
      "cell_type": "code",
      "execution_count": 14,
      "metadata": {},
      "outputs": [],
      "source": [
        "# save model\n",
        "model.save('runtime_saves/models/BidirecionalLSTM.h5')"
      ]
    },
    {
      "cell_type": "code",
      "execution_count": 15,
      "metadata": {},
      "outputs": [],
      "source": [
        "from keras.models import load_model\n",
        "\n",
        "# Load the model\n",
        "model = load_model('runtime_saves/models/BidirecionalLSTM.h5')"
      ]
    },
    {
      "cell_type": "markdown",
      "metadata": {
        "id": "Ct_S460uGhxP"
      },
      "source": [
        "# **RESULTS AND EVALUATION**"
      ]
    },
    {
      "cell_type": "code",
      "execution_count": 16,
      "metadata": {},
      "outputs": [
        {
          "data": {
            "image/png": "[encoded data removed]",
            "text/plain": [
              "<Figure size 640x480 with 1 Axes>"
            ]
          },
          "metadata": {},
          "output_type": "display_data"
        },
        {
          "data": {
            "image/png": "[encoded data removed]",
            "text/plain": [
              "<Figure size 640x480 with 1 Axes>"
            ]
          },
          "metadata": {},
          "output_type": "display_data"
        }
      ],
      "source": [
        "import matplotlib.pyplot as plt\n",
        "\n",
        "# Extract the history from the training process\n",
        "acc = history.history['accuracy']\n",
        "val_acc = history.history['val_accuracy']\n",
        "loss = history.history['loss']\n",
        "val_loss = history.history['val_loss']\n",
        "epochs = range(1, len(acc) + 1)\n",
        "\n",
        "# Plot the training and validation accuracy\n",
        "plt.plot(epochs, acc, 'bo', label='Training acc')\n",
        "plt.plot(epochs, val_acc, 'b', label='Validation acc')\n",
        "plt.title('Training and validation accuracy')\n",
        "plt.legend()\n",
        "\n",
        "# Plot the training and validation loss\n",
        "plt.figure()\n",
        "plt.plot(epochs, loss, 'bo', label='Training loss')\n",
        "plt.plot(epochs, val_loss, 'b', label='Validation loss')\n",
        "plt.title('Training and validation loss')\n",
        "plt.legend()\n",
        "plt.show()"
      ]
    },
    {
      "cell_type": "markdown",
      "metadata": {},
      "source": [
        "# Confusion Matrix"
      ]
    },
    {
      "cell_type": "code",
      "execution_count": 17,
      "metadata": {},
      "outputs": [
        {
          "name": "stdout",
          "output_type": "stream",
          "text": [
            "26/26 [==============================] - 3s 2ms/step - loss: 0.0000e+00 - accuracy: 0.0000e+00\n",
            "Loss: 0.0\n",
            "Accuracy: 0.0\n",
            "26/26 [==============================] - 5s 11ms/step\n",
            "[[200   2   4]\n",
            " [  5 241   8]\n",
            " [  3   9 342]]\n"
          ]
        },
        {
          "data": {
            "image/png": "[encoded data removed]",
            "text/plain": [
              "<Figure size 1000x600 with 2 Axes>"
            ]
          },
          "metadata": {},
          "output_type": "display_data"
        }
      ],
      "source": [
        "from sklearn import metrics\n",
        "import seaborn as sns\n",
        "import matplotlib.pyplot as plt\n",
        "\n",
        "y_pred = model.evaluate(X_test)\n",
        "print(f'Loss: {y_pred[0]}')\n",
        "print(f'Accuracy: {y_pred[1]}')\n",
        "\n",
        "# Simple confusion matrix\n",
        "pred = model.predict(X_test)\n",
        "pred = np.argmax(pred, axis=1)\n",
        "\n",
        "\n",
        "conf_matrix = metrics.confusion_matrix(y_test, pred)\n",
        "print(conf_matrix)\n",
        "\n",
        "# Graphical confusion matrix\n",
        "conf_matrix = metrics.confusion_matrix(y_test, pred)\n",
        "\n",
        "plt.figure(figsize=(10, 6))\n",
        "sns.heatmap(conf_matrix, annot=True, fmt='d', cmap='Blues', xticklabels=label_names, yticklabels=label_names)\n",
        "plt.xlabel('Predicted')\n",
        "plt.ylabel('Actual')\n",
        "plt.title('Confusion Matrix')\n",
        "plt.show()"
      ]
    },
    {
      "cell_type": "markdown",
      "metadata": {},
      "source": [
        "\n",
        "\n",
        "\n",
        "\n",
        "\n",
        "\n",
        "\n",
        "\n",
        "\n",
        "\n",
        "\n",
        "\n",
        "\n",
        "\n",
        "\n",
        "\n",
        "\n",
        "\n",
        "\n",
        "\n",
        "\n",
        "\n",
        "## Performance Metrics"
      ]
    },
    {
      "cell_type": "markdown",
      "metadata": {},
      "source": [
        "- Accuracy  $\\large = \\frac{Correct~Predictions}{All~Predictions}$\n",
        "- Precision for a given class  $\\large = \\frac{Correct~Predictions~for~the~Class}{All~Predictions~for~the~Class}$   \n",
        "- Recall for a given class  $\\large = \\frac{Correct~Predictions~for~the~Class}{All~Instances~of~the~Class}$  \n",
        "- F1 Score $\\large = \\frac{2 \\times \\text{Precision} \\times \\text{Recall}}{\\text{Precision} + \\text{Recall}}$  \n",
        "- Hamming Loss $\\large = \\frac{1}{N} \\sum_{i=1}^{N} \\frac{\\text{Incorrect Labels}}{\\text{Total Labels}}$  \n",
        "- Jaccard Score $\\large = \\frac{|Y_{pred} \\cap Y_{true}|}{|Y_{pred} \\cup Y_{true}|}$  \n",
        "\n",
        "\n",
        "\n",
        "- Averaging is a way to get a single number for multiclass. Depending on the importance one wants to give to minority classes: \n",
        "    - Macro average: Compute the metric for each class, and returns the average without considering the proportion for each class in the dataset. For instance:\n",
        "\n",
        "        Precision = $\\large = \\frac{P_{class 1} ~+~ P_{class 2} ~+~ ... ~+~ P_{class n}}{N}$   \n",
        "    \n",
        "    - Weighted average: Compute the metric for each class, and returns the average considering the proportion (weighted) for each class in the dataset. For instance:\n",
        "\n",
        "        Precision = $\\large = \\frac{N_1 ~*~ P_{class 1} ~+~ N_2 ~*~ P_{class 2} ~+~ ... ~+~ N_n ~*~ P_{class n}}{N}$"
      ]
    },
    {
      "cell_type": "code",
      "execution_count": 18,
      "metadata": {},
      "outputs": [
        {
          "name": "stdout",
          "output_type": "stream",
          "text": [
            "Accuracy : 96.19%\n",
            "Precision - Macro: 96.13%\n",
            "Recall - Macro: 96.19%\n",
            "F1-score - Macro: 96.16%\n",
            "Precision - Weighted: 96.19%\n",
            "Recall - Weighted: 96.19%\n",
            "F1-score - Weighted: 96.19%\n"
          ]
        }
      ],
      "source": [
        "from sklearn.metrics import accuracy_score, precision_score, recall_score, f1_score\n",
        "\n",
        "# Calculates performance metrics\n",
        "acc = accuracy_score(y_true =  y_test, y_pred = pred)\n",
        "print(f'Accuracy : {np.round(acc*100,2)}%')\n",
        "          \n",
        "precision = precision_score(y_true =  y_test, y_pred = pred, average='macro')\n",
        "print(f'Precision - Macro: {np.round(precision*100,2)}%')\n",
        "\n",
        "recall = recall_score(y_true =  y_test, y_pred = pred, average='macro')\n",
        "print(f'Recall - Macro: {np.round(recall*100,2)}%')\n",
        "\n",
        "f1 = f1_score(y_true =  y_test, y_pred = pred, average='macro')\n",
        "print(f'F1-score - Macro: {np.round(f1*100,2)}%')\n",
        "\n",
        "precision = precision_score(y_true =  y_test, y_pred = pred, average='weighted')\n",
        "print(f'Precision - Weighted: {np.round(precision*100,2)}%')\n",
        "\n",
        "recall = recall_score(y_true =  y_test, y_pred = pred, average='weighted')\n",
        "print(f'Recall - Weighted: {np.round(recall*100,2)}%')\n",
        "\n",
        "f1 = f1_score(y_true =  y_test, y_pred = pred, average='weighted')\n",
        "print(f'F1-score - Weighted: {np.round(f1*100,2)}%')"
      ]
    }
  ],
  "metadata": {
    "accelerator": "GPU",
    "colab": {
      "gpuType": "T4",
      "provenance": []
    },
    "kernelspec": {
      "display_name": "Python 3",
      "name": "python3"
    },
    "language_info": {
      "codemirror_mode": {
        "name": "ipython",
        "version": 3
      },
      "file_extension": ".py",
      "mimetype": "text/x-python",
      "name": "python",
      "nbconvert_exporter": "python",
      "pygments_lexer": "ipython3",
      "version": "3.11.4"
    }
  },
  "nbformat": 4,
  "nbformat_minor": 0
}
