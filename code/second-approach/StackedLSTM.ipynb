{
  "cells": [
    {
      "cell_type": "markdown",
      "metadata": {},
      "source": [
        "# 2023/24 - LSTM\n",
        "\n",
        "This notebook is a implementation of a **LSTM** for Driving Behavior Classification. The model is trained on the [IPL-Dataset](http://www.robesafe.uah.es/personal/eduardo.romera/uah-driveset/) dataset. \n",
        "\n",
        "The dataset contains recorded driving scenarios like Intersections, Acceleration, Brake. The dataset is divided into 3 classes: **Slow, Normal and Aggressive**.\n",
        "\n",
        "Each driving scenario is represented by a sequence of sensor data. The sensor data is collected from the following sensors:\n",
        "- Accelerometer\n",
        "- Gyroscope\n",
        "- GPS\n"
      ]
    },
    {
      "cell_type": "markdown",
      "metadata": {
        "id": "RzTK7gM5ydFL"
      },
      "source": [
        "## Libraries"
      ]
    },
    {
      "cell_type": "markdown",
      "metadata": {},
      "source": [
        "## Directories"
      ]
    },
    {
      "cell_type": "code",
      "execution_count": 14,
      "metadata": {},
      "outputs": [
        {
          "name": "stdout",
          "output_type": "stream",
          "text": [
            "Root directory: c:\\codeUni\\ProjetoInformatico\\FinalProject-AI-DrivingClassification\n",
            "Datasets directory: c:\\codeUni\\ProjetoInformatico\\FinalProject-AI-DrivingClassification\\datasets\n",
            "Dataset directory: c:\\codeUni\\ProjetoInformatico\\FinalProject-AI-DrivingClassification\\datasets\\IPL-Dataset\n"
          ]
        }
      ],
      "source": [
        "import os\n",
        "\n",
        "# Make auxiliar folders\n",
        "if not os.path.exists('runtime_saves'):\n",
        "    os.makedirs('runtime_saves')\n",
        "if not os.path.exists('runtime_saves/models'):\n",
        "    os.makedirs('runtime_saves/models')\n",
        "if not os.path.exists('runtime_saves/train&test'):\n",
        "    os.makedirs('runtime_saves/train&test')\n",
        "    \n",
        "current_dir = os.getcwd()\n",
        "\n",
        "root_dir = os.path.abspath(os.path.join(current_dir, os.pardir, os.pardir))\n",
        "\n",
        "datasets_dir = os.path.join(root_dir, 'datasets')\n",
        "\n",
        "dataset_dir = os.path.join(datasets_dir, 'IPL-Dataset')\n",
        "\n",
        "\n",
        "print(f'Root directory: {root_dir}')\n",
        "print(f'Datasets directory: {datasets_dir}')\n",
        "print(f'Dataset directory: {dataset_dir}')"
      ]
    },
    {
      "cell_type": "markdown",
      "metadata": {},
      "source": [
        "# **Data Preprocessing**\n",
        "\n",
        "## Data structure:\n",
        "- Acceleration (m/s2): X, Y, Z Axis \n",
        "\n",
        "- Gyroscope (°/s): X, Y, Z Axis\n",
        "\n",
        "- GPS: Latitude and Longitude "
      ]
    },
    {
      "cell_type": "markdown",
      "metadata": {},
      "source": [
        "## Load dataset and apply rolling window"
      ]
    },
    {
      "cell_type": "code",
      "execution_count": 15,
      "metadata": {},
      "outputs": [
        {
          "name": "stderr",
          "output_type": "stream",
          "text": [
            "C:\\Users\\PDesktop\\AppData\\Local\\Temp\\ipykernel_10392\\1933527817.py:71: FutureWarning: The behavior of DataFrame concatenation with empty or all-NA entries is deprecated. In a future version, this will no longer exclude empty or all-NA columns when determining the result dtypes. To retain the old behavior, exclude the relevant entries before the concat operation.\n",
            "  data_bmw = pd.concat([data_bmw, file_data.copy()], axis=0)\n",
            "C:\\Users\\PDesktop\\AppData\\Local\\Temp\\ipykernel_10392\\1933527817.py:78: FutureWarning: The behavior of DataFrame concatenation with empty or all-NA entries is deprecated. In a future version, this will no longer exclude empty or all-NA columns when determining the result dtypes. To retain the old behavior, exclude the relevant entries before the concat operation.\n",
            "  data_honda = pd.concat([data_honda, file_data.copy()], axis=0)\n"
          ]
        },
        {
          "name": "stdout",
          "output_type": "stream",
          "text": [
            "BMW Data shape: (3001, 8)\n",
            "BMW Labels shape: 3001\n",
            "Honda Data shape: (1081, 8)\n",
            "Honda Labels shape: 1081\n",
            "BMW Labels: ['aggressive' 'normal' 'slow']\n",
            "Honda Labels: ['aggressive' 'normal' 'slow']\n"
          ]
        }
      ],
      "source": [
        "import json\n",
        "import pandas as pd\n",
        "import numpy as np\n",
        "\n",
        "def apply_rolling_window(df):\n",
        "    \"\"\"\n",
        "    Apply a centered rolling mean with a window of 3 to each column of the DataFrame.\n",
        "    For each value, the function computes the mean of the value itself, the one before, and the one after.\n",
        "    \"\"\"\n",
        "    df = df.rolling(window=3, center=True, min_periods=1).mean()    \n",
        "    \n",
        "    return df\n",
        "\n",
        "directories = ['Acceleration', 'Brake', 'Intersection']\n",
        "column_names = ['accelerometerXAxis', 'accelerometerYAxis', 'accelerometerZAxis', 'gyroscopeXAxis', 'gyroscopeYAxis', 'gyroscopeZAxis', 'Latitude', 'Longitude']\n",
        "\n",
        "data_bmw = pd.DataFrame(columns=column_names)\n",
        "labels_bmw = []\n",
        "data_honda = pd.DataFrame(columns=column_names)\n",
        "labels_honda = []\n",
        "\n",
        "label_names = []\n",
        "\n",
        "\n",
        "# TODO Import other folders too\n",
        "\n",
        "for directory in directories:\n",
        "    for root, dirs, files in os.walk(os.path.join(dataset_dir, directory)):\n",
        "        if 'turn 90 degree constant speed' in root: # Skip this directory\n",
        "            continue\n",
        "        for file in files:\n",
        "            if file.endswith('.json'):\n",
        "                car = os.path.basename(root).split()[0].upper()            \n",
        "                label = os.path.basename(os.path.dirname(root))\n",
        "                # print(f'Processing: {car} : {label} : {directory} : {file}')\n",
        "                \n",
        "                file_data = json.load(open(os.path.join(root, file)))\n",
        "                file_data = file_data['capturedData']\n",
        "                file_data = pd.DataFrame(file_data)\n",
        "                \n",
        "                # Rename speed Km/h to speed\n",
        "                file_data.rename(columns={'speed Km/h': 'speed'}, inplace=True)\n",
        "                file_data.rename(columns={'speedKmh': 'speed'}, inplace=True)\n",
        "                \n",
        "                file_data.drop(['speed'], axis=1, inplace=True, errors='ignore')\n",
        "                \n",
        "                 # Drop timestamp\n",
        "                file_data = file_data.drop(['createdAt'], axis=1, errors='ignore')\n",
        "                file_data = file_data.drop(['timestamp'], axis=1, errors='ignore')   \n",
        "                file_data = file_data.drop(['id'], axis=1, errors='ignore')\n",
        "                \n",
        "                # Apply rolling window\n",
        "                file_data_rolling = apply_rolling_window(file_data[['accelerometerXAxis', 'accelerometerYAxis', 'accelerometerZAxis', 'gyroscopeXAxis', 'gyroscopeYAxis', 'gyroscopeZAxis']])\n",
        "                \n",
        "                file_data[['accelerometerXAxis', 'accelerometerYAxis', 'accelerometerZAxis', 'gyroscopeXAxis', 'gyroscopeYAxis', 'gyroscopeZAxis']] = file_data_rolling\n",
        "    \n",
        "                labels = np.full((file_data.shape[0], 1), label)\n",
        "                \n",
        "                column_names = file_data.columns\n",
        "                # print(f'Column names: {column_names}')\n",
        "                \n",
        "                # If data is empty, create a new dataframe with the column names\n",
        "                if data_bmw.empty:\n",
        "                    data_bmw = pd.DataFrame(columns=column_names)\n",
        "                    # print(f'Data BMW shape: {data_bmw.shape}')\n",
        "                if data_honda.empty:\n",
        "                    data_honda = pd.DataFrame(columns=column_names)\n",
        "                    # print(f'Data HONDA shape: {data_honda.shape}')\n",
        "                \n",
        "                if car == 'BMW':                                      \n",
        "                    data_bmw = pd.concat([data_bmw, file_data.copy()], axis=0)\n",
        "                    # print(f'Data BMW shape: {data_bmw.shape}')\n",
        "                    \n",
        "                    labels_bmw += labels.tolist()\n",
        "                    # print(f'Labels BMW shape: {len(labels_bmw)}')\n",
        "                    \n",
        "                elif car == 'HONDA':\n",
        "                    data_honda = pd.concat([data_honda, file_data.copy()], axis=0)\n",
        "                    # print(f'Data HONDA shape: {data_honda.shape}')\n",
        "                    \n",
        "                    labels_honda += labels.tolist()\n",
        "                    # print(f'Labels HONDA shape: {len(labels_honda)}')\n",
        "                    \n",
        "# Show data shapes      \n",
        "print(f'BMW Data shape: {data_bmw.shape}')\n",
        "print(f'BMW Labels shape: {len(labels_bmw)}')\n",
        "print(f'Honda Data shape: {data_honda.shape}')\n",
        "print(f'Honda Labels shape: {len(labels_honda)}')\n",
        "\n",
        "# Show unique labels\n",
        "print(f'BMW Labels: {np.unique(labels_bmw)}')\n",
        "print(f'Honda Labels: {np.unique(labels_honda)}')\n",
        "label_names = np.unique(labels_bmw)\n",
        "\n",
        "# Save Data to CSV - runtime_saves folder\n",
        "data_bmw.to_csv('runtime_saves/bmw_data.csv', index=False)\n",
        "data_honda.to_csv('runtime_saves/honda_data.csv', index=False)\n",
        "labels_bmw = np.array(labels_bmw)\n",
        "labels_honda = np.array(labels_honda)\n",
        "\n",
        "# Save Labels to CSV - runtime_saves folder\n",
        "np.savetxt('runtime_saves/bmw_labels.csv', labels_bmw, delimiter=',', fmt='%s')\n",
        "np.savetxt('runtime_saves/honda_labels.csv', labels_honda, delimiter=',', fmt='%s')"
      ]
    },
    {
      "cell_type": "code",
      "execution_count": 16,
      "metadata": {
        "id": "B5wPPy3OiYj9"
      },
      "outputs": [],
      "source": [
        "import numpy as np\n",
        "import pandas as pd\n",
        "\n",
        "# Load the dataset into a DataFrame\n",
        "df_bmw = pd.read_csv('runtime_saves/bmw_data.csv')\n",
        "df_honda = pd.read_csv('runtime_saves/honda_data.csv')\n",
        "\n",
        "# Load the labels into a NumPy array\n",
        "labels_bmw = np.loadtxt('runtime_saves/bmw_labels.csv', delimiter=',', dtype=str)\n",
        "labels_honda = np.loadtxt('runtime_saves/honda_labels.csv', delimiter=',', dtype=str)\n",
        "\n",
        "labels = np.concatenate([labels_bmw, labels_honda], axis=0)"
      ]
    },
    {
      "cell_type": "markdown",
      "metadata": {},
      "source": [
        "## Show Labels"
      ]
    },
    {
      "cell_type": "code",
      "execution_count": 17,
      "metadata": {},
      "outputs": [
        {
          "data": {
            "image/png": "[encoded data removed]",
            "text/plain": [
              "<Figure size 1200x600 with 1 Axes>"
            ]
          },
          "metadata": {},
          "output_type": "display_data"
        }
      ],
      "source": [
        "import matplotlib.pyplot as plt\n",
        "import seaborn as sns\n",
        "\n",
        "labels = pd.Series(labels)\n",
        "\n",
        "# plot the count of each label\n",
        "plt.figure(figsize=(12, 6))\n",
        "sns.countplot(labels)\n",
        "plt.title('Count of each label')\n",
        "plt.show()"
      ]
    },
    {
      "cell_type": "markdown",
      "metadata": {},
      "source": [
        "## Label Encoding"
      ]
    },
    {
      "cell_type": "code",
      "execution_count": 18,
      "metadata": {},
      "outputs": [],
      "source": [
        "from sklearn.preprocessing import LabelEncoder\n",
        "\n",
        "label_encoder = LabelEncoder()\n",
        "\n",
        "labels = label_encoder.fit_transform(labels)"
      ]
    },
    {
      "cell_type": "markdown",
      "metadata": {},
      "source": [
        "## Normalization"
      ]
    },
    {
      "cell_type": "code",
      "execution_count": 19,
      "metadata": {},
      "outputs": [],
      "source": [
        "def normalize_between_0_and_1(data, columns):\n",
        "    for column in columns:\n",
        "        if column not in data.columns:\n",
        "            print(f\"[WARNING] {column} not found in DataFrame.\")\n",
        "            continue\n",
        "        else:\n",
        "            max_value = np.max(data[column])\n",
        "            min_value = np.min(data[column])\n",
        "            data[column] = (data[column] - min_value) / (max_value - min_value)\n",
        "    return data\n",
        "\n",
        "columns_to_normalize = ['accelerometerXAxis', 'accelerometerYAxis', 'accelerometerZAxis', 'gyroscopeXAxis', 'gyroscopeYAxis', 'gyroscopeZAxis']\n",
        "\n",
        "\n",
        "df_bmw = normalize_between_0_and_1(df_bmw, columns_to_normalize)\n",
        "df_honda = normalize_between_0_and_1(df_honda, columns_to_normalize)"
      ]
    },
    {
      "cell_type": "markdown",
      "metadata": {},
      "source": [
        "## Concatenate Data"
      ]
    },
    {
      "cell_type": "code",
      "execution_count": 20,
      "metadata": {},
      "outputs": [],
      "source": [
        "df = pd.concat([df_bmw, df_honda], axis=0)\n",
        "\n",
        "# create label column in the dataframe\n",
        "df['label'] = labels"
      ]
    },
    {
      "cell_type": "markdown",
      "metadata": {},
      "source": [
        "## Create Sequences"
      ]
    },
    {
      "cell_type": "code",
      "execution_count": 21,
      "metadata": {},
      "outputs": [
        {
          "name": "stdout",
          "output_type": "stream",
          "text": [
            "X shape: (4067, 16, 8)\n",
            "y shape: (4067,)\n"
          ]
        }
      ],
      "source": [
        "import numpy as np\n",
        "from scipy.stats import mode\n",
        "\n",
        "def create_dataset(data, labels, window_size=16, step_size=2):\n",
        "    X, y = [], []\n",
        "    for i in range(0, len(data) - window_size + 1, step_size):\n",
        "        # Create the window of data\n",
        "        X.append(data[i:i + window_size].values)        \n",
        "        \n",
        "         # Find the most frequent string label in the current window\n",
        "        window_labels = labels[i:i + window_size]\n",
        "        most_frequent_label = mode(window_labels, axis=None)[0]\n",
        "        \n",
        "        # Add the most frequent label as the label of the current window\n",
        "        y.append(most_frequent_label)\n",
        "            \n",
        "    return np.array(X), np.array(y)\n",
        "\n",
        "time_steps = 16\n",
        "step_size = 1\n",
        "\n",
        "X, y = create_dataset(\n",
        "    df[['accelerometerXAxis', 'accelerometerYAxis', 'accelerometerZAxis',\n",
        "                   'gyroscopeXAxis', 'gyroscopeYAxis', 'gyroscopeZAxis', 'Latitude', 'Longitude']],\n",
        "    df['label'],\n",
        "    window_size=time_steps,\n",
        "    step_size=step_size    \n",
        ")\n",
        "\n",
        "print(f'X shape: {X.shape}')\n",
        "print(f'y shape: {y.shape}')\n",
        "\n",
        "# save the data to a npy\n",
        "np.save('runtime_saves/X.npy', X)\n",
        "np.savetxt('runtime_saves/y.csv', y, delimiter=',', fmt='%d')"
      ]
    },
    {
      "cell_type": "markdown",
      "metadata": {},
      "source": [
        "# Split Dataset for Model Training\n",
        "- 70% Training\n",
        "- 20% Test\n",
        "- 10% Validation"
      ]
    },
    {
      "cell_type": "code",
      "execution_count": 22,
      "metadata": {},
      "outputs": [
        {
          "name": "stdout",
          "output_type": "stream",
          "text": [
            "X_train shape: (2927, 16, 8)\n",
            "y_train shape: (2927,)\n",
            "\n",
            "X_test shape: (814, 16, 8)\n",
            "y_test shape: (814,)\n",
            "\n",
            "X_validation shape: (326, 16, 8)\n",
            "y_validation shape: (326,)\n"
          ]
        }
      ],
      "source": [
        "from sklearn.model_selection import train_test_split\n",
        "\n",
        "X_train, X_test, y_train, y_test = train_test_split(X, y, test_size=0.2, shuffle=True, stratify=y, random_state=23)\n",
        "X_train, X_validation, y_train, y_validation = train_test_split(X_train, y_train, test_size=0.1, shuffle=True, stratify=y_train, random_state=23)\n",
        "\n",
        "print(f'X_train shape: {X_train.shape}')\n",
        "print(f'y_train shape: {y_train.shape}\\n')\n",
        "print(f'X_test shape: {X_test.shape}')\n",
        "print(f'y_test shape: {y_test.shape}\\n')\n",
        "print(f'X_validation shape: {X_validation.shape}')\n",
        "print(f'y_validation shape: {y_validation.shape}')\n"
      ]
    },
    {
      "cell_type": "code",
      "execution_count": 23,
      "metadata": {},
      "outputs": [],
      "source": [
        "# from tensorflow.keras import backend as K\n",
        "\n",
        "# K.clear_session()"
      ]
    },
    {
      "cell_type": "markdown",
      "metadata": {},
      "source": [
        "# **MODEL ARCHITECTURE** - Stacked LSTM"
      ]
    },
    {
      "cell_type": "code",
      "execution_count": 24,
      "metadata": {},
      "outputs": [
        {
          "name": "stdout",
          "output_type": "stream",
          "text": [
            "Model: \"model_1\"\n",
            "_________________________________________________________________\n",
            " Layer (type)                Output Shape              Param #   \n",
            "=================================================================\n",
            " input_2 (InputLayer)        [(None, 16, 8)]           0         \n",
            "                                                                 \n",
            " lstm_3 (LSTM)               (None, 16, 32)            5248      \n",
            "                                                                 \n",
            " batch_normalization_3 (Bat  (None, 16, 32)            128       \n",
            " chNormalization)                                                \n",
            "                                                                 \n",
            " lstm_4 (LSTM)               (None, 16, 32)            8320      \n",
            "                                                                 \n",
            " batch_normalization_4 (Bat  (None, 16, 32)            128       \n",
            " chNormalization)                                                \n",
            "                                                                 \n",
            " lstm_5 (LSTM)               (None, 32)                8320      \n",
            "                                                                 \n",
            " batch_normalization_5 (Bat  (None, 32)                128       \n",
            " chNormalization)                                                \n",
            "                                                                 \n",
            " dropout_1 (Dropout)         (None, 32)                0         \n",
            "                                                                 \n",
            " dense_1 (Dense)             (None, 3)                 99        \n",
            "                                                                 \n",
            "=================================================================\n",
            "Total params: 22371 (87.39 KB)\n",
            "Trainable params: 22179 (86.64 KB)\n",
            "Non-trainable params: 192 (768.00 Byte)\n",
            "_________________________________________________________________\n"
          ]
        }
      ],
      "source": [
        "from tensorflow import keras\n",
        "from tensorflow.keras.layers import LSTM, Dense, Dropout, BatchNormalization\n",
        "\n",
        "# Inputs\n",
        "input_shape = (X_train.shape[1], X_train.shape[2])\n",
        "inputs = keras.Input(shape=input_shape)\n",
        "\n",
        "# Architecture\n",
        "x = LSTM(32, return_sequences=True)(inputs)\n",
        "x = BatchNormalization()(x)\n",
        "\n",
        "x = LSTM(32, return_sequences=True)(x)\n",
        "x = BatchNormalization()(x)\n",
        "\n",
        "x = LSTM(32)(x)\n",
        "x = BatchNormalization()(x)\n",
        "x = Dropout(0.4)(x)\n",
        "\n",
        "outputs = Dense(3, activation='softmax')(x)\n",
        "\n",
        "# Create the model\n",
        "model = keras.Model(inputs=inputs, outputs=outputs)\n",
        "\n",
        "model.summary()"
      ]
    },
    {
      "cell_type": "markdown",
      "metadata": {},
      "source": [
        "## Compile Model"
      ]
    },
    {
      "cell_type": "code",
      "execution_count": 25,
      "metadata": {},
      "outputs": [],
      "source": [
        "from tensorflow.keras import optimizers\n",
        "\n",
        "model.compile(optimizer=optimizers.Adam(learning_rate=0.01), loss='sparse_categorical_crossentropy', metrics=['accuracy'])\n",
        "\n",
        "# model.compile(optimizer='adam', loss='sparse_categorical_crossentropy', metrics=['accuracy'])"
      ]
    },
    {
      "cell_type": "markdown",
      "metadata": {},
      "source": [
        "## Train Model"
      ]
    },
    {
      "cell_type": "code",
      "execution_count": 26,
      "metadata": {},
      "outputs": [
        {
          "name": "stdout",
          "output_type": "stream",
          "text": [
            "Epoch 1/150\n",
            "183/183 [==============================] - 20s 32ms/step - loss: 1.1105 - accuracy: 0.4380 - val_loss: 1.0969 - val_accuracy: 0.3098 - lr: 0.0100\n",
            "Epoch 2/150\n",
            "  4/183 [..............................] - ETA: 3s - loss: 1.1131 - accuracy: 0.3750"
          ]
        },
        {
          "name": "stderr",
          "output_type": "stream",
          "text": [
            "c:\\Users\\PDesktop\\AppData\\Local\\Programs\\Python\\Python311\\Lib\\site-packages\\keras\\src\\engine\\training.py:3103: UserWarning: You are saving your model as an HDF5 file via `model.save()`. This file format is considered legacy. We recommend using instead the native Keras format, e.g. `model.save('my_model.keras')`.\n",
            "  saving_api.save_model(\n"
          ]
        },
        {
          "name": "stdout",
          "output_type": "stream",
          "text": [
            "183/183 [==============================] - 4s 23ms/step - loss: 1.0536 - accuracy: 0.4786 - val_loss: 1.2133 - val_accuracy: 0.4356 - lr: 0.0100\n",
            "Epoch 3/150\n",
            "183/183 [==============================] - 5s 25ms/step - loss: 1.0603 - accuracy: 0.4496 - val_loss: 1.7418 - val_accuracy: 0.4356 - lr: 0.0100\n",
            "Epoch 4/150\n",
            "183/183 [==============================] - 4s 24ms/step - loss: 1.0625 - accuracy: 0.4496 - val_loss: 1.1773 - val_accuracy: 0.4356 - lr: 0.0100\n",
            "Epoch 5/150\n",
            "183/183 [==============================] - 5s 27ms/step - loss: 1.0450 - accuracy: 0.4739 - val_loss: 4.4595 - val_accuracy: 0.4356 - lr: 0.0100\n",
            "Epoch 6/150\n",
            "183/183 [==============================] - 4s 20ms/step - loss: 1.0479 - accuracy: 0.4780 - val_loss: 20.7412 - val_accuracy: 0.2546 - lr: 0.0100\n",
            "Epoch 7/150\n",
            "183/183 [==============================] - 4s 20ms/step - loss: 1.0439 - accuracy: 0.4783 - val_loss: 8.9767 - val_accuracy: 0.2546 - lr: 0.0100\n",
            "Epoch 8/150\n",
            "183/183 [==============================] - ETA: 0s - loss: 1.0435 - accuracy: 0.4827\n",
            "Epoch 8: ReduceLROnPlateau reducing learning rate to 0.004999999888241291.\n",
            "183/183 [==============================] - 5s 27ms/step - loss: 1.0435 - accuracy: 0.4827 - val_loss: 1.5416 - val_accuracy: 0.4049 - lr: 0.0100\n",
            "Epoch 9/150\n",
            "183/183 [==============================] - 4s 20ms/step - loss: 1.0297 - accuracy: 0.4961 - val_loss: 1.3874 - val_accuracy: 0.2546 - lr: 0.0050\n",
            "Epoch 10/150\n",
            "183/183 [==============================] - 5s 27ms/step - loss: 1.0090 - accuracy: 0.5077 - val_loss: 8.6364 - val_accuracy: 0.3098 - lr: 0.0050\n",
            "Epoch 11/150\n",
            "183/183 [==============================] - 4s 23ms/step - loss: 0.9960 - accuracy: 0.5371 - val_loss: 2.0364 - val_accuracy: 0.4356 - lr: 0.0050\n",
            "Epoch 12/150\n",
            "183/183 [==============================] - 5s 29ms/step - loss: 0.9575 - accuracy: 0.5562 - val_loss: 5.6744 - val_accuracy: 0.2546 - lr: 0.0050\n",
            "Epoch 13/150\n",
            "183/183 [==============================] - 4s 22ms/step - loss: 0.9227 - accuracy: 0.5678 - val_loss: 6.1179 - val_accuracy: 0.4356 - lr: 0.0050\n",
            "Epoch 14/150\n",
            "183/183 [==============================] - ETA: 0s - loss: 0.8829 - accuracy: 0.5859\n",
            "Epoch 14: ReduceLROnPlateau reducing learning rate to 0.0024999999441206455.\n",
            "183/183 [==============================] - 4s 23ms/step - loss: 0.8829 - accuracy: 0.5859 - val_loss: 5.0446 - val_accuracy: 0.2546 - lr: 0.0050\n",
            "Epoch 15/150\n",
            "183/183 [==============================] - 4s 20ms/step - loss: 0.8553 - accuracy: 0.5979 - val_loss: 3.0891 - val_accuracy: 0.2546 - lr: 0.0025\n",
            "Epoch 16/150\n",
            "183/183 [==============================] - 3s 19ms/step - loss: 0.8154 - accuracy: 0.6215 - val_loss: 2.8979 - val_accuracy: 0.4663 - lr: 0.0025\n",
            "Epoch 17/150\n",
            "183/183 [==============================] - 5s 28ms/step - loss: 0.7913 - accuracy: 0.6447 - val_loss: 2.8731 - val_accuracy: 0.2577 - lr: 0.0025\n",
            "Epoch 18/150\n",
            "183/183 [==============================] - 7s 37ms/step - loss: 0.7771 - accuracy: 0.6467 - val_loss: 3.8401 - val_accuracy: 0.2546 - lr: 0.0025\n",
            "Epoch 19/150\n",
            "183/183 [==============================] - 4s 22ms/step - loss: 0.7795 - accuracy: 0.6450 - val_loss: 2.3953 - val_accuracy: 0.3436 - lr: 0.0025\n",
            "Epoch 20/150\n",
            "183/183 [==============================] - 4s 24ms/step - loss: 0.7599 - accuracy: 0.6601 - val_loss: 2.6605 - val_accuracy: 0.2546 - lr: 0.0025\n",
            "Epoch 21/150\n",
            "183/183 [==============================] - 4s 21ms/step - loss: 0.7489 - accuracy: 0.6744 - val_loss: 1.5248 - val_accuracy: 0.3926 - lr: 0.0025\n",
            "Epoch 22/150\n",
            "182/183 [============================>.] - ETA: 0s - loss: 0.7362 - accuracy: 0.6683\n",
            "Epoch 22: ReduceLROnPlateau reducing learning rate to 0.0012499999720603228.\n",
            "183/183 [==============================] - 4s 21ms/step - loss: 0.7363 - accuracy: 0.6679 - val_loss: 1.5606 - val_accuracy: 0.2914 - lr: 0.0025\n",
            "Epoch 23/150\n",
            "183/183 [==============================] - 4s 24ms/step - loss: 0.7232 - accuracy: 0.6775 - val_loss: 3.1397 - val_accuracy: 0.2515 - lr: 0.0012\n",
            "Epoch 24/150\n",
            "183/183 [==============================] - 5s 26ms/step - loss: 0.7100 - accuracy: 0.6819 - val_loss: 1.4124 - val_accuracy: 0.2822 - lr: 0.0012\n",
            "Epoch 25/150\n",
            "183/183 [==============================] - 5s 28ms/step - loss: 0.7087 - accuracy: 0.6925 - val_loss: 3.0307 - val_accuracy: 0.2546 - lr: 0.0012\n",
            "Epoch 26/150\n",
            "183/183 [==============================] - 4s 22ms/step - loss: 0.7095 - accuracy: 0.6871 - val_loss: 1.1271 - val_accuracy: 0.5920 - lr: 0.0012\n",
            "Epoch 27/150\n",
            "183/183 [==============================] - 3s 19ms/step - loss: 0.6739 - accuracy: 0.6994 - val_loss: 3.5563 - val_accuracy: 0.2546 - lr: 0.0012\n",
            "Epoch 28/150\n",
            "183/183 [==============================] - 4s 20ms/step - loss: 0.6755 - accuracy: 0.7031 - val_loss: 3.8245 - val_accuracy: 0.2546 - lr: 0.0012\n",
            "Epoch 29/150\n",
            "183/183 [==============================] - 4s 20ms/step - loss: 0.6702 - accuracy: 0.6994 - val_loss: 1.8958 - val_accuracy: 0.3129 - lr: 0.0012\n",
            "Epoch 30/150\n",
            "183/183 [==============================] - 3s 18ms/step - loss: 0.6590 - accuracy: 0.7134 - val_loss: 3.0509 - val_accuracy: 0.2546 - lr: 0.0012\n",
            "Epoch 31/150\n",
            "183/183 [==============================] - 4s 24ms/step - loss: 0.6560 - accuracy: 0.7168 - val_loss: 3.6166 - val_accuracy: 0.2546 - lr: 0.0012\n",
            "Epoch 32/150\n",
            "183/183 [==============================] - ETA: 0s - loss: 0.6458 - accuracy: 0.7250\n",
            "Epoch 32: ReduceLROnPlateau reducing learning rate to 0.0006249999860301614.\n",
            "183/183 [==============================] - 5s 29ms/step - loss: 0.6458 - accuracy: 0.7250 - val_loss: 2.8074 - val_accuracy: 0.2822 - lr: 0.0012\n",
            "Epoch 33/150\n",
            "183/183 [==============================] - 6s 31ms/step - loss: 0.6350 - accuracy: 0.7178 - val_loss: 2.6761 - val_accuracy: 0.2638 - lr: 6.2500e-04\n",
            "Epoch 34/150\n",
            "183/183 [==============================] - 5s 26ms/step - loss: 0.6250 - accuracy: 0.7301 - val_loss: 3.0955 - val_accuracy: 0.2546 - lr: 6.2500e-04\n",
            "Epoch 35/150\n",
            "183/183 [==============================] - 4s 20ms/step - loss: 0.6237 - accuracy: 0.7243 - val_loss: 2.2836 - val_accuracy: 0.4540 - lr: 6.2500e-04\n",
            "Epoch 36/150\n",
            "183/183 [==============================] - 4s 24ms/step - loss: 0.6060 - accuracy: 0.7366 - val_loss: 2.1008 - val_accuracy: 0.3221 - lr: 6.2500e-04\n",
            "Epoch 37/150\n",
            "183/183 [==============================] - 5s 26ms/step - loss: 0.6162 - accuracy: 0.7369 - val_loss: 3.2385 - val_accuracy: 0.2515 - lr: 6.2500e-04\n",
            "Epoch 38/150\n",
            "183/183 [==============================] - ETA: 0s - loss: 0.6048 - accuracy: 0.7380\n",
            "Epoch 38: ReduceLROnPlateau reducing learning rate to 0.0003124999930150807.\n",
            "183/183 [==============================] - 4s 21ms/step - loss: 0.6048 - accuracy: 0.7380 - val_loss: 2.5504 - val_accuracy: 0.4294 - lr: 6.2500e-04\n",
            "Epoch 39/150\n",
            "183/183 [==============================] - 4s 24ms/step - loss: 0.5987 - accuracy: 0.7503 - val_loss: 0.8622 - val_accuracy: 0.5798 - lr: 3.1250e-04\n",
            "Epoch 40/150\n",
            "183/183 [==============================] - 4s 21ms/step - loss: 0.5889 - accuracy: 0.7530 - val_loss: 0.8576 - val_accuracy: 0.6012 - lr: 3.1250e-04\n",
            "Epoch 41/150\n",
            "183/183 [==============================] - 4s 22ms/step - loss: 0.5829 - accuracy: 0.7485 - val_loss: 1.5412 - val_accuracy: 0.5767 - lr: 3.1250e-04\n",
            "Epoch 42/150\n",
            "183/183 [==============================] - 4s 20ms/step - loss: 0.5697 - accuracy: 0.7602 - val_loss: 0.6416 - val_accuracy: 0.6994 - lr: 3.1250e-04\n",
            "Epoch 43/150\n",
            "183/183 [==============================] - 4s 21ms/step - loss: 0.5786 - accuracy: 0.7499 - val_loss: 0.5955 - val_accuracy: 0.7577 - lr: 3.1250e-04\n",
            "Epoch 44/150\n",
            "183/183 [==============================] - 3s 18ms/step - loss: 0.5711 - accuracy: 0.7526 - val_loss: 0.7371 - val_accuracy: 0.7147 - lr: 3.1250e-04\n",
            "Epoch 45/150\n",
            "183/183 [==============================] - 4s 21ms/step - loss: 0.5603 - accuracy: 0.7626 - val_loss: 0.8727 - val_accuracy: 0.6687 - lr: 3.1250e-04\n",
            "Epoch 46/150\n",
            "183/183 [==============================] - 4s 22ms/step - loss: 0.5597 - accuracy: 0.7639 - val_loss: 1.2007 - val_accuracy: 0.5153 - lr: 3.1250e-04\n",
            "Epoch 47/150\n",
            "183/183 [==============================] - 5s 27ms/step - loss: 0.5550 - accuracy: 0.7687 - val_loss: 0.8475 - val_accuracy: 0.6135 - lr: 3.1250e-04\n",
            "Epoch 48/150\n",
            "183/183 [==============================] - 4s 19ms/step - loss: 0.5593 - accuracy: 0.7615 - val_loss: 0.6569 - val_accuracy: 0.7239 - lr: 3.1250e-04\n",
            "Epoch 49/150\n",
            "182/183 [============================>.] - ETA: 0s - loss: 0.5457 - accuracy: 0.7679\n",
            "Epoch 49: ReduceLROnPlateau reducing learning rate to 0.00015624999650754035.\n",
            "183/183 [==============================] - 4s 19ms/step - loss: 0.5452 - accuracy: 0.7684 - val_loss: 0.9978 - val_accuracy: 0.5429 - lr: 3.1250e-04\n",
            "Epoch 50/150\n",
            "183/183 [==============================] - 4s 19ms/step - loss: 0.5435 - accuracy: 0.7653 - val_loss: 0.6929 - val_accuracy: 0.6994 - lr: 1.5625e-04\n",
            "Epoch 51/150\n",
            "183/183 [==============================] - 3s 19ms/step - loss: 0.5245 - accuracy: 0.7755 - val_loss: 0.6064 - val_accuracy: 0.7485 - lr: 1.5625e-04\n",
            "Epoch 52/150\n",
            "183/183 [==============================] - 4s 19ms/step - loss: 0.5258 - accuracy: 0.7704 - val_loss: 0.7651 - val_accuracy: 0.7055 - lr: 1.5625e-04\n",
            "Epoch 53/150\n",
            "183/183 [==============================] - 3s 19ms/step - loss: 0.5366 - accuracy: 0.7694 - val_loss: 0.5032 - val_accuracy: 0.7761 - lr: 1.5625e-04\n",
            "Epoch 54/150\n",
            "183/183 [==============================] - 4s 20ms/step - loss: 0.5299 - accuracy: 0.7772 - val_loss: 0.5440 - val_accuracy: 0.7730 - lr: 1.5625e-04\n",
            "Epoch 55/150\n",
            "183/183 [==============================] - 4s 21ms/step - loss: 0.5333 - accuracy: 0.7656 - val_loss: 0.6820 - val_accuracy: 0.7393 - lr: 1.5625e-04\n",
            "Epoch 56/150\n",
            "183/183 [==============================] - 4s 23ms/step - loss: 0.5234 - accuracy: 0.7762 - val_loss: 0.6197 - val_accuracy: 0.7331 - lr: 1.5625e-04\n",
            "Epoch 57/150\n",
            "183/183 [==============================] - 4s 19ms/step - loss: 0.5230 - accuracy: 0.7790 - val_loss: 0.5393 - val_accuracy: 0.7638 - lr: 1.5625e-04\n",
            "Epoch 58/150\n",
            "183/183 [==============================] - 4s 20ms/step - loss: 0.5201 - accuracy: 0.7752 - val_loss: 0.5385 - val_accuracy: 0.7638 - lr: 1.5625e-04\n",
            "Epoch 59/150\n",
            "181/183 [============================>.] - ETA: 0s - loss: 0.5116 - accuracy: 0.7821\n",
            "Epoch 59: ReduceLROnPlateau reducing learning rate to 7.812499825377017e-05.\n",
            "183/183 [==============================] - 3s 18ms/step - loss: 0.5122 - accuracy: 0.7817 - val_loss: 0.8634 - val_accuracy: 0.6074 - lr: 1.5625e-04\n",
            "Epoch 60/150\n",
            "183/183 [==============================] - 3s 18ms/step - loss: 0.5242 - accuracy: 0.7807 - val_loss: 0.5431 - val_accuracy: 0.7638 - lr: 7.8125e-05\n",
            "Epoch 61/150\n",
            "183/183 [==============================] - 4s 20ms/step - loss: 0.5113 - accuracy: 0.7834 - val_loss: 0.5837 - val_accuracy: 0.7699 - lr: 7.8125e-05\n",
            "Epoch 62/150\n",
            "183/183 [==============================] - 4s 21ms/step - loss: 0.5084 - accuracy: 0.7820 - val_loss: 0.4823 - val_accuracy: 0.7914 - lr: 7.8125e-05\n",
            "Epoch 63/150\n",
            "183/183 [==============================] - 6s 32ms/step - loss: 0.5107 - accuracy: 0.7793 - val_loss: 0.4886 - val_accuracy: 0.7822 - lr: 7.8125e-05\n",
            "Epoch 64/150\n",
            "183/183 [==============================] - 4s 24ms/step - loss: 0.5267 - accuracy: 0.7749 - val_loss: 0.4698 - val_accuracy: 0.8221 - lr: 7.8125e-05\n",
            "Epoch 65/150\n",
            "183/183 [==============================] - 4s 23ms/step - loss: 0.5154 - accuracy: 0.7796 - val_loss: 0.5157 - val_accuracy: 0.7822 - lr: 7.8125e-05\n",
            "Epoch 66/150\n",
            "183/183 [==============================] - 4s 21ms/step - loss: 0.5291 - accuracy: 0.7745 - val_loss: 0.4679 - val_accuracy: 0.7945 - lr: 7.8125e-05\n",
            "Epoch 67/150\n",
            "183/183 [==============================] - 4s 24ms/step - loss: 0.5211 - accuracy: 0.7841 - val_loss: 0.4722 - val_accuracy: 0.8252 - lr: 7.8125e-05\n",
            "Epoch 68/150\n",
            "183/183 [==============================] - 5s 29ms/step - loss: 0.5135 - accuracy: 0.7772 - val_loss: 0.5254 - val_accuracy: 0.7761 - lr: 7.8125e-05\n",
            "Epoch 69/150\n",
            "183/183 [==============================] - 5s 25ms/step - loss: 0.5279 - accuracy: 0.7708 - val_loss: 0.5001 - val_accuracy: 0.7883 - lr: 7.8125e-05\n",
            "Epoch 70/150\n",
            "183/183 [==============================] - 5s 29ms/step - loss: 0.5060 - accuracy: 0.7848 - val_loss: 0.4724 - val_accuracy: 0.7975 - lr: 7.8125e-05\n",
            "Epoch 71/150\n",
            "183/183 [==============================] - 4s 20ms/step - loss: 0.4947 - accuracy: 0.7930 - val_loss: 0.5585 - val_accuracy: 0.7730 - lr: 7.8125e-05\n",
            "Epoch 72/150\n",
            "183/183 [==============================] - 4s 24ms/step - loss: 0.4988 - accuracy: 0.7858 - val_loss: 0.4935 - val_accuracy: 0.7822 - lr: 7.8125e-05\n",
            "Epoch 73/150\n",
            "183/183 [==============================] - ETA: 0s - loss: 0.5003 - accuracy: 0.7865\n",
            "Epoch 73: ReduceLROnPlateau reducing learning rate to 3.9062499126885086e-05.\n",
            "183/183 [==============================] - 5s 25ms/step - loss: 0.5003 - accuracy: 0.7865 - val_loss: 0.4466 - val_accuracy: 0.8098 - lr: 7.8125e-05\n",
            "Epoch 74/150\n",
            "183/183 [==============================] - 4s 22ms/step - loss: 0.5087 - accuracy: 0.7868 - val_loss: 0.4902 - val_accuracy: 0.7822 - lr: 3.9062e-05\n",
            "Epoch 75/150\n",
            "183/183 [==============================] - 4s 20ms/step - loss: 0.4998 - accuracy: 0.7919 - val_loss: 0.4511 - val_accuracy: 0.8129 - lr: 3.9062e-05\n",
            "Epoch 76/150\n",
            "183/183 [==============================] - 5s 27ms/step - loss: 0.4936 - accuracy: 0.7889 - val_loss: 0.4412 - val_accuracy: 0.8129 - lr: 3.9062e-05\n",
            "Epoch 77/150\n",
            "183/183 [==============================] - 5s 25ms/step - loss: 0.4968 - accuracy: 0.7851 - val_loss: 0.5111 - val_accuracy: 0.7914 - lr: 3.9062e-05\n",
            "Epoch 78/150\n",
            "183/183 [==============================] - 4s 20ms/step - loss: 0.4990 - accuracy: 0.7875 - val_loss: 0.4497 - val_accuracy: 0.8067 - lr: 3.9062e-05\n",
            "Epoch 79/150\n",
            "182/183 [============================>.] - ETA: 0s - loss: 0.4952 - accuracy: 0.7902\n",
            "Epoch 79: ReduceLROnPlateau reducing learning rate to 1.9531249563442543e-05.\n",
            "183/183 [==============================] - 4s 20ms/step - loss: 0.4957 - accuracy: 0.7902 - val_loss: 0.4677 - val_accuracy: 0.7914 - lr: 3.9062e-05\n",
            "Epoch 80/150\n",
            "183/183 [==============================] - 4s 21ms/step - loss: 0.4996 - accuracy: 0.7930 - val_loss: 0.4411 - val_accuracy: 0.8160 - lr: 1.9531e-05\n",
            "Epoch 81/150\n",
            "183/183 [==============================] - 4s 20ms/step - loss: 0.5049 - accuracy: 0.7851 - val_loss: 0.4428 - val_accuracy: 0.8252 - lr: 1.9531e-05\n",
            "Epoch 82/150\n",
            "183/183 [==============================] - 4s 21ms/step - loss: 0.4988 - accuracy: 0.7882 - val_loss: 0.4447 - val_accuracy: 0.8006 - lr: 1.9531e-05\n",
            "Epoch 83/150\n",
            "183/183 [==============================] - 4s 22ms/step - loss: 0.4948 - accuracy: 0.7909 - val_loss: 0.4427 - val_accuracy: 0.8252 - lr: 1.9531e-05\n",
            "Epoch 84/150\n",
            "183/183 [==============================] - 4s 24ms/step - loss: 0.4977 - accuracy: 0.7954 - val_loss: 0.4451 - val_accuracy: 0.7975 - lr: 1.9531e-05\n",
            "Epoch 85/150\n",
            "182/183 [============================>.] - ETA: 0s - loss: 0.4957 - accuracy: 0.7874\n",
            "Epoch 85: ReduceLROnPlateau reducing learning rate to 9.765624781721272e-06.\n",
            "183/183 [==============================] - 5s 24ms/step - loss: 0.4961 - accuracy: 0.7872 - val_loss: 0.4538 - val_accuracy: 0.7975 - lr: 1.9531e-05\n",
            "Epoch 86/150\n",
            "183/183 [==============================] - 4s 20ms/step - loss: 0.5045 - accuracy: 0.7936 - val_loss: 0.4393 - val_accuracy: 0.8129 - lr: 9.7656e-06\n",
            "Epoch 87/150\n",
            "183/183 [==============================] - 4s 21ms/step - loss: 0.5006 - accuracy: 0.7902 - val_loss: 0.4367 - val_accuracy: 0.8129 - lr: 9.7656e-06\n",
            "Epoch 88/150\n",
            "183/183 [==============================] - 3s 19ms/step - loss: 0.4922 - accuracy: 0.7936 - val_loss: 0.4397 - val_accuracy: 0.8221 - lr: 9.7656e-06\n",
            "Epoch 89/150\n",
            "183/183 [==============================] - 4s 20ms/step - loss: 0.4873 - accuracy: 0.7947 - val_loss: 0.4359 - val_accuracy: 0.8160 - lr: 9.7656e-06\n",
            "Epoch 90/150\n",
            "183/183 [==============================] - 3s 19ms/step - loss: 0.4925 - accuracy: 0.7875 - val_loss: 0.4411 - val_accuracy: 0.8006 - lr: 9.7656e-06\n",
            "Epoch 91/150\n",
            "182/183 [============================>.] - ETA: 0s - loss: 0.4887 - accuracy: 0.7891\n",
            "Epoch 91: ReduceLROnPlateau reducing learning rate to 4.882812390860636e-06.\n",
            "183/183 [==============================] - 4s 21ms/step - loss: 0.4890 - accuracy: 0.7889 - val_loss: 0.4402 - val_accuracy: 0.8160 - lr: 9.7656e-06\n",
            "Epoch 92/150\n",
            "183/183 [==============================] - 4s 24ms/step - loss: 0.4934 - accuracy: 0.7926 - val_loss: 0.4433 - val_accuracy: 0.8160 - lr: 4.8828e-06\n",
            "Epoch 93/150\n",
            "183/183 [==============================] - 4s 21ms/step - loss: 0.4794 - accuracy: 0.8025 - val_loss: 0.4386 - val_accuracy: 0.8160 - lr: 4.8828e-06\n",
            "Epoch 94/150\n",
            "183/183 [==============================] - 4s 20ms/step - loss: 0.5057 - accuracy: 0.7878 - val_loss: 0.4365 - val_accuracy: 0.8129 - lr: 4.8828e-06\n",
            "Epoch 95/150\n",
            "183/183 [==============================] - 3s 19ms/step - loss: 0.4888 - accuracy: 0.7964 - val_loss: 0.4365 - val_accuracy: 0.8129 - lr: 4.8828e-06\n",
            "Epoch 96/150\n",
            "183/183 [==============================] - 4s 21ms/step - loss: 0.4939 - accuracy: 0.8015 - val_loss: 0.4365 - val_accuracy: 0.8129 - lr: 4.8828e-06\n",
            "Epoch 97/150\n",
            "182/183 [============================>.] - ETA: 0s - loss: 0.4863 - accuracy: 0.7919\n",
            "Epoch 97: ReduceLROnPlateau reducing learning rate to 2.441406195430318e-06.\n",
            "183/183 [==============================] - 4s 20ms/step - loss: 0.4874 - accuracy: 0.7913 - val_loss: 0.4400 - val_accuracy: 0.8160 - lr: 4.8828e-06\n",
            "Epoch 98/150\n",
            "183/183 [==============================] - 4s 21ms/step - loss: 0.5015 - accuracy: 0.7892 - val_loss: 0.4386 - val_accuracy: 0.8129 - lr: 2.4414e-06\n",
            "Epoch 99/150\n",
            "183/183 [==============================] - 4s 23ms/step - loss: 0.4944 - accuracy: 0.7865 - val_loss: 0.4373 - val_accuracy: 0.8067 - lr: 2.4414e-06\n",
            "Epoch 100/150\n",
            "183/183 [==============================] - 5s 27ms/step - loss: 0.4849 - accuracy: 0.7960 - val_loss: 0.4378 - val_accuracy: 0.8067 - lr: 2.4414e-06\n",
            "Epoch 101/150\n",
            "183/183 [==============================] - 4s 20ms/step - loss: 0.5030 - accuracy: 0.7868 - val_loss: 0.4389 - val_accuracy: 0.8190 - lr: 2.4414e-06\n",
            "Epoch 102/150\n",
            "183/183 [==============================] - 4s 20ms/step - loss: 0.4829 - accuracy: 0.8001 - val_loss: 0.4395 - val_accuracy: 0.8129 - lr: 2.4414e-06\n"
          ]
        }
      ],
      "source": [
        "from tensorflow.keras.callbacks import EarlyStopping, ModelCheckpoint, ReduceLROnPlateau\n",
        "\n",
        "learning_rate_reduction = ReduceLROnPlateau(\n",
        "    monitor='val_accuracy', \n",
        "    patience=6, \n",
        "    verbose=1, \n",
        "    factor=0.5, \n",
        "    min_lr=1e-8)\n",
        "\n",
        "early_stop = EarlyStopping(monitor='val_accuracy',\n",
        "                           patience=35,\n",
        "                           restore_best_weights=True)\n",
        "model_checkpoint = ModelCheckpoint('models/checkpoints/StackedLSTM-cp.h5', save_best_only=True)\n",
        "\n",
        "\n",
        "history = model.fit(\n",
        "    X_train, y_train,\n",
        "    epochs=150,\n",
        "    batch_size=16,\n",
        "    validation_data=(X_validation, y_validation),\n",
        "    callbacks=[model_checkpoint, learning_rate_reduction, early_stop])"
      ]
    },
    {
      "cell_type": "code",
      "execution_count": 27,
      "metadata": {},
      "outputs": [],
      "source": [
        "# save model\n",
        "model.save('runtime_saves/models/StackedLSTM.h5')"
      ]
    },
    {
      "cell_type": "code",
      "execution_count": 28,
      "metadata": {},
      "outputs": [],
      "source": [
        "from keras.models import load_model\n",
        "\n",
        "# Load the model\n",
        "model = load_model('runtime_saves/models/StackedLSTM.h5')"
      ]
    },
    {
      "cell_type": "markdown",
      "metadata": {
        "id": "Ct_S460uGhxP"
      },
      "source": [
        "# **RESULTS AND EVALUATION**"
      ]
    },
    {
      "cell_type": "code",
      "execution_count": 29,
      "metadata": {},
      "outputs": [
        {
          "data": {
            "image/png": "[encoded data removed]",
            "text/plain": [
              "<Figure size 640x480 with 1 Axes>"
            ]
          },
          "metadata": {},
          "output_type": "display_data"
        },
        {
          "data": {
            "image/png": "[encoded data removed]",
            "text/plain": [
              "<Figure size 640x480 with 1 Axes>"
            ]
          },
          "metadata": {},
          "output_type": "display_data"
        }
      ],
      "source": [
        "import matplotlib.pyplot as plt\n",
        "\n",
        "# Extract the history from the training process\n",
        "acc = history.history['accuracy']\n",
        "val_acc = history.history['val_accuracy']\n",
        "loss = history.history['loss']\n",
        "val_loss = history.history['val_loss']\n",
        "epochs = range(1, len(acc) + 1)\n",
        "\n",
        "# Plot the training and validation accuracy\n",
        "plt.plot(epochs, acc, 'bo', label='Training acc')\n",
        "plt.plot(epochs, val_acc, 'b', label='Validation acc')\n",
        "plt.title('Training and validation accuracy')\n",
        "plt.legend()\n",
        "\n",
        "# Plot the training and validation loss\n",
        "plt.figure()\n",
        "plt.plot(epochs, loss, 'bo', label='Training loss')\n",
        "plt.plot(epochs, val_loss, 'b', label='Validation loss')\n",
        "plt.title('Training and validation loss')\n",
        "plt.legend()\n",
        "plt.show()"
      ]
    },
    {
      "cell_type": "markdown",
      "metadata": {},
      "source": [
        "# Confusion Matrix"
      ]
    },
    {
      "cell_type": "code",
      "execution_count": 30,
      "metadata": {},
      "outputs": [
        {
          "name": "stdout",
          "output_type": "stream",
          "text": [
            "26/26 [==============================] - 2s 2ms/step - loss: 0.0000e+00 - accuracy: 0.0000e+00\n",
            "Loss: 0.0\n",
            "Accuracy: 0.0\n",
            "26/26 [==============================] - 2s 6ms/step\n",
            "[[166  20  20]\n",
            " [ 15 158  81]\n",
            " [ 10  55 289]]\n"
          ]
        },
        {
          "data": {
            "image/png": "[encoded data removed]",
            "text/plain": [
              "<Figure size 1000x600 with 2 Axes>"
            ]
          },
          "metadata": {},
          "output_type": "display_data"
        }
      ],
      "source": [
        "from sklearn import metrics\n",
        "import seaborn as sns\n",
        "import matplotlib.pyplot as plt\n",
        "\n",
        "y_pred = model.evaluate(X_test)\n",
        "print(f'Loss: {y_pred[0]}')\n",
        "print(f'Accuracy: {y_pred[1]}')\n",
        "\n",
        "# Simple confusion matrix\n",
        "pred = model.predict(X_test)\n",
        "pred = np.argmax(pred, axis=1)\n",
        "\n",
        "\n",
        "conf_matrix = metrics.confusion_matrix(y_test, pred)\n",
        "print(conf_matrix)\n",
        "\n",
        "# Graphical confusion matrix\n",
        "conf_matrix = metrics.confusion_matrix(y_test, pred)\n",
        "\n",
        "plt.figure(figsize=(10, 6))\n",
        "sns.heatmap(conf_matrix, annot=True, fmt='d', cmap='Blues', xticklabels=label_names, yticklabels=label_names)\n",
        "plt.xlabel('Predicted')\n",
        "plt.ylabel('Actual')\n",
        "plt.title('Confusion Matrix')\n",
        "plt.show()"
      ]
    },
    {
      "cell_type": "markdown",
      "metadata": {},
      "source": [
        "\n",
        "\n",
        "\n",
        "\n",
        "\n",
        "\n",
        "\n",
        "\n",
        "\n",
        "\n",
        "\n",
        "\n",
        "\n",
        "\n",
        "\n",
        "\n",
        "\n",
        "\n",
        "\n",
        "\n",
        "\n",
        "\n",
        "## Performance Metrics"
      ]
    },
    {
      "cell_type": "markdown",
      "metadata": {},
      "source": [
        "- Accuracy  $\\large = \\frac{Correct~Predictions}{All~Predictions}$\n",
        "- Precision for a given class  $\\large = \\frac{Correct~Predictions~for~the~Class}{All~Predictions~for~the~Class}$   \n",
        "- Recall for a given class  $\\large = \\frac{Correct~Predictions~for~the~Class}{All~Instances~of~the~Class}$  \n",
        "- F1 Score $\\large = \\frac{2 \\times \\text{Precision} \\times \\text{Recall}}{\\text{Precision} + \\text{Recall}}$  \n",
        "- Hamming Loss $\\large = \\frac{1}{N} \\sum_{i=1}^{N} \\frac{\\text{Incorrect Labels}}{\\text{Total Labels}}$  \n",
        "- Jaccard Score $\\large = \\frac{|Y_{pred} \\cap Y_{true}|}{|Y_{pred} \\cup Y_{true}|}$  \n",
        "\n",
        "\n",
        "\n",
        "- Averaging is a way to get a single number for multiclass. Depending on the importance one wants to give to minority classes: \n",
        "    - Macro average: Compute the metric for each class, and returns the average without considering the proportion for each class in the dataset. For instance:\n",
        "\n",
        "        Precision = $\\large = \\frac{P_{class 1} ~+~ P_{class 2} ~+~ ... ~+~ P_{class n}}{N}$   \n",
        "    \n",
        "    - Weighted average: Compute the metric for each class, and returns the average considering the proportion (weighted) for each class in the dataset. For instance:\n",
        "\n",
        "        Precision = $\\large = \\frac{N_1 ~*~ P_{class 1} ~+~ N_2 ~*~ P_{class 2} ~+~ ... ~+~ N_n ~*~ P_{class n}}{N}$"
      ]
    },
    {
      "cell_type": "code",
      "execution_count": 31,
      "metadata": {},
      "outputs": [
        {
          "name": "stdout",
          "output_type": "stream",
          "text": [
            "Accuracy : 75.31%\n",
            "Precision - Macro: 76.27%\n",
            "Recall - Macro: 74.81%\n",
            "F1-score - Macro: 75.4%\n",
            "Precision - Weighted: 75.38%\n",
            "Recall - Weighted: 75.31%\n",
            "F1-score - Weighted: 75.2%\n"
          ]
        }
      ],
      "source": [
        "from sklearn.metrics import accuracy_score, precision_score, recall_score, f1_score\n",
        "\n",
        "# Calculates performance metrics\n",
        "acc = accuracy_score(y_true =  y_test, y_pred = pred)\n",
        "print(f'Accuracy : {np.round(acc*100,2)}%')\n",
        "          \n",
        "precision = precision_score(y_true =  y_test, y_pred = pred, average='macro')\n",
        "print(f'Precision - Macro: {np.round(precision*100,2)}%')\n",
        "\n",
        "recall = recall_score(y_true =  y_test, y_pred = pred, average='macro')\n",
        "print(f'Recall - Macro: {np.round(recall*100,2)}%')\n",
        "\n",
        "f1 = f1_score(y_true =  y_test, y_pred = pred, average='macro')\n",
        "print(f'F1-score - Macro: {np.round(f1*100,2)}%')\n",
        "\n",
        "precision = precision_score(y_true =  y_test, y_pred = pred, average='weighted')\n",
        "print(f'Precision - Weighted: {np.round(precision*100,2)}%')\n",
        "\n",
        "recall = recall_score(y_true =  y_test, y_pred = pred, average='weighted')\n",
        "print(f'Recall - Weighted: {np.round(recall*100,2)}%')\n",
        "\n",
        "f1 = f1_score(y_true =  y_test, y_pred = pred, average='weighted')\n",
        "print(f'F1-score - Weighted: {np.round(f1*100,2)}%')"
      ]
    }
  ],
  "metadata": {
    "accelerator": "GPU",
    "colab": {
      "gpuType": "T4",
      "provenance": []
    },
    "kernelspec": {
      "display_name": "Python 3",
      "name": "python3"
    },
    "language_info": {
      "codemirror_mode": {
        "name": "ipython",
        "version": 3
      },
      "file_extension": ".py",
      "mimetype": "text/x-python",
      "name": "python",
      "nbconvert_exporter": "python",
      "pygments_lexer": "ipython3",
      "version": "3.11.4"
    }
  },
  "nbformat": 4,
  "nbformat_minor": 0
}
