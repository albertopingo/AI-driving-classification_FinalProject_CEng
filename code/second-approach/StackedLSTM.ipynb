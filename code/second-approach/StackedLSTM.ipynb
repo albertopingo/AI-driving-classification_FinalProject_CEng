{
  "cells": [
    {
      "cell_type": "markdown",
      "metadata": {},
      "source": [
        "# 2023/24 - LSTM\n",
        "\n",
        "This notebook is a implementation of a **LSTM** for Driving Behavior Classification. The model is trained on the [IPL-Dataset](http://www.robesafe.uah.es/personal/eduardo.romera/uah-driveset/) dataset. \n",
        "\n",
        "The dataset contains recorded driving scenarios like Intersections, Acceleration, Brake. The dataset is divided into 3 classes: **Slow, Normal and Aggressive**.\n",
        "\n",
        "Each driving scenario is represented by a sequence of sensor data. The sensor data is collected from the following sensors:\n",
        "- Accelerometer\n",
        "- Gyroscope\n",
        "- GPS\n"
      ]
    },
    {
      "cell_type": "markdown",
      "metadata": {
        "id": "RzTK7gM5ydFL"
      },
      "source": [
        "## Libraries"
      ]
    },
    {
      "cell_type": "markdown",
      "metadata": {},
      "source": [
        "## Directories"
      ]
    },
    {
      "cell_type": "code",
      "execution_count": 7,
      "metadata": {},
      "outputs": [
        {
          "name": "stdout",
          "output_type": "stream",
          "text": [
            "Root directory: c:\\codeUni\\ProjetoInformatico\\CoEProject-AI-DrivingClassification\n",
            "Datasets directory: c:\\codeUni\\ProjetoInformatico\\CoEProject-AI-DrivingClassification\\datasets\n",
            "Dataset directory: c:\\codeUni\\ProjetoInformatico\\CoEProject-AI-DrivingClassification\\datasets\\IPL-Dataset\n"
          ]
        }
      ],
      "source": [
        "import os\n",
        "\n",
        "# Make auxiliar folders\n",
        "if not os.path.exists('runtime_saves'):\n",
        "    os.makedirs('runtime_saves')\n",
        "if not os.path.exists('runtime_saves/models'):\n",
        "    os.makedirs('runtime_saves/models')\n",
        "if not os.path.exists('runtime_saves/train&test'):\n",
        "    os.makedirs('runtime_saves/train&test')\n",
        "    \n",
        "current_dir = os.getcwd()\n",
        "\n",
        "root_dir = os.path.abspath(os.path.join(current_dir, os.pardir, os.pardir))\n",
        "\n",
        "datasets_dir = os.path.join(root_dir, 'datasets')\n",
        "\n",
        "dataset_dir = os.path.join(datasets_dir, 'IPL-Dataset')\n",
        "\n",
        "\n",
        "print(f'Root directory: {root_dir}')\n",
        "print(f'Datasets directory: {datasets_dir}')\n",
        "print(f'Dataset directory: {dataset_dir}')"
      ]
    },
    {
      "cell_type": "markdown",
      "metadata": {},
      "source": [
        "# **Data Preprocessing**\n",
        "\n",
        "## Data structure:\n",
        "- Acceleration (m/s2): X, Y, Z Axis \n",
        "\n",
        "- Gyroscope (°/s): X, Y, Z Axis\n",
        "\n",
        "- GPS: Latitude and Longitude "
      ]
    },
    {
      "cell_type": "markdown",
      "metadata": {},
      "source": [
        "## Load dataset and apply rolling window"
      ]
    },
    {
      "cell_type": "code",
      "execution_count": 8,
      "metadata": {},
      "outputs": [
        {
          "name": "stdout",
          "output_type": "stream",
          "text": [
            "Test file\n",
            "    id  accelerometerXAxis  accelerometerYAxis  accelerometerZAxis  \\\n",
            "0  636            0.204224            0.574472            0.015077   \n",
            "1  637            0.230342            0.175526            0.122981   \n",
            "2  638            0.199742            1.303585           -0.188207   \n",
            "3  639            0.003083            0.753614            0.103433   \n",
            "4  640            0.202767            0.281722            0.290354   \n",
            "\n",
            "   gyroscopeXAxis  gyroscopeYAxis  gyroscopeZAxis   Latitude  Longitude  \\\n",
            "0        0.001833        0.006720        0.003054  39.806938  -8.620294   \n",
            "1       -0.000611        0.000000       -0.002443  39.806938  -8.620294   \n",
            "2        0.014661       -0.013439       -0.003054  39.806938  -8.620294   \n",
            "3        0.034208       -0.011606       -0.011606  39.806938  -8.620294   \n",
            "4        0.023213       -0.015272       -0.036652  39.806938  -8.620294   \n",
            "\n",
            "   speed Km/h                      createdAt  \n",
            "0         0.0  2023-04-23T19:42:30.793+01:00  \n",
            "1         0.0  2023-04-23T19:42:31.043+01:00  \n",
            "2         0.0  2023-04-23T19:42:31.293+01:00  \n",
            "3         0.0  2023-04-23T19:42:31.544+01:00  \n",
            "4         0.0  2023-04-23T19:42:31.794+01:00  \n",
            "Test file after rolling window\n",
            "    id  accelerometerXAxis  accelerometerYAxis  accelerometerZAxis  \\\n",
            "0  636            0.217283            0.374999            0.069029   \n",
            "1  637            0.211436            0.684528           -0.016716   \n",
            "2  638            0.144389            0.744242            0.012736   \n",
            "3  639            0.135198            0.779640            0.068527   \n",
            "4  640            0.054488            0.322867            0.121088   \n",
            "\n",
            "   gyroscopeXAxis  gyroscopeYAxis  gyroscopeZAxis   Latitude  Longitude  \\\n",
            "0        0.000611        0.003360        0.000305  39.806938  -8.620294   \n",
            "1        0.005294       -0.002240       -0.000814  39.806938  -8.620294   \n",
            "2        0.016086       -0.008348       -0.005701  39.806938  -8.620294   \n",
            "3        0.024027       -0.013439       -0.017104  39.806938  -8.620294   \n",
            "4        0.019344       -0.010181       -0.030136  39.806938  -8.620294   \n",
            "\n",
            "   speed Km/h                      createdAt  \n",
            "0         0.0  2023-04-23T19:42:30.793+01:00  \n",
            "1         0.0  2023-04-23T19:42:31.043+01:00  \n",
            "2         0.0  2023-04-23T19:42:31.293+01:00  \n",
            "3         0.0  2023-04-23T19:42:31.544+01:00  \n",
            "4         0.0  2023-04-23T19:42:31.794+01:00  \n"
          ]
        },
        {
          "name": "stderr",
          "output_type": "stream",
          "text": [
            "C:\\Users\\PDesktop\\AppData\\Local\\Temp\\ipykernel_8032\\69872694.py:106: FutureWarning: The behavior of DataFrame concatenation with empty or all-NA entries is deprecated. In a future version, this will no longer exclude empty or all-NA columns when determining the result dtypes. To retain the old behavior, exclude the relevant entries before the concat operation.\n",
            "  data_bmw = pd.concat([data_bmw, file_data.copy()], axis=0)\n",
            "C:\\Users\\PDesktop\\AppData\\Local\\Temp\\ipykernel_8032\\69872694.py:113: FutureWarning: The behavior of DataFrame concatenation with empty or all-NA entries is deprecated. In a future version, this will no longer exclude empty or all-NA columns when determining the result dtypes. To retain the old behavior, exclude the relevant entries before the concat operation.\n",
            "  data_honda = pd.concat([data_honda, file_data.copy()], axis=0)\n"
          ]
        },
        {
          "name": "stdout",
          "output_type": "stream",
          "text": [
            "BMW Data shape: (3001, 8)\n",
            "BMW Labels shape: 3001\n",
            "Honda Data shape: (1081, 8)\n",
            "Honda Labels shape: 1081\n",
            "BMW Labels: ['aggressive' 'normal' 'slow']\n",
            "Honda Labels: ['aggressive' 'normal' 'slow']\n"
          ]
        }
      ],
      "source": [
        "import json\n",
        "import pandas as pd\n",
        "import numpy as np\n",
        "\n",
        "def apply_rolling_window(df):\n",
        "    \"\"\"\n",
        "    Apply a centered rolling mean with a window of 3 to each column of the DataFrame.\n",
        "    For each value, the function computes the mean of the value itself, the one before, and the one after.\n",
        "    \"\"\"\n",
        "    df = df.rolling(window=3, center=True, min_periods=1).mean()    \n",
        "    \n",
        "    return df\n",
        "\n",
        "directories = ['Acceleration', 'Brake', 'Intersection']\n",
        "column_names = ['accelerometerXAxis', 'accelerometerYAxis', 'accelerometerZAxis', 'gyroscopeXAxis', 'gyroscopeYAxis', 'gyroscopeZAxis', 'Latitude', 'Longitude']\n",
        "\n",
        "data_bmw = pd.DataFrame(columns=column_names)\n",
        "labels_bmw = []\n",
        "data_honda = pd.DataFrame(columns=column_names)\n",
        "labels_honda = []\n",
        "\n",
        "label_names = []\n",
        "\n",
        "\n",
        "\n",
        "# delete = None\n",
        "# delete_rolling = None\n",
        "\n",
        "# \\datasets\\IPL-Dataset\\Acceleration\\Till reached distance\\10m\\aggressive\\BMW e36\n",
        "test_file = os.path.join(dataset_dir, 'Acceleration', 'Till reached distance', '10m', 'aggressive', 'BMW e36', 'acceleration 0m 10m aggressive-23-04-2023-19-42-30.json')\n",
        "\n",
        "# print head\n",
        "print('Test file')\n",
        "test_data = json.load(open(test_file))\n",
        "test_data = test_data['capturedData']\n",
        "test_data = pd.DataFrame(test_data)\n",
        "print(test_data.head())\n",
        "test_data.to_csv('runtime_saves/test_data.csv', index=False)\n",
        "\n",
        "# Apply rolling window\n",
        "test_data_rolling = apply_rolling_window(test_data[['accelerometerXAxis', 'accelerometerYAxis', 'accelerometerZAxis', 'gyroscopeXAxis', 'gyroscopeYAxis', 'gyroscopeZAxis']])\n",
        "delete_rolling = test_data_rolling\n",
        "delete_rolling.to_csv('runtime_saves/delete_rolling.csv', index=False)\n",
        "\n",
        "test_data[['accelerometerXAxis', 'accelerometerYAxis', 'accelerometerZAxis', 'gyroscopeXAxis', 'gyroscopeYAxis', 'gyroscopeZAxis']] = test_data_rolling\n",
        "\n",
        "# print head\n",
        "print('Test file after rolling window')\n",
        "print(test_data.head())\n",
        "test_data.to_csv('runtime_saves/test_data_rolling.csv', index=False)\n",
        "\n",
        "# TODO Import other folders too\n",
        "\n",
        "for directory in directories:\n",
        "    for root, dirs, files in os.walk(os.path.join(dataset_dir, directory)):\n",
        "        if 'turn 90 degree constant speed' in root: # Skip this directory\n",
        "            continue\n",
        "        for file in files:\n",
        "            if file.endswith('.json'):\n",
        "                car = os.path.basename(root).split()[0].upper()            \n",
        "                label = os.path.basename(os.path.dirname(root))\n",
        "                # print(f'Processing: {car} : {label} : {directory} : {file}')\n",
        "                \n",
        "                file_data = json.load(open(os.path.join(root, file)))\n",
        "                file_data = file_data['capturedData']\n",
        "                file_data = pd.DataFrame(file_data)\n",
        "                # print('File data')\n",
        "                # print(file_data.head())\n",
        "                # # save to csv\n",
        "                # delete = file_data\n",
        "                # delete.to_csv('runtime_saves/delete.csv', index=False)\n",
        "                \n",
        "                \n",
        "                # Rename speed Km/h to speed\n",
        "                file_data.rename(columns={'speed Km/h': 'speed'}, inplace=True)\n",
        "                file_data.rename(columns={'speedKmh': 'speed'}, inplace=True)\n",
        "                \n",
        "                file_data.drop(['speed'], axis=1, inplace=True, errors='ignore')\n",
        "                \n",
        "                 # Drop timestamp\n",
        "                file_data = file_data.drop(['createdAt'], axis=1, errors='ignore')\n",
        "                file_data = file_data.drop(['timestamp'], axis=1, errors='ignore')   \n",
        "                file_data = file_data.drop(['id'], axis=1, errors='ignore')\n",
        "                \n",
        "                # Apply rolling window\n",
        "                file_data_rolling = apply_rolling_window(file_data[['accelerometerXAxis', 'accelerometerYAxis', 'accelerometerZAxis', 'gyroscopeXAxis', 'gyroscopeYAxis', 'gyroscopeZAxis']])\n",
        "                delete_rolling = file_data_rolling\n",
        "                delete_rolling.to_csv('runtime_saves/delete_rolling.csv', index=False)\n",
        "                \n",
        "                file_data[['accelerometerXAxis', 'accelerometerYAxis', 'accelerometerZAxis', 'gyroscopeXAxis', 'gyroscopeYAxis', 'gyroscopeZAxis']] = file_data_rolling\n",
        "    \n",
        "                labels = np.full((file_data.shape[0], 1), label)\n",
        "                \n",
        "                column_names = file_data.columns\n",
        "                # print(f'Column names: {column_names}')\n",
        "                \n",
        "                # If data is empty, create a new dataframe with the column names\n",
        "                if data_bmw.empty:\n",
        "                    data_bmw = pd.DataFrame(columns=column_names)\n",
        "                    # print(f'Data BMW shape: {data_bmw.shape}')\n",
        "                if data_honda.empty:\n",
        "                    data_honda = pd.DataFrame(columns=column_names)\n",
        "                    # print(f'Data HONDA shape: {data_honda.shape}')\n",
        "                \n",
        "                if car == 'BMW':                                      \n",
        "                    data_bmw = pd.concat([data_bmw, file_data.copy()], axis=0)\n",
        "                    # print(f'Data BMW shape: {data_bmw.shape}')\n",
        "                    \n",
        "                    labels_bmw += labels.tolist()\n",
        "                    # print(f'Labels BMW shape: {len(labels_bmw)}')\n",
        "                    \n",
        "                elif car == 'HONDA':\n",
        "                    data_honda = pd.concat([data_honda, file_data.copy()], axis=0)\n",
        "                    # print(f'Data HONDA shape: {data_honda.shape}')\n",
        "                    \n",
        "                    labels_honda += labels.tolist()\n",
        "                    # print(f'Labels HONDA shape: {len(labels_honda)}')\n",
        "                    \n",
        "# Show data shapes      \n",
        "print(f'BMW Data shape: {data_bmw.shape}')\n",
        "print(f'BMW Labels shape: {len(labels_bmw)}')\n",
        "print(f'Honda Data shape: {data_honda.shape}')\n",
        "print(f'Honda Labels shape: {len(labels_honda)}')\n",
        "\n",
        "# Show unique labels\n",
        "print(f'BMW Labels: {np.unique(labels_bmw)}')\n",
        "print(f'Honda Labels: {np.unique(labels_honda)}')\n",
        "label_names = np.unique(labels_bmw)\n",
        "\n",
        "# Save Data to CSV - runtime_saves folder\n",
        "data_bmw.to_csv('runtime_saves/bmw_data.csv', index=False)\n",
        "data_honda.to_csv('runtime_saves/honda_data.csv', index=False)\n",
        "labels_bmw = np.array(labels_bmw)\n",
        "labels_honda = np.array(labels_honda)\n",
        "\n",
        "# Save Labels to CSV - runtime_saves folder\n",
        "np.savetxt('runtime_saves/bmw_labels.csv', labels_bmw, delimiter=',', fmt='%s')\n",
        "np.savetxt('runtime_saves/honda_labels.csv', labels_honda, delimiter=',', fmt='%s')\n"
      ]
    },
    {
      "cell_type": "code",
      "execution_count": 9,
      "metadata": {
        "id": "B5wPPy3OiYj9"
      },
      "outputs": [],
      "source": [
        "import numpy as np\n",
        "import pandas as pd\n",
        "\n",
        "# Load the dataset into a DataFrame\n",
        "df_bmw = pd.read_csv('runtime_saves/bmw_data.csv')\n",
        "df_honda = pd.read_csv('runtime_saves/honda_data.csv')\n",
        "\n",
        "# Load the labels into a NumPy array\n",
        "labels_bmw = np.loadtxt('runtime_saves/bmw_labels.csv', delimiter=',', dtype=str)\n",
        "labels_honda = np.loadtxt('runtime_saves/honda_labels.csv', delimiter=',', dtype=str)\n",
        "\n",
        "labels = np.concatenate([labels_bmw, labels_honda], axis=0)"
      ]
    },
    {
      "cell_type": "markdown",
      "metadata": {},
      "source": [
        "## Show Labels"
      ]
    },
    {
      "cell_type": "code",
      "execution_count": 10,
      "metadata": {},
      "outputs": [
        {
          "data": {
            "image/png": "[encoded data removed]",
            "text/plain": [
              "<Figure size 1200x600 with 1 Axes>"
            ]
          },
          "metadata": {},
          "output_type": "display_data"
        },
        {
          "data": {
            "image/png": "[encoded data removed]",
            "text/plain": [
              "<Figure size 1200x600 with 1 Axes>"
            ]
          },
          "metadata": {},
          "output_type": "display_data"
        }
      ],
      "source": [
        "import matplotlib.pyplot as plt\n",
        "import seaborn as sns\n",
        "\n",
        "labels = pd.Series(labels)\n",
        "\n",
        "# plot the count of each label\n",
        "plt.figure(figsize=(12, 6))\n",
        "sns.countplot(x=labels, color='lightgreen')\n",
        "plt.title('Distribution of Labels')\n",
        "plt.xlabel('Label')\n",
        "plt.ylabel('Count')\n",
        "plt.show()\n",
        "\n",
        "\n",
        "plt.figure(figsize=(12, 6))\n",
        "sns.countplot(x=labels, color='lightgreen')\n",
        "plt.title('Distribuição das Classes')\n",
        "plt.xlabel('Classe')\n",
        "plt.ylabel('Contagem')\n",
        "plt.show()"
      ]
    },
    {
      "cell_type": "markdown",
      "metadata": {},
      "source": [
        "## Label Encoding"
      ]
    },
    {
      "cell_type": "code",
      "execution_count": 11,
      "metadata": {},
      "outputs": [],
      "source": [
        "from sklearn.preprocessing import LabelEncoder\n",
        "\n",
        "label_encoder = LabelEncoder()\n",
        "\n",
        "labels = label_encoder.fit_transform(labels)"
      ]
    },
    {
      "cell_type": "markdown",
      "metadata": {},
      "source": [
        "## Normalization"
      ]
    },
    {
      "cell_type": "code",
      "execution_count": 12,
      "metadata": {},
      "outputs": [
        {
          "name": "stdout",
          "output_type": "stream",
          "text": [
            "BMW data before normalization\n",
            "   accelerometerXAxis  accelerometerYAxis  accelerometerZAxis  gyroscopeXAxis  \\\n",
            "0            0.217283            0.374999            0.069029        0.000611   \n",
            "1            0.211436            0.684528           -0.016716        0.005294   \n",
            "2            0.144389            0.744242            0.012736        0.016086   \n",
            "3            0.135198            0.779640            0.068527        0.024027   \n",
            "4            0.054488            0.322867            0.121088        0.019344   \n",
            "\n",
            "   gyroscopeYAxis  gyroscopeZAxis   Latitude  Longitude  \n",
            "0        0.003360        0.000305  39.806938  -8.620294  \n",
            "1       -0.002240       -0.000814  39.806938  -8.620294  \n",
            "2       -0.008348       -0.005701  39.806938  -8.620294  \n",
            "3       -0.013439       -0.017104  39.806938  -8.620294  \n",
            "4       -0.010181       -0.030136  39.806938  -8.620294  \n",
            "BMW data after normalization\n",
            "   accelerometerXAxis  accelerometerYAxis  accelerometerZAxis  gyroscopeXAxis  \\\n",
            "0            0.637167            0.847469            0.226415        0.361504   \n",
            "1            0.635849            0.874252            0.213532        0.377372   \n",
            "2            0.620730            0.879419            0.217957        0.413936   \n",
            "3            0.618658            0.882482            0.226339        0.440842   \n",
            "4            0.600458            0.842958            0.234237        0.424974   \n",
            "\n",
            "   gyroscopeYAxis  gyroscopeZAxis   Latitude  Longitude  \n",
            "0        0.590126        0.448040  39.806938  -8.620294  \n",
            "1        0.569078        0.447157  39.806938  -8.620294  \n",
            "2        0.546116        0.443302  39.806938  -8.620294  \n",
            "3        0.526980        0.434308  39.806938  -8.620294  \n",
            "4        0.539227        0.424028  39.806938  -8.620294  \n",
            "Test data after normalization\n"
          ]
        }
      ],
      "source": [
        "def normalize_between_0_and_1(data, columns):\n",
        "    for column in columns:\n",
        "        if column not in data.columns:\n",
        "            print(f\"[WARNING] {column} not found in DataFrame.\")\n",
        "            continue\n",
        "        else:\n",
        "            max_value = np.max(data[column])\n",
        "            min_value = np.min(data[column])\n",
        "            data[column] = (data[column] - min_value) / (max_value - min_value)\n",
        "    return data\n",
        "\n",
        "columns_to_normalize = ['accelerometerXAxis', 'accelerometerYAxis', 'accelerometerZAxis', 'gyroscopeXAxis', 'gyroscopeYAxis', 'gyroscopeZAxis']\n",
        "\n",
        "print('BMW data before normalization')\n",
        "print(df_bmw.head())\n",
        "\n",
        "df_bmw = normalize_between_0_and_1(df_bmw, columns_to_normalize)\n",
        "df_honda = normalize_between_0_and_1(df_honda, columns_to_normalize)\n",
        "\n",
        "print('BMW data after normalization')\n",
        "print(df_bmw.head())\n",
        "\n",
        "\n",
        "test_data_2 = normalize_between_0_and_1(test_data_rolling, columns_to_normalize)\n",
        "print('Test data after normalization')\n",
        "test_data_2.to_csv('runtime_saves/test_data_2.csv', index=False)"
      ]
    },
    {
      "cell_type": "markdown",
      "metadata": {},
      "source": [
        "## Concatenate Data"
      ]
    },
    {
      "cell_type": "code",
      "execution_count": 13,
      "metadata": {},
      "outputs": [
        {
          "name": "stdout",
          "output_type": "stream",
          "text": [
            "   accelerometerXAxis  accelerometerYAxis  accelerometerZAxis  gyroscopeXAxis  \\\n",
            "0            0.637167            0.847469            0.226415        0.361504   \n",
            "1            0.635849            0.874252            0.213532        0.377372   \n",
            "2            0.620730            0.879419            0.217957        0.413936   \n",
            "3            0.618658            0.882482            0.226339        0.440842   \n",
            "4            0.600458            0.842958            0.234237        0.424974   \n",
            "\n",
            "   gyroscopeYAxis  gyroscopeZAxis   Latitude  Longitude  label  \n",
            "0        0.590126        0.448040  39.806938  -8.620294      0  \n",
            "1        0.569078        0.447157  39.806938  -8.620294      0  \n",
            "2        0.546116        0.443302  39.806938  -8.620294      0  \n",
            "3        0.526980        0.434308  39.806938  -8.620294      0  \n",
            "4        0.539227        0.424028  39.806938  -8.620294      0  \n"
          ]
        }
      ],
      "source": [
        "df = pd.concat([df_bmw, df_honda], axis=0)\n",
        "\n",
        "# create label column in the dataframe\n",
        "df['label'] = labels\n",
        "\n",
        "print(df.head())"
      ]
    },
    {
      "cell_type": "markdown",
      "metadata": {},
      "source": [
        "## Create Sequences"
      ]
    },
    {
      "cell_type": "code",
      "execution_count": 14,
      "metadata": {},
      "outputs": [
        {
          "name": "stdout",
          "output_type": "stream",
          "text": [
            "X shape: (4067, 16, 8)\n",
            "y shape: (4067,)\n"
          ]
        }
      ],
      "source": [
        "import numpy as np\n",
        "from scipy.stats import mode\n",
        "\n",
        "def create_dataset(data, labels, window_size=16, step_size=2):\n",
        "    X, y = [], []\n",
        "    for i in range(0, len(data) - window_size + 1, step_size):\n",
        "        # Create the window of data\n",
        "        X.append(data[i:i + window_size].values)        \n",
        "        \n",
        "         # Find the most frequent string label in the current window\n",
        "        window_labels = labels[i:i + window_size]\n",
        "        most_frequent_label = mode(window_labels, axis=None)[0]\n",
        "        \n",
        "        # Add the most frequent label as the label of the current window\n",
        "        y.append(most_frequent_label)\n",
        "            \n",
        "    return np.array(X), np.array(y)\n",
        "\n",
        "time_steps = 16\n",
        "step_size = 1\n",
        "\n",
        "X, y = create_dataset(\n",
        "    df[['accelerometerXAxis', 'accelerometerYAxis', 'accelerometerZAxis',\n",
        "                   'gyroscopeXAxis', 'gyroscopeYAxis', 'gyroscopeZAxis', 'Latitude', 'Longitude']],\n",
        "    df['label'],\n",
        "    window_size=time_steps,\n",
        "    step_size=step_size    \n",
        ")\n",
        "\n",
        "print(f'X shape: {X.shape}')\n",
        "print(f'y shape: {y.shape}')\n",
        "\n",
        "# save the data to a npy\n",
        "np.save('runtime_saves/X.npy', X)\n",
        "np.savetxt('runtime_saves/y.csv', y, delimiter=',', fmt='%d')"
      ]
    },
    {
      "cell_type": "markdown",
      "metadata": {},
      "source": [
        "# Split Dataset for Model Training\n",
        "- 70% Training\n",
        "- 20% Test\n",
        "- 10% Validation"
      ]
    },
    {
      "cell_type": "code",
      "execution_count": 15,
      "metadata": {},
      "outputs": [
        {
          "name": "stdout",
          "output_type": "stream",
          "text": [
            "X_train shape: (2927, 16, 8)\n",
            "y_train shape: (2927,)\n",
            "\n",
            "X_test shape: (814, 16, 8)\n",
            "y_test shape: (814,)\n",
            "\n",
            "X_validation shape: (326, 16, 8)\n",
            "y_validation shape: (326,)\n"
          ]
        }
      ],
      "source": [
        "from sklearn.model_selection import train_test_split\n",
        "\n",
        "X_train, X_test, y_train, y_test = train_test_split(X, y, test_size=0.2, shuffle=True, stratify=y, random_state=23)\n",
        "X_train, X_validation, y_train, y_validation = train_test_split(X_train, y_train, test_size=0.1, shuffle=True, stratify=y_train, random_state=23)\n",
        "\n",
        "print(f'X_train shape: {X_train.shape}')\n",
        "print(f'y_train shape: {y_train.shape}\\n')\n",
        "print(f'X_test shape: {X_test.shape}')\n",
        "print(f'y_test shape: {y_test.shape}\\n')\n",
        "print(f'X_validation shape: {X_validation.shape}')\n",
        "print(f'y_validation shape: {y_validation.shape}')\n"
      ]
    },
    {
      "cell_type": "code",
      "execution_count": 16,
      "metadata": {},
      "outputs": [],
      "source": [
        "# from tensorflow.keras import backend as K\n",
        "\n",
        "# K.clear_session()"
      ]
    },
    {
      "cell_type": "markdown",
      "metadata": {},
      "source": [
        "# **MODEL ARCHITECTURE** - Stacked LSTM"
      ]
    },
    {
      "cell_type": "code",
      "execution_count": 17,
      "metadata": {},
      "outputs": [
        {
          "name": "stdout",
          "output_type": "stream",
          "text": [
            "Model: \"model\"\n",
            "_________________________________________________________________\n",
            " Layer (type)                Output Shape              Param #   \n",
            "=================================================================\n",
            " input_1 (InputLayer)        [(None, 16, 8)]           0         \n",
            "                                                                 \n",
            " lstm (LSTM)                 (None, 16, 64)            18688     \n",
            "                                                                 \n",
            " batch_normalization (Batch  (None, 16, 64)            256       \n",
            " Normalization)                                                  \n",
            "                                                                 \n",
            " lstm_1 (LSTM)               (None, 16, 64)            33024     \n",
            "                                                                 \n",
            " batch_normalization_1 (Bat  (None, 16, 64)            256       \n",
            " chNormalization)                                                \n",
            "                                                                 \n",
            " lstm_2 (LSTM)               (None, 64)                33024     \n",
            "                                                                 \n",
            " batch_normalization_2 (Bat  (None, 64)                256       \n",
            " chNormalization)                                                \n",
            "                                                                 \n",
            " dense (Dense)               (None, 3)                 195       \n",
            "                                                                 \n",
            "=================================================================\n",
            "Total params: 85699 (334.76 KB)\n",
            "Trainable params: 85315 (333.26 KB)\n",
            "Non-trainable params: 384 (1.50 KB)\n",
            "_________________________________________________________________\n"
          ]
        }
      ],
      "source": [
        "from tensorflow import keras\n",
        "from tensorflow.keras.layers import LSTM, Dense, Dropout, BatchNormalization\n",
        "\n",
        "# Inputs\n",
        "input_shape = (X_train.shape[1], X_train.shape[2])\n",
        "inputs = keras.Input(shape=input_shape)\n",
        "\n",
        "# Architecture\n",
        "x = LSTM(64, return_sequences=True)(inputs)\n",
        "x = BatchNormalization()(x)\n",
        "\n",
        "x = LSTM(64, return_sequences=True)(x)\n",
        "x = BatchNormalization()(x)\n",
        "\n",
        "x = LSTM(64)(x)\n",
        "x = BatchNormalization()(x)\n",
        "\n",
        "outputs = Dense(3, activation='softmax')(x)\n",
        "\n",
        "# Create the model\n",
        "model = keras.Model(inputs=inputs, outputs=outputs)\n",
        "\n",
        "model.summary()"
      ]
    },
    {
      "cell_type": "markdown",
      "metadata": {},
      "source": [
        "## Compile Model"
      ]
    },
    {
      "cell_type": "code",
      "execution_count": 52,
      "metadata": {},
      "outputs": [],
      "source": [
        "from tensorflow.keras import optimizers\n",
        "\n",
        "# model.compile(optimizer=optimizers.Adam(learning_rate=0.01), loss='sparse_categorical_crossentropy', metrics=['accuracy'])\n",
        "\n",
        "model.compile(optimizer='adam', loss='sparse_categorical_crossentropy', metrics=['accuracy'])"
      ]
    },
    {
      "cell_type": "markdown",
      "metadata": {},
      "source": [
        "## Train Model"
      ]
    },
    {
      "cell_type": "code",
      "execution_count": 53,
      "metadata": {},
      "outputs": [
        {
          "name": "stdout",
          "output_type": "stream",
          "text": [
            "Epoch 1/150\n",
            "183/183 [==============================] - 11s 23ms/step - loss: 1.0305 - accuracy: 0.4985 - val_loss: 1.2626 - val_accuracy: 0.3098 - lr: 0.0010\n",
            "Epoch 2/150\n",
            "  9/183 [>.............................] - ETA: 2s - loss: 0.8928 - accuracy: 0.6111"
          ]
        },
        {
          "name": "stderr",
          "output_type": "stream",
          "text": [
            "c:\\Users\\PDesktop\\AppData\\Local\\Programs\\Python\\Python311\\Lib\\site-packages\\keras\\src\\engine\\training.py:3103: UserWarning: You are saving your model as an HDF5 file via `model.save()`. This file format is considered legacy. We recommend using instead the native Keras format, e.g. `model.save('my_model.keras')`.\n",
            "  saving_api.save_model(\n"
          ]
        },
        {
          "name": "stdout",
          "output_type": "stream",
          "text": [
            "183/183 [==============================] - 3s 15ms/step - loss: 0.8964 - accuracy: 0.5808 - val_loss: 2.3341 - val_accuracy: 0.2546 - lr: 0.0010\n",
            "Epoch 3/150\n",
            "183/183 [==============================] - 3s 15ms/step - loss: 0.8268 - accuracy: 0.6061 - val_loss: 4.2811 - val_accuracy: 0.2546 - lr: 0.0010\n",
            "Epoch 4/150\n",
            "183/183 [==============================] - 3s 15ms/step - loss: 0.7867 - accuracy: 0.6437 - val_loss: 3.3709 - val_accuracy: 0.2546 - lr: 0.0010\n",
            "Epoch 5/150\n",
            "183/183 [==============================] - 3s 16ms/step - loss: 0.7413 - accuracy: 0.6666 - val_loss: 1.9756 - val_accuracy: 0.5031 - lr: 0.0010\n",
            "Epoch 6/150\n",
            "183/183 [==============================] - 3s 16ms/step - loss: 0.7148 - accuracy: 0.6819 - val_loss: 1.7773 - val_accuracy: 0.5000 - lr: 0.0010\n",
            "Epoch 7/150\n",
            "183/183 [==============================] - 3s 18ms/step - loss: 0.6741 - accuracy: 0.7052 - val_loss: 4.3357 - val_accuracy: 0.2546 - lr: 0.0010\n",
            "Epoch 8/150\n",
            "183/183 [==============================] - 3s 16ms/step - loss: 0.6533 - accuracy: 0.7236 - val_loss: 2.9346 - val_accuracy: 0.2515 - lr: 0.0010\n",
            "Epoch 9/150\n",
            "183/183 [==============================] - 3s 18ms/step - loss: 0.6320 - accuracy: 0.7311 - val_loss: 2.3826 - val_accuracy: 0.4018 - lr: 0.0010\n",
            "Epoch 10/150\n",
            "183/183 [==============================] - 3s 16ms/step - loss: 0.6073 - accuracy: 0.7349 - val_loss: 2.0179 - val_accuracy: 0.3497 - lr: 0.0010\n",
            "Epoch 11/150\n",
            "183/183 [==============================] - 3s 16ms/step - loss: 0.5664 - accuracy: 0.7530 - val_loss: 2.3638 - val_accuracy: 0.4724 - lr: 0.0010\n",
            "Epoch 12/150\n",
            "183/183 [==============================] - ETA: 0s - loss: 0.5396 - accuracy: 0.7714\n",
            "Epoch 12: ReduceLROnPlateau reducing learning rate to 0.0005000000237487257.\n",
            "183/183 [==============================] - 3s 16ms/step - loss: 0.5396 - accuracy: 0.7714 - val_loss: 2.4900 - val_accuracy: 0.4172 - lr: 0.0010\n",
            "Epoch 13/150\n",
            "183/183 [==============================] - 3s 15ms/step - loss: 0.4804 - accuracy: 0.8005 - val_loss: 6.1534 - val_accuracy: 0.3313 - lr: 5.0000e-04\n",
            "Epoch 14/150\n",
            "183/183 [==============================] - 3s 16ms/step - loss: 0.4509 - accuracy: 0.8032 - val_loss: 1.4610 - val_accuracy: 0.4632 - lr: 5.0000e-04\n",
            "Epoch 15/150\n",
            "183/183 [==============================] - 3s 15ms/step - loss: 0.4543 - accuracy: 0.8066 - val_loss: 1.3806 - val_accuracy: 0.3681 - lr: 5.0000e-04\n",
            "Epoch 16/150\n",
            "183/183 [==============================] - 3s 15ms/step - loss: 0.4159 - accuracy: 0.8220 - val_loss: 4.1282 - val_accuracy: 0.2853 - lr: 5.0000e-04\n",
            "Epoch 17/150\n",
            "183/183 [==============================] - 3s 14ms/step - loss: 0.4068 - accuracy: 0.8278 - val_loss: 3.0179 - val_accuracy: 0.2607 - lr: 5.0000e-04\n",
            "Epoch 18/150\n",
            "183/183 [==============================] - 3s 14ms/step - loss: 0.4224 - accuracy: 0.8271 - val_loss: 3.0407 - val_accuracy: 0.2699 - lr: 5.0000e-04\n",
            "Epoch 19/150\n",
            "180/183 [============================>.] - ETA: 0s - loss: 0.3793 - accuracy: 0.8462\n",
            "Epoch 19: ReduceLROnPlateau reducing learning rate to 0.0002500000118743628.\n",
            "183/183 [==============================] - 2s 14ms/step - loss: 0.3786 - accuracy: 0.8473 - val_loss: 1.4448 - val_accuracy: 0.4141 - lr: 5.0000e-04\n",
            "Epoch 20/150\n",
            "183/183 [==============================] - 3s 14ms/step - loss: 0.3426 - accuracy: 0.8575 - val_loss: 1.5007 - val_accuracy: 0.5552 - lr: 2.5000e-04\n",
            "Epoch 21/150\n",
            "183/183 [==============================] - 3s 14ms/step - loss: 0.3121 - accuracy: 0.8750 - val_loss: 0.4791 - val_accuracy: 0.8190 - lr: 2.5000e-04\n",
            "Epoch 22/150\n",
            "183/183 [==============================] - 3s 14ms/step - loss: 0.3187 - accuracy: 0.8739 - val_loss: 1.3247 - val_accuracy: 0.5613 - lr: 2.5000e-04\n",
            "Epoch 23/150\n",
            "183/183 [==============================] - 3s 14ms/step - loss: 0.2987 - accuracy: 0.8773 - val_loss: 1.9588 - val_accuracy: 0.4202 - lr: 2.5000e-04\n",
            "Epoch 24/150\n",
            "183/183 [==============================] - 3s 14ms/step - loss: 0.2881 - accuracy: 0.8890 - val_loss: 1.0443 - val_accuracy: 0.6687 - lr: 2.5000e-04\n",
            "Epoch 25/150\n",
            "183/183 [==============================] - 3s 14ms/step - loss: 0.2855 - accuracy: 0.8845 - val_loss: 1.2351 - val_accuracy: 0.5828 - lr: 2.5000e-04\n",
            "Epoch 26/150\n",
            "183/183 [==============================] - 3s 14ms/step - loss: 0.2963 - accuracy: 0.8818 - val_loss: 3.1682 - val_accuracy: 0.3926 - lr: 2.5000e-04\n",
            "Epoch 27/150\n",
            "183/183 [==============================] - 3s 15ms/step - loss: 0.2865 - accuracy: 0.8869 - val_loss: 2.8482 - val_accuracy: 0.4387 - lr: 2.5000e-04\n",
            "Epoch 28/150\n",
            "181/183 [============================>.] - ETA: 0s - loss: 0.2720 - accuracy: 0.8950\n",
            "Epoch 28: ReduceLROnPlateau reducing learning rate to 0.0001250000059371814.\n",
            "183/183 [==============================] - 3s 14ms/step - loss: 0.2712 - accuracy: 0.8958 - val_loss: 1.3915 - val_accuracy: 0.5368 - lr: 2.5000e-04\n",
            "Epoch 29/150\n",
            "183/183 [==============================] - 3s 14ms/step - loss: 0.2534 - accuracy: 0.8999 - val_loss: 1.0348 - val_accuracy: 0.7209 - lr: 1.2500e-04\n",
            "Epoch 30/150\n",
            "183/183 [==============================] - 3s 14ms/step - loss: 0.2392 - accuracy: 0.9105 - val_loss: 1.2074 - val_accuracy: 0.5982 - lr: 1.2500e-04\n",
            "Epoch 31/150\n",
            "183/183 [==============================] - 3s 14ms/step - loss: 0.2381 - accuracy: 0.9108 - val_loss: 1.1943 - val_accuracy: 0.6104 - lr: 1.2500e-04\n",
            "Epoch 32/150\n",
            "183/183 [==============================] - 3s 14ms/step - loss: 0.2335 - accuracy: 0.9064 - val_loss: 1.1690 - val_accuracy: 0.6871 - lr: 1.2500e-04\n",
            "Epoch 33/150\n",
            "183/183 [==============================] - 3s 14ms/step - loss: 0.2205 - accuracy: 0.9204 - val_loss: 1.3465 - val_accuracy: 0.6472 - lr: 1.2500e-04\n",
            "Epoch 34/150\n",
            "183/183 [==============================] - 3s 14ms/step - loss: 0.2318 - accuracy: 0.9101 - val_loss: 0.6090 - val_accuracy: 0.7454 - lr: 1.2500e-04\n",
            "Epoch 35/150\n",
            "183/183 [==============================] - ETA: 0s - loss: 0.2138 - accuracy: 0.9214\n",
            "Epoch 35: ReduceLROnPlateau reducing learning rate to 6.25000029685907e-05.\n",
            "183/183 [==============================] - 3s 14ms/step - loss: 0.2138 - accuracy: 0.9214 - val_loss: 1.3010 - val_accuracy: 0.6380 - lr: 1.2500e-04\n",
            "Epoch 36/150\n",
            "183/183 [==============================] - 3s 14ms/step - loss: 0.1988 - accuracy: 0.9252 - val_loss: 0.4233 - val_accuracy: 0.8374 - lr: 6.2500e-05\n",
            "Epoch 37/150\n",
            "183/183 [==============================] - 3s 15ms/step - loss: 0.2165 - accuracy: 0.9166 - val_loss: 0.7834 - val_accuracy: 0.7423 - lr: 6.2500e-05\n",
            "Epoch 38/150\n",
            "183/183 [==============================] - 3s 15ms/step - loss: 0.1980 - accuracy: 0.9245 - val_loss: 0.5262 - val_accuracy: 0.7853 - lr: 6.2500e-05\n",
            "Epoch 39/150\n",
            "183/183 [==============================] - 3s 18ms/step - loss: 0.2036 - accuracy: 0.9231 - val_loss: 0.3223 - val_accuracy: 0.8712 - lr: 6.2500e-05\n",
            "Epoch 40/150\n",
            "183/183 [==============================] - 3s 14ms/step - loss: 0.1947 - accuracy: 0.9279 - val_loss: 0.4998 - val_accuracy: 0.8466 - lr: 6.2500e-05\n",
            "Epoch 41/150\n",
            "183/183 [==============================] - 3s 14ms/step - loss: 0.1836 - accuracy: 0.9317 - val_loss: 1.3826 - val_accuracy: 0.6350 - lr: 6.2500e-05\n",
            "Epoch 42/150\n",
            "183/183 [==============================] - 3s 14ms/step - loss: 0.1957 - accuracy: 0.9283 - val_loss: 0.3180 - val_accuracy: 0.8773 - lr: 6.2500e-05\n",
            "Epoch 43/150\n",
            "183/183 [==============================] - 3s 14ms/step - loss: 0.1953 - accuracy: 0.9255 - val_loss: 0.6698 - val_accuracy: 0.7669 - lr: 6.2500e-05\n",
            "Epoch 44/150\n",
            "183/183 [==============================] - 3s 15ms/step - loss: 0.1694 - accuracy: 0.9341 - val_loss: 1.6999 - val_accuracy: 0.5859 - lr: 6.2500e-05\n",
            "Epoch 45/150\n",
            "183/183 [==============================] - 3s 15ms/step - loss: 0.1967 - accuracy: 0.9245 - val_loss: 0.6653 - val_accuracy: 0.7730 - lr: 6.2500e-05\n",
            "Epoch 46/150\n",
            "183/183 [==============================] - 3s 14ms/step - loss: 0.1954 - accuracy: 0.9286 - val_loss: 0.5564 - val_accuracy: 0.8252 - lr: 6.2500e-05\n",
            "Epoch 47/150\n",
            "183/183 [==============================] - 3s 14ms/step - loss: 0.1886 - accuracy: 0.9286 - val_loss: 0.4127 - val_accuracy: 0.8221 - lr: 6.2500e-05\n",
            "Epoch 48/150\n",
            "183/183 [==============================] - 3s 14ms/step - loss: 0.1694 - accuracy: 0.9382 - val_loss: 0.4852 - val_accuracy: 0.8313 - lr: 6.2500e-05\n",
            "Epoch 49/150\n",
            "181/183 [============================>.] - ETA: 0s - loss: 0.1904 - accuracy: 0.9306\n",
            "Epoch 49: ReduceLROnPlateau reducing learning rate to 3.125000148429535e-05.\n",
            "183/183 [==============================] - 3s 15ms/step - loss: 0.1896 - accuracy: 0.9310 - val_loss: 0.3532 - val_accuracy: 0.8558 - lr: 6.2500e-05\n",
            "Epoch 50/150\n",
            "183/183 [==============================] - 3s 15ms/step - loss: 0.1798 - accuracy: 0.9324 - val_loss: 0.2357 - val_accuracy: 0.9049 - lr: 3.1250e-05\n",
            "Epoch 51/150\n",
            "183/183 [==============================] - 3s 14ms/step - loss: 0.1814 - accuracy: 0.9358 - val_loss: 0.3404 - val_accuracy: 0.8650 - lr: 3.1250e-05\n",
            "Epoch 52/150\n",
            "183/183 [==============================] - 3s 15ms/step - loss: 0.1622 - accuracy: 0.9409 - val_loss: 0.1835 - val_accuracy: 0.9294 - lr: 3.1250e-05\n",
            "Epoch 53/150\n",
            "183/183 [==============================] - 3s 14ms/step - loss: 0.1622 - accuracy: 0.9447 - val_loss: 0.4719 - val_accuracy: 0.8313 - lr: 3.1250e-05\n",
            "Epoch 54/150\n",
            "183/183 [==============================] - 3s 15ms/step - loss: 0.1635 - accuracy: 0.9385 - val_loss: 0.3747 - val_accuracy: 0.8466 - lr: 3.1250e-05\n",
            "Epoch 55/150\n",
            "183/183 [==============================] - 3s 15ms/step - loss: 0.1729 - accuracy: 0.9412 - val_loss: 0.4931 - val_accuracy: 0.8129 - lr: 3.1250e-05\n",
            "Epoch 56/150\n",
            "183/183 [==============================] - 3s 14ms/step - loss: 0.1683 - accuracy: 0.9368 - val_loss: 0.1736 - val_accuracy: 0.9387 - lr: 3.1250e-05\n",
            "Epoch 57/150\n",
            "183/183 [==============================] - 3s 14ms/step - loss: 0.1741 - accuracy: 0.9351 - val_loss: 0.6227 - val_accuracy: 0.7945 - lr: 3.1250e-05\n",
            "Epoch 58/150\n",
            "183/183 [==============================] - 3s 14ms/step - loss: 0.1763 - accuracy: 0.9365 - val_loss: 0.2626 - val_accuracy: 0.8865 - lr: 3.1250e-05\n",
            "Epoch 59/150\n",
            "183/183 [==============================] - 4s 20ms/step - loss: 0.1745 - accuracy: 0.9371 - val_loss: 0.2585 - val_accuracy: 0.9018 - lr: 3.1250e-05\n",
            "Epoch 60/150\n",
            "183/183 [==============================] - 4s 22ms/step - loss: 0.1561 - accuracy: 0.9460 - val_loss: 0.3722 - val_accuracy: 0.8650 - lr: 3.1250e-05\n",
            "Epoch 61/150\n",
            "183/183 [==============================] - 3s 15ms/step - loss: 0.1681 - accuracy: 0.9378 - val_loss: 0.1759 - val_accuracy: 0.9356 - lr: 3.1250e-05\n",
            "Epoch 62/150\n",
            "183/183 [==============================] - 3s 17ms/step - loss: 0.1665 - accuracy: 0.9361 - val_loss: 0.2751 - val_accuracy: 0.8896 - lr: 3.1250e-05\n",
            "Epoch 63/150\n",
            "182/183 [============================>.] - ETA: 0s - loss: 0.1617 - accuracy: 0.9385\n",
            "Epoch 63: ReduceLROnPlateau reducing learning rate to 1.5625000742147677e-05.\n",
            "183/183 [==============================] - 3s 15ms/step - loss: 0.1616 - accuracy: 0.9385 - val_loss: 0.2256 - val_accuracy: 0.9080 - lr: 3.1250e-05\n",
            "Epoch 64/150\n",
            "183/183 [==============================] - 3s 15ms/step - loss: 0.1657 - accuracy: 0.9402 - val_loss: 0.1847 - val_accuracy: 0.9325 - lr: 1.5625e-05\n",
            "Epoch 65/150\n",
            "183/183 [==============================] - 3s 17ms/step - loss: 0.1719 - accuracy: 0.9347 - val_loss: 0.1683 - val_accuracy: 0.9325 - lr: 1.5625e-05\n",
            "Epoch 66/150\n",
            "183/183 [==============================] - 3s 15ms/step - loss: 0.1692 - accuracy: 0.9385 - val_loss: 0.1728 - val_accuracy: 0.9479 - lr: 1.5625e-05\n",
            "Epoch 67/150\n",
            "183/183 [==============================] - 3s 16ms/step - loss: 0.1574 - accuracy: 0.9426 - val_loss: 0.2862 - val_accuracy: 0.8865 - lr: 1.5625e-05\n",
            "Epoch 68/150\n",
            "183/183 [==============================] - 3s 15ms/step - loss: 0.1619 - accuracy: 0.9436 - val_loss: 0.2495 - val_accuracy: 0.9018 - lr: 1.5625e-05\n",
            "Epoch 69/150\n",
            "183/183 [==============================] - 3s 18ms/step - loss: 0.1563 - accuracy: 0.9416 - val_loss: 0.2258 - val_accuracy: 0.9049 - lr: 1.5625e-05\n",
            "Epoch 70/150\n",
            "183/183 [==============================] - 3s 16ms/step - loss: 0.1630 - accuracy: 0.9402 - val_loss: 0.3239 - val_accuracy: 0.8773 - lr: 1.5625e-05\n",
            "Epoch 71/150\n",
            "183/183 [==============================] - 3s 18ms/step - loss: 0.1617 - accuracy: 0.9436 - val_loss: 0.1862 - val_accuracy: 0.9417 - lr: 1.5625e-05\n",
            "Epoch 72/150\n",
            "183/183 [==============================] - 4s 24ms/step - loss: 0.1506 - accuracy: 0.9436 - val_loss: 0.1599 - val_accuracy: 0.9387 - lr: 1.5625e-05\n",
            "Epoch 73/150\n",
            "183/183 [==============================] - ETA: 0s - loss: 0.1739 - accuracy: 0.9351\n",
            "Epoch 73: ReduceLROnPlateau reducing learning rate to 7.812500371073838e-06.\n",
            "183/183 [==============================] - 3s 17ms/step - loss: 0.1739 - accuracy: 0.9351 - val_loss: 0.3254 - val_accuracy: 0.8773 - lr: 1.5625e-05\n",
            "Epoch 74/150\n",
            "183/183 [==============================] - 3s 14ms/step - loss: 0.1588 - accuracy: 0.9436 - val_loss: 0.1482 - val_accuracy: 0.9448 - lr: 7.8125e-06\n",
            "Epoch 75/150\n",
            "183/183 [==============================] - 3s 14ms/step - loss: 0.1644 - accuracy: 0.9334 - val_loss: 0.1896 - val_accuracy: 0.9233 - lr: 7.8125e-06\n",
            "Epoch 76/150\n",
            "183/183 [==============================] - 3s 15ms/step - loss: 0.1459 - accuracy: 0.9450 - val_loss: 0.1453 - val_accuracy: 0.9448 - lr: 7.8125e-06\n",
            "Epoch 77/150\n",
            "183/183 [==============================] - 3s 16ms/step - loss: 0.1553 - accuracy: 0.9470 - val_loss: 0.1640 - val_accuracy: 0.9387 - lr: 7.8125e-06\n",
            "Epoch 78/150\n",
            "183/183 [==============================] - 3s 14ms/step - loss: 0.1427 - accuracy: 0.9505 - val_loss: 0.1503 - val_accuracy: 0.9479 - lr: 7.8125e-06\n",
            "Epoch 79/150\n",
            "183/183 [==============================] - 3s 14ms/step - loss: 0.1571 - accuracy: 0.9423 - val_loss: 0.1518 - val_accuracy: 0.9417 - lr: 7.8125e-06\n",
            "Epoch 80/150\n",
            "183/183 [==============================] - ETA: 0s - loss: 0.1638 - accuracy: 0.9419\n",
            "Epoch 80: ReduceLROnPlateau reducing learning rate to 3.906250185536919e-06.\n",
            "183/183 [==============================] - 3s 15ms/step - loss: 0.1638 - accuracy: 0.9419 - val_loss: 0.1809 - val_accuracy: 0.9294 - lr: 7.8125e-06\n",
            "Epoch 81/150\n",
            "183/183 [==============================] - 3s 14ms/step - loss: 0.1460 - accuracy: 0.9484 - val_loss: 0.1536 - val_accuracy: 0.9417 - lr: 3.9063e-06\n",
            "Epoch 82/150\n",
            "183/183 [==============================] - 3s 15ms/step - loss: 0.1538 - accuracy: 0.9433 - val_loss: 0.1526 - val_accuracy: 0.9448 - lr: 3.9063e-06\n",
            "Epoch 83/150\n",
            "183/183 [==============================] - 3s 15ms/step - loss: 0.1594 - accuracy: 0.9453 - val_loss: 0.1530 - val_accuracy: 0.9448 - lr: 3.9063e-06\n",
            "Epoch 84/150\n",
            "183/183 [==============================] - 3s 18ms/step - loss: 0.1481 - accuracy: 0.9477 - val_loss: 0.1473 - val_accuracy: 0.9448 - lr: 3.9063e-06\n",
            "Epoch 85/150\n",
            "183/183 [==============================] - 3s 14ms/step - loss: 0.1478 - accuracy: 0.9464 - val_loss: 0.1783 - val_accuracy: 0.9325 - lr: 3.9063e-06\n",
            "Epoch 86/150\n",
            "183/183 [==============================] - 3s 15ms/step - loss: 0.1549 - accuracy: 0.9419 - val_loss: 0.1888 - val_accuracy: 0.9356 - lr: 3.9063e-06\n",
            "Epoch 87/150\n",
            "181/183 [============================>.] - ETA: 0s - loss: 0.1516 - accuracy: 0.9468\n",
            "Epoch 87: ReduceLROnPlateau reducing learning rate to 1.9531250927684596e-06.\n",
            "183/183 [==============================] - 3s 14ms/step - loss: 0.1522 - accuracy: 0.9464 - val_loss: 0.1532 - val_accuracy: 0.9448 - lr: 3.9063e-06\n",
            "Epoch 88/150\n",
            "183/183 [==============================] - 3s 14ms/step - loss: 0.1505 - accuracy: 0.9433 - val_loss: 0.1522 - val_accuracy: 0.9356 - lr: 1.9531e-06\n",
            "Epoch 89/150\n",
            "183/183 [==============================] - 3s 15ms/step - loss: 0.1592 - accuracy: 0.9378 - val_loss: 0.1470 - val_accuracy: 0.9417 - lr: 1.9531e-06\n",
            "Epoch 90/150\n",
            "183/183 [==============================] - 3s 15ms/step - loss: 0.1621 - accuracy: 0.9375 - val_loss: 0.1507 - val_accuracy: 0.9387 - lr: 1.9531e-06\n",
            "Epoch 91/150\n",
            "183/183 [==============================] - 3s 16ms/step - loss: 0.1606 - accuracy: 0.9378 - val_loss: 0.1536 - val_accuracy: 0.9417 - lr: 1.9531e-06\n",
            "Epoch 92/150\n",
            "183/183 [==============================] - 3s 17ms/step - loss: 0.1465 - accuracy: 0.9467 - val_loss: 0.1548 - val_accuracy: 0.9417 - lr: 1.9531e-06\n",
            "Epoch 93/150\n",
            "183/183 [==============================] - 3s 17ms/step - loss: 0.1433 - accuracy: 0.9498 - val_loss: 0.1532 - val_accuracy: 0.9387 - lr: 1.9531e-06\n",
            "Epoch 94/150\n",
            "182/183 [============================>.] - ETA: 0s - loss: 0.1606 - accuracy: 0.9416\n",
            "Epoch 94: ReduceLROnPlateau reducing learning rate to 9.765625463842298e-07.\n",
            "183/183 [==============================] - 3s 17ms/step - loss: 0.1603 - accuracy: 0.9416 - val_loss: 0.1448 - val_accuracy: 0.9417 - lr: 1.9531e-06\n",
            "Epoch 95/150\n",
            "183/183 [==============================] - 3s 15ms/step - loss: 0.1305 - accuracy: 0.9566 - val_loss: 0.1482 - val_accuracy: 0.9417 - lr: 9.7656e-07\n",
            "Epoch 96/150\n",
            "183/183 [==============================] - 3s 17ms/step - loss: 0.1735 - accuracy: 0.9375 - val_loss: 0.1495 - val_accuracy: 0.9387 - lr: 9.7656e-07\n",
            "Epoch 97/150\n",
            "183/183 [==============================] - 3s 17ms/step - loss: 0.1505 - accuracy: 0.9436 - val_loss: 0.1548 - val_accuracy: 0.9417 - lr: 9.7656e-07\n",
            "Epoch 98/150\n",
            "183/183 [==============================] - 3s 18ms/step - loss: 0.1664 - accuracy: 0.9402 - val_loss: 0.1547 - val_accuracy: 0.9417 - lr: 9.7656e-07\n",
            "Epoch 99/150\n",
            "183/183 [==============================] - 3s 16ms/step - loss: 0.1703 - accuracy: 0.9412 - val_loss: 0.1513 - val_accuracy: 0.9387 - lr: 9.7656e-07\n",
            "Epoch 100/150\n",
            "183/183 [==============================] - 3s 16ms/step - loss: 0.1524 - accuracy: 0.9409 - val_loss: 0.1541 - val_accuracy: 0.9417 - lr: 9.7656e-07\n",
            "Epoch 101/150\n",
            "180/183 [============================>.] - ETA: 0s - loss: 0.1540 - accuracy: 0.9444\n",
            "Epoch 101: ReduceLROnPlateau reducing learning rate to 4.882812731921149e-07.\n",
            "183/183 [==============================] - 3s 16ms/step - loss: 0.1537 - accuracy: 0.9450 - val_loss: 0.1540 - val_accuracy: 0.9417 - lr: 9.7656e-07\n"
          ]
        }
      ],
      "source": [
        "from tensorflow.keras.callbacks import EarlyStopping, ModelCheckpoint, ReduceLROnPlateau\n",
        "\n",
        "learning_rate_reduction = ReduceLROnPlateau(\n",
        "    monitor='val_accuracy', \n",
        "    patience=7, \n",
        "    verbose=1, \n",
        "    factor=0.5, \n",
        "    min_lr=1e-8)\n",
        "\n",
        "early_stop = EarlyStopping(monitor='val_accuracy',\n",
        "                           patience=35,\n",
        "                           restore_best_weights=True)\n",
        "model_checkpoint = ModelCheckpoint('models/checkpoints/StackedLSTM-cp.h5', save_best_only=True)\n",
        "\n",
        "\n",
        "history = model.fit(\n",
        "    X_train, y_train,\n",
        "    epochs=150,\n",
        "    batch_size=16,\n",
        "    validation_data=(X_validation, y_validation),\n",
        "    callbacks=[model_checkpoint, learning_rate_reduction, early_stop])"
      ]
    },
    {
      "cell_type": "code",
      "execution_count": 54,
      "metadata": {},
      "outputs": [],
      "source": [
        "# save model\n",
        "model.save('runtime_saves/models/StackedLSTM.h5')"
      ]
    },
    {
      "cell_type": "code",
      "execution_count": 19,
      "metadata": {},
      "outputs": [],
      "source": [
        "from keras.models import load_model\n",
        "\n",
        "# Load the model\n",
        "model = load_model('runtime_saves/models/StackedLSTM.h5')"
      ]
    },
    {
      "cell_type": "markdown",
      "metadata": {
        "id": "Ct_S460uGhxP"
      },
      "source": [
        "# **RESULTS AND EVALUATION**"
      ]
    },
    {
      "cell_type": "markdown",
      "metadata": {},
      "source": [
        "## Training History"
      ]
    },
    {
      "cell_type": "code",
      "execution_count": 5,
      "metadata": {},
      "outputs": [
        {
          "ename": "TypeError",
          "evalue": "'NoneType' object is not subscriptable",
          "output_type": "error",
          "traceback": [
            "\u001b[1;31m---------------------------------------------------------------------------\u001b[0m",
            "\u001b[1;31mTypeError\u001b[0m                                 Traceback (most recent call last)",
            "Cell \u001b[1;32mIn[5], line 4\u001b[0m\n\u001b[0;32m      1\u001b[0m \u001b[38;5;28;01mimport\u001b[39;00m \u001b[38;5;21;01mmatplotlib\u001b[39;00m\u001b[38;5;21;01m.\u001b[39;00m\u001b[38;5;21;01mpyplot\u001b[39;00m \u001b[38;5;28;01mas\u001b[39;00m \u001b[38;5;21;01mplt\u001b[39;00m\n\u001b[0;32m      3\u001b[0m \u001b[38;5;66;03m# Extract the history from the training process\u001b[39;00m\n\u001b[1;32m----> 4\u001b[0m acc \u001b[38;5;241m=\u001b[39m \u001b[43mhistory\u001b[49m\u001b[38;5;241;43m.\u001b[39;49m\u001b[43mhistory\u001b[49m\u001b[43m[\u001b[49m\u001b[38;5;124;43m'\u001b[39;49m\u001b[38;5;124;43maccuracy\u001b[39;49m\u001b[38;5;124;43m'\u001b[39;49m\u001b[43m]\u001b[49m\n\u001b[0;32m      5\u001b[0m val_acc \u001b[38;5;241m=\u001b[39m history\u001b[38;5;241m.\u001b[39mhistory[\u001b[38;5;124m'\u001b[39m\u001b[38;5;124mval_accuracy\u001b[39m\u001b[38;5;124m'\u001b[39m]\n\u001b[0;32m      6\u001b[0m loss \u001b[38;5;241m=\u001b[39m history\u001b[38;5;241m.\u001b[39mhistory[\u001b[38;5;124m'\u001b[39m\u001b[38;5;124mloss\u001b[39m\u001b[38;5;124m'\u001b[39m]\n",
            "\u001b[1;31mTypeError\u001b[0m: 'NoneType' object is not subscriptable"
          ]
        }
      ],
      "source": [
        "import matplotlib.pyplot as plt\n",
        "\n",
        "# Extract the history from the training process\n",
        "acc = history.history['accuracy']\n",
        "val_acc = history.history['val_accuracy']\n",
        "loss = history.history['loss']\n",
        "val_loss = history.history['val_loss']\n",
        "epochs = range(1, len(acc) + 1)\n",
        "\n",
        "# Plot the training and validation accuracy\n",
        "plt.plot(epochs, acc, 'bo', label='Training acc')\n",
        "plt.plot(epochs, val_acc, 'b', label='Validation acc')\n",
        "plt.title('Training and validation accuracy')\n",
        "plt.legend()\n",
        "\n",
        "# Plot the training and validation loss\n",
        "plt.figure()\n",
        "plt.plot(epochs, loss, 'bo', label='Training loss')\n",
        "plt.plot(epochs, val_loss, 'b', label='Validation loss')\n",
        "plt.title('Training and validation loss')\n",
        "plt.legend()\n",
        "plt.show()"
      ]
    },
    {
      "cell_type": "markdown",
      "metadata": {},
      "source": [
        "## Evaluation"
      ]
    },
    {
      "cell_type": "code",
      "execution_count": 20,
      "metadata": {},
      "outputs": [
        {
          "name": "stdout",
          "output_type": "stream",
          "text": [
            "WARNING:tensorflow:From c:\\Users\\PDesktop\\AppData\\Local\\Programs\\Python\\Python311\\Lib\\site-packages\\keras\\src\\utils\\tf_utils.py:492: The name tf.ragged.RaggedTensorValue is deprecated. Please use tf.compat.v1.ragged.RaggedTensorValue instead.\n",
            "\n",
            "Train accuracy: 97.9160%\n",
            "Train loss: 0.0765\n",
            "\n",
            "Test accuracy: 91.8919%\n",
            "Test loss: 0.2373\n",
            "\n",
            "Validation accuracy: 94.7853%\n",
            "Validation loss: 0.1728\n"
          ]
        }
      ],
      "source": [
        "# Train accuracy and loss\n",
        "train_loss, train_accuracy = model.evaluate(X_train, y_train, verbose=0)\n",
        "print(f'Train accuracy: {train_accuracy*100:.4f}%')\n",
        "print(f'Train loss: {train_loss:.4f}')\n",
        "print()\n",
        "\n",
        "# Test accuracy and loss\n",
        "test_loss, test_accuracy = model.evaluate(X_test, y_test, verbose=0)\n",
        "print(f'Test accuracy: {test_accuracy*100:.4f}%')\n",
        "print(f'Test loss: {test_loss:.4f}')\n",
        "print()\n",
        "\n",
        "# Validation accuracy and loss\n",
        "validation_loss, validation_accuracy = model.evaluate(X_validation, y_validation, verbose=0)\n",
        "print(f'Validation accuracy: {validation_accuracy*100:.4f}%')\n",
        "print(f'Validation loss: {validation_loss:.4f}')"
      ]
    },
    {
      "cell_type": "markdown",
      "metadata": {},
      "source": [
        "# Confusion Matrix"
      ]
    },
    {
      "cell_type": "code",
      "execution_count": 25,
      "metadata": {},
      "outputs": [
        {
          "name": "stdout",
          "output_type": "stream",
          "text": [
            "26/26 [==============================] - 0s 2ms/step - loss: 0.0000e+00 - accuracy: 0.0000e+00\n",
            "Loss: 0.0\n",
            "Accuracy: 0.0\n",
            "26/26 [==============================] - 0s 14ms/step\n",
            "[[193   6   7]\n",
            " [  6 237  11]\n",
            " [  3  33 318]]\n"
          ]
        },
        {
          "data": {
            "image/png": "[encoded data removed]",
            "text/plain": [
              "<Figure size 1000x600 with 2 Axes>"
            ]
          },
          "metadata": {},
          "output_type": "display_data"
        }
      ],
      "source": [
        "from sklearn import metrics\n",
        "import seaborn as sns\n",
        "import matplotlib.pyplot as plt\n",
        "\n",
        "y_pred = model.evaluate(X_test)\n",
        "print(f'Loss: {y_pred[0]}')\n",
        "print(f'Accuracy: {y_pred[1]}')\n",
        "\n",
        "# Simple confusion matrix\n",
        "pred = model.predict(X_test)\n",
        "pred = np.argmax(pred, axis=1)\n",
        "\n",
        "\n",
        "conf_matrix = metrics.confusion_matrix(y_test, pred)\n",
        "print(conf_matrix)\n",
        "\n",
        "# Graphical confusion matrix\n",
        "conf_matrix = metrics.confusion_matrix(y_test, pred)\n",
        "\n",
        "plt.figure(figsize=(10, 6))\n",
        "sns.heatmap(conf_matrix, annot=True, fmt='d', cmap='Greens', xticklabels=label_names, yticklabels=label_names)\n",
        "plt.xlabel('Predicted')\n",
        "plt.ylabel('Real')\n",
        "plt.title('Confusion Matrix')\n",
        "plt.show()"
      ]
    },
    {
      "cell_type": "markdown",
      "metadata": {},
      "source": [
        "\n",
        "\n",
        "\n",
        "\n",
        "\n",
        "\n",
        "\n",
        "\n",
        "\n",
        "\n",
        "\n",
        "\n",
        "\n",
        "\n",
        "\n",
        "\n",
        "\n",
        "\n",
        "\n",
        "\n",
        "\n",
        "\n",
        "## Performance Metrics"
      ]
    },
    {
      "cell_type": "markdown",
      "metadata": {},
      "source": [
        "- Accuracy  $\\large = \\frac{Correct~Predictions}{All~Predictions}$\n",
        "- Precision for a given class  $\\large = \\frac{Correct~Predictions~for~the~Class}{All~Predictions~for~the~Class}$   \n",
        "- Recall for a given class  $\\large = \\frac{Correct~Predictions~for~the~Class}{All~Instances~of~the~Class}$  \n",
        "- F1 Score $\\large = \\frac{2 \\times \\text{Precision} \\times \\text{Recall}}{\\text{Precision} + \\text{Recall}}$  \n",
        "- Hamming Loss $\\large = \\frac{1}{N} \\sum_{i=1}^{N} \\frac{\\text{Incorrect Labels}}{\\text{Total Labels}}$  \n",
        "- Jaccard Score $\\large = \\frac{|Y_{pred} \\cap Y_{true}|}{|Y_{pred} \\cup Y_{true}|}$  \n",
        "\n",
        "\n",
        "\n",
        "- Averaging is a way to get a single number for multiclass. Depending on the importance one wants to give to minority classes: \n",
        "    - Macro average: Compute the metric for each class, and returns the average without considering the proportion for each class in the dataset. For instance:\n",
        "\n",
        "        Precision = $\\large = \\frac{P_{class 1} ~+~ P_{class 2} ~+~ ... ~+~ P_{class n}}{N}$   \n",
        "    \n",
        "    - Weighted average: Compute the metric for each class, and returns the average considering the proportion (weighted) for each class in the dataset. For instance:\n",
        "\n",
        "        Precision = $\\large = \\frac{N_1 ~*~ P_{class 1} ~+~ N_2 ~*~ P_{class 2} ~+~ ... ~+~ N_n ~*~ P_{class n}}{N}$"
      ]
    },
    {
      "cell_type": "code",
      "execution_count": 22,
      "metadata": {},
      "outputs": [
        {
          "name": "stdout",
          "output_type": "stream",
          "text": [
            "Accuracy : 91.89%\n",
            "Precision - Macro: 92.02%\n",
            "Recall - Macro: 92.28%\n",
            "F1-score - Macro: 92.07%\n",
            "\n",
            "Precision - Weighted: 92.13%\n",
            "Recall - Weighted: 91.89%\n",
            "F1-score - Weighted: 91.93%\n"
          ]
        }
      ],
      "source": [
        "from sklearn.metrics import accuracy_score, precision_score, recall_score, f1_score\n",
        "\n",
        "# Calculates performance metrics\n",
        "acc = accuracy_score(y_true =  y_test, y_pred = pred)\n",
        "print(f'Accuracy : {np.round(acc*100,2)}%')\n",
        "          \n",
        "precision = precision_score(y_true =  y_test, y_pred = pred, average='macro')\n",
        "print(f'Precision - Macro: {np.round(precision*100,2)}%')\n",
        "\n",
        "recall = recall_score(y_true =  y_test, y_pred = pred, average='macro')\n",
        "print(f'Recall - Macro: {np.round(recall*100,2)}%')\n",
        "\n",
        "f1 = f1_score(y_true =  y_test, y_pred = pred, average='macro')\n",
        "print(f'F1-score - Macro: {np.round(f1*100,2)}%')\n",
        "\n",
        "print()\n",
        "\n",
        "precision = precision_score(y_true =  y_test, y_pred = pred, average='weighted')\n",
        "print(f'Precision - Weighted: {np.round(precision*100,2)}%')\n",
        "\n",
        "recall = recall_score(y_true =  y_test, y_pred = pred, average='weighted')\n",
        "print(f'Recall - Weighted: {np.round(recall*100,2)}%')\n",
        "\n",
        "f1 = f1_score(y_true =  y_test, y_pred = pred, average='weighted')\n",
        "print(f'F1-score - Weighted: {np.round(f1*100,2)}%')"
      ]
    },
    {
      "cell_type": "code",
      "execution_count": 23,
      "metadata": {},
      "outputs": [
        {
          "name": "stdout",
          "output_type": "stream",
          "text": [
            "              precision    recall  f1-score   support\n",
            "\n",
            "  aggressive       0.96      0.94      0.95       206\n",
            "      normal       0.86      0.93      0.89       254\n",
            "        slow       0.95      0.90      0.92       354\n",
            "\n",
            "    accuracy                           0.92       814\n",
            "   macro avg       0.92      0.92      0.92       814\n",
            "weighted avg       0.92      0.92      0.92       814\n",
            "\n"
          ]
        }
      ],
      "source": [
        "from sklearn.metrics import classification_report\n",
        "\n",
        "# Classification report\n",
        "print(classification_report(y_test, pred, target_names=label_names))"
      ]
    },
    {
      "cell_type": "code",
      "execution_count": 24,
      "metadata": {},
      "outputs": [
        {
          "name": "stdout",
          "output_type": "stream",
          "text": [
            "Error rate for class aggressive: 0.06311\n",
            "Accuracy rate for class aggressive: 0.93689\n",
            "Error rate for class normal: 0.06693\n",
            "Accuracy rate for class normal: 0.93307\n",
            "Error rate for class slow: 0.10169\n",
            "Accuracy rate for class slow: 0.89831\n"
          ]
        },
        {
          "data": {
            "image/png": "[encoded data removed]",
            "text/plain": [
              "<Figure size 1000x600 with 1 Axes>"
            ]
          },
          "metadata": {},
          "output_type": "display_data"
        },
        {
          "name": "stdout",
          "output_type": "stream",
          "text": [
            "Mean per-class error: 0.07724\n"
          ]
        }
      ],
      "source": [
        "from sklearn.metrics import confusion_matrix\n",
        "import numpy as np\n",
        "\n",
        "# Assume y_test is the true labels and pred is the predicted labels\n",
        "conf_matrix = confusion_matrix(y_test, pred)\n",
        "\n",
        "# Calculate per-class accuracy\n",
        "per_class_accuracy = conf_matrix.diagonal() / conf_matrix.sum(axis=1)\n",
        "\n",
        "# Convert per-class accuracy to per-class error\n",
        "per_class_error = 1 - per_class_accuracy\n",
        "\n",
        "# Display per-class error\n",
        "for idx, class_name in enumerate(label_names):\n",
        "    print(f\"Error rate for class {class_name}: {per_class_error[idx]:.5f}\")\n",
        "    # print accuracy\n",
        "    print(f\"Accuracy rate for class {class_name}: {per_class_accuracy[idx]:.5f}\")\n",
        "\n",
        "# Optional: You can plot the per-class error using matplotlib\n",
        "import matplotlib.pyplot as plt\n",
        "\n",
        "plt.figure(figsize=(10, 6))\n",
        "plt.bar(label_names, per_class_error, color='green')\n",
        "plt.xlabel('Class')\n",
        "plt.ylabel('Error Rate')\n",
        "plt.title('Per-Class Error Rate')\n",
        "plt.show()\n",
        "\n",
        "# Mean per-class error\n",
        "mean_per_class_error = np.mean(per_class_error)\n",
        "print(f\"Mean per-class error: {mean_per_class_error:.5f}\")\n"
      ]
    }
  ],
  "metadata": {
    "accelerator": "GPU",
    "colab": {
      "gpuType": "T4",
      "provenance": []
    },
    "kernelspec": {
      "display_name": "Python 3",
      "name": "python3"
    },
    "language_info": {
      "codemirror_mode": {
        "name": "ipython",
        "version": 3
      },
      "file_extension": ".py",
      "mimetype": "text/x-python",
      "name": "python",
      "nbconvert_exporter": "python",
      "pygments_lexer": "ipython3",
      "version": "3.11.4"
    }
  },
  "nbformat": 4,
  "nbformat_minor": 0
}
