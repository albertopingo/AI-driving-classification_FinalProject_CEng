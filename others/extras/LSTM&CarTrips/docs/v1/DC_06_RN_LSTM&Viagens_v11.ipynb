{
  "cells": [
    {
      "cell_type": "markdown",
      "metadata": {
        "id": "RzTK7gM5ydFL"
      },
      "source": [
        "# **IMPORT LIBS**"
      ]
    },
    {
      "cell_type": "code",
      "execution_count": 1,
      "metadata": {
        "id": "HG6VE-z-iIFN"
      },
      "outputs": [],
      "source": [
        "import keras\n",
        "import pandas as pd\n",
        "import numpy as np\n",
        "import warnings\n",
        "from keras.models import Sequential\n",
        "from keras.layers import Dense\n",
        "import matplotlib.pyplot as plt\n",
        "import numpy as np\n",
        "from sklearn.preprocessing import LabelEncoder\n",
        "#from skimage.transform import rotate, shear, zoom\n",
        "#from imgaug import augmenters as iaa\n",
        "import tensorflow as tf\n",
        "import math\n",
        "\n",
        "import keras.backend as K\n",
        "from keras.callbacks import EarlyStopping\n",
        "from keras.models import load_model\n",
        "from keras.layers import LSTM\n",
        "from tensorflow.keras.optimizers import Adam\n",
        "\n",
        "warnings.filterwarnings('ignore')"
      ]
    },
    {
      "cell_type": "markdown",
      "metadata": {
        "id": "AYSWggNH_f5x"
      },
      "source": [
        "#**LOAD THE MODEL**"
      ]
    },
    {
      "cell_type": "code",
      "execution_count": null,
      "metadata": {
        "id": "6BrvyPeh_SAC"
      },
      "outputs": [],
      "source": [
        "model_lstm = tf.keras.models.load_model('./lstm_model_v40.h5')\n",
        "\n",
        "# (Optional) Print a summary of the model architecture\n",
        "model_lstm.summary()"
      ]
    },
    {
      "cell_type": "markdown",
      "metadata": {
        "id": "RHBmH_88Ilpx"
      },
      "source": [
        "# **AUX FUNCTIONS**"
      ]
    },
    {
      "cell_type": "code",
      "execution_count": 2,
      "metadata": {
        "id": "F0lXdqGfInKu"
      },
      "outputs": [],
      "source": [
        "def save_manovers_positions_to_csv_file(gps_positions, manovers, filename):\n",
        "  output = np.zeros_like(gps_positions)\n",
        "\n",
        "  # Iterate through the elements of arr2\n",
        "  for i in range(len(manovers)):\n",
        "    # Check if the element in arr2 is 1\n",
        "    if manovers[i] == 1:\n",
        "      # Copy the corresponding values from arr1 to the output array\n",
        "      output[i] = gps_positions[i]\n",
        "\n",
        "  output = output[~np.all(output == 0, axis=1)]\n",
        "  np.savetxt(filename, output, delimiter=',', fmt='%.9f')\n",
        "\n",
        "\n",
        "\n",
        "def separate_positives_negatives(data):\n",
        "  # Ensure the input is converted to a NumPy array for easier manipulation\n",
        "  data = np.array(data)\n",
        "\n",
        "  # Create two empty arrays to store positive and negative values\n",
        "  positives = np.zeros_like(data)\n",
        "  negatives = np.zeros_like(data)\n",
        "\n",
        "  # Use boolean indexing to separate positive and negative values\n",
        "  positives[data > 0] = data[data > 0]\n",
        "  negatives[data < 0] = -data[data < 0]\n",
        "\n",
        "  # Combine the positive and negative values into a single 2D array\n",
        "  return (positives, negatives)\n",
        "\n",
        "def normalize_between_0_and_max(data):\n",
        "  max_value = np.max(data)\n",
        "  return data / max_value\n",
        "\n",
        "def normalize_between_0_and_max_v2(data, max_value):\n",
        "  return data / max_value\n",
        "\n",
        "def split_train_test(data, test_size=0.2):\n",
        "  # Check if test_size is between 0 and 1\n",
        "  if test_size < 0 or test_size > 1:\n",
        "    raise ValueError(\"test_size must be between 0 and 1.\")\n",
        "\n",
        "  # Get the number of samples\n",
        "  num_samples = data.shape[0]\n",
        "\n",
        "  # Calculate the number of samples for each set\n",
        "  train_size = int(num_samples * (1 - test_size))\n",
        "  test_size = num_samples - train_size\n",
        "\n",
        "  # Randomly shuffle the data for better splitting (optional)\n",
        "  #np.random.shuffle(data)\n",
        "\n",
        "  # Split the data into training and test sets\n",
        "  train_data = data[:train_size]\n",
        "  test_data = data[train_size:]\n",
        "\n",
        "  return train_data, test_data\n",
        "\n",
        "def y_classification(data, threshold):\n",
        "  classification = np.zeros_like(data, dtype=int)  # Initialize output array\n",
        "\n",
        "  for col in range(0, 12):  # Loop through each column\n",
        "    max_value = np.max(data[:, col])\n",
        "    threshold_pos = max_value * threshold\n",
        "    classification[:, col] = np.where(data[:, col] >= threshold_pos, 1, 0)\n",
        "\n",
        "  return classification\n",
        "\n",
        "def max_of_vectors(vec1, vec2, vec3, vec4, vec5, vec6):\n",
        "  # Combine all vectors into a single array\n",
        "  all_vectors = np.array([vec1, vec2, vec3, vec4, vec5, vec6])\n",
        "\n",
        "  # Find the maximum value in the array\n",
        "  max_value = np.max(all_vectors)\n",
        "\n",
        "  return max_value"
      ]
    },
    {
      "cell_type": "markdown",
      "metadata": {
        "id": "aATQYo4TiWrU"
      },
      "source": [
        "# **IMPORT DATA**"
      ]
    },
    {
      "cell_type": "code",
      "execution_count": 3,
      "metadata": {
        "id": "B5wPPy3OiYj9"
      },
      "outputs": [],
      "source": [
        "#df = pd.read_csv('Dataset-viagens-longas.csv')\n",
        "df = pd.read_csv('Abrantes-Leiria.csv')\n",
        "\n",
        "acelX = df['accelerometerXAxis']\n",
        "acelY = df['accelerometerYAxis']\n",
        "acelZ = df['accelerometerZAxis']\n",
        "\n",
        "gyrX = df['gyroscopeXAxis']\n",
        "gyrY = df['gyroscopeYAxis']\n",
        "gyrZ = df['gyroscopeZAxis']\n",
        "\n",
        "latitude = df['latitude']\n",
        "longitude = df['longitude']"
      ]
    },
    {
      "cell_type": "code",
      "execution_count": null,
      "metadata": {
        "id": "ZzW3XSugY8m3"
      },
      "outputs": [],
      "source": [
        "print(df['accelerometerXAxis'].describe())\n",
        "print(df['accelerometerYAxis'].describe())\n",
        "print(df['accelerometerZAxis'].describe())\n",
        "print(df['gyroscopeXAxis'].describe())\n",
        "print(df['gyroscopeYAxis'].describe())\n",
        "print(df['gyroscopeZAxis'].describe())"
      ]
    },
    {
      "cell_type": "markdown",
      "metadata": {
        "id": "eb3I99C7ASnM"
      },
      "source": [
        "# **SEPARATE DATA BY MANOVER**"
      ]
    },
    {
      "cell_type": "code",
      "execution_count": 4,
      "metadata": {
        "id": "IaJIdH4qvx0t"
      },
      "outputs": [],
      "source": [
        "turnRightX, turnLeftX = separate_positives_negatives(acelX)\n",
        "\n",
        "accelY, breakY = separate_positives_negatives(acelY)\n",
        "\n",
        "positiveZ, negativeZ = separate_positives_negatives(acelZ)\n",
        "\n",
        "gyrPositiveX, gyrNegativeX = separate_positives_negatives(gyrX)\n",
        "gyrPositiveY, gyrNegativeY = separate_positives_negatives(gyrY)\n",
        "gyrPositiveZ, gyrNegativeZ = separate_positives_negatives(gyrZ)"
      ]
    },
    {
      "cell_type": "code",
      "source": [
        "turnRightX.shape"
      ],
      "metadata": {
        "colab": {
          "base_uri": "https://localhost:8080/"
        },
        "id": "OHxP7SVfGrX6",
        "outputId": "f2d2eaf8-249b-432e-9bfd-7dd5ef88f5f8"
      },
      "execution_count": 7,
      "outputs": [
        {
          "output_type": "execute_result",
          "data": {
            "text/plain": [
              "(35129,)"
            ]
          },
          "metadata": {},
          "execution_count": 7
        }
      ]
    },
    {
      "cell_type": "markdown",
      "metadata": {
        "id": "N01_nop2Znt5"
      },
      "source": [
        "# **CLASSIFICATION BASED ON NOT NORMALIZED VALUES**"
      ]
    },
    {
      "cell_type": "code",
      "execution_count": 5,
      "metadata": {
        "colab": {
          "base_uri": "https://localhost:8080/"
        },
        "id": "ELrWyhmuZnHS",
        "outputId": "5b4a52d9-cb5f-4ba6-eab6-a2eea9a2c9e1"
      },
      "outputs": [
        {
          "output_type": "stream",
          "name": "stdout",
          "text": [
            "[ 945  836  714  157  259  115  421  687  719  712 1144  375]\n"
          ]
        }
      ],
      "source": [
        "newArray1 = np.array(list(zip(turnRightX, turnLeftX, accelY, breakY, positiveZ, negativeZ, gyrPositiveX, gyrNegativeX, gyrPositiveY, gyrNegativeY, gyrPositiveZ, gyrNegativeZ)))\n",
        "\n",
        "y = y_classification(newArray1, 0.3)\n",
        "print (np.sum(y, axis=0))\n",
        "np.savetxt(\"Y.csv\", y, delimiter=',', fmt='%.0i')"
      ]
    },
    {
      "cell_type": "markdown",
      "metadata": {
        "id": "SPIA30JzCcST"
      },
      "source": [
        "# **NORMALIZE DATA**"
      ]
    },
    {
      "cell_type": "code",
      "execution_count": 6,
      "metadata": {
        "id": "c8sC3D4cZURt"
      },
      "outputs": [],
      "source": [
        "max_accel = max_of_vectors(turnRightX, turnLeftX, accelY, breakY, positiveZ, negativeZ)\n",
        "max_gyr = max_of_vectors(gyrPositiveX, gyrNegativeX, gyrPositiveY, gyrNegativeY, gyrPositiveZ, gyrNegativeZ)"
      ]
    },
    {
      "cell_type": "code",
      "execution_count": 7,
      "metadata": {
        "id": "bTCRAhTXZXNL"
      },
      "outputs": [],
      "source": [
        "turnRightXn = normalize_between_0_and_max_v2(turnRightX, max_accel)\n",
        "turnLeftXn = normalize_between_0_and_max_v2(turnLeftX, max_accel)\n",
        "accelYn = normalize_between_0_and_max_v2(accelY, max_accel)\n",
        "breakYn = normalize_between_0_and_max_v2(breakY, max_accel)\n",
        "positiveZn = normalize_between_0_and_max_v2(positiveZ, max_accel)\n",
        "negativeZn = normalize_between_0_and_max_v2(negativeZ, max_accel)\n",
        "gyrPositiveXn = normalize_between_0_and_max_v2(gyrPositiveX, max_gyr)\n",
        "gyrNegativeXn = normalize_between_0_and_max_v2(gyrNegativeX, max_gyr)\n",
        "gyrPositiveYn = normalize_between_0_and_max_v2(gyrPositiveY, max_gyr)\n",
        "gyrNegativeYn = normalize_between_0_and_max_v2(gyrNegativeY, max_gyr)\n",
        "gyrPositiveZn = normalize_between_0_and_max_v2(gyrPositiveZ, max_gyr)\n",
        "gyrNegativeZn = normalize_between_0_and_max_v2(gyrNegativeZ, max_gyr)"
      ]
    },
    {
      "cell_type": "markdown",
      "metadata": {
        "id": "YrtvVRZ0Avz8"
      },
      "source": [
        "# **CREATE AN ARRAY WITH ALL DATA**"
      ]
    },
    {
      "cell_type": "code",
      "execution_count": 8,
      "metadata": {
        "id": "ppkRUVMX1c7W"
      },
      "outputs": [],
      "source": [
        "newArray = np.array(list(zip(turnRightXn, turnLeftXn, accelYn, breakYn, positiveZn, negativeZn, gyrPositiveXn, gyrNegativeXn, gyrPositiveYn, gyrNegativeYn, gyrPositiveZn, gyrNegativeZn)))"
      ]
    },
    {
      "cell_type": "code",
      "execution_count": 9,
      "metadata": {
        "colab": {
          "base_uri": "https://localhost:8080/"
        },
        "id": "vX4JSKAddzy0",
        "outputId": "9da387a5-3957-4285-9228-46343e9f342f"
      },
      "outputs": [
        {
          "output_type": "execute_result",
          "data": {
            "text/plain": [
              "(35129, 12)"
            ]
          },
          "metadata": {},
          "execution_count": 9
        }
      ],
      "source": [
        "newArray.shape"
      ]
    },
    {
      "cell_type": "code",
      "execution_count": 9,
      "metadata": {
        "colab": {
          "base_uri": "https://localhost:8080/"
        },
        "id": "tJVtNOyF3bU5",
        "outputId": "d7333cdb-1891-45fd-ec79-218615aa6ec7"
      },
      "outputs": [
        {
          "output_type": "stream",
          "name": "stdout",
          "text": [
            "[ 945  836  714  157  259  115  421  687  719  712 1144  375]\n"
          ]
        }
      ],
      "source": [
        "#y1 = y_classification(newArray, 0.3)\n",
        "#print (np.sum(y1, axis=0))\n",
        "#np.savetxt(\"Y.csv\", y1, delimiter=',', fmt='%.0i')"
      ]
    },
    {
      "cell_type": "markdown",
      "metadata": {
        "id": "0IZvV0MhdLBy"
      },
      "source": [
        "# **SHOW MANOVERS ON GOOLGE MAP**"
      ]
    },
    {
      "cell_type": "code",
      "execution_count": null,
      "metadata": {
        "id": "yvW2QnkTdRiA"
      },
      "outputs": [],
      "source": [
        "positions = np.array(list(zip(latitude, longitude)))\n",
        "manover_accelY = y[:, 2]\n",
        "manover_breakY = y[:, 3]\n",
        "manover_turnRightXn = y[:, 0]\n",
        "manover_turnLeftXn = y[:, 1]\n",
        "gyrPositiveZn = y[:, 10]\n",
        "gyrNegativeZn = y[:, 11]\n",
        "save_manovers_positions_to_csv_file(positions, manover_accelY, \"accelY.csv\")\n",
        "save_manovers_positions_to_csv_file(positions, manover_breakY, \"breakY.csv\")\n",
        "save_manovers_positions_to_csv_file(positions, manover_turnRightXn, \"turnRightX.csv\")\n",
        "save_manovers_positions_to_csv_file(positions, manover_turnLeftXn, \"turnLeftX.csv\")\n",
        "save_manovers_positions_to_csv_file(positions, gyrPositiveZn, \"gyrPositZ.csv\")\n",
        "save_manovers_positions_to_csv_file(positions, gyrNegativeZn, \"gyrNegZ.csv\")"
      ]
    },
    {
      "cell_type": "markdown",
      "metadata": {
        "id": "Fe_78VHvBRJQ"
      },
      "source": [
        "# **PLOT MANOVERS**"
      ]
    },
    {
      "cell_type": "code",
      "execution_count": null,
      "metadata": {
        "colab": {
          "base_uri": "https://localhost:8080/",
          "height": 430
        },
        "id": "cksFepBiioYu",
        "outputId": "6a82c3c3-4942-4a0d-cd4e-3fd67dc914a0"
      },
      "outputs": [
        {
          "data": {
            "image/png": "[encoded data removed]",
            "text/plain": [
              "<Figure size 640x480 with 1 Axes>"
            ]
          },
          "metadata": {},
          "output_type": "display_data"
        }
      ],
      "source": [
        "plt.plot(y[:, 2], marker='.', linestyle='none')\n",
        "plt.plot(y[:, 3], marker='.', linestyle='none')\n",
        "\n",
        "plt.legend(['Accel Y', 'Break Y'])\n",
        "plt.show()"
      ]
    },
    {
      "cell_type": "markdown",
      "metadata": {
        "id": "lB-CdF_MGToJ"
      },
      "source": [
        "# **SEPARATE DATA IN TRAIN AND TEST**"
      ]
    },
    {
      "cell_type": "code",
      "execution_count": 13,
      "metadata": {
        "id": "Bd56BA3fIORH"
      },
      "outputs": [],
      "source": [
        "x_treino, x_teste = split_train_test(newArray, test_size=0.2)\n",
        "\n",
        "y_treino, y_teste = split_train_test(y, test_size=0.2)"
      ]
    },
    {
      "cell_type": "markdown",
      "metadata": {
        "id": "6d5xKgrEC-ks"
      },
      "source": [
        "# **CREATE THE INPUT TENSORES DATA**"
      ]
    },
    {
      "cell_type": "code",
      "execution_count": 14,
      "metadata": {
        "id": "EOkN2T88doeE"
      },
      "outputs": [],
      "source": [
        "treino = x_treino.reshape(x_treino.shape[0], 1, x_treino.shape[1])\n",
        "teste = x_teste.reshape(x_teste.shape[0], 1, x_teste.shape[1])"
      ]
    },
    {
      "cell_type": "markdown",
      "metadata": {
        "id": "wBfgiQgAGZPW"
      },
      "source": [
        "# **CREATE THE MODEL**"
      ]
    },
    {
      "cell_type": "code",
      "execution_count": 21,
      "metadata": {
        "id": "nz1_4zWXY59B"
      },
      "outputs": [],
      "source": [
        "K.clear_session()\n",
        "\n",
        "model_lstm = Sequential()\n",
        "model_lstm.add(LSTM(32, input_shape=(1, treino.shape[2]), activation='relu', return_sequences=True))\n",
        "#model_lstm.add(LSTM(32, activation='relu'))\n",
        "#model_lstm.add(Dense(y_treino.shape[1], activation='sigmoid'))\n",
        "model_lstm.add(LSTM(16, activation='sigmoid'))\n",
        "model_lstm.add(Dense(y_treino.shape[1], activation='linear'))"
      ]
    },
    {
      "cell_type": "markdown",
      "metadata": {
        "id": "veTKT-DNBhx1"
      },
      "source": [
        "# **COMPILE THE MODEL**"
      ]
    },
    {
      "cell_type": "code",
      "execution_count": 22,
      "metadata": {
        "id": "7uASYbH8al-r"
      },
      "outputs": [],
      "source": [
        "model_lstm.compile(loss='mean_squared_error', optimizer='adam')\n",
        "#model_lstm.compile(loss='categorical_crossentropy', optimizer='adam', metrics=['accuracy'])\n",
        "early_stop = EarlyStopping(monitor='loss', patience=5, verbose=1)"
      ]
    },
    {
      "cell_type": "markdown",
      "metadata": {
        "id": "khawMeLUGczr"
      },
      "source": [
        "# **TRAIN THE MODEL**"
      ]
    },
    {
      "cell_type": "code",
      "execution_count": 23,
      "metadata": {
        "colab": {
          "base_uri": "https://localhost:8080/"
        },
        "id": "SclTSQieaecy",
        "outputId": "cb9b7452-6eb5-40d8-d33c-1477b463f87d"
      },
      "outputs": [
        {
          "output_type": "stream",
          "name": "stdout",
          "text": [
            "Epoch 1/30\n",
            "7026/7026 [==============================] - 27s 3ms/step - loss: 0.0140 - val_loss: 0.0133\n",
            "Epoch 2/30\n",
            "7026/7026 [==============================] - 26s 4ms/step - loss: 0.0102 - val_loss: 0.0105\n",
            "Epoch 3/30\n",
            "7026/7026 [==============================] - 29s 4ms/step - loss: 0.0086 - val_loss: 0.0094\n",
            "Epoch 4/30\n",
            "7026/7026 [==============================] - 25s 4ms/step - loss: 0.0078 - val_loss: 0.0086\n",
            "Epoch 5/30\n",
            "7026/7026 [==============================] - 25s 4ms/step - loss: 0.0070 - val_loss: 0.0078\n",
            "Epoch 6/30\n",
            "7026/7026 [==============================] - 26s 4ms/step - loss: 0.0063 - val_loss: 0.0071\n",
            "Epoch 7/30\n",
            "7026/7026 [==============================] - 26s 4ms/step - loss: 0.0058 - val_loss: 0.0065\n",
            "Epoch 8/30\n",
            "7026/7026 [==============================] - 27s 4ms/step - loss: 0.0054 - val_loss: 0.0061\n",
            "Epoch 9/30\n",
            "7026/7026 [==============================] - 34s 5ms/step - loss: 0.0050 - val_loss: 0.0057\n",
            "Epoch 10/30\n",
            "7026/7026 [==============================] - 26s 4ms/step - loss: 0.0047 - val_loss: 0.0054\n",
            "Epoch 11/30\n",
            "7026/7026 [==============================] - 31s 4ms/step - loss: 0.0045 - val_loss: 0.0051\n",
            "Epoch 12/30\n",
            "7026/7026 [==============================] - 31s 4ms/step - loss: 0.0042 - val_loss: 0.0048\n",
            "Epoch 13/30\n",
            "7026/7026 [==============================] - 24s 3ms/step - loss: 0.0040 - val_loss: 0.0045\n",
            "Epoch 14/30\n",
            "7026/7026 [==============================] - 25s 4ms/step - loss: 0.0038 - val_loss: 0.0042\n",
            "Epoch 15/30\n",
            "7026/7026 [==============================] - 25s 4ms/step - loss: 0.0035 - val_loss: 0.0039\n",
            "Epoch 16/30\n",
            "7026/7026 [==============================] - 25s 4ms/step - loss: 0.0033 - val_loss: 0.0037\n",
            "Epoch 17/30\n",
            "7026/7026 [==============================] - 26s 4ms/step - loss: 0.0031 - val_loss: 0.0035\n",
            "Epoch 18/30\n",
            "7026/7026 [==============================] - 26s 4ms/step - loss: 0.0029 - val_loss: 0.0033\n",
            "Epoch 19/30\n",
            "7026/7026 [==============================] - 26s 4ms/step - loss: 0.0028 - val_loss: 0.0031\n",
            "Epoch 20/30\n",
            "7026/7026 [==============================] - 28s 4ms/step - loss: 0.0026 - val_loss: 0.0030\n",
            "Epoch 21/30\n",
            "7026/7026 [==============================] - 27s 4ms/step - loss: 0.0025 - val_loss: 0.0028\n",
            "Epoch 22/30\n",
            "7026/7026 [==============================] - 27s 4ms/step - loss: 0.0024 - val_loss: 0.0027\n",
            "Epoch 23/30\n",
            "7026/7026 [==============================] - 27s 4ms/step - loss: 0.0023 - val_loss: 0.0026\n",
            "Epoch 24/30\n",
            "7026/7026 [==============================] - 27s 4ms/step - loss: 0.0022 - val_loss: 0.0025\n",
            "Epoch 25/30\n",
            "7026/7026 [==============================] - 27s 4ms/step - loss: 0.0021 - val_loss: 0.0023\n",
            "Epoch 26/30\n",
            "7026/7026 [==============================] - 27s 4ms/step - loss: 0.0020 - val_loss: 0.0022\n",
            "Epoch 27/30\n",
            "7026/7026 [==============================] - 27s 4ms/step - loss: 0.0019 - val_loss: 0.0022\n",
            "Epoch 28/30\n",
            "7026/7026 [==============================] - 27s 4ms/step - loss: 0.0018 - val_loss: 0.0021\n",
            "Epoch 29/30\n",
            "7026/7026 [==============================] - 25s 4ms/step - loss: 0.0017 - val_loss: 0.0020\n",
            "Epoch 30/30\n",
            "7026/7026 [==============================] - 25s 3ms/step - loss: 0.0017 - val_loss: 0.0019\n"
          ]
        }
      ],
      "source": [
        "model_lstm_output = model_lstm.fit(treino, y_treino, epochs=30, batch_size=4, verbose=1, shuffle=False, callbacks=[early_stop], validation_data=(teste, y_teste))"
      ]
    },
    {
      "cell_type": "markdown",
      "metadata": {
        "id": "Ct_S460uGhxP"
      },
      "source": [
        "# **SHOW THE RESULTS**"
      ]
    },
    {
      "cell_type": "code",
      "execution_count": 24,
      "metadata": {
        "colab": {
          "base_uri": "https://localhost:8080/",
          "height": 472
        },
        "id": "mLflDJutrQ0h",
        "outputId": "4c069718-4f60-429d-e84a-7bb357a2acbd"
      },
      "outputs": [
        {
          "output_type": "display_data",
          "data": {
            "text/plain": [
              "<Figure size 640x480 with 1 Axes>"
            ],
            "image/png": "[encoded data removed]"
          },
          "metadata": {}
        }
      ],
      "source": [
        "plt.plot(model_lstm_output.history['loss'])\n",
        "plt.plot(model_lstm_output.history['val_loss'])\n",
        "plt.title('Historico de treino')\n",
        "plt.xlabel('Epocas de treino')\n",
        "plt.ylabel('Função custo')\n",
        "plt.legend(['Erro treino', 'Erro teste'])\n",
        "plt.show()"
      ]
    },
    {
      "cell_type": "code",
      "execution_count": null,
      "metadata": {
        "id": "RTtErVAPKNQT"
      },
      "outputs": [],
      "source": [
        "#accuracy = model_lstm.evaluate(teste, y_teste)[1]  # Assuming accuracy is the second metric\n",
        "#print('Test Accuracy:', accuracy)"
      ]
    },
    {
      "cell_type": "markdown",
      "metadata": {
        "id": "d5yRYVkqpv51"
      },
      "source": [
        "# **TEST THE NETWORK**"
      ]
    },
    {
      "cell_type": "code",
      "execution_count": null,
      "metadata": {
        "id": "RTRP1HLnH5VA"
      },
      "outputs": [],
      "source": [
        "loss = model_lstm.evaluate(teste, y_teste, batch_size=1)\n",
        "print('Test loss:', loss)\n"
      ]
    },
    {
      "cell_type": "code",
      "source": [
        "teste[0]"
      ],
      "metadata": {
        "colab": {
          "base_uri": "https://localhost:8080/"
        },
        "id": "pLTGBDbnb5kg",
        "outputId": "dd9cf2da-b049-4dce-a94a-11812023ce33"
      },
      "execution_count": 25,
      "outputs": [
        {
          "output_type": "execute_result",
          "data": {
            "text/plain": [
              "array([0.08609113, 0.        , 0.00198503, 0.        , 0.        ,\n",
              "       0.12521949, 0.        , 0.07666345, 0.22034716, 0.        ,\n",
              "       0.        , 0.02507232])"
            ]
          },
          "metadata": {},
          "execution_count": 25
        }
      ]
    },
    {
      "cell_type": "code",
      "source": [
        "teste.shape"
      ],
      "metadata": {
        "colab": {
          "base_uri": "https://localhost:8080/"
        },
        "id": "l2eG2SaqchuL",
        "outputId": "a9b11c6d-26e3-4ece-8065-1914f37957db"
      },
      "execution_count": 34,
      "outputs": [
        {
          "output_type": "execute_result",
          "data": {
            "text/plain": [
              "(1, 12)"
            ]
          },
          "metadata": {},
          "execution_count": 34
        }
      ]
    },
    {
      "cell_type": "code",
      "execution_count": 25,
      "metadata": {
        "colab": {
          "base_uri": "https://localhost:8080/"
        },
        "id": "sCXg55GxwbGg",
        "outputId": "c848cbd5-af5d-4612-e65b-0c812f759814"
      },
      "outputs": [
        {
          "output_type": "stream",
          "name": "stdout",
          "text": [
            "1/1 [==============================] - 0s 275ms/step\n",
            "1/1 [==============================] - 0s 19ms/step\n",
            "1/1 [==============================] - 0s 19ms/step\n",
            "1/1 [==============================] - 0s 19ms/step\n",
            "1/1 [==============================] - 0s 21ms/step\n",
            "1/1 [==============================] - 0s 19ms/step\n",
            "1/1 [==============================] - 0s 19ms/step\n",
            "1/1 [==============================] - 0s 21ms/step\n",
            "1/1 [==============================] - 0s 19ms/step\n",
            "1/1 [==============================] - 0s 25ms/step\n",
            "1/1 [==============================] - 0s 20ms/step\n",
            "1/1 [==============================] - 0s 19ms/step\n",
            "1/1 [==============================] - 0s 20ms/step\n",
            "1/1 [==============================] - 0s 19ms/step\n",
            "1/1 [==============================] - 0s 25ms/step\n",
            "1/1 [==============================] - 0s 20ms/step\n",
            "1/1 [==============================] - 0s 19ms/step\n",
            "1/1 [==============================] - 0s 20ms/step\n",
            "1/1 [==============================] - 0s 21ms/step\n",
            "1/1 [==============================] - 0s 19ms/step\n",
            "1/1 [==============================] - 0s 19ms/step\n",
            "X [: [0.  0.  0.  0.3 0.3 0.  0.  0.  0.1 0.  0.  0. ]\n",
            "Y [: [0 0 0 1 1 0 0 0 0 0 0 0]\n",
            "PC: [[ 0.1 -0.  -0.1  0.9  0.9 -0.  -0.   0.   0.  -0.   0.1 -0. ]]\n",
            "20\n",
            "1/1 [==============================] - 0s 21ms/step\n",
            "X [: [0.  0.  0.  0.2 0.3 0.  0.2 0.  0.1 0.  0.  0. ]\n",
            "Y [: [0 0 0 0 1 0 1 0 0 0 0 0]\n",
            "PC: [[ 0.  -0.   0.   0.4  0.9 -0.   0.3 -0.   0.  -0.   0.   0. ]]\n",
            "21\n",
            "1/1 [==============================] - 0s 25ms/step\n",
            "1/1 [==============================] - 0s 19ms/step\n",
            "1/1 [==============================] - 0s 20ms/step\n",
            "1/1 [==============================] - 0s 20ms/step\n",
            "1/1 [==============================] - 0s 19ms/step\n",
            "X [: [0.  0.1 0.  0.2 0.1 0.  0.2 0.  0.1 0.  0.  0. ]\n",
            "Y [: [0 0 0 0 0 0 1 0 0 0 0 0]\n",
            "PC: [[-0.   0.   0.   0.3 -0.  -0.   0.3  0.   0.  -0.   0.  -0. ]]\n",
            "26\n",
            "1/1 [==============================] - 0s 20ms/step\n",
            "1/1 [==============================] - 0s 19ms/step\n",
            "1/1 [==============================] - 0s 20ms/step\n",
            "1/1 [==============================] - 0s 19ms/step\n",
            "1/1 [==============================] - 0s 20ms/step\n",
            "1/1 [==============================] - 0s 30ms/step\n",
            "1/1 [==============================] - 0s 30ms/step\n",
            "1/1 [==============================] - 0s 30ms/step\n",
            "1/1 [==============================] - 0s 31ms/step\n",
            "X [: [0.  0.  0.  0.  0.2 0.  0.2 0.  0.  0.  0.  0. ]\n",
            "Y [: [0 0 0 0 0 0 1 0 0 0 0 0]\n",
            "PC: [[-0.   0.  -0.  -0.  -0.  -0.   0.3  0.   0.  -0.   0.   0. ]]\n",
            "35\n",
            "1/1 [==============================] - 0s 28ms/step\n",
            "X [: [0.  0.1 0.1 0.  0.  0.1 0.  0.2 0.  0.  0.1 0. ]\n",
            "Y [: [0 0 0 0 0 0 0 0 0 0 1 0]\n",
            "PC: [[-0.1  0.   0.   0.1 -0.1 -0.   0.1  0.9 -0.  -0.   0.9  0.1]]\n",
            "36\n",
            "1/1 [==============================] - 0s 30ms/step\n",
            "X [: [0.  0.1 0.  0.  0.  0.  0.  0.2 0.  0.  0.  0. ]\n",
            "Y [: [0 0 0 0 0 0 0 1 0 0 0 0]\n",
            "PC: [[-0.   0.1  0.   0.  -0.  -0.1  0.   1.  -0.  -0.   0.   0. ]]\n",
            "37\n",
            "1/1 [==============================] - 0s 27ms/step\n",
            "1/1 [==============================] - 0s 28ms/step\n",
            "X [: [0.  0.  0.  0.1 0.1 0.  0.2 0.  0.  0.  0.  0. ]\n",
            "Y [: [0 0 0 0 0 0 1 0 0 0 0 0]\n",
            "PC: [[-0.   0.   0.   0.  -0.  -0.   0.2 -0.  -0.  -0.   0.  -0. ]]\n",
            "39\n",
            "1/1 [==============================] - 0s 28ms/step\n",
            "1/1 [==============================] - 0s 27ms/step\n",
            "1/1 [==============================] - 0s 28ms/step\n",
            "1/1 [==============================] - 0s 29ms/step\n",
            "1/1 [==============================] - 0s 29ms/step\n",
            "1/1 [==============================] - 0s 40ms/step\n",
            "1/1 [==============================] - 0s 28ms/step\n",
            "1/1 [==============================] - 0s 30ms/step\n",
            "1/1 [==============================] - 0s 33ms/step\n",
            "1/1 [==============================] - 0s 28ms/step\n",
            "1/1 [==============================] - 0s 32ms/step\n",
            "1/1 [==============================] - 0s 33ms/step\n",
            "X [: [0.  0.  0.  0.  0.1 0.  0.1 0.  0.3 0.  0.  0. ]\n",
            "Y [: [0 0 0 0 0 0 0 0 1 0 0 0]\n",
            "PC: [[-0.   0.  -0.  -0.   0.   0.  -0.   0.   0.6 -0.   0.  -0. ]]\n",
            "51\n",
            "1/1 [==============================] - 0s 31ms/step\n",
            "1/1 [==============================] - 0s 42ms/step\n",
            "1/1 [==============================] - 0s 29ms/step\n",
            "X [: [0.1 0.  0.  0.  0.3 0.  0.1 0.  0.2 0.  0.  0. ]\n",
            "Y [: [0 0 0 0 1 0 0 0 0 0 0 0]\n",
            "PC: [[ 0.  -0.   0.  -0.1  0.9 -0.  -0.   0.   0.  -0.  -0.   0. ]]\n",
            "54\n",
            "1/1 [==============================] - 0s 31ms/step\n",
            "1/1 [==============================] - 0s 31ms/step\n",
            "X [: [0.  0.1 0.2 0.  0.  0.  0.  0.  0.  0.2 0.  0. ]\n",
            "Y [: [0 0 1 0 0 0 0 0 0 0 0 0]\n",
            "PC: [[ 0.  -0.   1.1  0.   0.  -0.  -0.   0.   0.  -0.   0.1 -0. ]]\n",
            "56\n",
            "1/1 [==============================] - 0s 41ms/step\n",
            "1/1 [==============================] - 0s 29ms/step\n",
            "1/1 [==============================] - 0s 31ms/step\n",
            "1/1 [==============================] - 0s 29ms/step\n",
            "1/1 [==============================] - 0s 33ms/step\n",
            "1/1 [==============================] - 0s 34ms/step\n",
            "1/1 [==============================] - 0s 19ms/step\n",
            "1/1 [==============================] - 0s 20ms/step\n",
            "1/1 [==============================] - 0s 20ms/step\n",
            "1/1 [==============================] - 0s 21ms/step\n",
            "1/1 [==============================] - 0s 19ms/step\n",
            "1/1 [==============================] - 0s 19ms/step\n",
            "1/1 [==============================] - 0s 19ms/step\n",
            "1/1 [==============================] - 0s 19ms/step\n",
            "1/1 [==============================] - 0s 20ms/step\n",
            "1/1 [==============================] - 0s 19ms/step\n",
            "1/1 [==============================] - 0s 19ms/step\n",
            "1/1 [==============================] - 0s 19ms/step\n",
            "1/1 [==============================] - 0s 19ms/step\n",
            "1/1 [==============================] - 0s 21ms/step\n",
            "1/1 [==============================] - 0s 19ms/step\n",
            "1/1 [==============================] - 0s 19ms/step\n",
            "1/1 [==============================] - 0s 20ms/step\n",
            "1/1 [==============================] - 0s 19ms/step\n",
            "1/1 [==============================] - 0s 19ms/step\n",
            "1/1 [==============================] - 0s 20ms/step\n",
            "1/1 [==============================] - 0s 20ms/step\n",
            "1/1 [==============================] - 0s 19ms/step\n",
            "1/1 [==============================] - 0s 19ms/step\n",
            "1/1 [==============================] - 0s 21ms/step\n",
            "1/1 [==============================] - 0s 19ms/step\n",
            "1/1 [==============================] - 0s 19ms/step\n",
            "1/1 [==============================] - 0s 20ms/step\n",
            "1/1 [==============================] - 0s 20ms/step\n",
            "1/1 [==============================] - 0s 19ms/step\n",
            "1/1 [==============================] - 0s 20ms/step\n",
            "1/1 [==============================] - 0s 25ms/step\n",
            "X [: [0.  0.  0.  0.  0.1 0.  0.  0.  0.3 0.  0.  0. ]\n",
            "Y [: [0 0 0 0 0 0 0 0 1 0 0 0]\n",
            "PC: [[ 0.   0.  -0.  -0.   0.   0.  -0.   0.   0.5 -0.   0.  -0. ]]\n",
            "93\n",
            "1/1 [==============================] - 0s 22ms/step\n",
            "1/1 [==============================] - 0s 19ms/step\n",
            "1/1 [==============================] - 0s 19ms/step\n",
            "1/1 [==============================] - 0s 20ms/step\n",
            "1/1 [==============================] - 0s 23ms/step\n",
            "1/1 [==============================] - 0s 22ms/step\n"
          ]
        }
      ],
      "source": [
        "i = 0\n",
        "for i in range(100):\n",
        "    a = x_teste[i]\n",
        "    b = a.reshape(1, 1, 12)\n",
        "\n",
        "    # Make predictions on new data\n",
        "    prediction = model_lstm.predict(b)\n",
        "    #predicted_class = label_encoder.inverse_transform(prediction)[0]\n",
        "\n",
        "    np.round(prediction, decimals=1, out=prediction)\n",
        "    np.round(x_teste[i], decimals=1, out=x_teste[i])\n",
        "    #print(\"Value:\", newArray[i + start])\n",
        "    if (np.sum(y_teste[i]) > 0):\n",
        "      print(\"X [:\", x_teste[i])\n",
        "      print(\"Y [:\", y_teste[i])\n",
        "      print(\"PC:\", prediction)\n",
        "      print (i)\n",
        "    i = 1 + 1\n",
        "#PREDICTIONS WITH COLAB MODEL\n",
        "#prediction = model.predict(teste)\n",
        "#print(\"Predicted class:\", prediction)\n",
        "#print(\"Predicted class:\", predicted_class)"
      ]
    },
    {
      "cell_type": "code",
      "execution_count": 36,
      "metadata": {
        "colab": {
          "base_uri": "https://localhost:8080/"
        },
        "id": "lmrX4Kzdc0T3",
        "outputId": "ce5e88d8-8868-4e88-bbae-5a03b35c0d3c"
      },
      "outputs": [
        {
          "output_type": "stream",
          "name": "stdout",
          "text": [
            "1/1 [==============================] - 0s 18ms/step\n",
            "Value    : [0.    0.363 0.313 0.    0.    0.31  0.393 0.    0.    0.244 0.247 0.   ]\n",
            "Predicted: [0.   0.01 0.84 0.   0.   0.58 0.   0.   0.   0.   1.   0.  ]\n"
          ]
        }
      ],
      "source": [
        "teste_value = np.array([0., 0.363, 0.313, 0., 0., 0.31, 0.393, 0., 0., 0.244, 0.247, 0.])\n",
        "teste_value = teste_value.reshape(1, 1, 12)\n",
        "\n",
        "# Make predictions on new data\n",
        "prediction = model_lstm.predict(teste_value)\n",
        "np.round(prediction, decimals=2, out=prediction)\n",
        "\n",
        "print(\"Value    :\", teste_value[0][0])\n",
        "print(\"Predicted:\", prediction[0])\n"
      ]
    },
    {
      "cell_type": "markdown",
      "metadata": {
        "id": "02BdeK0gJrOU"
      },
      "source": [
        "# **SAVE THE MODEL**"
      ]
    },
    {
      "cell_type": "code",
      "execution_count": null,
      "metadata": {
        "id": "KGOyK8rXJvmx"
      },
      "outputs": [],
      "source": [
        "import os\n",
        "model_lstm.save(os.path.join(\".\", 'lstm_model_v40.h5'))"
      ]
    }
  ],
  "metadata": {
    "accelerator": "GPU",
    "colab": {
      "gpuType": "T4",
      "provenance": []
    },
    "kernelspec": {
      "display_name": "Python 3",
      "name": "python3"
    },
    "language_info": {
      "codemirror_mode": {
        "name": "ipython",
        "version": 3
      },
      "file_extension": ".py",
      "mimetype": "text/x-python",
      "name": "python",
      "nbconvert_exporter": "python",
      "pygments_lexer": "ipython3",
      "version": "3.9.16"
    }
  },
  "nbformat": 4,
  "nbformat_minor": 0
}