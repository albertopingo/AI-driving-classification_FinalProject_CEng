{
 "cells": [
  {
   "cell_type": "code",
   "execution_count": 26,
   "metadata": {},
   "outputs": [],
   "source": [
    "import pandas as pd"
   ]
  },
  {
   "cell_type": "markdown",
   "metadata": {},
   "source": [
    "## **Import Data (UAH-Driveset dataset)**"
   ]
  },
  {
   "cell_type": "markdown",
   "metadata": {},
   "source": [
    "Sensor labels found in http://www.robesafe.uah.es/personal/eduardo.romera/pdfs/Romera16itsc.pdf"
   ]
  },
  {
   "cell_type": "code",
   "execution_count": 27,
   "metadata": {},
   "outputs": [
    {
     "name": "stdout",
     "output_type": "stream",
     "text": [
      "   Timestamp  SystemActivated  AccelX  AccelY  AccelZ  AccelX_KF  AccelY_KF  \\\n",
      "0       6.94                1   0.017  -0.011   0.018     -0.005      0.008   \n",
      "1       7.03                1   0.046   0.007   0.019      0.016     -0.002   \n",
      "2       7.14                1   0.052  -0.016   0.027      0.037     -0.005   \n",
      "3       7.24                1   0.015  -0.016   0.026      0.038     -0.009   \n",
      "4       7.34                1  -0.014  -0.017   0.040      0.012     -0.016   \n",
      "\n",
      "   AccelZ_KF   Roll  Pitch    Yaw  \n",
      "0      0.018 -1.523  0.015  0.012  \n",
      "1      0.018 -1.522  0.012  0.012  \n",
      "2      0.018 -1.520  0.014  0.011  \n",
      "3      0.024 -1.523  0.014  0.011  \n",
      "4      0.032 -1.525  0.012  0.011  \n",
      "   Timestamp  Speed   Latitude  Longitude  Altitude  VerticalAccuracy  \\\n",
      "0       7.85   65.2  40.512787  -3.404477     612.7                 4   \n",
      "1       8.83   64.5  40.512924  -3.404577     612.5                 4   \n",
      "2       9.82   63.6  40.513065  -3.404680     612.9                 4   \n",
      "3      10.80   62.2  40.513210  -3.404772     613.3                 4   \n",
      "4      11.80   60.9  40.513348  -3.404868     613.5                 3   \n",
      "\n",
      "   HorizontalAccuracy  Course  Difcourse  \n",
      "0                   5   331.9      0.000  \n",
      "1                   5   331.9      0.000  \n",
      "2                   5   330.8      1.055  \n",
      "3                   5   330.8      1.055  \n",
      "4                   5   330.1      0.703  \n"
     ]
    }
   ],
   "source": [
    "\n",
    "#****************************************************#\n",
    "# RAW ACCELEROMETER - 10Hz\n",
    "# 1) Timestamp (seconds)\n",
    "# 2) Boolean of system activated (1 if >50km/h)\n",
    "# 3) Acceleration in X (Gs)\n",
    "# 4) Acceleration in Y (Gs)\n",
    "# 5) Acceleration in Z (Gs)\n",
    "# 6) Acceleration in X filtered by KF (Gs)\n",
    "# 7) Acceleration in Y filtered by KF (Gs)\n",
    "# 8) Acceleration in Z filtered by KF (Gs)\n",
    "# 9) Roll (degrees)\n",
    "# 10) Pitch (degrees)\n",
    "# 11) Yaw (degrees)\n",
    "#****************************************************#\n",
    "raw_accelerometer = pd.read_csv('RAW_ACCELEROMETERS.txt', delim_whitespace=True, header=None)\n",
    "\n",
    "raw_accelerometer.columns = [\n",
    "    'Timestamp',\n",
    "    'SystemActivated',\n",
    "    'AccelX',\n",
    "    'AccelY',\n",
    "    'AccelZ',\n",
    "    'AccelX_KF',\n",
    "    'AccelY_KF',\n",
    "    'AccelZ_KF',\n",
    "    'Roll',\n",
    "    'Pitch',\n",
    "    'Yaw'\n",
    "]\n",
    "\n",
    "\n",
    "#****************************************************#\n",
    "# RAW GPS - 1Hz\n",
    "# 1) Timestamp (seconds)\n",
    "# 2) Speed (km/h)\n",
    "# 3) Latitude coordinate (degrees)\n",
    "# 4) Longitude coordinate (degrees)\n",
    "# 5) Altitude (meters)\n",
    "# 6) Vertical accuracy (degrees)\n",
    "# 7) Horizontal accuracy (degrees)\n",
    "# 8) Course (degrees)\n",
    "# 9) Difcourse: course variation (degrees)\n",
    "# 10) Lanex dist state [internal val]\n",
    "# 11) Lanex history [internal val]\n",
    "\n",
    "# https://github.com/Eromera/uah_driveset_reader/blob/master/driveset_reader.py\n",
    "#  elif (i == 10):\n",
    "#             self.columnInfo.setText('Lanex dist state [internal val]')\n",
    "#          elif (i == 11):\n",
    "#             self.columnInfo.setText('Lanex history [internal val]')\n",
    "#****************************************************#\n",
    "raw_gps = pd.read_csv('RAW_GPS.txt', delim_whitespace=True, header=None)\n",
    "\n",
    "raw_gps.columns = [ 'Timestamp', \n",
    "                   'Speed', \n",
    "                   'Latitude',\n",
    "                   'Longitude',\n",
    "                   'Altitude',\n",
    "                   'VerticalAccuracy',\n",
    "                   'HorizontalAccuracy',\n",
    "                   'Course',\n",
    "                   'Difcourse',\n",
    "                   'LanexDistState',\n",
    "                   'LanexHistory',\n",
    "                   'dropcolumn']\n",
    "\n",
    "raw_gps = raw_gps.drop(columns=['LanexDistState', 'LanexHistory', 'dropcolumn'])\n",
    "\n",
    "\n",
    "# Create dataframes\n",
    "df_accel = raw_accelerometer.copy()\n",
    "df_gps = raw_gps.copy()\n",
    "\n",
    "print(df_accel.head())\n",
    "print(df_gps.head())\n",
    "\n",
    "# Accelerometer data columns\n",
    "timestamp = df_accel['Timestamp']\n",
    "system_activated = df_accel['SystemActivated']\n",
    "accelX = df_accel['AccelX']\n",
    "accelY = df_accel['AccelY']\n",
    "accelZ = df_accel['AccelZ']\n",
    "accelX_KF = df_accel['AccelX_KF']\n",
    "accelY_KF = df_accel['AccelY_KF']\n",
    "accelZ_KF = df_accel['AccelZ_KF']\n",
    "gyrX_roll = df_accel['Roll']\n",
    "gyrY_pitch = df_accel['Pitch']\n",
    "gyrZ_yaw = df_accel['Yaw']\n",
    "\n",
    "# GPS data columns\n",
    "timestamp_gps = df_gps['Timestamp']\n",
    "speed = df_gps['Speed']\n",
    "latitude = df_gps['Latitude']\n",
    "longitude = df_gps['Longitude']\n",
    "altitude = df_gps['Altitude']\n",
    "vertical_accuracy = df_gps['VerticalAccuracy']\n",
    "horizontal_accuracy = df_gps['HorizontalAccuracy']\n",
    "course = df_gps['Course']\n",
    "difcourse = df_gps['Difcourse']"
   ]
  },
  {
   "cell_type": "markdown",
   "metadata": {},
   "source": [
    "## **Sampling**"
   ]
  },
  {
   "cell_type": "code",
   "execution_count": 28,
   "metadata": {},
   "outputs": [],
   "source": [
    "# GPS data = 1Hz\n",
    "# Accelerometer data = 10Hz\n",
    "\n",
    "# Upsample the GPS data to 10Hz\n",
    "df_gps_upsampled = df_gps.reindex(df_gps.index.repeat(10)).reset_index(drop=True)\n",
    "\n"
   ]
  }
 ],
 "metadata": {
  "kernelspec": {
   "display_name": "Python 3",
   "language": "python",
   "name": "python3"
  },
  "language_info": {
   "codemirror_mode": {
    "name": "ipython",
    "version": 3
   },
   "file_extension": ".py",
   "mimetype": "text/x-python",
   "name": "python",
   "nbconvert_exporter": "python",
   "pygments_lexer": "ipython3",
   "version": "3.11.4"
  }
 },
 "nbformat": 4,
 "nbformat_minor": 2
}
