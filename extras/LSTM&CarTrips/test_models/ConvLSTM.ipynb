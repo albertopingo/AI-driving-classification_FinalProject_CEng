{
  "cells": [
    {
      "cell_type": "markdown",
      "metadata": {
        "id": "RzTK7gM5ydFL"
      },
      "source": [
        "**IMPORT LIBS**"
      ]
    },
    {
      "cell_type": "code",
      "execution_count": 25,
      "metadata": {
        "id": "HG6VE-z-iIFN"
      },
      "outputs": [],
      "source": [
        "import os\n",
        "import math\n",
        "import numpy as np\n",
        "import pandas as pd\n",
        "import matplotlib.pyplot as plt\n",
        "\n",
        "import tensorflow as tf\n",
        "\n",
        "\n",
        "import keras\n",
        "from keras.models import Sequential, load_model\n",
        "from keras.layers import LSTM, Dense, Dropout,Conv1D,Flatten,Bidirectional,BatchNormalization\n",
        "from keras.callbacks import EarlyStopping, ReduceLROnPlateau,ModelCheckpoint\n",
        "import keras.backend as K\n",
        "\n",
        "from sklearn import metrics\n",
        "from sklearn.preprocessing import LabelEncoder\n",
        "from sklearn.model_selection import train_test_split\n",
        "from sklearn.metrics import precision_score\n",
        "from sklearn.metrics import f1_score\n",
        "from sklearn.metrics import recall_score\n",
        "from sklearn.metrics import accuracy_score\n",
        "\n",
        "import warnings\n",
        "warnings.filterwarnings('ignore')"
      ]
    },
    {
      "cell_type": "markdown",
      "metadata": {},
      "source": [
        "**Create aux folders and get file path**"
      ]
    },
    {
      "cell_type": "code",
      "execution_count": 26,
      "metadata": {},
      "outputs": [
        {
          "name": "stdout",
          "output_type": "stream",
          "text": [
            "Root directory: c:\\codeUni\\ProjetoInformatico\\18-06\n",
            "Dataset directory: c:\\codeUni\\ProjetoInformatico\\18-06\\datasets\\UAH-DRIVESET-v1\\UAH-Processed\n"
          ]
        }
      ],
      "source": [
        "# Make auxiliar folders\n",
        "if not os.path.exists('runtime_saves'):\n",
        "    os.makedirs('runtime_saves')\n",
        "if not os.path.exists('runtime_saves/models'):\n",
        "    os.makedirs('runtime_saves/models')\n",
        "if not os.path.exists('runtime_saves/train&test'):\n",
        "    os.makedirs('runtime_saves/train&test')\n",
        "    \n",
        "current_dir = os.getcwd()\n",
        "\n",
        "root_dir = os.path.abspath(os.path.join(current_dir, os.pardir, os.pardir, os.pardir))\n",
        "\n",
        "datasetUAH_dir = os.path.join(root_dir, 'datasets', 'UAH-DRIVESET-v1', 'UAH-Processed')\n",
        "\n",
        "print(f'Root directory: {root_dir}')\n",
        "print(f'Dataset directory: {datasetUAH_dir}')"
      ]
    },
    {
      "cell_type": "markdown",
      "metadata": {
        "id": "RHBmH_88Ilpx"
      },
      "source": [
        "# **AUX FUNCTIONS**"
      ]
    },
    {
      "cell_type": "code",
      "execution_count": 27,
      "metadata": {
        "id": "F0lXdqGfInKu"
      },
      "outputs": [],
      "source": [
        "def save_manovers_positions_to_csv_file(gps_positions, manovers, filename):\n",
        "  output = np.zeros_like(gps_positions)\n",
        "\n",
        "  # Iterate through the elements of arr2\n",
        "  for i in range(len(manovers)):\n",
        "    # Check if the element in arr2 is 1\n",
        "    if manovers[i] == 1:\n",
        "      # Copy the corresponding values from arr1 to the output array\n",
        "      output[i] = gps_positions[i]\n",
        "\n",
        "  output = output[~np.all(output == 0, axis=1)]\n",
        "  \n",
        "  filename = 'runtime_saves/' + filename\n",
        "    \n",
        "  np.savetxt(filename, output, delimiter=',', fmt='%.9f')\n",
        "\n",
        "\n",
        "\n",
        "def separate_positives_negatives(data):\n",
        "  # Ensure the input is converted to a NumPy array for easier manipulation\n",
        "  data = np.array(data)\n",
        "\n",
        "  # Create two empty arrays to store positive and negative values\n",
        "  positives = np.zeros_like(data)\n",
        "  negatives = np.zeros_like(data)\n",
        "\n",
        "  # Use boolean indexing to separate positive and negative values\n",
        "  positives[data > 0] = data[data > 0]\n",
        "  negatives[data < 0] = -data[data < 0]\n",
        "\n",
        "  # Combine the positive and negative values into a single 2D array\n",
        "  return (positives, negatives)\n",
        "\n",
        "def normalize_between_0_and_max(data):\n",
        "  max_value = np.max(data)\n",
        "  return data / max_value\n",
        "\n",
        "def normalize_between_0_and_max_v2(data, max_value):\n",
        "  return data / max_value\n",
        "\n",
        "def split_train_test(data, test_size=0.2):\n",
        "  # Check if test_size is between 0 and 1\n",
        "  if test_size < 0 or test_size > 1:\n",
        "    raise ValueError(\"test_size must be between 0 and 1.\")\n",
        "\n",
        "  # Get the number of samples\n",
        "  num_samples = data.shape[0]\n",
        "\n",
        "  # Calculate the number of samples for each set\n",
        "  train_size = int(num_samples * (1 - test_size))\n",
        "  test_size = num_samples - train_size\n",
        "\n",
        "  # Randomly shuffle the data for better splitting (optional)\n",
        "  #np.random.shuffle(data)\n",
        "\n",
        "  # Split the data into training and test sets\n",
        "  train_data = data[:train_size]\n",
        "  test_data = data[train_size:]\n",
        "\n",
        "  return train_data, test_data\n",
        "\n",
        "def y_classification(data, threshold):\n",
        "  classification = np.zeros_like(data, dtype=int)  # Initialize output array\n",
        "\n",
        "  for col in range(0, 12):  # Loop through each column\n",
        "    max_value = np.max(data[:, col])\n",
        "    threshold_pos = max_value * threshold\n",
        "    classification[:, col] = np.where(data[:, col] >= threshold_pos, 1, 0)\n",
        "\n",
        "  return classification\n",
        "\n",
        "def max_of_vectors(vec1, vec2, vec3, vec4, vec5, vec6):\n",
        "  # Combine all vectors into a single array\n",
        "  all_vectors = np.array([vec1, vec2, vec3, vec4, vec5, vec6])\n",
        "\n",
        "  # Find the maximum value in the array\n",
        "  max_value = np.max(all_vectors)\n",
        "\n",
        "  return max_value\n",
        "\n",
        "def has_one(data):\n",
        "  \"\"\"\n",
        "  This function receives a numpy array and returns a new array\n",
        "  with 1 if the correspondent row of input array has at least one cellule with 1.\n",
        "  In other case the cellule is 0.\n",
        "\n",
        "  Args:\n",
        "      data: A numpy array of shape (n, 12) with 0 or 1 values in each cell.\n",
        "\n",
        "  Returns:\n",
        "      A numpy array of shape (n, 1) with 1s where the corresponding row in data has at least one 1, and 0s otherwise.\n",
        "  \"\"\"\n",
        "  # We sum each row, and any value greater than zero indicates at least one 1 in that row\n",
        "  return np.sum(data, axis=1)[:, np.newaxis] > 0"
      ]
    },
    {
      "cell_type": "markdown",
      "metadata": {
        "id": "aATQYo4TiWrU"
      },
      "source": [
        "# **DATA PREPROCESSING**"
      ]
    },
    {
      "cell_type": "markdown",
      "metadata": {},
      "source": [
        "## **Data structure:**\n",
        "\n",
        "- Acceleration (m/s2): X, Y, Z Axis \n",
        "\n",
        "- Gyroscope (°/s): X, Y, Z Axis\n",
        "\n",
        "- GPS: Latitude and Longitude "
      ]
    },
    {
      "cell_type": "code",
      "execution_count": 28,
      "metadata": {
        "id": "B5wPPy3OiYj9"
      },
      "outputs": [],
      "source": [
        "dataset = os.path.join(os.getcwd(), os.pardir, 'docs', 'v2', 'dataset-all.csv')\n",
        "# dataset = os.path.join(os.getcwd(), os.pardir, 'docs', 'v1', 'Abrantes-Leiria.csv')\n",
        "\n",
        "# Load the dataset into a DataFrame\n",
        "df = pd.read_csv(dataset)\n",
        "\n",
        "acelX = df['accelerometerXAxis']\n",
        "acelY = df['accelerometerYAxis']\n",
        "acelZ = df['accelerometerZAxis']\n",
        "\n",
        "gyrX = df['gyroscopeXAxis']\n",
        "gyrY = df['gyroscopeYAxis']\n",
        "gyrZ = df['gyroscopeZAxis']\n",
        "\n",
        "latitude = df['latitude']\n",
        "longitude = df['longitude']"
      ]
    },
    {
      "cell_type": "code",
      "execution_count": 29,
      "metadata": {
        "colab": {
          "base_uri": "https://localhost:8080/"
        },
        "id": "ZzW3XSugY8m3",
        "outputId": "809859f8-a9ef-4638-c9be-f3536c2556c9"
      },
      "outputs": [],
      "source": [
        "# print(df['accelerometerXAxis'].describe())\n",
        "# print(df['accelerometerYAxis'].describe())\n",
        "# print(df['accelerometerZAxis'].describe())\n",
        "# print(df['gyroscopeXAxis'].describe())\n",
        "# print(df['gyroscopeYAxis'].describe())\n",
        "# print(df['gyroscopeZAxis'].describe())"
      ]
    },
    {
      "cell_type": "markdown",
      "metadata": {
        "id": "eb3I99C7ASnM"
      },
      "source": [
        "## **Separate data by maneuver**"
      ]
    },
    {
      "cell_type": "markdown",
      "metadata": {},
      "source": [
        "We identify different manovers based on the **Acceleration and Gyroscope data**.\n",
        "\n",
        "Accelerometer:\n",
        "- X - Curves\n",
        "- Y - Acceleration and braking\n",
        "- Z - Vertical acceleration - Uphill and downhill\n",
        "\n",
        "Gyroscope:\n",
        "- X - Longitudinal tilt - Uphill and downhill\n",
        "- Y - Lateral tilt\n",
        "- Z - Curves"
      ]
    },
    {
      "cell_type": "code",
      "execution_count": 30,
      "metadata": {
        "id": "IaJIdH4qvx0t"
      },
      "outputs": [
        {
          "data": {
            "text/plain": [
              "(150070,)"
            ]
          },
          "execution_count": 30,
          "metadata": {},
          "output_type": "execute_result"
        }
      ],
      "source": [
        "# Curves\n",
        "turnRightX, turnLeftX = separate_positives_negatives(acelX)\n",
        "# Acceleration and breaking\n",
        "accelY, breakY = separate_positives_negatives(acelY)\n",
        "# Vertical acceleration - hills and bumps\n",
        "positiveZ, negativeZ = separate_positives_negatives(acelZ)\n",
        "\n",
        "# Longitudinal tilt - hills and bumps\n",
        "gyrPositiveX, gyrNegativeX = separate_positives_negatives(gyrX)\n",
        "# Lateral tilt\n",
        "gyrPositiveY, gyrNegativeY = separate_positives_negatives(gyrY)\n",
        "# Curves\n",
        "gyrPositiveZ, gyrNegativeZ = separate_positives_negatives(gyrZ)\n",
        "\n",
        "\n",
        "turnRightX.shape"
      ]
    },
    {
      "cell_type": "markdown",
      "metadata": {
        "id": "SPIA30JzCcST"
      },
      "source": [
        "# **Normalize Data**"
      ]
    },
    {
      "cell_type": "markdown",
      "metadata": {},
      "source": [
        "We normalize the data to guarantee a consistent representation of the data and a better performance of the model.\n",
        "\n",
        "The normalization in done in the following way:\n",
        "- Identify the maximum absolute value of the combined three axis of the accelerometer and gyroscope\n",
        "- Normalize the values between 0 and max value"
      ]
    },
    {
      "cell_type": "code",
      "execution_count": 31,
      "metadata": {
        "id": "bTCRAhTXZXNL"
      },
      "outputs": [],
      "source": [
        "max_accel = max_of_vectors(turnRightX, turnLeftX, accelY, breakY, positiveZ, negativeZ)\n",
        "max_gyr = max_of_vectors(gyrPositiveX, gyrNegativeX, gyrPositiveY, gyrNegativeY, gyrPositiveZ, gyrNegativeZ)\n",
        "\n",
        "turnRightXn = normalize_between_0_and_max_v2(turnRightX, max_accel)\n",
        "turnLeftXn = normalize_between_0_and_max_v2(turnLeftX, max_accel)\n",
        "accelYn = normalize_between_0_and_max_v2(accelY, max_accel)\n",
        "breakYn = normalize_between_0_and_max_v2(breakY, max_accel)\n",
        "positiveZn = normalize_between_0_and_max_v2(positiveZ, max_accel)\n",
        "negativeZn = normalize_between_0_and_max_v2(negativeZ, max_accel)\n",
        "gyrPositiveXn = normalize_between_0_and_max_v2(gyrPositiveX, max_gyr)\n",
        "gyrNegativeXn = normalize_between_0_and_max_v2(gyrNegativeX, max_gyr)\n",
        "gyrPositiveYn = normalize_between_0_and_max_v2(gyrPositiveY, max_gyr)\n",
        "gyrNegativeYn = normalize_between_0_and_max_v2(gyrNegativeY, max_gyr)\n",
        "gyrPositiveZn = normalize_between_0_and_max_v2(gyrPositiveZ, max_gyr)\n",
        "gyrNegativeZn = normalize_between_0_and_max_v2(gyrNegativeZ, max_gyr)"
      ]
    },
    {
      "cell_type": "markdown",
      "metadata": {
        "id": "YrtvVRZ0Avz8"
      },
      "source": [
        "## Array with all the data"
      ]
    },
    {
      "cell_type": "code",
      "execution_count": 32,
      "metadata": {
        "id": "ppkRUVMX1c7W"
      },
      "outputs": [
        {
          "data": {
            "text/plain": [
              "(150070, 12)"
            ]
          },
          "execution_count": 32,
          "metadata": {},
          "output_type": "execute_result"
        }
      ],
      "source": [
        "x = np.array(list(zip(turnRightXn, turnLeftXn, accelYn, breakYn, positiveZn, negativeZn, gyrPositiveXn, gyrNegativeXn, gyrPositiveYn, gyrNegativeYn, gyrPositiveZn, gyrNegativeZn)))\n",
        "\n",
        "x.shape"
      ]
    },
    {
      "cell_type": "markdown",
      "metadata": {},
      "source": [
        "## **Labelling Data**"
      ]
    },
    {
      "cell_type": "markdown",
      "metadata": {},
      "source": [
        "The labelling is done considering:\n",
        "- The **Max value** of each column\n",
        "- An **Adjustable threshold** between 0 and 1.\n",
        "\n",
        "The product of this maximum value and the threshold establishes a reference point that indicates the intensity of the maneuver.\n",
        "\n",
        "- If the data value is greater than or equal to the reference point, it will be classified as 1 (aggressive).\n",
        "\n",
        "- If the data value is less than the reference point, it will be classified as 0 (non-aggressive)."
      ]
    },
    {
      "cell_type": "code",
      "execution_count": 33,
      "metadata": {
        "colab": {
          "base_uri": "https://localhost:8080/"
        },
        "id": "tJVtNOyF3bU5",
        "outputId": "a8fca71e-9321-4b0d-d334-51b8ba23f123"
      },
      "outputs": [
        {
          "name": "stdout",
          "output_type": "stream",
          "text": [
            "[ 789 2127  408  247  896  191   45   30   10  142   88    6]\n",
            "[[0 0 0 ... 0 0 0]\n",
            " [0 0 0 ... 0 0 0]\n",
            " [0 0 0 ... 0 0 0]\n",
            " ...\n",
            " [0 0 0 ... 0 0 0]\n",
            " [0 0 0 ... 0 0 0]\n",
            " [0 0 0 ... 0 0 0]]\n"
          ]
        }
      ],
      "source": [
        "y = y_classification(x, 0.3)\n",
        "print (np.sum(y, axis=0))\n",
        "\n",
        "filename = 'runtime_saves/' + 'Y.csv'\n",
        "print(y)\n",
        "\n",
        "np.savetxt(filename, y, delimiter=',', fmt='%.0i')"
      ]
    },
    {
      "cell_type": "markdown",
      "metadata": {
        "id": "0IZvV0MhdLBy"
      },
      "source": [
        "## Show manovers on Google Map"
      ]
    },
    {
      "cell_type": "code",
      "execution_count": 34,
      "metadata": {
        "id": "yvW2QnkTdRiA"
      },
      "outputs": [],
      "source": [
        "positions = np.array(list(zip(latitude, longitude)))\n",
        "manover_accelY = y[:, 2]\n",
        "manover_breakY = y[:, 3]\n",
        "manover_turnRightXn = y[:, 0]\n",
        "manover_turnLeftXn = y[:, 1]\n",
        "gyrPositiveZn = y[:, 10]\n",
        "gyrNegativeZn = y[:, 11]\n",
        "save_manovers_positions_to_csv_file(positions, manover_accelY, \"accelY.csv\")\n",
        "save_manovers_positions_to_csv_file(positions, manover_breakY, \"breakY.csv\")\n",
        "save_manovers_positions_to_csv_file(positions, manover_turnRightXn, \"turnRightX.csv\")\n",
        "save_manovers_positions_to_csv_file(positions, manover_turnLeftXn, \"turnLeftX.csv\")\n",
        "save_manovers_positions_to_csv_file(positions, gyrPositiveZn, \"gyrPositZ.csv\")\n",
        "save_manovers_positions_to_csv_file(positions, gyrNegativeZn, \"gyrNegZ.csv\")"
      ]
    },
    {
      "cell_type": "markdown",
      "metadata": {
        "id": "Fe_78VHvBRJQ"
      },
      "source": [
        "## Plot manovers"
      ]
    },
    {
      "cell_type": "code",
      "execution_count": 35,
      "metadata": {
        "id": "cksFepBiioYu"
      },
      "outputs": [
        {
          "data": {
            "image/png": "[encoded data removed]",
            "text/plain": [
              "<Figure size 640x480 with 1 Axes>"
            ]
          },
          "metadata": {},
          "output_type": "display_data"
        }
      ],
      "source": [
        "plt.plot(y[:, 2], marker='.', linestyle='none')\n",
        "plt.plot(y[:, 3], marker='.', linestyle='none')\n",
        "\n",
        "plt.legend(['Accel Y', 'Break Y'])\n",
        "plt.show()"
      ]
    },
    {
      "cell_type": "markdown",
      "metadata": {},
      "source": [
        "# **MODEL**"
      ]
    },
    {
      "cell_type": "markdown",
      "metadata": {
        "id": "lB-CdF_MGToJ"
      },
      "source": [
        "## Separate data in train and test"
      ]
    },
    {
      "cell_type": "code",
      "execution_count": 36,
      "metadata": {
        "id": "Bd56BA3fIORH"
      },
      "outputs": [
        {
          "name": "stdout",
          "output_type": "stream",
          "text": [
            "(112552, 12) (112552, 12)\n",
            "(37518, 12) (37518, 12)\n"
          ]
        }
      ],
      "source": [
        "# x_train, x_test = split_train_test(x, test_size=0.2)\n",
        "\n",
        "# y_train, y_test = split_train_test(y, test_size=0.2)\n",
        "\n",
        "# Split into training and testing sets\n",
        "x_train, x_test, y_train, y_test = train_test_split(x, y, test_size=0.25, random_state=42)\n",
        "\n",
        "#shape\n",
        "print(x_train.shape, y_train.shape)\n",
        "print(x_test.shape, y_test.shape)\n"
      ]
    },
    {
      "cell_type": "markdown",
      "metadata": {
        "id": "6d5xKgrEC-ks"
      },
      "source": [
        "## Create the input tensor data"
      ]
    },
    {
      "cell_type": "code",
      "execution_count": 37,
      "metadata": {
        "id": "EOkN2T88doeE"
      },
      "outputs": [
        {
          "name": "stdout",
          "output_type": "stream",
          "text": [
            "(112552, 1, 12)\n",
            "(37518, 1, 12)\n"
          ]
        }
      ],
      "source": [
        "train = x_train.reshape(x_train.shape[0], 1, x_train.shape[1])\n",
        "test = x_test.reshape(x_test.shape[0], 1, x_test.shape[1])\n",
        "\n",
        "print(train.shape)\n",
        "print(test.shape)\n",
        "\n",
        "np.savetxt(\"runtime_saves/train&test/x_train.csv\", x_train, delimiter=',', fmt='%.9f')\n",
        "np.savetxt(\"runtime_saves/train&test/x_test.csv\", x_test, delimiter=',', fmt='%.9f')\n",
        "np.savetxt(\"runtime_saves/train&test/y_train.csv\", y_train, delimiter=',', fmt='%.0i')\n",
        "np.savetxt(\"runtime_saves/train&test/y_test.csv\", y_test, delimiter=',', fmt='%.0i')\n",
        "\n",
        "np.savetxt(\"runtime_saves/train&test/train.csv\", train.reshape(train.shape[0], train.shape[2]), delimiter=',', fmt='%.9f')\n",
        "np.savetxt(\"runtime_saves/train&test/test.csv\", test.reshape(test.shape[0], test.shape[2]), delimiter=',', fmt='%.9f')"
      ]
    },
    {
      "cell_type": "markdown",
      "metadata": {
        "id": "wBfgiQgAGZPW"
      },
      "source": [
        "## **Create Model**"
      ]
    },
    {
      "cell_type": "markdown",
      "metadata": {},
      "source": [
        "### #TODO"
      ]
    },
    {
      "cell_type": "code",
      "execution_count": 38,
      "metadata": {
        "id": "4wdxfd2JJwmh"
      },
      "outputs": [
        {
          "name": "stdout",
          "output_type": "stream",
          "text": [
            "1 12\n"
          ]
        }
      ],
      "source": [
        "# K.clear_session()\n",
        "\n",
        "dropout1 = 0.5\n",
        "dropout2 = 0.2\n",
        "\n",
        "# learning_rate = 0.001\n",
        "\n",
        "#conv1D and LSTM model\n",
        "model_lstm = Sequential()\n",
        "model_lstm.add(Conv1D(filters=64, kernel_size=1, activation='relu', input_shape=(1, 12)))\n",
        "model_lstm.add(LSTM(128, return_sequences=True))\n",
        "model_lstm.add(Dropout(dropout1))\n",
        "model_lstm.add(LSTM(64, return_sequences=False))\n",
        "model_lstm.add(Dropout(dropout2))\n",
        "model_lstm.add(Dense(12, activation='sigmoid'))\n",
        "\n",
        "print(train.shape[1], train.shape[2])\n",
        "\n",
        "model_lstm.compile(loss='binary_crossentropy',optimizer='adam',metrics=['accuracy'])"
      ]
    },
    {
      "cell_type": "markdown",
      "metadata": {
        "id": "khawMeLUGczr"
      },
      "source": [
        "## **Train Model**"
      ]
    },
    {
      "cell_type": "markdown",
      "metadata": {},
      "source": [
        "### #TODO"
      ]
    },
    {
      "cell_type": "code",
      "execution_count": 39,
      "metadata": {
        "colab": {
          "base_uri": "https://localhost:8080/"
        },
        "id": "NNkg4Mr-K36t",
        "outputId": "c5ced2dc-cc07-4cc5-d922-f176e6e16542"
      },
      "outputs": [
        {
          "name": "stdout",
          "output_type": "stream",
          "text": [
            "Epoch 1/100\n",
            "1759/1759 [==============================] - 14s 6ms/step - loss: 0.0348 - accuracy: 0.0405 - val_loss: 0.0175 - val_accuracy: 0.0144 - lr: 0.0010\n",
            "Epoch 2/100\n",
            "1759/1759 [==============================] - 9s 5ms/step - loss: 0.0158 - accuracy: 0.0817 - val_loss: 0.0104 - val_accuracy: 0.2815 - lr: 0.0010\n",
            "Epoch 3/100\n",
            "1759/1759 [==============================] - 9s 5ms/step - loss: 0.0076 - accuracy: 0.4271 - val_loss: 0.0057 - val_accuracy: 0.1032 - lr: 0.0010\n",
            "Epoch 4/100\n",
            "1759/1759 [==============================] - 11s 6ms/step - loss: 0.0043 - accuracy: 0.0945 - val_loss: 0.0039 - val_accuracy: 0.0432 - lr: 0.0010\n",
            "Epoch 5/100\n",
            "1759/1759 [==============================] - 10s 6ms/step - loss: 0.0034 - accuracy: 0.0478 - val_loss: 0.0031 - val_accuracy: 0.0367 - lr: 0.0010\n",
            "Epoch 6/100\n",
            "1759/1759 [==============================] - 10s 5ms/step - loss: 0.0031 - accuracy: 0.0411 - val_loss: 0.0027 - val_accuracy: 0.0385 - lr: 0.0010\n",
            "Epoch 7/100\n",
            "1759/1759 [==============================] - 10s 6ms/step - loss: 0.0028 - accuracy: 0.0391 - val_loss: 0.0028 - val_accuracy: 0.0379 - lr: 0.0010\n",
            "Epoch 8/100\n",
            "1759/1759 [==============================] - 10s 6ms/step - loss: 0.0026 - accuracy: 0.0395 - val_loss: 0.0024 - val_accuracy: 0.0356 - lr: 0.0010\n",
            "Epoch 9/100\n",
            "1759/1759 [==============================] - 10s 6ms/step - loss: 0.0024 - accuracy: 0.0406 - val_loss: 0.0023 - val_accuracy: 0.0370 - lr: 0.0010\n",
            "Epoch 10/100\n",
            "1759/1759 [==============================] - 12s 7ms/step - loss: 0.0022 - accuracy: 0.0459 - val_loss: 0.0020 - val_accuracy: 0.0373 - lr: 0.0010\n",
            "Epoch 11/100\n",
            "1759/1759 [==============================] - 9s 5ms/step - loss: 0.0020 - accuracy: 0.0494 - val_loss: 0.0020 - val_accuracy: 0.0333 - lr: 0.0010\n",
            "Epoch 12/100\n",
            "1759/1759 [==============================] - 8s 5ms/step - loss: 0.0019 - accuracy: 0.0475 - val_loss: 0.0024 - val_accuracy: 0.0354 - lr: 0.0010\n",
            "Epoch 13/100\n",
            "1759/1759 [==============================] - 10s 5ms/step - loss: 0.0018 - accuracy: 0.0647 - val_loss: 0.0016 - val_accuracy: 0.0413 - lr: 0.0010\n",
            "Epoch 14/100\n",
            "1759/1759 [==============================] - 10s 6ms/step - loss: 0.0017 - accuracy: 0.0575 - val_loss: 0.0015 - val_accuracy: 0.0402 - lr: 0.0010\n",
            "Epoch 15/100\n",
            "1759/1759 [==============================] - 10s 5ms/step - loss: 0.0016 - accuracy: 0.0610 - val_loss: 0.0014 - val_accuracy: 0.0375 - lr: 0.0010\n",
            "Epoch 16/100\n",
            "1759/1759 [==============================] - 10s 6ms/step - loss: 0.0015 - accuracy: 0.0640 - val_loss: 0.0014 - val_accuracy: 0.0430 - lr: 0.0010\n",
            "Epoch 17/100\n",
            "1759/1759 [==============================] - 9s 5ms/step - loss: 0.0014 - accuracy: 0.0726 - val_loss: 0.0018 - val_accuracy: 0.0514 - lr: 0.0010\n",
            "Epoch 18/100\n",
            "1759/1759 [==============================] - 9s 5ms/step - loss: 0.0014 - accuracy: 0.0784 - val_loss: 0.0016 - val_accuracy: 0.0440 - lr: 0.0010\n",
            "Epoch 19/100\n",
            "1759/1759 [==============================] - 9s 5ms/step - loss: 0.0013 - accuracy: 0.0798 - val_loss: 0.0012 - val_accuracy: 0.0381 - lr: 0.0010\n",
            "Epoch 20/100\n",
            "1759/1759 [==============================] - 9s 5ms/step - loss: 0.0012 - accuracy: 0.0717 - val_loss: 0.0014 - val_accuracy: 0.0477 - lr: 0.0010\n",
            "Epoch 21/100\n",
            "1759/1759 [==============================] - 9s 5ms/step - loss: 0.0013 - accuracy: 0.0988 - val_loss: 0.0012 - val_accuracy: 0.0421 - lr: 0.0010\n",
            "Epoch 22/100\n",
            "1759/1759 [==============================] - 10s 5ms/step - loss: 0.0012 - accuracy: 0.1075 - val_loss: 0.0011 - val_accuracy: 0.0490 - lr: 0.0010\n",
            "Epoch 23/100\n",
            "1759/1759 [==============================] - 10s 6ms/step - loss: 0.0012 - accuracy: 0.1039 - val_loss: 0.0012 - val_accuracy: 0.0440 - lr: 0.0010\n",
            "Epoch 24/100\n",
            "1750/1759 [============================>.] - ETA: 0s - loss: 0.0011 - accuracy: 0.1352\n",
            "Epoch 24: ReduceLROnPlateau reducing learning rate to 0.00020000000949949026.\n",
            "1759/1759 [==============================] - 9s 5ms/step - loss: 0.0011 - accuracy: 0.1351 - val_loss: 0.0011 - val_accuracy: 0.0439 - lr: 0.0010\n",
            "Epoch 25/100\n",
            "1759/1759 [==============================] - 9s 5ms/step - loss: 9.1349e-04 - accuracy: 0.1115 - val_loss: 8.9519e-04 - val_accuracy: 0.0419 - lr: 2.0000e-04\n",
            "Epoch 26/100\n",
            "1759/1759 [==============================] - 9s 5ms/step - loss: 7.8978e-04 - accuracy: 0.1047 - val_loss: 8.8202e-04 - val_accuracy: 0.0398 - lr: 2.0000e-04\n",
            "Epoch 27/100\n",
            "1759/1759 [==============================] - 9s 5ms/step - loss: 7.6631e-04 - accuracy: 0.1028 - val_loss: 8.3361e-04 - val_accuracy: 0.0393 - lr: 2.0000e-04\n",
            "Epoch 28/100\n",
            "1759/1759 [==============================] - 9s 5ms/step - loss: 7.2486e-04 - accuracy: 0.0961 - val_loss: 8.6689e-04 - val_accuracy: 0.0377 - lr: 2.0000e-04\n",
            "Epoch 29/100\n",
            "1759/1759 [==============================] - 9s 5ms/step - loss: 7.1563e-04 - accuracy: 0.0926 - val_loss: 8.1276e-04 - val_accuracy: 0.0371 - lr: 2.0000e-04\n",
            "Epoch 30/100\n",
            "1750/1759 [============================>.] - ETA: 0s - loss: 7.4648e-04 - accuracy: 0.0838\n",
            "Epoch 30: ReduceLROnPlateau reducing learning rate to 4.0000001899898055e-05.\n",
            "1759/1759 [==============================] - 9s 5ms/step - loss: 7.4458e-04 - accuracy: 0.0838 - val_loss: 8.7042e-04 - val_accuracy: 0.0359 - lr: 2.0000e-04\n",
            "Epoch 31/100\n",
            "1759/1759 [==============================] - 9s 5ms/step - loss: 6.7005e-04 - accuracy: 0.0758 - val_loss: 8.1805e-04 - val_accuracy: 0.0355 - lr: 4.0000e-05\n",
            "Epoch 32/100\n",
            "1759/1759 [==============================] - 9s 5ms/step - loss: 6.5979e-04 - accuracy: 0.0761 - val_loss: 7.9964e-04 - val_accuracy: 0.0360 - lr: 4.0000e-05\n",
            "Epoch 33/100\n",
            "1759/1759 [==============================] - 9s 5ms/step - loss: 6.6311e-04 - accuracy: 0.0766 - val_loss: 8.0468e-04 - val_accuracy: 0.0355 - lr: 4.0000e-05\n",
            "Epoch 34/100\n",
            "1759/1759 [==============================] - 9s 5ms/step - loss: 6.6187e-04 - accuracy: 0.0762 - val_loss: 7.9545e-04 - val_accuracy: 0.0355 - lr: 4.0000e-05\n",
            "Epoch 35/100\n",
            "1748/1759 [============================>.] - ETA: 0s - loss: 6.3063e-04 - accuracy: 0.0759\n",
            "Epoch 35: ReduceLROnPlateau reducing learning rate to 8.000000525498762e-06.\n",
            "1759/1759 [==============================] - 9s 5ms/step - loss: 6.3157e-04 - accuracy: 0.0759 - val_loss: 8.2704e-04 - val_accuracy: 0.0351 - lr: 4.0000e-05\n",
            "Epoch 36/100\n",
            "1759/1759 [==============================] - 9s 5ms/step - loss: 6.2690e-04 - accuracy: 0.0741 - val_loss: 7.9931e-04 - val_accuracy: 0.0354 - lr: 8.0000e-06\n",
            "Epoch 37/100\n",
            "1759/1759 [==============================] - 9s 5ms/step - loss: 6.2986e-04 - accuracy: 0.0744 - val_loss: 7.9902e-04 - val_accuracy: 0.0353 - lr: 8.0000e-06\n"
          ]
        }
      ],
      "source": [
        "# Define callbacks\n",
        "early_stopping = EarlyStopping(monitor='val_loss', patience=3, restore_best_weights=True)\n",
        "reduce_lr = ReduceLROnPlateau(monitor='val_loss', factor=0.2, patience=5, verbose=1, mode='min', min_lr=0.0000)\n",
        "model_checkpoint = ModelCheckpoint('best_models/best_model_ConvLSTM.keras', monitor='val_loss', save_best_only=True)\n",
        "\n",
        "\n",
        "\n",
        "# Train the model\n",
        "model_lstm_output = model_lstm.fit(train, y_train, epochs=100,  batch_size=64, callbacks=[early_stopping,model_checkpoint,reduce_lr], validation_data=(test, y_test))"
      ]
    },
    {
      "cell_type": "markdown",
      "metadata": {
        "id": "Ct_S460uGhxP"
      },
      "source": [
        "# **RESULTS**"
      ]
    },
    {
      "cell_type": "markdown",
      "metadata": {},
      "source": [
        "## Evaluate the model"
      ]
    },
    {
      "cell_type": "code",
      "execution_count": 40,
      "metadata": {},
      "outputs": [
        {
          "name": "stdout",
          "output_type": "stream",
          "text": [
            "1173/1173 [==============================] - 3s 2ms/step\n",
            "[[2.1735036e-07 5.0767329e-07 4.4948669e-07 ... 1.0458026e-07\n",
            "  3.4693752e-08 3.7702714e-14]\n",
            " [1.6048331e-07 6.2370657e-07 6.6681423e-07 ... 6.9167257e-08\n",
            "  3.9416033e-08 4.4415843e-14]\n",
            " [4.7795760e-07 5.2460124e-05 3.7934447e-03 ... 3.3007730e-03\n",
            "  9.1700602e-01 7.8347817e-05]\n",
            " ...\n",
            " [1.1270529e-07 4.3944721e-07 3.1982850e-07 ... 3.7842312e-08\n",
            "  1.7825700e-08 9.8319087e-15]\n",
            " [9.5155116e-07 3.2727004e-07 7.5289921e-07 ... 2.1906050e-07\n",
            "  2.6320867e-08 1.3231624e-13]\n",
            " [2.5485758e-06 3.9009578e-07 1.7914629e-06 ... 1.0085237e-06\n",
            "  7.1149479e-08 1.6685435e-12]]\n"
          ]
        }
      ],
      "source": [
        "pred = model_lstm.predict(test)\n",
        "print(pred)"
      ]
    },
    {
      "cell_type": "code",
      "execution_count": 41,
      "metadata": {},
      "outputs": [
        {
          "name": "stdout",
          "output_type": "stream",
          "text": [
            "[[0 0 0 ... 0 0 0]\n",
            " [0 0 0 ... 0 0 0]\n",
            " [0 0 0 ... 0 1 0]\n",
            " ...\n",
            " [0 0 0 ... 0 0 0]\n",
            " [0 0 0 ... 0 0 0]\n",
            " [0 0 0 ... 0 0 0]]\n"
          ]
        }
      ],
      "source": [
        "pred = np.round(pred).astype(int)\n",
        "print(pred)"
      ]
    },
    {
      "cell_type": "code",
      "execution_count": 42,
      "metadata": {},
      "outputs": [
        {
          "name": "stdout",
          "output_type": "stream",
          "text": [
            "[ 0  0 10 ...  0  0  0]\n"
          ]
        },
        {
          "data": {
            "text/plain": [
              "(37518,)"
            ]
          },
          "execution_count": 42,
          "metadata": {},
          "output_type": "execute_result"
        }
      ],
      "source": [
        "pred = np.argmax(pred, axis=1)\n",
        "print(pred)\n",
        "pred.shape"
      ]
    },
    {
      "cell_type": "code",
      "execution_count": 43,
      "metadata": {},
      "outputs": [
        {
          "name": "stdout",
          "output_type": "stream",
          "text": [
            "(37518, 12)\n",
            "(37518,)\n",
            "[0 1]\n",
            "[ 0  1  2  3  4  5  9 10]\n"
          ]
        }
      ],
      "source": [
        "# Check shapes of y_test and pred\n",
        "print(y_test.shape)  # Should be (n_samples, 12)\n",
        "print(pred.shape)    # Should be (n_samples, 12)\n",
        "\n",
        "# Check unique values to ensure binary classification\n",
        "print(np.unique(y_test))\n",
        "print(np.unique(pred))\n"
      ]
    },
    {
      "cell_type": "markdown",
      "metadata": {},
      "source": [
        "## Confusion Matrix"
      ]
    },
    {
      "cell_type": "code",
      "execution_count": 44,
      "metadata": {},
      "outputs": [
        {
          "name": "stdout",
          "output_type": "stream",
          "text": [
            "[[36513     6     6     2     5     1     0     0     3     0]\n",
            " [    3   536     0     0     0     0     0     0     0     0]\n",
            " [    5     0    89     0     3     0     0     0     0     0]\n",
            " [    3     0     0    51     1     0     0     0     0     0]\n",
            " [    3     0     0     1   190     0     0     0     0     0]\n",
            " [    0     0     0     0     0    35     0     0     1     0]\n",
            " [    5     0     0     0     0     0     0     0     4     0]\n",
            " [    4     0     0     0     0     0     0     0     0     0]\n",
            " [    6     0     0     0     0     0     0     0    29     0]\n",
            " [    2     0     0     0     0     0     0     0     0    11]]\n"
          ]
        }
      ],
      "source": [
        "# conf_mat = metrics.confusion_matrix(y_test, pred)\n",
        "# conf_mat\n",
        "\n",
        "# Ensure y_test and pred are numpy arrays\n",
        "y_test = np.array(y_test)\n",
        "pred = np.array(pred)\n",
        "\n",
        "# Check if y_test or pred is in multilabel-indicator format and convert them if necessary\n",
        "if len(y_test.shape) > 1 and y_test.shape[1] > 1:\n",
        "    y_test = np.argmax(y_test, axis=1)\n",
        "\n",
        "if len(pred.shape) > 1 and pred.shape[1] > 1:\n",
        "    pred = np.argmax(pred, axis=1)\n",
        "\n",
        "# Calculate the confusion matrix\n",
        "conf_mat = metrics.confusion_matrix(y_test, pred)\n",
        "\n",
        "# Display the confusion matrix\n",
        "print(conf_mat)"
      ]
    },
    {
      "cell_type": "code",
      "execution_count": 45,
      "metadata": {},
      "outputs": [
        {
          "data": {
            "image/png": "[encoded data removed]",
            "text/plain": [
              "<Figure size 640x480 with 2 Axes>"
            ]
          },
          "metadata": {},
          "output_type": "display_data"
        }
      ],
      "source": [
        "\n",
        "# clabels = ['AccelY', 'BreakY', 'TurnRightX', 'Turn LeftX', 'PositiveZ', 'NegativeZ', 'GyrPositiveX', 'GyrNegativeX', 'GyrPositiveY', 'GyrNegativeY', 'GyrPositiveZ', 'GyrNegativeZ']\n",
        "\n",
        "# cm_display = metrics.ConfusionMatrixDisplay(confusion_matrix = conf_mat, display_labels = clabels)\n",
        "cm_display = metrics.ConfusionMatrixDisplay(confusion_matrix = conf_mat)\n",
        " \n",
        "# display matrix\n",
        "cm_display.plot()\n",
        "plt.show()\n"
      ]
    },
    {
      "cell_type": "markdown",
      "metadata": {},
      "source": [
        "## Performance Metrics"
      ]
    },
    {
      "cell_type": "markdown",
      "metadata": {},
      "source": [
        "- Accuracy = $\\large = \\frac{Correct~Predictions}{All~Predictions}$\n",
        "- Precision for a given class = $\\large = \\frac{Correct~Predictions~for~the~Class}{All~Predictions~for~the~Class}$   \n",
        "- Recall for a given class = $\\large = \\frac{Correct~Predictions~for~the~Class}{All~Instances~of~the~Class}$  \n",
        "\n",
        "- Averaging is a way to get a single number for multiclass. Depending on the importance one wants to give to minority classes: \n",
        "    - Macro average: Compute the metric for each class, and returns the average without considering the proportion for each class in the dataset. For instance:\n",
        "\n",
        "        Precision = $\\large = \\frac{P_{class 1} ~+~ P_{class 2} ~+~ ... ~+~ P_{class n}}{N}$   \n",
        "    \n",
        "    - Weighted average: Compute the metric for each class, and returns the average considering the proportion (weighted) for each class in the dataset. For instance:\n",
        "\n",
        "        Precision = $\\large = \\frac{N_1 ~*~ P_{class 1} ~+~ N_2 ~*~ P_{class 2} ~+~ ... ~+~ N_n ~*~ P_{class n}}{N}$"
      ]
    },
    {
      "cell_type": "code",
      "execution_count": 46,
      "metadata": {},
      "outputs": [
        {
          "name": "stdout",
          "output_type": "stream",
          "text": [
            "Accuracy : 99.83%\n",
            "Precision - Macro: 75.8%\n",
            "Recall - Macro: 74.65%\n",
            "F1-score - Macro: 75.15%\n",
            "Precision - Weighted: 99.8%\n",
            "Recall - Weighted: 99.83%\n",
            "F1-score - Weighted: 99.81%\n"
          ]
        }
      ],
      "source": [
        "# Calculates performance metrics\n",
        "acc = accuracy_score(y_true =  y_test, y_pred = pred)\n",
        "print(f'Accuracy : {np.round(acc*100,2)}%')\n",
        "          \n",
        "precision = precision_score(y_true =  y_test, y_pred = pred, average='macro')\n",
        "print(f'Precision - Macro: {np.round(precision*100,2)}%')\n",
        "\n",
        "recall = recall_score(y_true =  y_test, y_pred = pred, average='macro')\n",
        "print(f'Recall - Macro: {np.round(recall*100,2)}%')\n",
        "\n",
        "f1 = f1_score(y_true =  y_test, y_pred = pred, average='macro')\n",
        "print(f'F1-score - Macro: {np.round(f1*100,2)}%')\n",
        "\n",
        "precision = precision_score(y_true =  y_test, y_pred = pred, average='weighted')\n",
        "print(f'Precision - Weighted: {np.round(precision*100,2)}%')\n",
        "\n",
        "recall = recall_score(y_true =  y_test, y_pred = pred, average='weighted')\n",
        "print(f'Recall - Weighted: {np.round(recall*100,2)}%')\n",
        "\n",
        "f1 = f1_score(y_true =  y_test, y_pred = pred, average='weighted')\n",
        "print(f'F1-score - Weighted: {np.round(f1*100,2)}%')"
      ]
    },
    {
      "cell_type": "markdown",
      "metadata": {
        "id": "d5yRYVkqpv51"
      },
      "source": [
        "# **TEST THE NETWORK**"
      ]
    },
    {
      "cell_type": "code",
      "execution_count": 47,
      "metadata": {
        "id": "mLflDJutrQ0h"
      },
      "outputs": [
        {
          "data": {
            "image/png": "[encoded data removed]",
            "text/plain": [
              "<Figure size 640x480 with 1 Axes>"
            ]
          },
          "metadata": {},
          "output_type": "display_data"
        }
      ],
      "source": [
        "plt.plot(model_lstm_output.history['loss'])\n",
        "plt.plot(model_lstm_output.history['val_loss'])\n",
        "plt.title('Historico de train')\n",
        "plt.xlabel('Epocas de train')\n",
        "plt.ylabel('Função custo')\n",
        "plt.legend(['Erro train', 'Erro test'])\n",
        "plt.show()"
      ]
    },
    {
      "cell_type": "code",
      "execution_count": 48,
      "metadata": {
        "id": "RTtErVAPKNQT"
      },
      "outputs": [
        {
          "ename": "ValueError",
          "evalue": "in user code:\n\n    File \"c:\\Users\\PDesktop\\AppData\\Local\\Programs\\Python\\Python311\\Lib\\site-packages\\keras\\src\\engine\\training.py\", line 2066, in test_function  *\n        return step_function(self, iterator)\n    File \"c:\\Users\\PDesktop\\AppData\\Local\\Programs\\Python\\Python311\\Lib\\site-packages\\keras\\src\\engine\\training.py\", line 2049, in step_function  **\n        outputs = model.distribute_strategy.run(run_step, args=(data,))\n    File \"c:\\Users\\PDesktop\\AppData\\Local\\Programs\\Python\\Python311\\Lib\\site-packages\\keras\\src\\engine\\training.py\", line 2037, in run_step  **\n        outputs = model.test_step(data)\n    File \"c:\\Users\\PDesktop\\AppData\\Local\\Programs\\Python\\Python311\\Lib\\site-packages\\keras\\src\\engine\\training.py\", line 1919, in test_step\n        self.compute_loss(x, y, y_pred, sample_weight)\n    File \"c:\\Users\\PDesktop\\AppData\\Local\\Programs\\Python\\Python311\\Lib\\site-packages\\keras\\src\\engine\\training.py\", line 1209, in compute_loss\n        return self.compiled_loss(\n    File \"c:\\Users\\PDesktop\\AppData\\Local\\Programs\\Python\\Python311\\Lib\\site-packages\\keras\\src\\engine\\compile_utils.py\", line 277, in __call__\n        loss_value = loss_obj(y_t, y_p, sample_weight=sw)\n    File \"c:\\Users\\PDesktop\\AppData\\Local\\Programs\\Python\\Python311\\Lib\\site-packages\\keras\\src\\losses.py\", line 143, in __call__\n        losses = call_fn(y_true, y_pred)\n    File \"c:\\Users\\PDesktop\\AppData\\Local\\Programs\\Python\\Python311\\Lib\\site-packages\\keras\\src\\losses.py\", line 270, in call  **\n        return ag_fn(y_true, y_pred, **self._fn_kwargs)\n    File \"c:\\Users\\PDesktop\\AppData\\Local\\Programs\\Python\\Python311\\Lib\\site-packages\\keras\\src\\losses.py\", line 2532, in binary_crossentropy\n        backend.binary_crossentropy(y_true, y_pred, from_logits=from_logits),\n    File \"c:\\Users\\PDesktop\\AppData\\Local\\Programs\\Python\\Python311\\Lib\\site-packages\\keras\\src\\backend.py\", line 5822, in binary_crossentropy\n        return tf.nn.sigmoid_cross_entropy_with_logits(\n\n    ValueError: `logits` and `labels` must have the same shape, received ((None, 12) vs (None, 1)).\n",
          "output_type": "error",
          "traceback": [
            "\u001b[1;31m---------------------------------------------------------------------------\u001b[0m",
            "\u001b[1;31mValueError\u001b[0m                                Traceback (most recent call last)",
            "Cell \u001b[1;32mIn[48], line 1\u001b[0m\n\u001b[1;32m----> 1\u001b[0m accuracy \u001b[38;5;241m=\u001b[39m \u001b[43mmodel_lstm\u001b[49m\u001b[38;5;241;43m.\u001b[39;49m\u001b[43mevaluate\u001b[49m\u001b[43m(\u001b[49m\u001b[43mtest\u001b[49m\u001b[43m,\u001b[49m\u001b[43m \u001b[49m\u001b[43my_test\u001b[49m\u001b[43m)\u001b[49m[\u001b[38;5;241m1\u001b[39m]  \u001b[38;5;66;03m# Assuming accuracy is the second metric\u001b[39;00m\n\u001b[0;32m      2\u001b[0m \u001b[38;5;28mprint\u001b[39m(\u001b[38;5;124m'\u001b[39m\u001b[38;5;124mTest Accuracy:\u001b[39m\u001b[38;5;124m'\u001b[39m, accuracy)\n",
            "File \u001b[1;32mc:\\Users\\PDesktop\\AppData\\Local\\Programs\\Python\\Python311\\Lib\\site-packages\\keras\\src\\utils\\traceback_utils.py:70\u001b[0m, in \u001b[0;36mfilter_traceback.<locals>.error_handler\u001b[1;34m(*args, **kwargs)\u001b[0m\n\u001b[0;32m     67\u001b[0m     filtered_tb \u001b[38;5;241m=\u001b[39m _process_traceback_frames(e\u001b[38;5;241m.\u001b[39m__traceback__)\n\u001b[0;32m     68\u001b[0m     \u001b[38;5;66;03m# To get the full stack trace, call:\u001b[39;00m\n\u001b[0;32m     69\u001b[0m     \u001b[38;5;66;03m# `tf.debugging.disable_traceback_filtering()`\u001b[39;00m\n\u001b[1;32m---> 70\u001b[0m     \u001b[38;5;28;01mraise\u001b[39;00m e\u001b[38;5;241m.\u001b[39mwith_traceback(filtered_tb) \u001b[38;5;28;01mfrom\u001b[39;00m \u001b[38;5;28;01mNone\u001b[39;00m\n\u001b[0;32m     71\u001b[0m \u001b[38;5;28;01mfinally\u001b[39;00m:\n\u001b[0;32m     72\u001b[0m     \u001b[38;5;28;01mdel\u001b[39;00m filtered_tb\n",
            "File \u001b[1;32m~\\AppData\\Local\\Temp\\__autograph_generated_filedx3xkc_f.py:15\u001b[0m, in \u001b[0;36mouter_factory.<locals>.inner_factory.<locals>.tf__test_function\u001b[1;34m(iterator)\u001b[0m\n\u001b[0;32m     13\u001b[0m \u001b[38;5;28;01mtry\u001b[39;00m:\n\u001b[0;32m     14\u001b[0m     do_return \u001b[38;5;241m=\u001b[39m \u001b[38;5;28;01mTrue\u001b[39;00m\n\u001b[1;32m---> 15\u001b[0m     retval_ \u001b[38;5;241m=\u001b[39m ag__\u001b[38;5;241m.\u001b[39mconverted_call(ag__\u001b[38;5;241m.\u001b[39mld(step_function), (ag__\u001b[38;5;241m.\u001b[39mld(\u001b[38;5;28mself\u001b[39m), ag__\u001b[38;5;241m.\u001b[39mld(iterator)), \u001b[38;5;28;01mNone\u001b[39;00m, fscope)\n\u001b[0;32m     16\u001b[0m \u001b[38;5;28;01mexcept\u001b[39;00m:\n\u001b[0;32m     17\u001b[0m     do_return \u001b[38;5;241m=\u001b[39m \u001b[38;5;28;01mFalse\u001b[39;00m\n",
            "\u001b[1;31mValueError\u001b[0m: in user code:\n\n    File \"c:\\Users\\PDesktop\\AppData\\Local\\Programs\\Python\\Python311\\Lib\\site-packages\\keras\\src\\engine\\training.py\", line 2066, in test_function  *\n        return step_function(self, iterator)\n    File \"c:\\Users\\PDesktop\\AppData\\Local\\Programs\\Python\\Python311\\Lib\\site-packages\\keras\\src\\engine\\training.py\", line 2049, in step_function  **\n        outputs = model.distribute_strategy.run(run_step, args=(data,))\n    File \"c:\\Users\\PDesktop\\AppData\\Local\\Programs\\Python\\Python311\\Lib\\site-packages\\keras\\src\\engine\\training.py\", line 2037, in run_step  **\n        outputs = model.test_step(data)\n    File \"c:\\Users\\PDesktop\\AppData\\Local\\Programs\\Python\\Python311\\Lib\\site-packages\\keras\\src\\engine\\training.py\", line 1919, in test_step\n        self.compute_loss(x, y, y_pred, sample_weight)\n    File \"c:\\Users\\PDesktop\\AppData\\Local\\Programs\\Python\\Python311\\Lib\\site-packages\\keras\\src\\engine\\training.py\", line 1209, in compute_loss\n        return self.compiled_loss(\n    File \"c:\\Users\\PDesktop\\AppData\\Local\\Programs\\Python\\Python311\\Lib\\site-packages\\keras\\src\\engine\\compile_utils.py\", line 277, in __call__\n        loss_value = loss_obj(y_t, y_p, sample_weight=sw)\n    File \"c:\\Users\\PDesktop\\AppData\\Local\\Programs\\Python\\Python311\\Lib\\site-packages\\keras\\src\\losses.py\", line 143, in __call__\n        losses = call_fn(y_true, y_pred)\n    File \"c:\\Users\\PDesktop\\AppData\\Local\\Programs\\Python\\Python311\\Lib\\site-packages\\keras\\src\\losses.py\", line 270, in call  **\n        return ag_fn(y_true, y_pred, **self._fn_kwargs)\n    File \"c:\\Users\\PDesktop\\AppData\\Local\\Programs\\Python\\Python311\\Lib\\site-packages\\keras\\src\\losses.py\", line 2532, in binary_crossentropy\n        backend.binary_crossentropy(y_true, y_pred, from_logits=from_logits),\n    File \"c:\\Users\\PDesktop\\AppData\\Local\\Programs\\Python\\Python311\\Lib\\site-packages\\keras\\src\\backend.py\", line 5822, in binary_crossentropy\n        return tf.nn.sigmoid_cross_entropy_with_logits(\n\n    ValueError: `logits` and `labels` must have the same shape, received ((None, 12) vs (None, 1)).\n"
          ]
        }
      ],
      "source": [
        "accuracy = model_lstm.evaluate(test, y_test)[1]  # Assuming accuracy is the second metric\n",
        "print('Test Accuracy:', accuracy)"
      ]
    },
    {
      "cell_type": "code",
      "execution_count": null,
      "metadata": {
        "colab": {
          "base_uri": "https://localhost:8080/"
        },
        "id": "RTRP1HLnH5VA",
        "outputId": "16236fd5-cb67-4cc2-8018-fe7b9b86945e"
      },
      "outputs": [],
      "source": [
        "loss, accurary = model_lstm.evaluate(test, y_test, batch_size=16)\n",
        "print('Test loss/accurary:', loss, accurary)\n"
      ]
    },
    {
      "cell_type": "code",
      "execution_count": null,
      "metadata": {
        "id": "pLTGBDbnb5kg"
      },
      "outputs": [],
      "source": [
        "test[0]\n",
        "test.shape"
      ]
    },
    {
      "cell_type": "code",
      "execution_count": null,
      "metadata": {
        "id": "sCXg55GxwbGg"
      },
      "outputs": [
        {
          "name": "stdout",
          "output_type": "stream",
          "text": [
            "1/1 [==============================] - 0s 21ms/step\n",
            "1/1 [==============================] - 0s 24ms/step\n",
            "1/1 [==============================] - 0s 20ms/step\n",
            "X [: [0.  0.  0.  0.1 0.  0.  0.  0.  0.  0.  0.2 0. ]\n",
            "Y [: 10\n",
            "PC: [[0.  0.  0.  0.  0.  0.  0.  0.  0.  0.  0.7 0. ]]\n",
            "2\n",
            "1/1 [==============================] - 0s 21ms/step\n",
            "1/1 [==============================] - 0s 20ms/step\n",
            "1/1 [==============================] - 0s 20ms/step\n",
            "1/1 [==============================] - 0s 22ms/step\n",
            "1/1 [==============================] - 0s 19ms/step\n",
            "1/1 [==============================] - 0s 19ms/step\n",
            "1/1 [==============================] - 0s 22ms/step\n",
            "1/1 [==============================] - 0s 21ms/step\n",
            "1/1 [==============================] - 0s 21ms/step\n",
            "1/1 [==============================] - 0s 30ms/step\n",
            "1/1 [==============================] - 0s 29ms/step\n",
            "1/1 [==============================] - 0s 33ms/step\n",
            "1/1 [==============================] - 0s 29ms/step\n",
            "1/1 [==============================] - 0s 29ms/step\n",
            "1/1 [==============================] - 0s 24ms/step\n",
            "1/1 [==============================] - 0s 25ms/step\n",
            "1/1 [==============================] - 0s 21ms/step\n",
            "1/1 [==============================] - 0s 23ms/step\n",
            "1/1 [==============================] - 0s 23ms/step\n",
            "1/1 [==============================] - 0s 23ms/step\n",
            "1/1 [==============================] - 0s 22ms/step\n",
            "1/1 [==============================] - 0s 22ms/step\n",
            "1/1 [==============================] - 0s 22ms/step\n",
            "1/1 [==============================] - 0s 22ms/step\n",
            "1/1 [==============================] - 0s 21ms/step\n",
            "1/1 [==============================] - 0s 21ms/step\n",
            "1/1 [==============================] - 0s 21ms/step\n",
            "1/1 [==============================] - 0s 21ms/step\n",
            "1/1 [==============================] - 0s 22ms/step\n",
            "1/1 [==============================] - 0s 21ms/step\n",
            "1/1 [==============================] - 0s 20ms/step\n",
            "1/1 [==============================] - 0s 20ms/step\n",
            "1/1 [==============================] - 0s 21ms/step\n",
            "1/1 [==============================] - 0s 21ms/step\n",
            "1/1 [==============================] - 0s 20ms/step\n",
            "1/1 [==============================] - 0s 20ms/step\n",
            "1/1 [==============================] - 0s 21ms/step\n",
            "1/1 [==============================] - 0s 21ms/step\n",
            "1/1 [==============================] - 0s 21ms/step\n",
            "1/1 [==============================] - 0s 20ms/step\n",
            "1/1 [==============================] - 0s 20ms/step\n",
            "1/1 [==============================] - 0s 20ms/step\n",
            "1/1 [==============================] - 0s 21ms/step\n",
            "1/1 [==============================] - 0s 20ms/step\n",
            "X [: [0.  0.  0.  0.1 0.2 0.  0.1 0.  0.  0.  0.  0. ]\n",
            "Y [: 4\n",
            "PC: [[0.  0.  0.  0.  0.9 0.  0.  0.  0.  0.  0.  0. ]]\n",
            "46\n",
            "1/1 [==============================] - 0s 20ms/step\n",
            "1/1 [==============================] - 0s 27ms/step\n",
            "1/1 [==============================] - 0s 20ms/step\n",
            "1/1 [==============================] - 0s 25ms/step\n",
            "X [: [0.  0.1 0.  0.5 0.  0.  0.  0.  0.  0.  0.  0. ]\n",
            "Y [: 3\n",
            "PC: [[0. 0. 0. 1. 0. 0. 0. 0. 0. 0. 0. 0.]]\n",
            "50\n",
            "1/1 [==============================] - 0s 23ms/step\n",
            "1/1 [==============================] - 0s 21ms/step\n",
            "1/1 [==============================] - 0s 20ms/step\n",
            "1/1 [==============================] - 0s 21ms/step\n",
            "1/1 [==============================] - 0s 21ms/step\n",
            "1/1 [==============================] - 0s 20ms/step\n",
            "1/1 [==============================] - 0s 20ms/step\n",
            "1/1 [==============================] - 0s 21ms/step\n",
            "1/1 [==============================] - 0s 20ms/step\n",
            "1/1 [==============================] - 0s 20ms/step\n",
            "1/1 [==============================] - 0s 22ms/step\n",
            "1/1 [==============================] - 0s 20ms/step\n",
            "1/1 [==============================] - 0s 20ms/step\n",
            "1/1 [==============================] - 0s 20ms/step\n",
            "1/1 [==============================] - 0s 20ms/step\n",
            "1/1 [==============================] - 0s 20ms/step\n",
            "1/1 [==============================] - 0s 21ms/step\n",
            "1/1 [==============================] - 0s 20ms/step\n",
            "1/1 [==============================] - 0s 21ms/step\n",
            "1/1 [==============================] - 0s 20ms/step\n",
            "1/1 [==============================] - 0s 21ms/step\n",
            "1/1 [==============================] - 0s 22ms/step\n",
            "1/1 [==============================] - 0s 27ms/step\n",
            "1/1 [==============================] - 0s 23ms/step\n",
            "1/1 [==============================] - 0s 21ms/step\n",
            "1/1 [==============================] - 0s 20ms/step\n",
            "1/1 [==============================] - 0s 21ms/step\n",
            "1/1 [==============================] - 0s 20ms/step\n",
            "1/1 [==============================] - 0s 22ms/step\n",
            "1/1 [==============================] - 0s 21ms/step\n",
            "1/1 [==============================] - 0s 23ms/step\n",
            "1/1 [==============================] - 0s 22ms/step\n",
            "1/1 [==============================] - 0s 19ms/step\n",
            "1/1 [==============================] - 0s 21ms/step\n",
            "1/1 [==============================] - 0s 22ms/step\n",
            "1/1 [==============================] - 0s 21ms/step\n",
            "1/1 [==============================] - 0s 20ms/step\n",
            "1/1 [==============================] - 0s 19ms/step\n",
            "1/1 [==============================] - 0s 21ms/step\n",
            "1/1 [==============================] - 0s 19ms/step\n",
            "1/1 [==============================] - 0s 19ms/step\n",
            "1/1 [==============================] - 0s 21ms/step\n",
            "1/1 [==============================] - 0s 20ms/step\n",
            "X [: [0.  0.  0.  0.  0.  0.1 0.  0.  0.  0.3 0.  0. ]\n",
            "Y [: 9\n",
            "PC: [[0. 0. 0. 0. 0. 0. 0. 0. 0. 1. 0. 0.]]\n",
            "93\n",
            "1/1 [==============================] - 0s 19ms/step\n",
            "1/1 [==============================] - 0s 21ms/step\n",
            "1/1 [==============================] - 0s 20ms/step\n",
            "1/1 [==============================] - 0s 20ms/step\n",
            "1/1 [==============================] - 0s 20ms/step\n",
            "1/1 [==============================] - 0s 20ms/step\n"
          ]
        }
      ],
      "source": [
        "i = 0\n",
        "for i in range(100):\n",
        "    a = x_test[i]\n",
        "    b = a.reshape(1, 1, 12)\n",
        "\n",
        "    # Make predictions on new data\n",
        "    prediction = model_lstm.predict(b)\n",
        "    #predicted_class = label_encoder.inverse_transform(prediction)[0]\n",
        "\n",
        "    np.round(prediction, decimals=1, out=prediction)\n",
        "    np.round(x_test[i], decimals=1, out=x_test[i])\n",
        "    #print(\"Value:\", newArray[i + start])\n",
        "    if (np.sum(y_test[i]) > 0):\n",
        "      print(\"X [:\", x_test[i])\n",
        "      print(\"Y [:\", y_test[i])\n",
        "      print(\"PC:\", prediction)\n",
        "      print (i)\n",
        "    i = 1 + 1\n",
        "#PREDICTIONS WITH COLAB MODEL\n",
        "#prediction = model.predict(teste)\n",
        "#print(\"Predicted class:\", prediction)\n",
        "#print(\"Predicted class:\", predicted_class)"
      ]
    },
    {
      "cell_type": "code",
      "execution_count": null,
      "metadata": {
        "colab": {
          "base_uri": "https://localhost:8080/"
        },
        "id": "lmrX4Kzdc0T3",
        "outputId": "3c468fe8-622f-476e-f75c-750a4878ea26"
      },
      "outputs": [
        {
          "name": "stdout",
          "output_type": "stream",
          "text": [
            "1/1 [==============================] - 0s 81ms/step\n",
            "Value    : [0.    0.363 0.313 0.    0.    0.31  0.393 0.    0.    0.244 0.247 0.   ]\n",
            "Predicted: [0.   0.99 1.   0.13 0.06 0.98 0.97 0.15 0.78 0.97 0.33 0.89]\n"
          ]
        }
      ],
      "source": [
        "test_value = np.array([0., 0.363, 0.313, 0., 0., 0.31, 0.393, 0., 0., 0.244, 0.247, 0.])\n",
        "test_value = test_value.reshape(1, 1, 12)\n",
        "\n",
        "# Make predictions on new data\n",
        "prediction = model_lstm.predict(test_value)\n",
        "np.round(prediction, decimals=2, out=prediction)\n",
        "\n",
        "print(\"Value    :\", test_value[0][0])\n",
        "print(\"Predicted:\", prediction[0])"
      ]
    },
    {
      "cell_type": "markdown",
      "metadata": {
        "id": "02BdeK0gJrOU"
      },
      "source": [
        "# **SAVE THE MODEL**"
      ]
    },
    {
      "cell_type": "code",
      "execution_count": null,
      "metadata": {
        "colab": {
          "base_uri": "https://localhost:8080/",
          "height": 163
        },
        "id": "KGOyK8rXJvmx",
        "outputId": "7d0a5249-f640-4945-b90c-feaa6b10b3ee"
      },
      "outputs": [],
      "source": [
        "import os\n",
        "import datetime\n",
        "\n",
        "model_name = 'lstm_model_' + datetime.datetime.now().strftime(\"%Y-%m-%d %HH%Mm%Ss\") + '.h5'\n",
        "\n",
        "# Save the model in runtime_saves/models folder\n",
        "model_lstm.save(os.path.join(\".\", 'runtime_saves', 'models', model_name))"
      ]
    },
    {
      "cell_type": "code",
      "execution_count": null,
      "metadata": {},
      "outputs": [],
      "source": [
        "# model sumary\n",
        "model_lstm.summary()"
      ]
    }
  ],
  "metadata": {
    "accelerator": "GPU",
    "colab": {
      "gpuType": "T4",
      "provenance": []
    },
    "kernelspec": {
      "display_name": "Python 3",
      "name": "python3"
    },
    "language_info": {
      "codemirror_mode": {
        "name": "ipython",
        "version": 3
      },
      "file_extension": ".py",
      "mimetype": "text/x-python",
      "name": "python",
      "nbconvert_exporter": "python",
      "pygments_lexer": "ipython3",
      "version": "3.11.4"
    }
  },
  "nbformat": 4,
  "nbformat_minor": 0
}
