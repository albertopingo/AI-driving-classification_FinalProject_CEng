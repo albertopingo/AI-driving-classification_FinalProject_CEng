{
  "cells": [
    {
      "cell_type": "markdown",
      "metadata": {
        "id": "RzTK7gM5ydFL"
      },
      "source": [
        "# **IMPORT LIBS**"
      ]
    },
    {
      "cell_type": "code",
      "execution_count": 1,
      "metadata": {
        "id": "HG6VE-z-iIFN"
      },
      "outputs": [],
      "source": [
        "import warnings\n",
        "\n",
        "import os\n",
        "import math\n",
        "import numpy as np\n",
        "import pandas as pd\n",
        "import matplotlib.pyplot as plt\n",
        "\n",
        "import tensorflow as tf\n",
        "from tensorflow.keras.optimizers import Adam\n",
        "\n",
        "\n",
        "import keras\n",
        "from keras.models import Sequential, load_model\n",
        "from keras.layers import LSTM, Dense, Dropout,Conv1D,Flatten\n",
        "from keras.callbacks import EarlyStopping, ReduceLROnPlateau\n",
        "\n",
        "import keras.backend as K\n",
        "\n",
        "from sklearn.preprocessing import LabelEncoder\n",
        "from sklearn.metrics import confusion_matrix, ConfusionMatrixDisplay\n",
        "#from skimage.transform import rotate, shear, zoom\n",
        "#from imgaug import augmenters as iaa\n",
        "\n",
        "warnings.filterwarnings('ignore')"
      ]
    },
    {
      "cell_type": "code",
      "execution_count": 2,
      "metadata": {},
      "outputs": [
        {
          "name": "stdout",
          "output_type": "stream",
          "text": [
            "Root directory: c:\\Users\\root3\\OneDrive - IPLeiria\\Documentos\\GitHub\\FinalProject-AI-DrivingClassification\n",
            "Dataset directory: c:\\Users\\root3\\OneDrive - IPLeiria\\Documentos\\GitHub\\FinalProject-AI-DrivingClassification\\datasets\\UAH-DRIVESET-v1\\UAH-Processed\n"
          ]
        }
      ],
      "source": [
        "# Make auxiliar folders\n",
        "if not os.path.exists('runtime_saves'):\n",
        "    os.makedirs('runtime_saves')\n",
        "if not os.path.exists('runtime_saves/models'):\n",
        "    os.makedirs('runtime_saves/models')\n",
        "if not os.path.exists('runtime_saves/train&test'):\n",
        "    os.makedirs('runtime_saves/train&test')\n",
        "    \n",
        "current_dir = os.getcwd()\n",
        "\n",
        "root_dir = os.path.abspath(os.path.join(current_dir, os.pardir, os.pardir, os.pardir))\n",
        "\n",
        "datasetUAH_dir = os.path.join(root_dir, 'datasets', 'UAH-DRIVESET-v1', 'UAH-Processed')\n",
        "\n",
        "print(f'Root directory: {root_dir}')\n",
        "print(f'Dataset directory: {datasetUAH_dir}')"
      ]
    },
    {
      "cell_type": "markdown",
      "metadata": {
        "id": "RHBmH_88Ilpx"
      },
      "source": [
        "# **AUX FUNCTIONS**"
      ]
    },
    {
      "cell_type": "code",
      "execution_count": 3,
      "metadata": {
        "id": "F0lXdqGfInKu"
      },
      "outputs": [],
      "source": [
        "def save_manovers_positions_to_csv_file(gps_positions, manovers, filename):\n",
        "  output = np.zeros_like(gps_positions)\n",
        "\n",
        "  # Iterate through the elements of arr2\n",
        "  for i in range(len(manovers)):\n",
        "    # Check if the element in arr2 is 1\n",
        "    if manovers[i] == 1:\n",
        "      # Copy the corresponding values from arr1 to the output array\n",
        "      output[i] = gps_positions[i]\n",
        "\n",
        "  output = output[~np.all(output == 0, axis=1)]\n",
        "  \n",
        "  filename = 'runtime_saves/' + filename\n",
        "    \n",
        "  np.savetxt(filename, output, delimiter=',', fmt='%.9f')\n",
        "\n",
        "\n",
        "\n",
        "def separate_positives_negatives(data):\n",
        "  # Ensure the input is converted to a NumPy array for easier manipulation\n",
        "  data = np.array(data)\n",
        "\n",
        "  # Create two empty arrays to store positive and negative values\n",
        "  positives = np.zeros_like(data)\n",
        "  negatives = np.zeros_like(data)\n",
        "\n",
        "  # Use boolean indexing to separate positive and negative values\n",
        "  positives[data > 0] = data[data > 0]\n",
        "  negatives[data < 0] = -data[data < 0]\n",
        "\n",
        "  # Combine the positive and negative values into a single 2D array\n",
        "  return (positives, negatives)\n",
        "\n",
        "def normalize_between_0_and_max(data):\n",
        "  max_value = np.max(data)\n",
        "  return data / max_value\n",
        "\n",
        "def normalize_between_0_and_max_v2(data, max_value):\n",
        "  return data / max_value\n",
        "\n",
        "def split_train_test(data, test_size=0.2):\n",
        "  # Check if test_size is between 0 and 1\n",
        "  if test_size < 0 or test_size > 1:\n",
        "    raise ValueError(\"test_size must be between 0 and 1.\")\n",
        "\n",
        "  # Get the number of samples\n",
        "  num_samples = data.shape[0]\n",
        "\n",
        "  # Calculate the number of samples for each set\n",
        "  train_size = int(num_samples * (1 - test_size))\n",
        "  test_size = num_samples - train_size\n",
        "\n",
        "  # Randomly shuffle the data for better splitting (optional)\n",
        "  #np.random.shuffle(data)\n",
        "\n",
        "  # Split the data into training and test sets\n",
        "  train_data = data[:train_size]\n",
        "  test_data = data[train_size:]\n",
        "\n",
        "  return train_data, test_data\n",
        "\n",
        "def y_classification(data, threshold):\n",
        "  classification = np.zeros_like(data, dtype=int)  # Initialize output array\n",
        "\n",
        "  for col in range(0, 12):  # Loop through each column\n",
        "    max_value = np.max(data[:, col])\n",
        "    threshold_pos = max_value * threshold\n",
        "    classification[:, col] = np.where(data[:, col] >= threshold_pos, 1, 0)\n",
        "\n",
        "  return classification\n",
        "\n",
        "def max_of_vectors(vec1, vec2, vec3, vec4, vec5, vec6):\n",
        "  # Combine all vectors into a single array\n",
        "  all_vectors = np.array([vec1, vec2, vec3, vec4, vec5, vec6])\n",
        "\n",
        "  # Find the maximum value in the array\n",
        "  max_value = np.max(all_vectors)\n",
        "\n",
        "  return max_value\n",
        "\n",
        "def has_one(data):\n",
        "  \"\"\"\n",
        "  This function receives a numpy array and returns a new array\n",
        "  with 1 if the correspondent row of input array has at least one cellule with 1.\n",
        "  In other case the cellule is 0.\n",
        "\n",
        "  Args:\n",
        "      data: A numpy array of shape (n, 12) with 0 or 1 values in each cell.\n",
        "\n",
        "  Returns:\n",
        "      A numpy array of shape (n, 1) with 1s where the corresponding row in data has at least one 1, and 0s otherwise.\n",
        "  \"\"\"\n",
        "  # We sum each row, and any value greater than zero indicates at least one 1 in that row\n",
        "  return np.sum(data, axis=1)[:, np.newaxis] > 0"
      ]
    },
    {
      "cell_type": "markdown",
      "metadata": {
        "id": "aATQYo4TiWrU"
      },
      "source": [
        "# **IMPORT DATA**"
      ]
    },
    {
      "cell_type": "code",
      "execution_count": 4,
      "metadata": {
        "id": "B5wPPy3OiYj9"
      },
      "outputs": [
        {
          "name": "stdout",
          "output_type": "stream",
          "text": [
            "20151110175712-16km-D1-NORMAL1-SECONDARY.csv added to the dataframe\n",
            "20151110180824-16km-D1-NORMAL2-SECONDARY.csv added to the dataframe\n",
            "20151111123124-25km-D1-NORMAL-MOTORWAY.csv added to the dataframe\n",
            "20151111125233-24km-D1-AGGRESSIVE-MOTORWAY.csv added to the dataframe\n",
            "20151111132348-25km-D1-DROWSY-MOTORWAY.csv added to the dataframe\n",
            "20151111134545-16km-D1-AGGRESSIVE-SECONDARY.csv added to the dataframe\n",
            "20151111135612-13km-D1-DROWSY-SECONDARY.csv added to the dataframe\n",
            "20151120131714-26km-D2-NORMAL-MOTORWAY.csv added to the dataframe\n",
            "20151120133502-26km-D2-AGGRESSIVE-MOTORWAY.csv added to the dataframe\n",
            "20151120135152-25km-D2-DROWSY-MOTORWAY.csv added to the dataframe\n",
            "20151120160904-16km-D2-NORMAL1-SECONDARY.csv added to the dataframe\n",
            "20151120162105-17km-D2-NORMAL2-SECONDARY.csv added to the dataframe\n",
            "20151120163350-16km-D2-AGGRESSIVE-SECONDARY.csv added to the dataframe\n",
            "20151120164606-16km-D2-DROWSY-SECONDARY.csv added to the dataframe\n",
            "20151126110502-26km-D3-NORMAL-MOTORWAY.csv added to the dataframe\n",
            "20151126113754-26km-D3-DROWSY-MOTORWAY.csv added to the dataframe\n",
            "20151126124208-16km-D3-NORMAL1-SECONDARY.csv added to the dataframe\n",
            "20151126125458-16km-D3-NORMAL2-SECONDARY.csv added to the dataframe\n",
            "20151126130707-16km-D3-AGGRESSIVE-SECONDARY.csv added to the dataframe\n",
            "20151126132013-17km-D3-DROWSY-SECONDARY.csv added to the dataframe\n",
            "20151126134736-26km-D3-AGGRESSIVE-MOTORWAY.csv added to the dataframe\n",
            "20151203171800-16km-D4-NORMAL1-SECONDARY.csv added to the dataframe\n",
            "20151203173103-17km-D4-NORMAL2-SECONDARY.csv added to the dataframe\n",
            "20151203174324-16km-D4-AGGRESSIVE-SECONDARY.csv added to the dataframe\n",
            "20151203175637-17km-D4-DROWSY-SECONDARY.csv added to the dataframe\n",
            "20151204152848-25km-D4-NORMAL-MOTORWAY.csv added to the dataframe\n",
            "20151204154908-25km-D4-AGGRESSIVE-MOTORWAY.csv added to the dataframe\n",
            "20151204160823-25km-D4-DROWSY-MOTORWAY.csv added to the dataframe\n",
            "20151209151242-25km-D5-NORMAL-MOTORWAY.csv added to the dataframe\n",
            "20151209153137-25km-D5-AGGRESSIVE-MOTORWAY.csv added to the dataframe\n",
            "20151211160213-25km-D5-DROWSY-MOTORWAY.csv added to the dataframe\n",
            "20151211162829-16km-D5-NORMAL1-SECONDARY.csv added to the dataframe\n",
            "20151211164124-17km-D5-NORMAL2-SECONDARY.csv added to the dataframe\n",
            "20151211165606-12km-D5-AGGRESSIVE-SECONDARY.csv added to the dataframe\n",
            "20151211170502-16km-D5-DROWSY-SECONDARY.csv added to the dataframe\n",
            "20151217162714-26km-D6-NORMAL-MOTORWAY.csv added to the dataframe\n",
            "20151217164730-25km-D6-DROWSY-MOTORWAY.csv added to the dataframe\n",
            "20151221112434-17km-D6-NORMAL-SECONDARY.csv added to the dataframe\n",
            "20151221113846-16km-D6-DROWSY-SECONDARY.csv added to the dataframe\n",
            "20151221120051-26km-D6-AGGRESSIVE-MOTORWAY.csv added to the dataframe\n"
          ]
        }
      ],
      "source": [
        "# Empty dataframe necessary columns\n",
        "df = pd.DataFrame(columns=['accelerometerXAxis', 'accelerometerYAxis', 'accelerometerZAxis', 'gyroscopeXAxis', 'gyroscopeYAxis', 'gyroscopeZAxis', 'latitude', 'longitude'])\n",
        "\n",
        "\n",
        "acelX = df['accelerometerXAxis']\n",
        "acelY = df['accelerometerYAxis']\n",
        "acelZ = df['accelerometerZAxis']\n",
        "\n",
        "gyrX = df['gyroscopeXAxis']\n",
        "gyrY = df['gyroscopeYAxis']\n",
        "gyrZ = df['gyroscopeZAxis']\n",
        "\n",
        "latitude = df['latitude']\n",
        "longitude = df['longitude']\n",
        "\n",
        "# Loop through all the files in the dataset directory\n",
        "for root, dirs, files in os.walk(datasetUAH_dir):\n",
        "    for file in files:\n",
        "        if file.endswith(\".csv\"):\n",
        "            df_aux = pd.read_csv(os.path.join(root, file))\n",
        "            \n",
        "            acelX = pd.concat([acelX, df_aux['accelerometerXAxis']])\n",
        "            acelY = pd.concat([acelY, df_aux['accelerometerYAxis']])\n",
        "            acelZ = pd.concat([acelZ, df_aux['accelerometerZAxis']])\n",
        "            gyrX = pd.concat([gyrX, df_aux['gyroscopeXAxis']])\n",
        "            gyrY = pd.concat([gyrY, df_aux['gyroscopeYAxis']])\n",
        "            gyrZ = pd.concat([gyrZ, df_aux['gyroscopeZAxis']])\n",
        "            latitude = pd.concat([latitude, df_aux['latitude']])\n",
        "            longitude = pd.concat([longitude, df_aux['longitude']])\n",
        "            \n",
        "            print(f'{file} added to the dataframe')"
      ]
    },
    {
      "cell_type": "code",
      "execution_count": 5,
      "metadata": {
        "colab": {
          "base_uri": "https://localhost:8080/"
        },
        "id": "ZzW3XSugY8m3",
        "outputId": "809859f8-a9ef-4638-c9be-f3536c2556c9"
      },
      "outputs": [
        {
          "name": "stdout",
          "output_type": "stream",
          "text": [
            "count       0\n",
            "unique      0\n",
            "top       NaN\n",
            "freq      NaN\n",
            "Name: accelerometerXAxis, dtype: object\n",
            "count       0\n",
            "unique      0\n",
            "top       NaN\n",
            "freq      NaN\n",
            "Name: accelerometerYAxis, dtype: object\n",
            "count       0\n",
            "unique      0\n",
            "top       NaN\n",
            "freq      NaN\n",
            "Name: accelerometerZAxis, dtype: object\n",
            "count       0\n",
            "unique      0\n",
            "top       NaN\n",
            "freq      NaN\n",
            "Name: gyroscopeXAxis, dtype: object\n",
            "count       0\n",
            "unique      0\n",
            "top       NaN\n",
            "freq      NaN\n",
            "Name: gyroscopeYAxis, dtype: object\n",
            "count       0\n",
            "unique      0\n",
            "top       NaN\n",
            "freq      NaN\n",
            "Name: gyroscopeZAxis, dtype: object\n"
          ]
        }
      ],
      "source": [
        "print(df['accelerometerXAxis'].describe())\n",
        "print(df['accelerometerYAxis'].describe())\n",
        "print(df['accelerometerZAxis'].describe())\n",
        "print(df['gyroscopeXAxis'].describe())\n",
        "print(df['gyroscopeYAxis'].describe())\n",
        "print(df['gyroscopeZAxis'].describe())"
      ]
    },
    {
      "cell_type": "markdown",
      "metadata": {
        "id": "eb3I99C7ASnM"
      },
      "source": [
        "# **SEPARATE DATA BY MANOVER**"
      ]
    },
    {
      "cell_type": "code",
      "execution_count": 6,
      "metadata": {
        "id": "IaJIdH4qvx0t"
      },
      "outputs": [],
      "source": [
        "turnRightX, turnLeftX = separate_positives_negatives(acelX)\n",
        "\n",
        "accelY, breakY = separate_positives_negatives(acelY)\n",
        "\n",
        "positiveZ, negativeZ = separate_positives_negatives(acelZ)\n",
        "\n",
        "gyrPositiveX, gyrNegativeX = separate_positives_negatives(gyrX)\n",
        "gyrPositiveY, gyrNegativeY = separate_positives_negatives(gyrY)\n",
        "gyrPositiveZ, gyrNegativeZ = separate_positives_negatives(gyrZ)"
      ]
    },
    {
      "cell_type": "code",
      "execution_count": 7,
      "metadata": {
        "colab": {
          "base_uri": "https://localhost:8080/"
        },
        "id": "OHxP7SVfGrX6",
        "outputId": "462b33e6-f35f-4fe1-bc33-f89dcfe106b5"
      },
      "outputs": [
        {
          "data": {
            "text/plain": [
              "(306303,)"
            ]
          },
          "execution_count": 7,
          "metadata": {},
          "output_type": "execute_result"
        }
      ],
      "source": [
        "turnRightX.shape"
      ]
    },
    {
      "cell_type": "markdown",
      "metadata": {
        "id": "N01_nop2Znt5"
      },
      "source": [
        "# **CLASSIFICATION BASED ON NOT NORMALIZED VALUES**"
      ]
    },
    {
      "cell_type": "code",
      "execution_count": 8,
      "metadata": {
        "id": "ELrWyhmuZnHS"
      },
      "outputs": [],
      "source": [
        "#x1 = np.array(list(zip(turnRightX, turnLeftX, accelY, breakY, positiveZ, negativeZ, gyrPositiveX, gyrNegativeX, gyrPositiveY, gyrNegativeY, gyrPositiveZ, gyrNegativeZ)))\n",
        "\n",
        "#y = y_classification(x1, 0.25)\n",
        "#print (np.sum(y, axis=0))\n",
        "#np.savetxt(\"Y.csv\", y, delimiter=',', fmt='%.0i')"
      ]
    },
    {
      "cell_type": "markdown",
      "metadata": {
        "id": "SPIA30JzCcST"
      },
      "source": [
        "# **NORMALIZE DATA**"
      ]
    },
    {
      "cell_type": "code",
      "execution_count": 9,
      "metadata": {
        "id": "bTCRAhTXZXNL"
      },
      "outputs": [],
      "source": [
        "max_accel = max_of_vectors(turnRightX, turnLeftX, accelY, breakY, positiveZ, negativeZ)\n",
        "max_gyr = max_of_vectors(gyrPositiveX, gyrNegativeX, gyrPositiveY, gyrNegativeY, gyrPositiveZ, gyrNegativeZ)\n",
        "\n",
        "turnRightXn = normalize_between_0_and_max_v2(turnRightX, max_accel)\n",
        "turnLeftXn = normalize_between_0_and_max_v2(turnLeftX, max_accel)\n",
        "accelYn = normalize_between_0_and_max_v2(accelY, max_accel)\n",
        "breakYn = normalize_between_0_and_max_v2(breakY, max_accel)\n",
        "positiveZn = normalize_between_0_and_max_v2(positiveZ, max_accel)\n",
        "negativeZn = normalize_between_0_and_max_v2(negativeZ, max_accel)\n",
        "gyrPositiveXn = normalize_between_0_and_max_v2(gyrPositiveX, max_gyr)\n",
        "gyrNegativeXn = normalize_between_0_and_max_v2(gyrNegativeX, max_gyr)\n",
        "gyrPositiveYn = normalize_between_0_and_max_v2(gyrPositiveY, max_gyr)\n",
        "gyrNegativeYn = normalize_between_0_and_max_v2(gyrNegativeY, max_gyr)\n",
        "gyrPositiveZn = normalize_between_0_and_max_v2(gyrPositiveZ, max_gyr)\n",
        "gyrNegativeZn = normalize_between_0_and_max_v2(gyrNegativeZ, max_gyr)"
      ]
    },
    {
      "cell_type": "markdown",
      "metadata": {
        "id": "YrtvVRZ0Avz8"
      },
      "source": [
        "# **CREATE AN ARRAY WITH ALL DATA**"
      ]
    },
    {
      "cell_type": "code",
      "execution_count": 10,
      "metadata": {
        "id": "ppkRUVMX1c7W"
      },
      "outputs": [],
      "source": [
        "x = np.array(list(zip(turnRightXn, turnLeftXn, accelYn, breakYn, positiveZn, negativeZn, gyrPositiveXn, gyrNegativeXn, gyrPositiveYn, gyrNegativeYn, gyrPositiveZn, gyrNegativeZn)))"
      ]
    },
    {
      "cell_type": "code",
      "execution_count": 11,
      "metadata": {
        "id": "vX4JSKAddzy0"
      },
      "outputs": [
        {
          "data": {
            "text/plain": [
              "(306303, 12)"
            ]
          },
          "execution_count": 11,
          "metadata": {},
          "output_type": "execute_result"
        }
      ],
      "source": [
        "x.shape"
      ]
    },
    {
      "cell_type": "code",
      "execution_count": 12,
      "metadata": {
        "colab": {
          "base_uri": "https://localhost:8080/"
        },
        "id": "tJVtNOyF3bU5",
        "outputId": "a8fca71e-9321-4b0d-d334-51b8ba23f123"
      },
      "outputs": [
        {
          "name": "stdout",
          "output_type": "stream",
          "text": [
            "[   224   1810   1464   7884   2918    390 306303 306303   4944   8828\n",
            "  72830  80789]\n",
            "[[0 0 0 ... 0 0 0]\n",
            " [0 0 0 ... 0 0 0]\n",
            " [0 0 0 ... 0 0 0]\n",
            " ...\n",
            " [0 0 0 ... 1 1 0]\n",
            " [0 0 0 ... 1 1 0]\n",
            " [0 0 0 ... 1 1 0]]\n"
          ]
        }
      ],
      "source": [
        "y = y_classification(x, 0.3)\n",
        "print (np.sum(y, axis=0))\n",
        "\n",
        "filename = 'runtime_saves/' + 'Y.csv'\n",
        "print(y)\n",
        "\n",
        "np.savetxt(filename, y, delimiter=',', fmt='%.0i')"
      ]
    },
    {
      "cell_type": "markdown",
      "metadata": {
        "id": "0IZvV0MhdLBy"
      },
      "source": [
        "# **SHOW MANOVERS ON GOOLGE MAP**"
      ]
    },
    {
      "cell_type": "code",
      "execution_count": 13,
      "metadata": {
        "id": "yvW2QnkTdRiA"
      },
      "outputs": [],
      "source": [
        "positions = np.array(list(zip(latitude, longitude)))\n",
        "manover_accelY = y[:, 2]\n",
        "manover_breakY = y[:, 3]\n",
        "manover_turnRightXn = y[:, 0]\n",
        "manover_turnLeftXn = y[:, 1]\n",
        "gyrPositiveZn = y[:, 10]\n",
        "gyrNegativeZn = y[:, 11]\n",
        "save_manovers_positions_to_csv_file(positions, manover_accelY, \"accelY.csv\")\n",
        "save_manovers_positions_to_csv_file(positions, manover_breakY, \"breakY.csv\")\n",
        "save_manovers_positions_to_csv_file(positions, manover_turnRightXn, \"turnRightX.csv\")\n",
        "save_manovers_positions_to_csv_file(positions, manover_turnLeftXn, \"turnLeftX.csv\")\n",
        "save_manovers_positions_to_csv_file(positions, gyrPositiveZn, \"gyrPositZ.csv\")\n",
        "save_manovers_positions_to_csv_file(positions, gyrNegativeZn, \"gyrNegZ.csv\")"
      ]
    },
    {
      "cell_type": "markdown",
      "metadata": {
        "id": "Fe_78VHvBRJQ"
      },
      "source": [
        "# **PLOT MANOVERS**"
      ]
    },
    {
      "cell_type": "code",
      "execution_count": 14,
      "metadata": {
        "id": "cksFepBiioYu"
      },
      "outputs": [
        {
          "data": {
            "image/png": "[encoded data removed]",
            "text/plain": [
              "<Figure size 640x480 with 1 Axes>"
            ]
          },
          "metadata": {},
          "output_type": "display_data"
        }
      ],
      "source": [
        "plt.plot(y[:, 2], marker='.', linestyle='none')\n",
        "plt.plot(y[:, 3], marker='.', linestyle='none')\n",
        "\n",
        "plt.legend(['Accel Y', 'Break Y'])\n",
        "plt.show()"
      ]
    },
    {
      "cell_type": "markdown",
      "metadata": {
        "id": "lB-CdF_MGToJ"
      },
      "source": [
        "# **SEPARATE DATA IN TRAIN AND TEST**"
      ]
    },
    {
      "cell_type": "code",
      "execution_count": 15,
      "metadata": {
        "id": "Bd56BA3fIORH"
      },
      "outputs": [],
      "source": [
        "x_train, x_test = split_train_test(x, test_size=0.2)\n",
        "\n",
        "y_train, y_test = split_train_test(y, test_size=0.2)"
      ]
    },
    {
      "cell_type": "markdown",
      "metadata": {
        "id": "6d5xKgrEC-ks"
      },
      "source": [
        "# **CREATE THE INPUT TENSORES DATA**"
      ]
    },
    {
      "cell_type": "code",
      "execution_count": 16,
      "metadata": {
        "id": "EOkN2T88doeE"
      },
      "outputs": [
        {
          "name": "stdout",
          "output_type": "stream",
          "text": [
            "(245042, 1, 12)\n",
            "(61261, 1, 12)\n"
          ]
        }
      ],
      "source": [
        "train = x_train.reshape(x_train.shape[0], 1, x_train.shape[1])\n",
        "test = x_test.reshape(x_test.shape[0], 1, x_test.shape[1])\n",
        "\n",
        "print(train.shape)\n",
        "print(test.shape)\n",
        "\n",
        "np.savetxt(\"runtime_saves/train&test/x_train.csv\", x_train, delimiter=',', fmt='%.9f')\n",
        "np.savetxt(\"runtime_saves/train&test/x_test.csv\", x_test, delimiter=',', fmt='%.9f')\n",
        "np.savetxt(\"runtime_saves/train&test/y_train.csv\", y_train, delimiter=',', fmt='%.0i')\n",
        "np.savetxt(\"runtime_saves/train&test/y_test.csv\", y_test, delimiter=',', fmt='%.0i')\n",
        "\n",
        "np.savetxt(\"runtime_saves/train&test/train.csv\", train.reshape(train.shape[0], train.shape[2]), delimiter=',', fmt='%.9f')\n",
        "np.savetxt(\"runtime_saves/train&test/test.csv\", test.reshape(test.shape[0], test.shape[2]), delimiter=',', fmt='%.9f')"
      ]
    },
    {
      "cell_type": "markdown",
      "metadata": {
        "id": "wBfgiQgAGZPW"
      },
      "source": [
        "# **CREATE THE MODEL**"
      ]
    },
    {
      "cell_type": "code",
      "execution_count": 17,
      "metadata": {
        "id": "4wdxfd2JJwmh"
      },
      "outputs": [
        {
          "name": "stdout",
          "output_type": "stream",
          "text": [
            "WARNING:tensorflow:From C:\\Users\\root3\\AppData\\Local\\Packages\\PythonSoftwareFoundation.Python.3.10_qbz5n2kfra8p0\\LocalCache\\local-packages\\Python310\\site-packages\\keras\\src\\backend\\common\\global_state.py:73: The name tf.reset_default_graph is deprecated. Please use tf.compat.v1.reset_default_graph instead.\n",
            "\n",
            "1 12\n"
          ]
        }
      ],
      "source": [
        "K.clear_session()\n",
        "\n",
        "dropout1 = 0.5\n",
        "dropout2 = 0.2\n",
        "\n",
        "# learning_rate = 0.001\n",
        "\n",
        "#conv1D and LSTM model\n",
        "model_lstm = Sequential()\n",
        "model_lstm.add(Conv1D(filters=64, kernel_size=1, activation='relu', input_shape=(1, 12)))\n",
        "model_lstm.add(LSTM(128, return_sequences=True))\n",
        "model_lstm.add(Dropout(dropout1))\n",
        "model_lstm.add(LSTM(64, return_sequences=False))\n",
        "model_lstm.add(Dropout(dropout2))\n",
        "model_lstm.add(Dense(12, activation='sigmoid'))\n",
        "\n",
        "print(train.shape[1], train.shape[2])\n",
        "\n",
        "model_lstm.compile(loss='binary_crossentropy',optimizer='adam',metrics=['accuracy'])"
      ]
    },
    {
      "cell_type": "markdown",
      "metadata": {
        "id": "khawMeLUGczr"
      },
      "source": [
        "# **TRAIN THE MODEL**"
      ]
    },
    {
      "cell_type": "code",
      "execution_count": 18,
      "metadata": {
        "colab": {
          "base_uri": "https://localhost:8080/"
        },
        "id": "NNkg4Mr-K36t",
        "outputId": "c5ced2dc-cc07-4cc5-d922-f176e6e16542"
      },
      "outputs": [
        {
          "name": "stdout",
          "output_type": "stream",
          "text": [
            "Epoch 1/10\n",
            "\u001b[1m96/96\u001b[0m \u001b[32m━━━━━━━━━━━━━━━━━━━━\u001b[0m\u001b[37m\u001b[0m \u001b[1m9s\u001b[0m 46ms/step - accuracy: 0.0985 - loss: 0.5404 - val_accuracy: 0.0000e+00 - val_loss: 0.2027 - learning_rate: 0.0010\n",
            "Epoch 2/10\n",
            "\u001b[1m96/96\u001b[0m \u001b[32m━━━━━━━━━━━━━━━━━━━━\u001b[0m\u001b[37m\u001b[0m \u001b[1m4s\u001b[0m 40ms/step - accuracy: 0.1237 - loss: 0.1299 - val_accuracy: 0.0000e+00 - val_loss: 0.1737 - learning_rate: 0.0010\n",
            "Epoch 3/10\n",
            "\u001b[1m96/96\u001b[0m \u001b[32m━━━━━━━━━━━━━━━━━━━━\u001b[0m\u001b[37m\u001b[0m \u001b[1m4s\u001b[0m 43ms/step - accuracy: 0.1379 - loss: 0.1002 - val_accuracy: 0.3629 - val_loss: 0.1139 - learning_rate: 0.0010\n",
            "Epoch 4/10\n",
            "\u001b[1m96/96\u001b[0m \u001b[32m━━━━━━━━━━━━━━━━━━━━\u001b[0m\u001b[37m\u001b[0m \u001b[1m4s\u001b[0m 39ms/step - accuracy: 0.3232 - loss: 0.0601 - val_accuracy: 0.3907 - val_loss: 0.0797 - learning_rate: 0.0010\n",
            "Epoch 5/10\n",
            "\u001b[1m96/96\u001b[0m \u001b[32m━━━━━━━━━━━━━━━━━━━━\u001b[0m\u001b[37m\u001b[0m \u001b[1m4s\u001b[0m 40ms/step - accuracy: 0.3772 - loss: 0.0410 - val_accuracy: 0.3694 - val_loss: 0.0577 - learning_rate: 0.0010\n",
            "Epoch 6/10\n",
            "\u001b[1m96/96\u001b[0m \u001b[32m━━━━━━━━━━━━━━━━━━━━\u001b[0m\u001b[37m\u001b[0m \u001b[1m4s\u001b[0m 40ms/step - accuracy: 0.4077 - loss: 0.0312 - val_accuracy: 0.3776 - val_loss: 0.0391 - learning_rate: 0.0010\n",
            "Epoch 7/10\n",
            "\u001b[1m96/96\u001b[0m \u001b[32m━━━━━━━━━━━━━━━━━━━━\u001b[0m\u001b[37m\u001b[0m \u001b[1m4s\u001b[0m 41ms/step - accuracy: 0.4115 - loss: 0.0259 - val_accuracy: 0.3661 - val_loss: 0.0334 - learning_rate: 0.0010\n",
            "Epoch 8/10\n",
            "\u001b[1m96/96\u001b[0m \u001b[32m━━━━━━━━━━━━━━━━━━━━\u001b[0m\u001b[37m\u001b[0m \u001b[1m4s\u001b[0m 41ms/step - accuracy: 0.3742 - loss: 0.0232 - val_accuracy: 0.3630 - val_loss: 0.0310 - learning_rate: 0.0010\n",
            "Epoch 9/10\n",
            "\u001b[1m96/96\u001b[0m \u001b[32m━━━━━━━━━━━━━━━━━━━━\u001b[0m\u001b[37m\u001b[0m \u001b[1m4s\u001b[0m 43ms/step - accuracy: 0.3504 - loss: 0.0221 - val_accuracy: 0.3608 - val_loss: 0.0292 - learning_rate: 0.0010\n",
            "Epoch 10/10\n",
            "\u001b[1m96/96\u001b[0m \u001b[32m━━━━━━━━━━━━━━━━━━━━\u001b[0m\u001b[37m\u001b[0m \u001b[1m4s\u001b[0m 42ms/step - accuracy: 0.3282 - loss: 0.0202 - val_accuracy: 0.3608 - val_loss: 0.0272 - learning_rate: 0.0010\n",
            "Restoring model weights from the end of the best epoch: 10.\n"
          ]
        }
      ],
      "source": [
        "# Define callbacks\n",
        "early_stopping = EarlyStopping(monitor='val_loss', patience=10, verbose=1, mode='min', restore_best_weights=True)\n",
        "reduce_lr = ReduceLROnPlateau(monitor='val_loss', factor=0.2, patience=5, verbose=1, mode='min', min_lr=0.0000)\n",
        "\n",
        "\n",
        "\n",
        "# Train the model\n",
        "model_lstm_output = model_lstm.fit(train, y_train, epochs=10, batch_size=2048, validation_split=0.2, shuffle=True, callbacks=[early_stopping, reduce_lr])"
      ]
    },
    {
      "cell_type": "markdown",
      "metadata": {
        "id": "Ct_S460uGhxP"
      },
      "source": [
        "# **SHOW THE RESULTS**"
      ]
    },
    {
      "cell_type": "code",
      "execution_count": 19,
      "metadata": {
        "id": "mLflDJutrQ0h"
      },
      "outputs": [
        {
          "data": {
            "image/png": "[encoded data removed]",
            "text/plain": [
              "<Figure size 640x480 with 1 Axes>"
            ]
          },
          "metadata": {},
          "output_type": "display_data"
        }
      ],
      "source": [
        "plt.plot(model_lstm_output.history['loss'])\n",
        "plt.plot(model_lstm_output.history['val_loss'])\n",
        "plt.title('Historico de train')\n",
        "plt.xlabel('Epocas de train')\n",
        "plt.ylabel('Função custo')\n",
        "plt.legend(['Erro train', 'Erro test'])\n",
        "plt.show()"
      ]
    },
    {
      "cell_type": "code",
      "execution_count": 20,
      "metadata": {
        "id": "RTtErVAPKNQT"
      },
      "outputs": [
        {
          "name": "stdout",
          "output_type": "stream",
          "text": [
            "\u001b[1m1915/1915\u001b[0m \u001b[32m━━━━━━━━━━━━━━━━━━━━\u001b[0m\u001b[37m\u001b[0m \u001b[1m4s\u001b[0m 2ms/step - accuracy: 0.1518 - loss: 0.0183\n",
            "Test Accuracy: 0.18595844507217407\n"
          ]
        }
      ],
      "source": [
        "accuracy = model_lstm.evaluate(test, y_test)[1]  # Assuming accuracy is the second metric\n",
        "print('Test Accuracy:', accuracy)"
      ]
    },
    {
      "cell_type": "markdown",
      "metadata": {
        "id": "d5yRYVkqpv51"
      },
      "source": [
        "# **TEST THE NETWORK**"
      ]
    },
    {
      "cell_type": "code",
      "execution_count": 21,
      "metadata": {
        "colab": {
          "base_uri": "https://localhost:8080/"
        },
        "id": "RTRP1HLnH5VA",
        "outputId": "16236fd5-cb67-4cc2-8018-fe7b9b86945e"
      },
      "outputs": [
        {
          "name": "stdout",
          "output_type": "stream",
          "text": [
            "\u001b[1m3829/3829\u001b[0m \u001b[32m━━━━━━━━━━━━━━━━━━━━\u001b[0m\u001b[37m\u001b[0m \u001b[1m7s\u001b[0m 2ms/step - accuracy: 0.1518 - loss: 0.0183\n",
            "Test loss/accurary: 0.023161394521594048 0.18595844507217407\n"
          ]
        }
      ],
      "source": [
        "loss, accurary = model_lstm.evaluate(test, y_test, batch_size=16)\n",
        "print('Test loss/accurary:', loss, accurary)\n"
      ]
    },
    {
      "cell_type": "markdown",
      "metadata": {},
      "source": [
        "## **Confusion Matrix**"
      ]
    },
    {
      "cell_type": "code",
      "execution_count": 22,
      "metadata": {},
      "outputs": [
        {
          "name": "stdout",
          "output_type": "stream",
          "text": [
            "\u001b[1m7658/7658\u001b[0m \u001b[32m━━━━━━━━━━━━━━━━━━━━\u001b[0m\u001b[37m\u001b[0m \u001b[1m16s\u001b[0m 2ms/step\n"
          ]
        },
        {
          "data": {
            "image/png": "[encoded data removed]",
            "text/plain": [
              "<Figure size 640x480 with 2 Axes>"
            ]
          },
          "metadata": {},
          "output_type": "display_data"
        },
        {
          "name": "stdout",
          "output_type": "stream",
          "text": [
            "{'accuracy': [0.08561313897371292, 0.12773360311985016, 0.17874030768871307, 0.3478444814682007, 0.38545551896095276, 0.4151546061038971, 0.40245264768600464, 0.37229445576667786, 0.34689056873321533, 0.32268548011779785], 'loss': [0.35259750485420227, 0.12620072066783905, 0.0880652442574501, 0.054188039153814316, 0.038111235946416855, 0.02953423000872135, 0.02502284198999405, 0.022948220372200012, 0.021574094891548157, 0.020168937742710114], 'val_accuracy': [0.0, 0.0, 0.36293333768844604, 0.39074456691741943, 0.3694015443325043, 0.3775632977485657, 0.3660552203655243, 0.3629537522792816, 0.360790878534317, 0.360790878534317], 'val_loss': [0.20269173383712769, 0.17369820177555084, 0.11387535184621811, 0.07968071848154068, 0.057656873017549515, 0.03911909833550453, 0.033400874584913254, 0.030971897765994072, 0.02915528230369091, 0.027172880247235298], 'learning_rate': [0.0010000000474974513, 0.0010000000474974513, 0.0010000000474974513, 0.0010000000474974513, 0.0010000000474974513, 0.0010000000474974513, 0.0010000000474974513, 0.0010000000474974513, 0.0010000000474974513, 0.0010000000474974513]}\n"
          ]
        }
      ],
      "source": [
        "y_train_classes = np.argmax(y_train, axis=1)\n",
        "\n",
        "y_pred = model_lstm.predict(train)\n",
        "y_pred_classes = np.argmax(y_pred, axis=1)\n",
        "\n",
        "cm = confusion_matrix(y_train_classes, y_pred_classes)\n",
        "disp = ConfusionMatrixDisplay(confusion_matrix=cm)\n",
        "disp.plot(cmap=plt.cm.Blues)\n",
        "plt.title('Matriz de Confusão')\n",
        "plt.show()\n",
        "\n",
        "print(model_lstm_output.history)"
      ]
    },
    {
      "cell_type": "code",
      "execution_count": 23,
      "metadata": {
        "id": "pLTGBDbnb5kg"
      },
      "outputs": [
        {
          "data": {
            "text/plain": [
              "(61261, 1, 12)"
            ]
          },
          "execution_count": 23,
          "metadata": {},
          "output_type": "execute_result"
        }
      ],
      "source": [
        "test[0]\n",
        "test.shape"
      ]
    },
    {
      "cell_type": "code",
      "execution_count": 24,
      "metadata": {
        "id": "sCXg55GxwbGg"
      },
      "outputs": [
        {
          "name": "stdout",
          "output_type": "stream",
          "text": [
            "\u001b[1m1/1\u001b[0m \u001b[32m━━━━━━━━━━━━━━━━━━━━\u001b[0m\u001b[37m\u001b[0m \u001b[1m0s\u001b[0m 64ms/step\n",
            "X [: [0.  0.1 0.  0.  0.  0.  0.  0.5 0.  0.  0.  0. ]\n",
            "Y [: [0 0 0 0 0 0 1 1 0 0 0 0]\n",
            "PC: [[0. 0. 0. 0. 0. 0. 1. 1. 0. 0. 0. 0.]]\n",
            "0\n",
            "\u001b[1m1/1\u001b[0m \u001b[32m━━━━━━━━━━━━━━━━━━━━\u001b[0m\u001b[37m\u001b[0m \u001b[1m0s\u001b[0m 29ms/step\n",
            "X [: [0.  0.1 0.  0.  0.  0.  0.  0.5 0.  0.  0.  0. ]\n",
            "Y [: [0 0 0 0 0 0 1 1 0 0 0 0]\n",
            "PC: [[0. 0. 0. 0. 0. 0. 1. 1. 0. 0. 0. 0.]]\n",
            "1\n",
            "\u001b[1m1/1\u001b[0m \u001b[32m━━━━━━━━━━━━━━━━━━━━\u001b[0m\u001b[37m\u001b[0m \u001b[1m0s\u001b[0m 31ms/step\n",
            "X [: [0.  0.1 0.  0.  0.  0.  0.  0.5 0.  0.  0.  0. ]\n",
            "Y [: [0 0 0 0 0 0 1 1 0 0 0 0]\n",
            "PC: [[0. 0. 0. 0. 0. 0. 1. 1. 0. 0. 0. 0.]]\n",
            "2\n",
            "\u001b[1m1/1\u001b[0m \u001b[32m━━━━━━━━━━━━━━━━━━━━\u001b[0m\u001b[37m\u001b[0m \u001b[1m0s\u001b[0m 32ms/step\n",
            "X [: [0.  0.  0.  0.  0.  0.  0.  0.5 0.  0.  0.  0. ]\n",
            "Y [: [0 0 0 0 0 0 1 1 0 0 0 0]\n",
            "PC: [[0. 0. 0. 0. 0. 0. 1. 1. 0. 0. 0. 0.]]\n",
            "3\n",
            "\u001b[1m1/1\u001b[0m \u001b[32m━━━━━━━━━━━━━━━━━━━━\u001b[0m\u001b[37m\u001b[0m \u001b[1m0s\u001b[0m 26ms/step\n",
            "X [: [0.1 0.  0.  0.1 0.  0.  0.  0.5 0.  0.  0.  0. ]\n",
            "Y [: [0 0 0 0 0 0 1 1 0 0 0 0]\n",
            "PC: [[0. 0. 0. 0. 0. 0. 1. 1. 0. 0. 0. 0.]]\n",
            "4\n",
            "\u001b[1m1/1\u001b[0m \u001b[32m━━━━━━━━━━━━━━━━━━━━\u001b[0m\u001b[37m\u001b[0m \u001b[1m0s\u001b[0m 47ms/step\n",
            "X [: [0.  0.  0.  0.  0.  0.1 0.  0.5 0.  0.  0.  0. ]\n",
            "Y [: [0 0 0 0 0 0 1 1 0 0 0 0]\n",
            "PC: [[0. 0. 0. 0. 0. 0. 1. 1. 0. 0. 0. 0.]]\n",
            "5\n",
            "\u001b[1m1/1\u001b[0m \u001b[32m━━━━━━━━━━━━━━━━━━━━\u001b[0m\u001b[37m\u001b[0m \u001b[1m0s\u001b[0m 37ms/step\n",
            "X [: [0.  0.1 0.  0.  0.  0.1 0.  0.5 0.  0.  0.  0. ]\n",
            "Y [: [0 0 0 0 0 0 1 1 0 0 0 0]\n",
            "PC: [[0. 0. 0. 0. 0. 0. 1. 1. 0. 0. 0. 0.]]\n",
            "6\n",
            "\u001b[1m1/1\u001b[0m \u001b[32m━━━━━━━━━━━━━━━━━━━━\u001b[0m\u001b[37m\u001b[0m \u001b[1m0s\u001b[0m 33ms/step\n",
            "X [: [0.  0.  0.  0.  0.  0.  0.  0.5 0.  0.  0.  0. ]\n",
            "Y [: [0 0 0 0 0 0 1 1 0 0 0 0]\n",
            "PC: [[0. 0. 0. 0. 0. 0. 1. 1. 0. 0. 0. 0.]]\n",
            "7\n",
            "\u001b[1m1/1\u001b[0m \u001b[32m━━━━━━━━━━━━━━━━━━━━\u001b[0m\u001b[37m\u001b[0m \u001b[1m0s\u001b[0m 27ms/step\n",
            "X [: [0.  0.  0.  0.  0.  0.  0.  0.5 0.  0.  0.  0. ]\n",
            "Y [: [0 0 0 0 0 0 1 1 0 0 0 0]\n",
            "PC: [[0. 0. 0. 0. 0. 0. 1. 1. 0. 0. 0. 0.]]\n",
            "8\n",
            "\u001b[1m1/1\u001b[0m \u001b[32m━━━━━━━━━━━━━━━━━━━━\u001b[0m\u001b[37m\u001b[0m \u001b[1m0s\u001b[0m 26ms/step\n",
            "X [: [0.  0.  0.  0.  0.  0.  0.  0.5 0.  0.  0.  0. ]\n",
            "Y [: [0 0 0 0 0 0 1 1 0 0 0 0]\n",
            "PC: [[0. 0. 0. 0. 0. 0. 1. 1. 0. 0. 0. 0.]]\n",
            "9\n",
            "\u001b[1m1/1\u001b[0m \u001b[32m━━━━━━━━━━━━━━━━━━━━\u001b[0m\u001b[37m\u001b[0m \u001b[1m0s\u001b[0m 26ms/step\n",
            "X [: [0.  0.  0.  0.  0.  0.  0.  0.5 0.  0.  0.  0. ]\n",
            "Y [: [0 0 0 0 0 0 1 1 0 0 0 0]\n",
            "PC: [[0. 0. 0. 0. 0. 0. 1. 1. 0. 0. 0. 0.]]\n",
            "10\n",
            "\u001b[1m1/1\u001b[0m \u001b[32m━━━━━━━━━━━━━━━━━━━━\u001b[0m\u001b[37m\u001b[0m \u001b[1m0s\u001b[0m 26ms/step\n",
            "X [: [0.  0.  0.  0.  0.  0.1 0.  0.5 0.  0.  0.  0. ]\n",
            "Y [: [0 0 0 0 0 0 1 1 0 0 0 0]\n",
            "PC: [[0. 0. 0. 0. 0. 0. 1. 1. 0. 0. 0. 0.]]\n",
            "11\n",
            "\u001b[1m1/1\u001b[0m \u001b[32m━━━━━━━━━━━━━━━━━━━━\u001b[0m\u001b[37m\u001b[0m \u001b[1m0s\u001b[0m 29ms/step\n",
            "X [: [0.  0.  0.  0.  0.  0.  0.  0.5 0.  0.  0.  0. ]\n",
            "Y [: [0 0 0 0 0 0 1 1 0 0 0 0]\n",
            "PC: [[0. 0. 0. 0. 0. 0. 1. 1. 0. 0. 0. 0.]]\n",
            "12\n",
            "\u001b[1m1/1\u001b[0m \u001b[32m━━━━━━━━━━━━━━━━━━━━\u001b[0m\u001b[37m\u001b[0m \u001b[1m0s\u001b[0m 26ms/step\n",
            "X [: [0.  0.1 0.  0.  0.  0.  0.  0.5 0.  0.  0.  0. ]\n",
            "Y [: [0 0 0 0 0 0 1 1 0 0 0 0]\n",
            "PC: [[0. 0. 0. 0. 0. 0. 1. 1. 0. 0. 0. 0.]]\n",
            "13\n",
            "\u001b[1m1/1\u001b[0m \u001b[32m━━━━━━━━━━━━━━━━━━━━\u001b[0m\u001b[37m\u001b[0m \u001b[1m0s\u001b[0m 27ms/step\n",
            "X [: [0.  0.  0.  0.  0.1 0.  0.  0.5 0.  0.  0.  0. ]\n",
            "Y [: [0 0 0 0 0 0 1 1 0 0 0 0]\n",
            "PC: [[0. 0. 0. 0. 0. 0. 1. 1. 0. 0. 0. 0.]]\n",
            "14\n",
            "\u001b[1m1/1\u001b[0m \u001b[32m━━━━━━━━━━━━━━━━━━━━\u001b[0m\u001b[37m\u001b[0m \u001b[1m0s\u001b[0m 25ms/step\n",
            "X [: [0.  0.  0.  0.  0.  0.  0.  0.5 0.  0.  0.  0. ]\n",
            "Y [: [0 0 0 0 0 0 1 1 0 0 0 0]\n",
            "PC: [[0. 0. 0. 0. 0. 0. 1. 1. 0. 0. 0. 0.]]\n",
            "15\n",
            "\u001b[1m1/1\u001b[0m \u001b[32m━━━━━━━━━━━━━━━━━━━━\u001b[0m\u001b[37m\u001b[0m \u001b[1m0s\u001b[0m 27ms/step\n",
            "X [: [0.  0.1 0.  0.  0.  0.  0.  0.5 0.  0.  0.  0. ]\n",
            "Y [: [0 0 0 0 0 0 1 1 0 0 0 0]\n",
            "PC: [[0. 0. 0. 0. 0. 0. 1. 1. 0. 0. 0. 0.]]\n",
            "16\n",
            "\u001b[1m1/1\u001b[0m \u001b[32m━━━━━━━━━━━━━━━━━━━━\u001b[0m\u001b[37m\u001b[0m \u001b[1m0s\u001b[0m 36ms/step\n",
            "X [: [0.  0.  0.  0.  0.  0.  0.  0.5 0.  0.  0.  0. ]\n",
            "Y [: [0 0 0 0 0 0 1 1 0 0 0 0]\n",
            "PC: [[0. 0. 0. 0. 0. 0. 1. 1. 0. 0. 0. 0.]]\n",
            "17\n",
            "\u001b[1m1/1\u001b[0m \u001b[32m━━━━━━━━━━━━━━━━━━━━\u001b[0m\u001b[37m\u001b[0m \u001b[1m0s\u001b[0m 28ms/step\n",
            "X [: [0.  0.  0.  0.  0.  0.  0.  0.5 0.  0.  0.  0. ]\n",
            "Y [: [0 0 0 0 0 0 1 1 0 0 0 0]\n",
            "PC: [[0. 0. 0. 0. 0. 0. 1. 1. 0. 0. 0. 0.]]\n",
            "18\n",
            "\u001b[1m1/1\u001b[0m \u001b[32m━━━━━━━━━━━━━━━━━━━━\u001b[0m\u001b[37m\u001b[0m \u001b[1m0s\u001b[0m 29ms/step\n",
            "X [: [0.1 0.  0.  0.  0.  0.  0.  0.5 0.  0.  0.  0. ]\n",
            "Y [: [0 0 0 0 0 0 1 1 0 0 0 0]\n",
            "PC: [[0. 0. 0. 0. 0. 0. 1. 1. 0. 0. 0. 0.]]\n",
            "19\n",
            "\u001b[1m1/1\u001b[0m \u001b[32m━━━━━━━━━━━━━━━━━━━━\u001b[0m\u001b[37m\u001b[0m \u001b[1m0s\u001b[0m 39ms/step\n",
            "X [: [0.  0.  0.1 0.  0.  0.  0.  0.5 0.  0.  0.  0. ]\n",
            "Y [: [0 0 0 0 0 0 1 1 0 0 0 0]\n",
            "PC: [[0. 0. 0. 0. 0. 0. 1. 1. 0. 0. 0. 0.]]\n",
            "20\n",
            "\u001b[1m1/1\u001b[0m \u001b[32m━━━━━━━━━━━━━━━━━━━━\u001b[0m\u001b[37m\u001b[0m \u001b[1m0s\u001b[0m 29ms/step\n",
            "X [: [0.  0.  0.  0.  0.  0.  0.  0.5 0.  0.  0.  0. ]\n",
            "Y [: [0 0 0 0 0 0 1 1 0 0 0 0]\n",
            "PC: [[0. 0. 0. 0. 0. 0. 1. 1. 0. 0. 0. 0.]]\n",
            "21\n",
            "\u001b[1m1/1\u001b[0m \u001b[32m━━━━━━━━━━━━━━━━━━━━\u001b[0m\u001b[37m\u001b[0m \u001b[1m0s\u001b[0m 33ms/step\n",
            "X [: [0.  0.  0.  0.  0.  0.  0.  0.5 0.  0.  0.  0. ]\n",
            "Y [: [0 0 0 0 0 0 1 1 0 0 0 0]\n",
            "PC: [[0. 0. 0. 0. 0. 0. 1. 1. 0. 0. 0. 0.]]\n",
            "22\n",
            "\u001b[1m1/1\u001b[0m \u001b[32m━━━━━━━━━━━━━━━━━━━━\u001b[0m\u001b[37m\u001b[0m \u001b[1m0s\u001b[0m 32ms/step\n",
            "X [: [0.  0.1 0.  0.  0.  0.  0.  0.5 0.  0.  0.  0. ]\n",
            "Y [: [0 0 0 0 0 0 1 1 0 0 0 0]\n",
            "PC: [[0. 0. 0. 0. 0. 0. 1. 1. 0. 0. 0. 0.]]\n",
            "23\n",
            "\u001b[1m1/1\u001b[0m \u001b[32m━━━━━━━━━━━━━━━━━━━━\u001b[0m\u001b[37m\u001b[0m \u001b[1m0s\u001b[0m 33ms/step\n",
            "X [: [0.  0.1 0.  0.  0.1 0.  0.  0.5 0.  0.  0.  0. ]\n",
            "Y [: [0 0 0 0 0 0 1 1 0 0 0 0]\n",
            "PC: [[0. 0. 0. 0. 0. 0. 1. 1. 0. 0. 0. 0.]]\n",
            "24\n",
            "\u001b[1m1/1\u001b[0m \u001b[32m━━━━━━━━━━━━━━━━━━━━\u001b[0m\u001b[37m\u001b[0m \u001b[1m0s\u001b[0m 32ms/step\n",
            "X [: [0.  0.1 0.  0.  0.  0.  0.  0.5 0.  0.  0.  0. ]\n",
            "Y [: [0 0 0 0 0 0 1 1 0 0 0 0]\n",
            "PC: [[0. 0. 0. 0. 0. 0. 1. 1. 0. 0. 0. 0.]]\n",
            "25\n",
            "\u001b[1m1/1\u001b[0m \u001b[32m━━━━━━━━━━━━━━━━━━━━\u001b[0m\u001b[37m\u001b[0m \u001b[1m0s\u001b[0m 29ms/step\n",
            "X [: [0.  0.1 0.  0.  0.  0.  0.  0.5 0.  0.  0.  0. ]\n",
            "Y [: [0 0 0 0 0 0 1 1 0 0 0 0]\n",
            "PC: [[0. 0. 0. 0. 0. 0. 1. 1. 0. 0. 0. 0.]]\n",
            "26\n",
            "\u001b[1m1/1\u001b[0m \u001b[32m━━━━━━━━━━━━━━━━━━━━\u001b[0m\u001b[37m\u001b[0m \u001b[1m0s\u001b[0m 27ms/step\n",
            "X [: [0.1 0.  0.  0.  0.  0.  0.  0.5 0.  0.  0.  0. ]\n",
            "Y [: [0 0 0 0 0 0 1 1 0 0 0 0]\n",
            "PC: [[0. 0. 0. 0. 0. 0. 1. 1. 0. 0. 0. 0.]]\n",
            "27\n",
            "\u001b[1m1/1\u001b[0m \u001b[32m━━━━━━━━━━━━━━━━━━━━\u001b[0m\u001b[37m\u001b[0m \u001b[1m0s\u001b[0m 27ms/step\n",
            "X [: [0.  0.  0.  0.  0.  0.  0.  0.5 0.  0.  0.  0. ]\n",
            "Y [: [0 0 0 0 0 0 1 1 0 0 0 0]\n",
            "PC: [[0. 0. 0. 0. 0. 0. 1. 1. 0. 0. 0. 0.]]\n",
            "28\n",
            "\u001b[1m1/1\u001b[0m \u001b[32m━━━━━━━━━━━━━━━━━━━━\u001b[0m\u001b[37m\u001b[0m \u001b[1m0s\u001b[0m 25ms/step\n",
            "X [: [0.  0.  0.  0.  0.  0.  0.  0.5 0.  0.  0.  0. ]\n",
            "Y [: [0 0 0 0 0 0 1 1 0 0 0 0]\n",
            "PC: [[0. 0. 0. 0. 0. 0. 1. 1. 0. 0. 0. 0.]]\n",
            "29\n",
            "\u001b[1m1/1\u001b[0m \u001b[32m━━━━━━━━━━━━━━━━━━━━\u001b[0m\u001b[37m\u001b[0m \u001b[1m0s\u001b[0m 28ms/step\n",
            "X [: [0.  0.1 0.  0.  0.  0.  0.  0.5 0.  0.  0.  0. ]\n",
            "Y [: [0 0 0 0 0 0 1 1 0 0 0 0]\n",
            "PC: [[0. 0. 0. 0. 0. 0. 1. 1. 0. 0. 0. 0.]]\n",
            "30\n",
            "\u001b[1m1/1\u001b[0m \u001b[32m━━━━━━━━━━━━━━━━━━━━\u001b[0m\u001b[37m\u001b[0m \u001b[1m0s\u001b[0m 28ms/step\n",
            "X [: [0.  0.1 0.  0.  0.  0.  0.  0.5 0.  0.  0.  0. ]\n",
            "Y [: [0 0 0 0 0 0 1 1 0 0 0 0]\n",
            "PC: [[0. 0. 0. 0. 0. 0. 1. 1. 0. 0. 0. 0.]]\n",
            "31\n",
            "\u001b[1m1/1\u001b[0m \u001b[32m━━━━━━━━━━━━━━━━━━━━\u001b[0m\u001b[37m\u001b[0m \u001b[1m0s\u001b[0m 27ms/step\n",
            "X [: [0.  0.1 0.  0.  0.  0.  0.  0.5 0.  0.  0.  0. ]\n",
            "Y [: [0 0 0 0 0 0 1 1 0 0 0 0]\n",
            "PC: [[0. 0. 0. 0. 0. 0. 1. 1. 0. 0. 0. 0.]]\n",
            "32\n",
            "\u001b[1m1/1\u001b[0m \u001b[32m━━━━━━━━━━━━━━━━━━━━\u001b[0m\u001b[37m\u001b[0m \u001b[1m0s\u001b[0m 35ms/step\n",
            "X [: [0.  0.  0.  0.  0.  0.  0.  0.5 0.  0.  0.  0. ]\n",
            "Y [: [0 0 0 0 0 0 1 1 0 0 0 0]\n",
            "PC: [[0. 0. 0. 0. 0. 0. 1. 1. 0. 0. 0. 0.]]\n",
            "33\n",
            "\u001b[1m1/1\u001b[0m \u001b[32m━━━━━━━━━━━━━━━━━━━━\u001b[0m\u001b[37m\u001b[0m \u001b[1m0s\u001b[0m 34ms/step\n",
            "X [: [0.1 0.  0.  0.  0.1 0.  0.  0.5 0.  0.  0.  0. ]\n",
            "Y [: [0 0 0 0 0 0 1 1 0 0 0 0]\n",
            "PC: [[0. 0. 0. 0. 0. 0. 1. 1. 0. 0. 0. 0.]]\n",
            "34\n",
            "\u001b[1m1/1\u001b[0m \u001b[32m━━━━━━━━━━━━━━━━━━━━\u001b[0m\u001b[37m\u001b[0m \u001b[1m0s\u001b[0m 35ms/step\n",
            "X [: [0.2 0.  0.  0.  0.  0.  0.  0.5 0.  0.  0.  0. ]\n",
            "Y [: [0 0 0 0 0 0 1 1 0 0 0 0]\n",
            "PC: [[0. 0. 0. 0. 0. 0. 1. 1. 0. 0. 0. 0.]]\n",
            "35\n",
            "\u001b[1m1/1\u001b[0m \u001b[32m━━━━━━━━━━━━━━━━━━━━\u001b[0m\u001b[37m\u001b[0m \u001b[1m0s\u001b[0m 27ms/step\n",
            "X [: [0.  0.  0.  0.  0.  0.  0.  0.5 0.  0.  0.  0. ]\n",
            "Y [: [0 0 0 0 0 0 1 1 0 0 0 0]\n",
            "PC: [[0. 0. 0. 0. 0. 0. 1. 1. 0. 0. 0. 0.]]\n",
            "36\n",
            "\u001b[1m1/1\u001b[0m \u001b[32m━━━━━━━━━━━━━━━━━━━━\u001b[0m\u001b[37m\u001b[0m \u001b[1m0s\u001b[0m 28ms/step\n",
            "X [: [0.  0.1 0.  0.  0.  0.1 0.  0.5 0.  0.  0.  0. ]\n",
            "Y [: [0 0 0 0 0 0 1 1 0 0 0 0]\n",
            "PC: [[0. 0. 0. 0. 0. 0. 1. 1. 0. 0. 0. 0.]]\n",
            "37\n",
            "\u001b[1m1/1\u001b[0m \u001b[32m━━━━━━━━━━━━━━━━━━━━\u001b[0m\u001b[37m\u001b[0m \u001b[1m0s\u001b[0m 27ms/step\n",
            "X [: [0.  0.1 0.  0.  0.  0.  0.  0.5 0.  0.  0.  0. ]\n",
            "Y [: [0 0 0 0 0 0 1 1 0 0 0 0]\n",
            "PC: [[0. 0. 0. 0. 0. 0. 1. 1. 0. 0. 0. 0.]]\n",
            "38\n",
            "\u001b[1m1/1\u001b[0m \u001b[32m━━━━━━━━━━━━━━━━━━━━\u001b[0m\u001b[37m\u001b[0m \u001b[1m0s\u001b[0m 27ms/step\n",
            "X [: [0.  0.  0.  0.  0.1 0.  0.  0.5 0.  0.  0.  0. ]\n",
            "Y [: [0 0 0 0 0 0 1 1 0 0 0 0]\n",
            "PC: [[0. 0. 0. 0. 0. 0. 1. 1. 0. 0. 0. 0.]]\n",
            "39\n",
            "\u001b[1m1/1\u001b[0m \u001b[32m━━━━━━━━━━━━━━━━━━━━\u001b[0m\u001b[37m\u001b[0m \u001b[1m0s\u001b[0m 27ms/step\n",
            "X [: [0.  0.  0.  0.  0.  0.  0.  0.5 0.  0.  0.  0. ]\n",
            "Y [: [0 0 0 0 0 0 1 1 0 0 0 0]\n",
            "PC: [[0. 0. 0. 0. 0. 0. 1. 1. 0. 0. 0. 0.]]\n",
            "40\n",
            "\u001b[1m1/1\u001b[0m \u001b[32m━━━━━━━━━━━━━━━━━━━━\u001b[0m\u001b[37m\u001b[0m \u001b[1m0s\u001b[0m 27ms/step\n",
            "X [: [0.  0.  0.  0.  0.  0.  0.  0.5 0.  0.  0.  0. ]\n",
            "Y [: [0 0 0 0 0 0 1 1 0 0 0 0]\n",
            "PC: [[0. 0. 0. 0. 0. 0. 1. 1. 0. 0. 0. 0.]]\n",
            "41\n",
            "\u001b[1m1/1\u001b[0m \u001b[32m━━━━━━━━━━━━━━━━━━━━\u001b[0m\u001b[37m\u001b[0m \u001b[1m0s\u001b[0m 31ms/step\n",
            "X [: [0.1 0.  0.  0.  0.1 0.  0.  0.5 0.  0.  0.  0. ]\n",
            "Y [: [0 0 0 0 0 0 1 1 0 0 0 0]\n",
            "PC: [[0. 0. 0. 0. 0. 0. 1. 1. 0. 0. 0. 0.]]\n",
            "42\n",
            "\u001b[1m1/1\u001b[0m \u001b[32m━━━━━━━━━━━━━━━━━━━━\u001b[0m\u001b[37m\u001b[0m \u001b[1m0s\u001b[0m 31ms/step\n",
            "X [: [0.  0.  0.1 0.  0.1 0.  0.  0.5 0.  0.  0.  0. ]\n",
            "Y [: [0 0 0 0 0 0 1 1 0 0 0 0]\n",
            "PC: [[0. 0. 0. 0. 0. 0. 1. 1. 0. 0. 0. 0.]]\n",
            "43\n",
            "\u001b[1m1/1\u001b[0m \u001b[32m━━━━━━━━━━━━━━━━━━━━\u001b[0m\u001b[37m\u001b[0m \u001b[1m0s\u001b[0m 36ms/step\n",
            "X [: [0.  0.  0.  0.  0.  0.  0.  0.5 0.  0.  0.  0. ]\n",
            "Y [: [0 0 0 0 0 0 1 1 0 0 0 0]\n",
            "PC: [[0. 0. 0. 0. 0. 0. 1. 1. 0. 0. 0. 0.]]\n",
            "44\n",
            "\u001b[1m1/1\u001b[0m \u001b[32m━━━━━━━━━━━━━━━━━━━━\u001b[0m\u001b[37m\u001b[0m \u001b[1m0s\u001b[0m 27ms/step\n",
            "X [: [0.  0.1 0.  0.  0.  0.  0.  0.5 0.  0.  0.  0. ]\n",
            "Y [: [0 0 0 0 0 0 1 1 0 0 0 0]\n",
            "PC: [[0. 0. 0. 0. 0. 0. 1. 1. 0. 0. 0. 0.]]\n",
            "45\n",
            "\u001b[1m1/1\u001b[0m \u001b[32m━━━━━━━━━━━━━━━━━━━━\u001b[0m\u001b[37m\u001b[0m \u001b[1m0s\u001b[0m 26ms/step\n",
            "X [: [0.  0.  0.1 0.  0.  0.  0.  0.5 0.  0.  0.  0. ]\n",
            "Y [: [0 0 0 0 0 0 1 1 0 0 0 0]\n",
            "PC: [[0. 0. 0. 0. 0. 0. 1. 1. 0. 0. 0. 0.]]\n",
            "46\n",
            "\u001b[1m1/1\u001b[0m \u001b[32m━━━━━━━━━━━━━━━━━━━━\u001b[0m\u001b[37m\u001b[0m \u001b[1m0s\u001b[0m 30ms/step\n",
            "X [: [0.  0.  0.1 0.  0.  0.  0.  0.5 0.  0.  0.  0. ]\n",
            "Y [: [0 0 0 0 0 0 1 1 0 0 0 0]\n",
            "PC: [[0. 0. 0. 0. 0. 0. 1. 1. 0. 0. 0. 0.]]\n",
            "47\n",
            "\u001b[1m1/1\u001b[0m \u001b[32m━━━━━━━━━━━━━━━━━━━━\u001b[0m\u001b[37m\u001b[0m \u001b[1m0s\u001b[0m 25ms/step\n",
            "X [: [0.1 0.  0.  0.  0.1 0.  0.  0.5 0.  0.  0.  0. ]\n",
            "Y [: [0 0 0 0 0 0 1 1 0 0 0 0]\n",
            "PC: [[0. 0. 0. 0. 0. 0. 1. 1. 0. 0. 0. 0.]]\n",
            "48\n",
            "\u001b[1m1/1\u001b[0m \u001b[32m━━━━━━━━━━━━━━━━━━━━\u001b[0m\u001b[37m\u001b[0m \u001b[1m0s\u001b[0m 29ms/step\n",
            "X [: [0.  0.  0.1 0.  0.  0.  0.  0.5 0.  0.  0.  0. ]\n",
            "Y [: [0 0 0 0 0 0 1 1 0 0 0 0]\n",
            "PC: [[0. 0. 0. 0. 0. 0. 1. 1. 0. 0. 0. 0.]]\n",
            "49\n",
            "\u001b[1m1/1\u001b[0m \u001b[32m━━━━━━━━━━━━━━━━━━━━\u001b[0m\u001b[37m\u001b[0m \u001b[1m0s\u001b[0m 30ms/step\n",
            "X [: [0.  0.  0.  0.  0.  0.  0.  0.5 0.  0.  0.  0. ]\n",
            "Y [: [0 0 0 0 0 0 1 1 0 0 0 0]\n",
            "PC: [[0. 0. 0. 0. 0. 0. 1. 1. 0. 0. 0. 0.]]\n",
            "50\n",
            "\u001b[1m1/1\u001b[0m \u001b[32m━━━━━━━━━━━━━━━━━━━━\u001b[0m\u001b[37m\u001b[0m \u001b[1m0s\u001b[0m 25ms/step\n",
            "X [: [0.  0.1 0.  0.  0.1 0.  0.  0.5 0.  0.  0.  0. ]\n",
            "Y [: [0 0 0 0 0 0 1 1 0 0 0 0]\n",
            "PC: [[0. 0. 0. 0. 0. 0. 1. 1. 0. 0. 0. 0.]]\n",
            "51\n",
            "\u001b[1m1/1\u001b[0m \u001b[32m━━━━━━━━━━━━━━━━━━━━\u001b[0m\u001b[37m\u001b[0m \u001b[1m0s\u001b[0m 27ms/step\n",
            "X [: [0.  0.  0.1 0.  0.1 0.  0.  0.5 0.  0.  0.  0. ]\n",
            "Y [: [0 0 0 0 0 0 1 1 0 0 0 0]\n",
            "PC: [[0. 0. 0. 0. 0. 0. 1. 1. 0. 0. 0. 0.]]\n",
            "52\n",
            "\u001b[1m1/1\u001b[0m \u001b[32m━━━━━━━━━━━━━━━━━━━━\u001b[0m\u001b[37m\u001b[0m \u001b[1m0s\u001b[0m 28ms/step\n",
            "X [: [0.  0.  0.  0.  0.  0.  0.  0.5 0.  0.  0.  0. ]\n",
            "Y [: [0 0 0 0 0 0 1 1 0 0 0 0]\n",
            "PC: [[0. 0. 0. 0. 0. 0. 1. 1. 0. 0. 0. 0.]]\n",
            "53\n",
            "\u001b[1m1/1\u001b[0m \u001b[32m━━━━━━━━━━━━━━━━━━━━\u001b[0m\u001b[37m\u001b[0m \u001b[1m0s\u001b[0m 27ms/step\n",
            "X [: [0.  0.  0.  0.  0.  0.  0.  0.5 0.  0.  0.  0. ]\n",
            "Y [: [0 0 0 0 0 0 1 1 0 0 0 0]\n",
            "PC: [[0. 0. 0. 0. 0. 0. 1. 1. 0. 0. 0. 0.]]\n",
            "54\n",
            "\u001b[1m1/1\u001b[0m \u001b[32m━━━━━━━━━━━━━━━━━━━━\u001b[0m\u001b[37m\u001b[0m \u001b[1m0s\u001b[0m 27ms/step\n",
            "X [: [0.  0.1 0.1 0.  0.  0.  0.  0.5 0.  0.  0.  0. ]\n",
            "Y [: [0 0 0 0 0 0 1 1 0 0 0 0]\n",
            "PC: [[0. 0. 0. 0. 0. 0. 1. 1. 0. 0. 0. 0.]]\n",
            "55\n",
            "\u001b[1m1/1\u001b[0m \u001b[32m━━━━━━━━━━━━━━━━━━━━\u001b[0m\u001b[37m\u001b[0m \u001b[1m0s\u001b[0m 31ms/step\n",
            "X [: [0.  0.1 0.  0.  0.1 0.  0.  0.5 0.  0.  0.  0. ]\n",
            "Y [: [0 0 0 0 0 0 1 1 0 0 0 0]\n",
            "PC: [[0. 0. 0. 0. 0. 0. 1. 1. 0. 0. 0. 0.]]\n",
            "56\n",
            "\u001b[1m1/1\u001b[0m \u001b[32m━━━━━━━━━━━━━━━━━━━━\u001b[0m\u001b[37m\u001b[0m \u001b[1m0s\u001b[0m 27ms/step\n",
            "X [: [0.  0.  0.  0.  0.  0.  0.  0.5 0.  0.  0.  0. ]\n",
            "Y [: [0 0 0 0 0 0 1 1 0 0 0 0]\n",
            "PC: [[0. 0. 0. 0. 0. 0. 1. 1. 0. 0. 0. 0.]]\n",
            "57\n",
            "\u001b[1m1/1\u001b[0m \u001b[32m━━━━━━━━━━━━━━━━━━━━\u001b[0m\u001b[37m\u001b[0m \u001b[1m0s\u001b[0m 42ms/step\n",
            "X [: [0.  0.  0.  0.  0.  0.  0.  0.5 0.  0.  0.  0. ]\n",
            "Y [: [0 0 0 0 0 0 1 1 0 0 0 0]\n",
            "PC: [[0. 0. 0. 0. 0. 0. 1. 1. 0. 0. 0. 0.]]\n",
            "58\n",
            "\u001b[1m1/1\u001b[0m \u001b[32m━━━━━━━━━━━━━━━━━━━━\u001b[0m\u001b[37m\u001b[0m \u001b[1m0s\u001b[0m 30ms/step\n",
            "X [: [0.  0.  0.  0.  0.  0.  0.  0.5 0.  0.  0.  0. ]\n",
            "Y [: [0 0 0 0 0 0 1 1 0 0 0 0]\n",
            "PC: [[0. 0. 0. 0. 0. 0. 1. 1. 0. 0. 0. 0.]]\n",
            "59\n",
            "\u001b[1m1/1\u001b[0m \u001b[32m━━━━━━━━━━━━━━━━━━━━\u001b[0m\u001b[37m\u001b[0m \u001b[1m0s\u001b[0m 25ms/step\n",
            "X [: [0.  0.  0.  0.  0.  0.  0.  0.5 0.  0.  0.  0. ]\n",
            "Y [: [0 0 0 0 0 0 1 1 0 0 0 0]\n",
            "PC: [[0. 0. 0. 0. 0. 0. 1. 1. 0. 0. 0. 0.]]\n",
            "60\n",
            "\u001b[1m1/1\u001b[0m \u001b[32m━━━━━━━━━━━━━━━━━━━━\u001b[0m\u001b[37m\u001b[0m \u001b[1m0s\u001b[0m 32ms/step\n",
            "X [: [0.  0.  0.  0.  0.  0.  0.  0.5 0.  0.  0.  0. ]\n",
            "Y [: [0 0 0 0 0 0 1 1 0 0 0 0]\n",
            "PC: [[0. 0. 0. 0. 0. 0. 1. 1. 0. 0. 0. 0.]]\n",
            "61\n",
            "\u001b[1m1/1\u001b[0m \u001b[32m━━━━━━━━━━━━━━━━━━━━\u001b[0m\u001b[37m\u001b[0m \u001b[1m0s\u001b[0m 26ms/step\n",
            "X [: [0.  0.1 0.  0.  0.  0.  0.  0.5 0.  0.  0.  0. ]\n",
            "Y [: [0 0 0 0 0 0 1 1 0 0 0 0]\n",
            "PC: [[0. 0. 0. 0. 0. 0. 1. 1. 0. 0. 0. 0.]]\n",
            "62\n",
            "\u001b[1m1/1\u001b[0m \u001b[32m━━━━━━━━━━━━━━━━━━━━\u001b[0m\u001b[37m\u001b[0m \u001b[1m0s\u001b[0m 27ms/step\n",
            "X [: [0.  0.  0.  0.  0.1 0.  0.  0.5 0.  0.  0.  0. ]\n",
            "Y [: [0 0 0 0 0 0 1 1 0 0 0 0]\n",
            "PC: [[0. 0. 0. 0. 0. 0. 1. 1. 0. 0. 0. 0.]]\n",
            "63\n",
            "\u001b[1m1/1\u001b[0m \u001b[32m━━━━━━━━━━━━━━━━━━━━\u001b[0m\u001b[37m\u001b[0m \u001b[1m0s\u001b[0m 27ms/step\n",
            "X [: [0.  0.  0.  0.  0.1 0.  0.  0.5 0.  0.  0.  0. ]\n",
            "Y [: [0 0 0 0 0 0 1 1 0 0 0 0]\n",
            "PC: [[0. 0. 0. 0. 0. 0. 1. 1. 0. 0. 0. 0.]]\n",
            "64\n",
            "\u001b[1m1/1\u001b[0m \u001b[32m━━━━━━━━━━━━━━━━━━━━\u001b[0m\u001b[37m\u001b[0m \u001b[1m0s\u001b[0m 26ms/step\n",
            "X [: [0.  0.  0.  0.  0.  0.  0.  0.5 0.  0.  0.  0. ]\n",
            "Y [: [0 0 0 0 0 0 1 1 0 0 0 0]\n",
            "PC: [[0. 0. 0. 0. 0. 0. 1. 1. 0. 0. 0. 0.]]\n",
            "65\n",
            "\u001b[1m1/1\u001b[0m \u001b[32m━━━━━━━━━━━━━━━━━━━━\u001b[0m\u001b[37m\u001b[0m \u001b[1m0s\u001b[0m 42ms/step\n",
            "X [: [0.  0.  0.  0.1 0.  0.  0.  0.5 0.  0.  0.  0. ]\n",
            "Y [: [0 0 0 0 0 0 1 1 0 0 0 0]\n",
            "PC: [[0. 0. 0. 0. 0. 0. 1. 1. 0. 0. 0. 0.]]\n",
            "66\n",
            "\u001b[1m1/1\u001b[0m \u001b[32m━━━━━━━━━━━━━━━━━━━━\u001b[0m\u001b[37m\u001b[0m \u001b[1m0s\u001b[0m 29ms/step\n",
            "X [: [0.  0.  0.  0.  0.  0.  0.  0.5 0.  0.  0.  0. ]\n",
            "Y [: [0 0 0 0 0 0 1 1 0 0 0 0]\n",
            "PC: [[0. 0. 0. 0. 0. 0. 1. 1. 0. 0. 0. 0.]]\n",
            "67\n",
            "\u001b[1m1/1\u001b[0m \u001b[32m━━━━━━━━━━━━━━━━━━━━\u001b[0m\u001b[37m\u001b[0m \u001b[1m0s\u001b[0m 35ms/step\n",
            "X [: [0.  0.1 0.  0.  0.  0.  0.  0.5 0.  0.  0.  0. ]\n",
            "Y [: [0 0 0 0 0 0 1 1 0 0 0 0]\n",
            "PC: [[0. 0. 0. 0. 0. 0. 1. 1. 0. 0. 0. 0.]]\n",
            "68\n",
            "\u001b[1m1/1\u001b[0m \u001b[32m━━━━━━━━━━━━━━━━━━━━\u001b[0m\u001b[37m\u001b[0m \u001b[1m0s\u001b[0m 28ms/step\n",
            "X [: [0.  0.1 0.  0.  0.  0.  0.  0.5 0.  0.  0.  0. ]\n",
            "Y [: [0 0 0 0 0 0 1 1 0 0 0 0]\n",
            "PC: [[0. 0. 0. 0. 0. 0. 1. 1. 0. 0. 0. 0.]]\n",
            "69\n",
            "\u001b[1m1/1\u001b[0m \u001b[32m━━━━━━━━━━━━━━━━━━━━\u001b[0m\u001b[37m\u001b[0m \u001b[1m0s\u001b[0m 26ms/step\n",
            "X [: [0.  0.1 0.  0.  0.  0.  0.  0.5 0.  0.  0.  0. ]\n",
            "Y [: [0 0 0 0 0 0 1 1 0 0 0 0]\n",
            "PC: [[0. 0. 0. 0. 0. 0. 1. 1. 0. 0. 0. 0.]]\n",
            "70\n",
            "\u001b[1m1/1\u001b[0m \u001b[32m━━━━━━━━━━━━━━━━━━━━\u001b[0m\u001b[37m\u001b[0m \u001b[1m0s\u001b[0m 33ms/step\n",
            "X [: [0.  0.  0.1 0.  0.1 0.  0.  0.5 0.  0.  0.  0. ]\n",
            "Y [: [0 0 0 0 0 0 1 1 0 0 0 0]\n",
            "PC: [[0. 0. 0. 0. 0. 0. 1. 1. 0. 0. 0. 0.]]\n",
            "71\n",
            "\u001b[1m1/1\u001b[0m \u001b[32m━━━━━━━━━━━━━━━━━━━━\u001b[0m\u001b[37m\u001b[0m \u001b[1m0s\u001b[0m 28ms/step\n",
            "X [: [0.  0.  0.  0.1 0.  0.  0.  0.5 0.  0.  0.  0. ]\n",
            "Y [: [0 0 0 0 0 0 1 1 0 0 0 0]\n",
            "PC: [[0. 0. 0. 0. 0. 0. 1. 1. 0. 0. 0. 0.]]\n",
            "72\n",
            "\u001b[1m1/1\u001b[0m \u001b[32m━━━━━━━━━━━━━━━━━━━━\u001b[0m\u001b[37m\u001b[0m \u001b[1m0s\u001b[0m 29ms/step\n",
            "X [: [0.  0.1 0.  0.  0.  0.  0.  0.5 0.  0.  0.  0. ]\n",
            "Y [: [0 0 0 0 0 0 1 1 0 0 0 0]\n",
            "PC: [[0. 0. 0. 0. 0. 0. 1. 1. 0. 0. 0. 0.]]\n",
            "73\n",
            "\u001b[1m1/1\u001b[0m \u001b[32m━━━━━━━━━━━━━━━━━━━━\u001b[0m\u001b[37m\u001b[0m \u001b[1m0s\u001b[0m 42ms/step\n",
            "X [: [0.  0.1 0.  0.  0.  0.  0.  0.5 0.  0.  0.  0. ]\n",
            "Y [: [0 0 0 0 0 0 1 1 0 0 0 0]\n",
            "PC: [[0. 0. 0. 0. 0. 0. 1. 1. 0. 0. 0. 0.]]\n",
            "74\n",
            "\u001b[1m1/1\u001b[0m \u001b[32m━━━━━━━━━━━━━━━━━━━━\u001b[0m\u001b[37m\u001b[0m \u001b[1m0s\u001b[0m 27ms/step\n",
            "X [: [0.  0.  0.  0.  0.1 0.  0.  0.5 0.  0.  0.  0. ]\n",
            "Y [: [0 0 0 0 0 0 1 1 0 0 0 0]\n",
            "PC: [[0. 0. 0. 0. 0. 0. 1. 1. 0. 0. 0. 0.]]\n",
            "75\n",
            "\u001b[1m1/1\u001b[0m \u001b[32m━━━━━━━━━━━━━━━━━━━━\u001b[0m\u001b[37m\u001b[0m \u001b[1m0s\u001b[0m 29ms/step\n",
            "X [: [0.1 0.  0.  0.  0.  0.  0.  0.5 0.  0.  0.  0. ]\n",
            "Y [: [0 0 0 0 0 0 1 1 0 0 0 0]\n",
            "PC: [[0. 0. 0. 0. 0. 0. 1. 1. 0. 0. 0. 0.]]\n",
            "76\n",
            "\u001b[1m1/1\u001b[0m \u001b[32m━━━━━━━━━━━━━━━━━━━━\u001b[0m\u001b[37m\u001b[0m \u001b[1m0s\u001b[0m 29ms/step\n",
            "X [: [0.  0.  0.  0.1 0.  0.  0.  0.5 0.  0.  0.  0. ]\n",
            "Y [: [0 0 0 0 0 0 1 1 0 0 0 0]\n",
            "PC: [[0. 0. 0. 0. 0. 0. 1. 1. 0. 0. 0. 0.]]\n",
            "77\n",
            "\u001b[1m1/1\u001b[0m \u001b[32m━━━━━━━━━━━━━━━━━━━━\u001b[0m\u001b[37m\u001b[0m \u001b[1m0s\u001b[0m 36ms/step\n",
            "X [: [0.  0.  0.  0.  0.  0.  0.  0.5 0.  0.  0.  0. ]\n",
            "Y [: [0 0 0 0 0 0 1 1 0 0 0 0]\n",
            "PC: [[0. 0. 0. 0. 0. 0. 1. 1. 0. 0. 0. 0.]]\n",
            "78\n",
            "\u001b[1m1/1\u001b[0m \u001b[32m━━━━━━━━━━━━━━━━━━━━\u001b[0m\u001b[37m\u001b[0m \u001b[1m0s\u001b[0m 29ms/step\n",
            "X [: [0.  0.  0.  0.  0.  0.  0.  0.5 0.  0.  0.  0. ]\n",
            "Y [: [0 0 0 0 0 0 1 1 0 0 0 0]\n",
            "PC: [[0. 0. 0. 0. 0. 0. 1. 1. 0. 0. 0. 0.]]\n",
            "79\n",
            "\u001b[1m1/1\u001b[0m \u001b[32m━━━━━━━━━━━━━━━━━━━━\u001b[0m\u001b[37m\u001b[0m \u001b[1m0s\u001b[0m 39ms/step\n",
            "X [: [0.  0.  0.  0.  0.1 0.  0.  0.5 0.  0.  0.  0. ]\n",
            "Y [: [0 0 0 0 0 0 1 1 0 0 0 0]\n",
            "PC: [[0. 0. 0. 0. 0. 0. 1. 1. 0. 0. 0. 0.]]\n",
            "80\n",
            "\u001b[1m1/1\u001b[0m \u001b[32m━━━━━━━━━━━━━━━━━━━━\u001b[0m\u001b[37m\u001b[0m \u001b[1m0s\u001b[0m 28ms/step\n",
            "X [: [0.  0.  0.  0.1 0.  0.  0.  0.5 0.  0.  0.  0. ]\n",
            "Y [: [0 0 0 0 0 0 1 1 0 0 0 0]\n",
            "PC: [[0. 0. 0. 0. 0. 0. 1. 1. 0. 0. 0. 0.]]\n",
            "81\n",
            "\u001b[1m1/1\u001b[0m \u001b[32m━━━━━━━━━━━━━━━━━━━━\u001b[0m\u001b[37m\u001b[0m \u001b[1m0s\u001b[0m 33ms/step\n",
            "X [: [0.  0.1 0.  0.  0.  0.  0.  0.5 0.  0.  0.  0. ]\n",
            "Y [: [0 0 0 0 0 0 1 1 0 0 0 0]\n",
            "PC: [[0. 0. 0. 0. 0. 0. 1. 1. 0. 0. 0. 0.]]\n",
            "82\n",
            "\u001b[1m1/1\u001b[0m \u001b[32m━━━━━━━━━━━━━━━━━━━━\u001b[0m\u001b[37m\u001b[0m \u001b[1m0s\u001b[0m 27ms/step\n",
            "X [: [0.  0.  0.  0.  0.  0.  0.  0.5 0.  0.  0.  0. ]\n",
            "Y [: [0 0 0 0 0 0 1 1 0 0 0 0]\n",
            "PC: [[0. 0. 0. 0. 0. 0. 1. 1. 0. 0. 0. 0.]]\n",
            "83\n",
            "\u001b[1m1/1\u001b[0m \u001b[32m━━━━━━━━━━━━━━━━━━━━\u001b[0m\u001b[37m\u001b[0m \u001b[1m0s\u001b[0m 27ms/step\n",
            "X [: [0.  0.  0.  0.  0.  0.  0.  0.5 0.  0.  0.  0. ]\n",
            "Y [: [0 0 0 0 0 0 1 1 0 0 0 0]\n",
            "PC: [[0. 0. 0. 0. 0. 0. 1. 1. 0. 0. 0. 0.]]\n",
            "84\n",
            "\u001b[1m1/1\u001b[0m \u001b[32m━━━━━━━━━━━━━━━━━━━━\u001b[0m\u001b[37m\u001b[0m \u001b[1m0s\u001b[0m 25ms/step\n",
            "X [: [0.  0.  0.  0.  0.  0.  0.  0.5 0.  0.  0.  0. ]\n",
            "Y [: [0 0 0 0 0 0 1 1 0 0 0 0]\n",
            "PC: [[0. 0. 0. 0. 0. 0. 1. 1. 0. 0. 0. 0.]]\n",
            "85\n",
            "\u001b[1m1/1\u001b[0m \u001b[32m━━━━━━━━━━━━━━━━━━━━\u001b[0m\u001b[37m\u001b[0m \u001b[1m0s\u001b[0m 33ms/step\n",
            "X [: [0.  0.1 0.  0.  0.  0.1 0.  0.5 0.  0.  0.  0. ]\n",
            "Y [: [0 0 0 0 0 0 1 1 0 0 0 0]\n",
            "PC: [[0. 0. 0. 0. 0. 0. 1. 1. 0. 0. 0. 0.]]\n",
            "86\n",
            "\u001b[1m1/1\u001b[0m \u001b[32m━━━━━━━━━━━━━━━━━━━━\u001b[0m\u001b[37m\u001b[0m \u001b[1m0s\u001b[0m 28ms/step\n",
            "X [: [0.  0.  0.  0.  0.  0.  0.  0.5 0.  0.  0.  0. ]\n",
            "Y [: [0 0 0 0 0 0 1 1 0 0 0 0]\n",
            "PC: [[0. 0. 0. 0. 0. 0. 1. 1. 0. 0. 0. 0.]]\n",
            "87\n",
            "\u001b[1m1/1\u001b[0m \u001b[32m━━━━━━━━━━━━━━━━━━━━\u001b[0m\u001b[37m\u001b[0m \u001b[1m0s\u001b[0m 34ms/step\n",
            "X [: [0.  0.  0.  0.  0.  0.  0.  0.5 0.  0.  0.  0. ]\n",
            "Y [: [0 0 0 0 0 0 1 1 0 0 0 0]\n",
            "PC: [[0. 0. 0. 0. 0. 0. 1. 1. 0. 0. 0. 0.]]\n",
            "88\n",
            "\u001b[1m1/1\u001b[0m \u001b[32m━━━━━━━━━━━━━━━━━━━━\u001b[0m\u001b[37m\u001b[0m \u001b[1m0s\u001b[0m 32ms/step\n",
            "X [: [0.  0.  0.  0.  0.  0.  0.  0.5 0.  0.  0.  0. ]\n",
            "Y [: [0 0 0 0 0 0 1 1 0 0 0 0]\n",
            "PC: [[0. 0. 0. 0. 0. 0. 1. 1. 0. 0. 0. 0.]]\n",
            "89\n",
            "\u001b[1m1/1\u001b[0m \u001b[32m━━━━━━━━━━━━━━━━━━━━\u001b[0m\u001b[37m\u001b[0m \u001b[1m0s\u001b[0m 30ms/step\n",
            "X [: [0.  0.  0.  0.  0.  0.  0.  0.5 0.  0.  0.  0. ]\n",
            "Y [: [0 0 0 0 0 0 1 1 0 0 0 0]\n",
            "PC: [[0. 0. 0. 0. 0. 0. 1. 1. 0. 0. 0. 0.]]\n",
            "90\n",
            "\u001b[1m1/1\u001b[0m \u001b[32m━━━━━━━━━━━━━━━━━━━━\u001b[0m\u001b[37m\u001b[0m \u001b[1m0s\u001b[0m 37ms/step\n",
            "X [: [0.  0.1 0.  0.  0.  0.  0.  0.5 0.  0.  0.  0. ]\n",
            "Y [: [0 0 0 0 0 0 1 1 0 0 0 0]\n",
            "PC: [[0. 0. 0. 0. 0. 0. 1. 1. 0. 0. 0. 0.]]\n",
            "91\n",
            "\u001b[1m1/1\u001b[0m \u001b[32m━━━━━━━━━━━━━━━━━━━━\u001b[0m\u001b[37m\u001b[0m \u001b[1m0s\u001b[0m 34ms/step\n",
            "X [: [0.  0.  0.  0.  0.  0.  0.  0.5 0.  0.  0.  0. ]\n",
            "Y [: [0 0 0 0 0 0 1 1 0 0 0 0]\n",
            "PC: [[0. 0. 0. 0. 0. 0. 1. 1. 0. 0. 0. 0.]]\n",
            "92\n",
            "\u001b[1m1/1\u001b[0m \u001b[32m━━━━━━━━━━━━━━━━━━━━\u001b[0m\u001b[37m\u001b[0m \u001b[1m0s\u001b[0m 38ms/step\n",
            "X [: [0.1 0.  0.1 0.  0.  0.  0.  0.5 0.  0.  0.  0. ]\n",
            "Y [: [0 0 0 0 0 0 1 1 0 0 0 0]\n",
            "PC: [[0. 0. 0. 0. 0. 0. 1. 1. 0. 0. 0. 0.]]\n",
            "93\n",
            "\u001b[1m1/1\u001b[0m \u001b[32m━━━━━━━━━━━━━━━━━━━━\u001b[0m\u001b[37m\u001b[0m \u001b[1m0s\u001b[0m 32ms/step\n",
            "X [: [0.1 0.  0.  0.  0.  0.  0.  0.5 0.  0.  0.  0. ]\n",
            "Y [: [0 0 0 0 0 0 1 1 0 0 0 0]\n",
            "PC: [[0. 0. 0. 0. 0. 0. 1. 1. 0. 0. 0. 0.]]\n",
            "94\n",
            "\u001b[1m1/1\u001b[0m \u001b[32m━━━━━━━━━━━━━━━━━━━━\u001b[0m\u001b[37m\u001b[0m \u001b[1m0s\u001b[0m 32ms/step\n",
            "X [: [0.  0.  0.  0.  0.  0.  0.  0.5 0.  0.  0.  0. ]\n",
            "Y [: [0 0 0 0 0 0 1 1 0 0 0 0]\n",
            "PC: [[0. 0. 0. 0. 0. 0. 1. 1. 0. 0. 0. 0.]]\n",
            "95\n",
            "\u001b[1m1/1\u001b[0m \u001b[32m━━━━━━━━━━━━━━━━━━━━\u001b[0m\u001b[37m\u001b[0m \u001b[1m0s\u001b[0m 36ms/step\n",
            "X [: [0.  0.  0.  0.  0.  0.  0.  0.5 0.  0.  0.  0. ]\n",
            "Y [: [0 0 0 0 0 0 1 1 0 0 0 0]\n",
            "PC: [[0. 0. 0. 0. 0. 0. 1. 1. 0. 0. 0. 0.]]\n",
            "96\n",
            "\u001b[1m1/1\u001b[0m \u001b[32m━━━━━━━━━━━━━━━━━━━━\u001b[0m\u001b[37m\u001b[0m \u001b[1m0s\u001b[0m 47ms/step\n",
            "X [: [0.  0.1 0.  0.  0.  0.  0.  0.5 0.  0.  0.  0. ]\n",
            "Y [: [0 0 0 0 0 0 1 1 0 0 0 0]\n",
            "PC: [[0. 0. 0. 0. 0. 0. 1. 1. 0. 0. 0. 0.]]\n",
            "97\n",
            "\u001b[1m1/1\u001b[0m \u001b[32m━━━━━━━━━━━━━━━━━━━━\u001b[0m\u001b[37m\u001b[0m \u001b[1m0s\u001b[0m 42ms/step\n",
            "X [: [0.  0.  0.1 0.  0.  0.  0.  0.5 0.  0.  0.  0. ]\n",
            "Y [: [0 0 0 0 0 0 1 1 0 0 0 0]\n",
            "PC: [[0. 0. 0. 0. 0. 0. 1. 1. 0. 0. 0. 0.]]\n",
            "98\n",
            "\u001b[1m1/1\u001b[0m \u001b[32m━━━━━━━━━━━━━━━━━━━━\u001b[0m\u001b[37m\u001b[0m \u001b[1m0s\u001b[0m 34ms/step\n",
            "X [: [0.  0.  0.  0.  0.  0.  0.  0.5 0.  0.  0.  0. ]\n",
            "Y [: [0 0 0 0 0 0 1 1 0 0 0 0]\n",
            "PC: [[0. 0. 0. 0. 0. 0. 1. 1. 0. 0. 0. 0.]]\n",
            "99\n"
          ]
        }
      ],
      "source": [
        "i = 0\n",
        "for i in range(100):\n",
        "    a = x_test[i]\n",
        "    b = a.reshape(1, 1, 12)\n",
        "\n",
        "    # Make predictions on new data\n",
        "    prediction = model_lstm.predict(b)\n",
        "    #predicted_class = label_encoder.inverse_transform(prediction)[0]\n",
        "\n",
        "    np.round(prediction, decimals=1, out=prediction)\n",
        "    np.round(x_test[i], decimals=1, out=x_test[i])\n",
        "    #print(\"Value:\", newArray[i + start])\n",
        "    if (np.sum(y_test[i]) > 0):\n",
        "      print(\"X [:\", x_test[i])\n",
        "      print(\"Y [:\", y_test[i])\n",
        "      print(\"PC:\", prediction)\n",
        "      print (i)\n",
        "    i = 1 + 1\n",
        "#PREDICTIONS WITH COLAB MODEL\n",
        "#prediction = model.predict(teste)\n",
        "#print(\"Predicted class:\", prediction)\n",
        "#print(\"Predicted class:\", predicted_class)"
      ]
    },
    {
      "cell_type": "code",
      "execution_count": 25,
      "metadata": {
        "colab": {
          "base_uri": "https://localhost:8080/"
        },
        "id": "lmrX4Kzdc0T3",
        "outputId": "3c468fe8-622f-476e-f75c-750a4878ea26"
      },
      "outputs": [
        {
          "name": "stdout",
          "output_type": "stream",
          "text": [
            "\u001b[1m1/1\u001b[0m \u001b[32m━━━━━━━━━━━━━━━━━━━━\u001b[0m\u001b[37m\u001b[0m \u001b[1m0s\u001b[0m 28ms/step\n",
            "Value    : [0.    0.363 0.313 0.    0.    0.31  0.393 0.    0.    0.244 0.247 0.   ]\n",
            "Predicted: [0.42 0.46 0.35 0.91 0.37 0.45 0.57 0.48 0.41 0.87 0.76 0.16]\n"
          ]
        }
      ],
      "source": [
        "test_value = np.array([0., 0.363, 0.313, 0., 0., 0.31, 0.393, 0., 0., 0.244, 0.247, 0.])\n",
        "test_value = test_value.reshape(1, 1, 12)\n",
        "\n",
        "# Make predictions on new data\n",
        "prediction = model_lstm.predict(test_value)\n",
        "np.round(prediction, decimals=2, out=prediction)\n",
        "\n",
        "print(\"Value    :\", test_value[0][0])\n",
        "print(\"Predicted:\", prediction[0])"
      ]
    },
    {
      "cell_type": "markdown",
      "metadata": {
        "id": "02BdeK0gJrOU"
      },
      "source": [
        "# **SAVE THE MODEL**"
      ]
    },
    {
      "cell_type": "code",
      "execution_count": 26,
      "metadata": {
        "colab": {
          "base_uri": "https://localhost:8080/",
          "height": 163
        },
        "id": "KGOyK8rXJvmx",
        "outputId": "7d0a5249-f640-4945-b90c-feaa6b10b3ee"
      },
      "outputs": [
        {
          "name": "stderr",
          "output_type": "stream",
          "text": [
            "WARNING:absl:You are saving your model as an HDF5 file via `model.save()` or `keras.saving.save_model(model)`. This file format is considered legacy. We recommend using instead the native Keras format, e.g. `model.save('my_model.keras')` or `keras.saving.save_model(model, 'my_model.keras')`. \n"
          ]
        }
      ],
      "source": [
        "import os\n",
        "import datetime\n",
        "\n",
        "model_name = 'lstm_model_CONV' + datetime.datetime.now().strftime(\"%Y-%m-%d %HH%Mm%Ss\") + '.h5'\n",
        "\n",
        "# Save the model in runtime_saves/models folder\n",
        "model_lstm.save(os.path.join(\".\", 'runtime_saves', 'models', model_name))"
      ]
    },
    {
      "cell_type": "code",
      "execution_count": 27,
      "metadata": {},
      "outputs": [
        {
          "data": {
            "text/html": [
              "<pre style=\"white-space:pre;overflow-x:auto;line-height:normal;font-family:Menlo,'DejaVu Sans Mono',consolas,'Courier New',monospace\"><span style=\"font-weight: bold\">Model: \"sequential\"</span>\n",
              "</pre>\n"
            ],
            "text/plain": [
              "\u001b[1mModel: \"sequential\"\u001b[0m\n"
            ]
          },
          "metadata": {},
          "output_type": "display_data"
        },
        {
          "data": {
            "text/html": [
              "<pre style=\"white-space:pre;overflow-x:auto;line-height:normal;font-family:Menlo,'DejaVu Sans Mono',consolas,'Courier New',monospace\">┏━━━━━━━━━━━━━━━━━━━━━━━━━━━━━━━━━┳━━━━━━━━━━━━━━━━━━━━━━━━┳━━━━━━━━━━━━━━━┓\n",
              "┃<span style=\"font-weight: bold\"> Layer (type)                    </span>┃<span style=\"font-weight: bold\"> Output Shape           </span>┃<span style=\"font-weight: bold\">       Param # </span>┃\n",
              "┡━━━━━━━━━━━━━━━━━━━━━━━━━━━━━━━━━╇━━━━━━━━━━━━━━━━━━━━━━━━╇━━━━━━━━━━━━━━━┩\n",
              "│ conv1d (<span style=\"color: #0087ff; text-decoration-color: #0087ff\">Conv1D</span>)                 │ (<span style=\"color: #00d7ff; text-decoration-color: #00d7ff\">None</span>, <span style=\"color: #00af00; text-decoration-color: #00af00\">1</span>, <span style=\"color: #00af00; text-decoration-color: #00af00\">64</span>)          │           <span style=\"color: #00af00; text-decoration-color: #00af00\">832</span> │\n",
              "├─────────────────────────────────┼────────────────────────┼───────────────┤\n",
              "│ lstm (<span style=\"color: #0087ff; text-decoration-color: #0087ff\">LSTM</span>)                     │ (<span style=\"color: #00d7ff; text-decoration-color: #00d7ff\">None</span>, <span style=\"color: #00af00; text-decoration-color: #00af00\">1</span>, <span style=\"color: #00af00; text-decoration-color: #00af00\">128</span>)         │        <span style=\"color: #00af00; text-decoration-color: #00af00\">98,816</span> │\n",
              "├─────────────────────────────────┼────────────────────────┼───────────────┤\n",
              "│ dropout (<span style=\"color: #0087ff; text-decoration-color: #0087ff\">Dropout</span>)               │ (<span style=\"color: #00d7ff; text-decoration-color: #00d7ff\">None</span>, <span style=\"color: #00af00; text-decoration-color: #00af00\">1</span>, <span style=\"color: #00af00; text-decoration-color: #00af00\">128</span>)         │             <span style=\"color: #00af00; text-decoration-color: #00af00\">0</span> │\n",
              "├─────────────────────────────────┼────────────────────────┼───────────────┤\n",
              "│ lstm_1 (<span style=\"color: #0087ff; text-decoration-color: #0087ff\">LSTM</span>)                   │ (<span style=\"color: #00d7ff; text-decoration-color: #00d7ff\">None</span>, <span style=\"color: #00af00; text-decoration-color: #00af00\">64</span>)             │        <span style=\"color: #00af00; text-decoration-color: #00af00\">49,408</span> │\n",
              "├─────────────────────────────────┼────────────────────────┼───────────────┤\n",
              "│ dropout_1 (<span style=\"color: #0087ff; text-decoration-color: #0087ff\">Dropout</span>)             │ (<span style=\"color: #00d7ff; text-decoration-color: #00d7ff\">None</span>, <span style=\"color: #00af00; text-decoration-color: #00af00\">64</span>)             │             <span style=\"color: #00af00; text-decoration-color: #00af00\">0</span> │\n",
              "├─────────────────────────────────┼────────────────────────┼───────────────┤\n",
              "│ dense (<span style=\"color: #0087ff; text-decoration-color: #0087ff\">Dense</span>)                   │ (<span style=\"color: #00d7ff; text-decoration-color: #00d7ff\">None</span>, <span style=\"color: #00af00; text-decoration-color: #00af00\">12</span>)             │           <span style=\"color: #00af00; text-decoration-color: #00af00\">780</span> │\n",
              "└─────────────────────────────────┴────────────────────────┴───────────────┘\n",
              "</pre>\n"
            ],
            "text/plain": [
              "┏━━━━━━━━━━━━━━━━━━━━━━━━━━━━━━━━━┳━━━━━━━━━━━━━━━━━━━━━━━━┳━━━━━━━━━━━━━━━┓\n",
              "┃\u001b[1m \u001b[0m\u001b[1mLayer (type)                   \u001b[0m\u001b[1m \u001b[0m┃\u001b[1m \u001b[0m\u001b[1mOutput Shape          \u001b[0m\u001b[1m \u001b[0m┃\u001b[1m \u001b[0m\u001b[1m      Param #\u001b[0m\u001b[1m \u001b[0m┃\n",
              "┡━━━━━━━━━━━━━━━━━━━━━━━━━━━━━━━━━╇━━━━━━━━━━━━━━━━━━━━━━━━╇━━━━━━━━━━━━━━━┩\n",
              "│ conv1d (\u001b[38;5;33mConv1D\u001b[0m)                 │ (\u001b[38;5;45mNone\u001b[0m, \u001b[38;5;34m1\u001b[0m, \u001b[38;5;34m64\u001b[0m)          │           \u001b[38;5;34m832\u001b[0m │\n",
              "├─────────────────────────────────┼────────────────────────┼───────────────┤\n",
              "│ lstm (\u001b[38;5;33mLSTM\u001b[0m)                     │ (\u001b[38;5;45mNone\u001b[0m, \u001b[38;5;34m1\u001b[0m, \u001b[38;5;34m128\u001b[0m)         │        \u001b[38;5;34m98,816\u001b[0m │\n",
              "├─────────────────────────────────┼────────────────────────┼───────────────┤\n",
              "│ dropout (\u001b[38;5;33mDropout\u001b[0m)               │ (\u001b[38;5;45mNone\u001b[0m, \u001b[38;5;34m1\u001b[0m, \u001b[38;5;34m128\u001b[0m)         │             \u001b[38;5;34m0\u001b[0m │\n",
              "├─────────────────────────────────┼────────────────────────┼───────────────┤\n",
              "│ lstm_1 (\u001b[38;5;33mLSTM\u001b[0m)                   │ (\u001b[38;5;45mNone\u001b[0m, \u001b[38;5;34m64\u001b[0m)             │        \u001b[38;5;34m49,408\u001b[0m │\n",
              "├─────────────────────────────────┼────────────────────────┼───────────────┤\n",
              "│ dropout_1 (\u001b[38;5;33mDropout\u001b[0m)             │ (\u001b[38;5;45mNone\u001b[0m, \u001b[38;5;34m64\u001b[0m)             │             \u001b[38;5;34m0\u001b[0m │\n",
              "├─────────────────────────────────┼────────────────────────┼───────────────┤\n",
              "│ dense (\u001b[38;5;33mDense\u001b[0m)                   │ (\u001b[38;5;45mNone\u001b[0m, \u001b[38;5;34m12\u001b[0m)             │           \u001b[38;5;34m780\u001b[0m │\n",
              "└─────────────────────────────────┴────────────────────────┴───────────────┘\n"
            ]
          },
          "metadata": {},
          "output_type": "display_data"
        },
        {
          "data": {
            "text/html": [
              "<pre style=\"white-space:pre;overflow-x:auto;line-height:normal;font-family:Menlo,'DejaVu Sans Mono',consolas,'Courier New',monospace\"><span style=\"font-weight: bold\"> Total params: </span><span style=\"color: #00af00; text-decoration-color: #00af00\">449,510</span> (1.71 MB)\n",
              "</pre>\n"
            ],
            "text/plain": [
              "\u001b[1m Total params: \u001b[0m\u001b[38;5;34m449,510\u001b[0m (1.71 MB)\n"
            ]
          },
          "metadata": {},
          "output_type": "display_data"
        },
        {
          "data": {
            "text/html": [
              "<pre style=\"white-space:pre;overflow-x:auto;line-height:normal;font-family:Menlo,'DejaVu Sans Mono',consolas,'Courier New',monospace\"><span style=\"font-weight: bold\"> Trainable params: </span><span style=\"color: #00af00; text-decoration-color: #00af00\">149,836</span> (585.30 KB)\n",
              "</pre>\n"
            ],
            "text/plain": [
              "\u001b[1m Trainable params: \u001b[0m\u001b[38;5;34m149,836\u001b[0m (585.30 KB)\n"
            ]
          },
          "metadata": {},
          "output_type": "display_data"
        },
        {
          "data": {
            "text/html": [
              "<pre style=\"white-space:pre;overflow-x:auto;line-height:normal;font-family:Menlo,'DejaVu Sans Mono',consolas,'Courier New',monospace\"><span style=\"font-weight: bold\"> Non-trainable params: </span><span style=\"color: #00af00; text-decoration-color: #00af00\">0</span> (0.00 B)\n",
              "</pre>\n"
            ],
            "text/plain": [
              "\u001b[1m Non-trainable params: \u001b[0m\u001b[38;5;34m0\u001b[0m (0.00 B)\n"
            ]
          },
          "metadata": {},
          "output_type": "display_data"
        },
        {
          "data": {
            "text/html": [
              "<pre style=\"white-space:pre;overflow-x:auto;line-height:normal;font-family:Menlo,'DejaVu Sans Mono',consolas,'Courier New',monospace\"><span style=\"font-weight: bold\"> Optimizer params: </span><span style=\"color: #00af00; text-decoration-color: #00af00\">299,674</span> (1.14 MB)\n",
              "</pre>\n"
            ],
            "text/plain": [
              "\u001b[1m Optimizer params: \u001b[0m\u001b[38;5;34m299,674\u001b[0m (1.14 MB)\n"
            ]
          },
          "metadata": {},
          "output_type": "display_data"
        }
      ],
      "source": [
        "# model sumary\n",
        "model_lstm.summary()"
      ]
    }
  ],
  "metadata": {
    "accelerator": "GPU",
    "colab": {
      "gpuType": "T4",
      "provenance": []
    },
    "kernelspec": {
      "display_name": "Python 3",
      "name": "python3"
    },
    "language_info": {
      "codemirror_mode": {
        "name": "ipython",
        "version": 3
      },
      "file_extension": ".py",
      "mimetype": "text/x-python",
      "name": "python",
      "nbconvert_exporter": "python",
      "pygments_lexer": "ipython3",
      "version": "3.10.11"
    }
  },
  "nbformat": 4,
  "nbformat_minor": 0
}
