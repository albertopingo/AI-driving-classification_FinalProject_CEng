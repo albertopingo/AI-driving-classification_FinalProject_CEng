{
  "cells": [
    {
      "cell_type": "markdown",
      "metadata": {
        "id": "RzTK7gM5ydFL"
      },
      "source": [
        "**IMPORT LIBS**"
      ]
    },
    {
      "cell_type": "code",
      "execution_count": 16,
      "metadata": {
        "id": "HG6VE-z-iIFN"
      },
      "outputs": [],
      "source": [
        "import os\n",
        "import math\n",
        "import numpy as np\n",
        "import pandas as pd\n",
        "import matplotlib.pyplot as plt\n",
        "\n",
        "import tensorflow as tf\n",
        "\n",
        "\n",
        "import keras\n",
        "from keras.models import Sequential, load_model\n",
        "from keras.layers import LSTM, Dense, Dropout\n",
        "from keras.callbacks import EarlyStopping, ReduceLROnPlateau, ModelCheckpoint\n",
        "import keras.backend as K\n",
        "\n",
        "from sklearn import metrics\n",
        "from sklearn.preprocessing import LabelEncoder\n",
        "from sklearn.model_selection import train_test_split\n",
        "from sklearn.metrics import precision_score\n",
        "from sklearn.metrics import f1_score\n",
        "from sklearn.metrics import recall_score\n",
        "from sklearn.metrics import accuracy_score\n",
        "\n",
        "import warnings\n",
        "warnings.filterwarnings('ignore')"
      ]
    },
    {
      "cell_type": "markdown",
      "metadata": {},
      "source": [
        "**Create aux folders and get file path**"
      ]
    },
    {
      "cell_type": "code",
      "execution_count": 17,
      "metadata": {},
      "outputs": [
        {
          "name": "stdout",
          "output_type": "stream",
          "text": [
            "Root directory: c:\\codeUni\\ProjetoInformatico\\18-06\n",
            "Dataset directory: c:\\codeUni\\ProjetoInformatico\\18-06\\datasets\\UAH-DRIVESET-v1\\UAH-Processed\n"
          ]
        }
      ],
      "source": [
        "# Make auxiliar folders\n",
        "if not os.path.exists('runtime_saves'):\n",
        "    os.makedirs('runtime_saves')\n",
        "if not os.path.exists('runtime_saves/models'):\n",
        "    os.makedirs('runtime_saves/models')\n",
        "if not os.path.exists('runtime_saves/train&test'):\n",
        "    os.makedirs('runtime_saves/train&test')\n",
        "    \n",
        "current_dir = os.getcwd()\n",
        "\n",
        "root_dir = os.path.abspath(os.path.join(current_dir, os.pardir, os.pardir, os.pardir))\n",
        "\n",
        "datasetUAH_dir = os.path.join(root_dir, 'datasets', 'UAH-DRIVESET-v1', 'UAH-Processed')\n",
        "\n",
        "print(f'Root directory: {root_dir}')\n",
        "print(f'Dataset directory: {datasetUAH_dir}')"
      ]
    },
    {
      "cell_type": "markdown",
      "metadata": {
        "id": "RHBmH_88Ilpx"
      },
      "source": [
        "# **AUX FUNCTIONS**"
      ]
    },
    {
      "cell_type": "code",
      "execution_count": 18,
      "metadata": {
        "id": "F0lXdqGfInKu"
      },
      "outputs": [],
      "source": [
        "def save_manovers_positions_to_csv_file(gps_positions, manovers, filename):\n",
        "  output = np.zeros_like(gps_positions)\n",
        "\n",
        "  # Iterate through the elements of arr2\n",
        "  for i in range(len(manovers)):\n",
        "    # Check if the element in arr2 is 1\n",
        "    if manovers[i] == 1:\n",
        "      # Copy the corresponding values from arr1 to the output array\n",
        "      output[i] = gps_positions[i]\n",
        "\n",
        "  output = output[~np.all(output == 0, axis=1)]\n",
        "  \n",
        "  filename = 'runtime_saves/' + filename\n",
        "    \n",
        "  np.savetxt(filename, output, delimiter=',', fmt='%.9f')\n",
        "\n",
        "\n",
        "\n",
        "def separate_positives_negatives(data):\n",
        "  # Ensure the input is converted to a NumPy array for easier manipulation\n",
        "  data = np.array(data)\n",
        "\n",
        "  # Create two empty arrays to store positive and negative values\n",
        "  positives = np.zeros_like(data)\n",
        "  negatives = np.zeros_like(data)\n",
        "\n",
        "  # Use boolean indexing to separate positive and negative values\n",
        "  positives[data > 0] = data[data > 0]\n",
        "  negatives[data < 0] = -data[data < 0]\n",
        "\n",
        "  # Combine the positive and negative values into a single 2D array\n",
        "  return (positives, negatives)\n",
        "\n",
        "def normalize_between_0_and_max(data):\n",
        "  max_value = np.max(data)\n",
        "  return data / max_value\n",
        "\n",
        "def normalize_between_0_and_max_v2(data, max_value):\n",
        "  return data / max_value\n",
        "\n",
        "def split_train_test(data, test_size=0.2):\n",
        "  # Check if test_size is between 0 and 1\n",
        "  if test_size < 0 or test_size > 1:\n",
        "    raise ValueError(\"test_size must be between 0 and 1.\")\n",
        "\n",
        "  # Get the number of samples\n",
        "  num_samples = data.shape[0]\n",
        "\n",
        "  # Calculate the number of samples for each set\n",
        "  train_size = int(num_samples * (1 - test_size))\n",
        "  test_size = num_samples - train_size\n",
        "\n",
        "  # Randomly shuffle the data for better splitting (optional)\n",
        "  #np.random.shuffle(data)\n",
        "\n",
        "  # Split the data into training and test sets\n",
        "  train_data = data[:train_size]\n",
        "  test_data = data[train_size:]\n",
        "\n",
        "  return train_data, test_data\n",
        "\n",
        "def y_classification(data, threshold):\n",
        "  classification = np.zeros_like(data, dtype=int)  # Initialize output array\n",
        "\n",
        "  for col in range(0, 12):  # Loop through each column\n",
        "    max_value = np.max(data[:, col])\n",
        "    threshold_pos = max_value * threshold\n",
        "    classification[:, col] = np.where(data[:, col] >= threshold_pos, 1, 0)\n",
        "\n",
        "  return classification\n",
        "\n",
        "def max_of_vectors(vec1, vec2, vec3, vec4, vec5, vec6):\n",
        "  # Combine all vectors into a single array\n",
        "  all_vectors = np.array([vec1, vec2, vec3, vec4, vec5, vec6])\n",
        "\n",
        "  # Find the maximum value in the array\n",
        "  max_value = np.max(all_vectors)\n",
        "\n",
        "  return max_value\n",
        "\n",
        "def has_one(data):\n",
        "  \"\"\"\n",
        "  This function receives a numpy array and returns a new array\n",
        "  with 1 if the correspondent row of input array has at least one cellule with 1.\n",
        "  In other case the cellule is 0.\n",
        "\n",
        "  Args:\n",
        "      data: A numpy array of shape (n, 12) with 0 or 1 values in each cell.\n",
        "\n",
        "  Returns:\n",
        "      A numpy array of shape (n, 1) with 1s where the corresponding row in data has at least one 1, and 0s otherwise.\n",
        "  \"\"\"\n",
        "  # We sum each row, and any value greater than zero indicates at least one 1 in that row\n",
        "  return np.sum(data, axis=1)[:, np.newaxis] > 0"
      ]
    },
    {
      "cell_type": "markdown",
      "metadata": {
        "id": "aATQYo4TiWrU"
      },
      "source": [
        "# **DATA PREPROCESSING**"
      ]
    },
    {
      "cell_type": "markdown",
      "metadata": {},
      "source": [
        "## **Data structure:**\n",
        "\n",
        "- Acceleration (m/s2): X, Y, Z Axis \n",
        "\n",
        "- Gyroscope (°/s): X, Y, Z Axis\n",
        "\n",
        "- GPS: Latitude and Longitude "
      ]
    },
    {
      "cell_type": "code",
      "execution_count": 19,
      "metadata": {
        "id": "B5wPPy3OiYj9"
      },
      "outputs": [],
      "source": [
        "dataset = os.path.join(os.getcwd(), os.pardir, 'docs', 'v2', 'dataset-all.csv')\n",
        "# dataset = os.path.join(os.getcwd(), os.pardir, 'docs', 'v1', 'Abrantes-Leiria.csv')\n",
        "\n",
        "# Load the dataset into a DataFrame\n",
        "df = pd.read_csv(dataset)\n",
        "\n",
        "acelX = df['accelerometerXAxis']\n",
        "acelY = df['accelerometerYAxis']\n",
        "acelZ = df['accelerometerZAxis']\n",
        "\n",
        "gyrX = df['gyroscopeXAxis']\n",
        "gyrY = df['gyroscopeYAxis']\n",
        "gyrZ = df['gyroscopeZAxis']\n",
        "\n",
        "latitude = df['latitude']\n",
        "longitude = df['longitude']"
      ]
    },
    {
      "cell_type": "code",
      "execution_count": 20,
      "metadata": {
        "colab": {
          "base_uri": "https://localhost:8080/"
        },
        "id": "ZzW3XSugY8m3",
        "outputId": "809859f8-a9ef-4638-c9be-f3536c2556c9"
      },
      "outputs": [],
      "source": [
        "# print(df['accelerometerXAxis'].describe())\n",
        "# print(df['accelerometerYAxis'].describe())\n",
        "# print(df['accelerometerZAxis'].describe())\n",
        "# print(df['gyroscopeXAxis'].describe())\n",
        "# print(df['gyroscopeYAxis'].describe())\n",
        "# print(df['gyroscopeZAxis'].describe())"
      ]
    },
    {
      "cell_type": "markdown",
      "metadata": {
        "id": "eb3I99C7ASnM"
      },
      "source": [
        "## **Separate data by maneuver**"
      ]
    },
    {
      "cell_type": "markdown",
      "metadata": {},
      "source": [
        "We identify different manovers based on the **Acceleration and Gyroscope data**.\n",
        "\n",
        "Accelerometer:\n",
        "- X - Curves\n",
        "- Y - Acceleration and braking\n",
        "- Z - Vertical acceleration - Uphill and downhill\n",
        "\n",
        "Gyroscope:\n",
        "- X - Longitudinal tilt - Uphill and downhill\n",
        "- Y - Lateral tilt\n",
        "- Z - Curves"
      ]
    },
    {
      "cell_type": "code",
      "execution_count": 21,
      "metadata": {
        "id": "IaJIdH4qvx0t"
      },
      "outputs": [
        {
          "data": {
            "text/plain": [
              "(150070,)"
            ]
          },
          "execution_count": 21,
          "metadata": {},
          "output_type": "execute_result"
        }
      ],
      "source": [
        "# Curves\n",
        "turnRightX, turnLeftX = separate_positives_negatives(acelX)\n",
        "# Acceleration and breaking\n",
        "accelY, breakY = separate_positives_negatives(acelY)\n",
        "# Vertical acceleration - hills and bumps\n",
        "positiveZ, negativeZ = separate_positives_negatives(acelZ)\n",
        "\n",
        "# Longitudinal tilt - hills and bumps\n",
        "gyrPositiveX, gyrNegativeX = separate_positives_negatives(gyrX)\n",
        "# Lateral tilt\n",
        "gyrPositiveY, gyrNegativeY = separate_positives_negatives(gyrY)\n",
        "# Curves\n",
        "gyrPositiveZ, gyrNegativeZ = separate_positives_negatives(gyrZ)\n",
        "\n",
        "\n",
        "turnRightX.shape"
      ]
    },
    {
      "cell_type": "markdown",
      "metadata": {
        "id": "SPIA30JzCcST"
      },
      "source": [
        "# **Normalize Data**"
      ]
    },
    {
      "cell_type": "markdown",
      "metadata": {},
      "source": [
        "We normalize the data to guarantee a consistent representation of the data and a better performance of the model.\n",
        "\n",
        "The normalization in done in the following way:\n",
        "- Identify the maximum absolute value of the combined three axis of the accelerometer and gyroscope\n",
        "- Normalize the values between 0 and max value"
      ]
    },
    {
      "cell_type": "code",
      "execution_count": 22,
      "metadata": {
        "id": "bTCRAhTXZXNL"
      },
      "outputs": [],
      "source": [
        "max_accel = max_of_vectors(turnRightX, turnLeftX, accelY, breakY, positiveZ, negativeZ)\n",
        "max_gyr = max_of_vectors(gyrPositiveX, gyrNegativeX, gyrPositiveY, gyrNegativeY, gyrPositiveZ, gyrNegativeZ)\n",
        "\n",
        "turnRightXn = normalize_between_0_and_max_v2(turnRightX, max_accel)\n",
        "turnLeftXn = normalize_between_0_and_max_v2(turnLeftX, max_accel)\n",
        "accelYn = normalize_between_0_and_max_v2(accelY, max_accel)\n",
        "breakYn = normalize_between_0_and_max_v2(breakY, max_accel)\n",
        "positiveZn = normalize_between_0_and_max_v2(positiveZ, max_accel)\n",
        "negativeZn = normalize_between_0_and_max_v2(negativeZ, max_accel)\n",
        "gyrPositiveXn = normalize_between_0_and_max_v2(gyrPositiveX, max_gyr)\n",
        "gyrNegativeXn = normalize_between_0_and_max_v2(gyrNegativeX, max_gyr)\n",
        "gyrPositiveYn = normalize_between_0_and_max_v2(gyrPositiveY, max_gyr)\n",
        "gyrNegativeYn = normalize_between_0_and_max_v2(gyrNegativeY, max_gyr)\n",
        "gyrPositiveZn = normalize_between_0_and_max_v2(gyrPositiveZ, max_gyr)\n",
        "gyrNegativeZn = normalize_between_0_and_max_v2(gyrNegativeZ, max_gyr)"
      ]
    },
    {
      "cell_type": "markdown",
      "metadata": {
        "id": "YrtvVRZ0Avz8"
      },
      "source": [
        "## Array with all the data"
      ]
    },
    {
      "cell_type": "code",
      "execution_count": 23,
      "metadata": {
        "id": "ppkRUVMX1c7W"
      },
      "outputs": [
        {
          "data": {
            "text/plain": [
              "(150070, 12)"
            ]
          },
          "execution_count": 23,
          "metadata": {},
          "output_type": "execute_result"
        }
      ],
      "source": [
        "x = np.array(list(zip(turnRightXn, turnLeftXn, accelYn, breakYn, positiveZn, negativeZn, gyrPositiveXn, gyrNegativeXn, gyrPositiveYn, gyrNegativeYn, gyrPositiveZn, gyrNegativeZn)))\n",
        "\n",
        "x.shape"
      ]
    },
    {
      "cell_type": "markdown",
      "metadata": {},
      "source": [
        "## **Labelling Data**"
      ]
    },
    {
      "cell_type": "markdown",
      "metadata": {},
      "source": [
        "The labelling is done considering:\n",
        "- The **Max value** of each column\n",
        "- An **Adjustable threshold** between 0 and 1.\n",
        "\n",
        "The product of this maximum value and the threshold establishes a reference point that indicates the intensity of the maneuver.\n",
        "\n",
        "- If the data value is greater than or equal to the reference point, it will be classified as 1 (aggressive).\n",
        "\n",
        "- If the data value is less than the reference point, it will be classified as 0 (non-aggressive)."
      ]
    },
    {
      "cell_type": "code",
      "execution_count": 24,
      "metadata": {
        "colab": {
          "base_uri": "https://localhost:8080/"
        },
        "id": "tJVtNOyF3bU5",
        "outputId": "a8fca71e-9321-4b0d-d334-51b8ba23f123"
      },
      "outputs": [
        {
          "name": "stdout",
          "output_type": "stream",
          "text": [
            "[ 789 2127  408  247  896  191   45   30   10  142   88    6]\n",
            "[[0 0 0 ... 0 0 0]\n",
            " [0 0 0 ... 0 0 0]\n",
            " [0 0 0 ... 0 0 0]\n",
            " ...\n",
            " [0 0 0 ... 0 0 0]\n",
            " [0 0 0 ... 0 0 0]\n",
            " [0 0 0 ... 0 0 0]]\n"
          ]
        }
      ],
      "source": [
        "y = y_classification(x, 0.3)\n",
        "print (np.sum(y, axis=0))\n",
        "\n",
        "filename = 'runtime_saves/' + 'Y.csv'\n",
        "print(y)\n",
        "\n",
        "np.savetxt(filename, y, delimiter=',', fmt='%.0i')"
      ]
    },
    {
      "cell_type": "markdown",
      "metadata": {
        "id": "0IZvV0MhdLBy"
      },
      "source": [
        "## Show manovers on Google Map"
      ]
    },
    {
      "cell_type": "code",
      "execution_count": 25,
      "metadata": {
        "id": "yvW2QnkTdRiA"
      },
      "outputs": [],
      "source": [
        "positions = np.array(list(zip(latitude, longitude)))\n",
        "manover_accelY = y[:, 2]\n",
        "manover_breakY = y[:, 3]\n",
        "manover_turnRightXn = y[:, 0]\n",
        "manover_turnLeftXn = y[:, 1]\n",
        "gyrPositiveZn = y[:, 10]\n",
        "gyrNegativeZn = y[:, 11]\n",
        "save_manovers_positions_to_csv_file(positions, manover_accelY, \"accelY.csv\")\n",
        "save_manovers_positions_to_csv_file(positions, manover_breakY, \"breakY.csv\")\n",
        "save_manovers_positions_to_csv_file(positions, manover_turnRightXn, \"turnRightX.csv\")\n",
        "save_manovers_positions_to_csv_file(positions, manover_turnLeftXn, \"turnLeftX.csv\")\n",
        "save_manovers_positions_to_csv_file(positions, gyrPositiveZn, \"gyrPositZ.csv\")\n",
        "save_manovers_positions_to_csv_file(positions, gyrNegativeZn, \"gyrNegZ.csv\")"
      ]
    },
    {
      "cell_type": "markdown",
      "metadata": {
        "id": "Fe_78VHvBRJQ"
      },
      "source": [
        "## Plot manovers"
      ]
    },
    {
      "cell_type": "code",
      "execution_count": 26,
      "metadata": {
        "id": "cksFepBiioYu"
      },
      "outputs": [
        {
          "data": {
            "image/png": "[encoded data removed]",
            "text/plain": [
              "<Figure size 640x480 with 1 Axes>"
            ]
          },
          "metadata": {},
          "output_type": "display_data"
        }
      ],
      "source": [
        "plt.plot(y[:, 2], marker='.', linestyle='none')\n",
        "plt.plot(y[:, 3], marker='.', linestyle='none')\n",
        "\n",
        "plt.legend(['Accel Y', 'Break Y'])\n",
        "plt.show()"
      ]
    },
    {
      "cell_type": "markdown",
      "metadata": {},
      "source": [
        "# **MODEL**"
      ]
    },
    {
      "cell_type": "markdown",
      "metadata": {
        "id": "lB-CdF_MGToJ"
      },
      "source": [
        "## Separate data in train and test"
      ]
    },
    {
      "cell_type": "code",
      "execution_count": 27,
      "metadata": {
        "id": "Bd56BA3fIORH"
      },
      "outputs": [
        {
          "name": "stdout",
          "output_type": "stream",
          "text": [
            "(112552, 12) (112552, 12)\n",
            "(37518, 12) (37518, 12)\n"
          ]
        }
      ],
      "source": [
        "# x_train, x_test = split_train_test(x, test_size=0.2)\n",
        "\n",
        "# y_train, y_test = split_train_test(y, test_size=0.2)\n",
        "\n",
        "# Split into training and testing sets\n",
        "x_train, x_test, y_train, y_test = train_test_split(x, y, test_size=0.25, random_state=42)\n",
        "\n",
        "#shape\n",
        "print(x_train.shape, y_train.shape)\n",
        "print(x_test.shape, y_test.shape)\n"
      ]
    },
    {
      "cell_type": "markdown",
      "metadata": {
        "id": "6d5xKgrEC-ks"
      },
      "source": [
        "## Create the input tensor data"
      ]
    },
    {
      "cell_type": "code",
      "execution_count": 28,
      "metadata": {
        "id": "EOkN2T88doeE"
      },
      "outputs": [
        {
          "name": "stdout",
          "output_type": "stream",
          "text": [
            "(112552, 1, 12)\n",
            "(37518, 1, 12)\n"
          ]
        }
      ],
      "source": [
        "train = x_train.reshape(x_train.shape[0], 1, x_train.shape[1])\n",
        "test = x_test.reshape(x_test.shape[0], 1, x_test.shape[1])\n",
        "\n",
        "print(train.shape)\n",
        "print(test.shape)\n",
        "\n",
        "np.savetxt(\"runtime_saves/train&test/x_train.csv\", x_train, delimiter=',', fmt='%.9f')\n",
        "np.savetxt(\"runtime_saves/train&test/x_test.csv\", x_test, delimiter=',', fmt='%.9f')\n",
        "np.savetxt(\"runtime_saves/train&test/y_train.csv\", y_train, delimiter=',', fmt='%.0i')\n",
        "np.savetxt(\"runtime_saves/train&test/y_test.csv\", y_test, delimiter=',', fmt='%.0i')\n",
        "\n",
        "np.savetxt(\"runtime_saves/train&test/train.csv\", train.reshape(train.shape[0], train.shape[2]), delimiter=',', fmt='%.9f')\n",
        "np.savetxt(\"runtime_saves/train&test/test.csv\", test.reshape(test.shape[0], test.shape[2]), delimiter=',', fmt='%.9f')"
      ]
    },
    {
      "cell_type": "markdown",
      "metadata": {
        "id": "wBfgiQgAGZPW"
      },
      "source": [
        "## **Create Model**"
      ]
    },
    {
      "cell_type": "markdown",
      "metadata": {},
      "source": [
        "### #TODO"
      ]
    },
    {
      "cell_type": "code",
      "execution_count": 29,
      "metadata": {
        "id": "4wdxfd2JJwmh"
      },
      "outputs": [],
      "source": [
        "# K.clear_session()\n",
        "\n",
        "model_lstm = Sequential()\n",
        "model_lstm.add(LSTM(64, input_shape=(1, train.shape[2]), return_sequences=True))\n",
        "model_lstm.add(Dropout(0.2))\n",
        "\n",
        "model_lstm.add(LSTM(64))\n",
        "model_lstm.add(Dropout(0.2))\n",
        "\n",
        "model_lstm.add(Dense(32,activation='relu'))\n",
        "model_lstm.add(Dense(12,activation='sigmoid'))\n",
        "\n",
        "# Compile the model\n",
        "model_lstm.compile(optimizer='adam', loss='binary_crossentropy', metrics=['accuracy'])"
      ]
    },
    {
      "cell_type": "markdown",
      "metadata": {
        "id": "khawMeLUGczr"
      },
      "source": [
        "## **Train Model**"
      ]
    },
    {
      "cell_type": "markdown",
      "metadata": {},
      "source": [
        "### #TODO"
      ]
    },
    {
      "cell_type": "code",
      "execution_count": 30,
      "metadata": {
        "colab": {
          "base_uri": "https://localhost:8080/"
        },
        "id": "NNkg4Mr-K36t",
        "outputId": "c5ced2dc-cc07-4cc5-d922-f176e6e16542"
      },
      "outputs": [
        {
          "name": "stdout",
          "output_type": "stream",
          "text": [
            "Epoch 1/100\n",
            "WARNING:tensorflow:From c:\\Users\\PDesktop\\AppData\\Local\\Programs\\Python\\Python311\\Lib\\site-packages\\keras\\src\\utils\\tf_utils.py:492: The name tf.ragged.RaggedTensorValue is deprecated. Please use tf.compat.v1.ragged.RaggedTensorValue instead.\n",
            "\n",
            "WARNING:tensorflow:From c:\\Users\\PDesktop\\AppData\\Local\\Programs\\Python\\Python311\\Lib\\site-packages\\keras\\src\\engine\\base_layer_utils.py:384: The name tf.executing_eagerly_outside_functions is deprecated. Please use tf.compat.v1.executing_eagerly_outside_functions instead.\n",
            "\n",
            "1407/1407 [==============================] - 10s 4ms/step - loss: 0.0423 - accuracy: 0.0156 - val_loss: 0.0104 - val_accuracy: 0.0134 - lr: 0.0010\n",
            "Epoch 2/100\n",
            "1407/1407 [==============================] - 5s 4ms/step - loss: 0.0100 - accuracy: 0.1379 - val_loss: 0.0081 - val_accuracy: 0.9610 - lr: 0.0010\n",
            "Epoch 3/100\n",
            "1407/1407 [==============================] - 5s 4ms/step - loss: 0.0072 - accuracy: 0.2485 - val_loss: 0.0058 - val_accuracy: 0.1301 - lr: 0.0010\n",
            "Epoch 4/100\n",
            "1407/1407 [==============================] - 5s 3ms/step - loss: 0.0059 - accuracy: 0.0916 - val_loss: 0.0048 - val_accuracy: 0.0512 - lr: 0.0010\n",
            "Epoch 5/100\n",
            "1407/1407 [==============================] - 5s 4ms/step - loss: 0.0046 - accuracy: 0.0684 - val_loss: 0.0034 - val_accuracy: 0.0456 - lr: 0.0010\n",
            "Epoch 6/100\n",
            "1407/1407 [==============================] - 5s 3ms/step - loss: 0.0034 - accuracy: 0.0490 - val_loss: 0.0028 - val_accuracy: 0.0393 - lr: 0.0010\n",
            "Epoch 7/100\n",
            "1407/1407 [==============================] - 5s 3ms/step - loss: 0.0031 - accuracy: 0.0431 - val_loss: 0.0025 - val_accuracy: 0.0390 - lr: 0.0010\n",
            "Epoch 8/100\n",
            "1407/1407 [==============================] - 5s 3ms/step - loss: 0.0028 - accuracy: 0.0415 - val_loss: 0.0023 - val_accuracy: 0.0407 - lr: 0.0010\n",
            "Epoch 9/100\n",
            "1407/1407 [==============================] - 5s 4ms/step - loss: 0.0025 - accuracy: 0.0398 - val_loss: 0.0019 - val_accuracy: 0.0371 - lr: 0.0010\n",
            "Epoch 10/100\n",
            "1407/1407 [==============================] - 5s 3ms/step - loss: 0.0022 - accuracy: 0.0391 - val_loss: 0.0018 - val_accuracy: 0.0374 - lr: 0.0010\n",
            "Epoch 11/100\n",
            "1407/1407 [==============================] - 5s 4ms/step - loss: 0.0021 - accuracy: 0.0376 - val_loss: 0.0016 - val_accuracy: 0.0349 - lr: 0.0010\n",
            "Epoch 12/100\n",
            "1407/1407 [==============================] - 5s 4ms/step - loss: 0.0020 - accuracy: 0.0373 - val_loss: 0.0016 - val_accuracy: 0.0326 - lr: 0.0010\n",
            "Epoch 13/100\n",
            "1407/1407 [==============================] - 5s 4ms/step - loss: 0.0019 - accuracy: 0.0373 - val_loss: 0.0015 - val_accuracy: 0.0339 - lr: 0.0010\n",
            "Epoch 14/100\n",
            "1407/1407 [==============================] - 5s 4ms/step - loss: 0.0018 - accuracy: 0.0367 - val_loss: 0.0014 - val_accuracy: 0.0323 - lr: 0.0010\n",
            "Epoch 15/100\n",
            "1407/1407 [==============================] - 5s 4ms/step - loss: 0.0017 - accuracy: 0.0368 - val_loss: 0.0014 - val_accuracy: 0.0329 - lr: 0.0010\n",
            "Epoch 16/100\n",
            "1407/1407 [==============================] - 5s 4ms/step - loss: 0.0016 - accuracy: 0.0368 - val_loss: 0.0011 - val_accuracy: 0.0342 - lr: 0.0010\n",
            "Epoch 17/100\n",
            "1407/1407 [==============================] - 5s 4ms/step - loss: 0.0015 - accuracy: 0.0372 - val_loss: 0.0012 - val_accuracy: 0.0363 - lr: 0.0010\n",
            "Epoch 18/100\n",
            "1407/1407 [==============================] - 6s 4ms/step - loss: 0.0014 - accuracy: 0.0368 - val_loss: 0.0010 - val_accuracy: 0.0330 - lr: 0.0010\n",
            "Epoch 19/100\n",
            "1407/1407 [==============================] - 6s 5ms/step - loss: 0.0014 - accuracy: 0.0366 - val_loss: 0.0010 - val_accuracy: 0.0361 - lr: 0.0010\n",
            "Epoch 20/100\n",
            "1407/1407 [==============================] - 5s 4ms/step - loss: 0.0013 - accuracy: 0.0369 - val_loss: 8.9934e-04 - val_accuracy: 0.0328 - lr: 0.0010\n",
            "Epoch 21/100\n",
            "1407/1407 [==============================] - 6s 4ms/step - loss: 0.0012 - accuracy: 0.0365 - val_loss: 0.0010 - val_accuracy: 0.0323 - lr: 0.0010\n",
            "Epoch 22/100\n",
            "1407/1407 [==============================] - 6s 5ms/step - loss: 0.0012 - accuracy: 0.0359 - val_loss: 0.0011 - val_accuracy: 0.0320 - lr: 0.0010\n",
            "Epoch 23/100\n",
            "1407/1407 [==============================] - 5s 4ms/step - loss: 0.0012 - accuracy: 0.0362 - val_loss: 0.0010 - val_accuracy: 0.0327 - lr: 0.0010\n",
            "Epoch 24/100\n",
            "1407/1407 [==============================] - 5s 4ms/step - loss: 0.0011 - accuracy: 0.0364 - val_loss: 8.6212e-04 - val_accuracy: 0.0332 - lr: 0.0010\n",
            "Epoch 25/100\n",
            "1407/1407 [==============================] - 5s 4ms/step - loss: 0.0012 - accuracy: 0.0361 - val_loss: 8.3661e-04 - val_accuracy: 0.0330 - lr: 0.0010\n",
            "Epoch 26/100\n",
            "1407/1407 [==============================] - 5s 3ms/step - loss: 9.8734e-04 - accuracy: 0.0351 - val_loss: 7.8842e-04 - val_accuracy: 0.0326 - lr: 5.0000e-04\n",
            "Epoch 27/100\n",
            "1407/1407 [==============================] - 5s 4ms/step - loss: 9.7774e-04 - accuracy: 0.0346 - val_loss: 7.3786e-04 - val_accuracy: 0.0321 - lr: 5.0000e-04\n",
            "Epoch 28/100\n",
            "1407/1407 [==============================] - 5s 4ms/step - loss: 9.5975e-04 - accuracy: 0.0345 - val_loss: 7.3342e-04 - val_accuracy: 0.0318 - lr: 5.0000e-04\n",
            "Epoch 29/100\n",
            "1407/1407 [==============================] - 5s 4ms/step - loss: 9.3467e-04 - accuracy: 0.0343 - val_loss: 7.7146e-04 - val_accuracy: 0.0320 - lr: 5.0000e-04\n",
            "Epoch 30/100\n",
            "1407/1407 [==============================] - 5s 3ms/step - loss: 9.2305e-04 - accuracy: 0.0342 - val_loss: 6.8884e-04 - val_accuracy: 0.0316 - lr: 5.0000e-04\n",
            "Epoch 31/100\n",
            "1407/1407 [==============================] - 5s 3ms/step - loss: 8.7201e-04 - accuracy: 0.0344 - val_loss: 7.3578e-04 - val_accuracy: 0.0317 - lr: 5.0000e-04\n",
            "Epoch 32/100\n",
            "1407/1407 [==============================] - 5s 3ms/step - loss: 8.0341e-04 - accuracy: 0.0340 - val_loss: 6.7105e-04 - val_accuracy: 0.0318 - lr: 2.5000e-04\n",
            "Epoch 33/100\n",
            "1407/1407 [==============================] - 6s 4ms/step - loss: 8.2289e-04 - accuracy: 0.0342 - val_loss: 6.5530e-04 - val_accuracy: 0.0317 - lr: 2.5000e-04\n",
            "Epoch 34/100\n",
            "1407/1407 [==============================] - 5s 3ms/step - loss: 8.0770e-04 - accuracy: 0.0341 - val_loss: 6.7933e-04 - val_accuracy: 0.0319 - lr: 2.5000e-04\n",
            "Epoch 35/100\n",
            "1407/1407 [==============================] - 5s 4ms/step - loss: 7.9934e-04 - accuracy: 0.0341 - val_loss: 6.3883e-04 - val_accuracy: 0.0310 - lr: 2.5000e-04\n",
            "Epoch 36/100\n",
            "1407/1407 [==============================] - 5s 4ms/step - loss: 8.0639e-04 - accuracy: 0.0338 - val_loss: 6.4226e-04 - val_accuracy: 0.0311 - lr: 2.5000e-04\n",
            "Epoch 37/100\n",
            "1407/1407 [==============================] - 5s 4ms/step - loss: 8.1431e-04 - accuracy: 0.0336 - val_loss: 6.6633e-04 - val_accuracy: 0.0316 - lr: 2.5000e-04\n",
            "Epoch 38/100\n",
            "1407/1407 [==============================] - 5s 4ms/step - loss: 7.4098e-04 - accuracy: 0.0337 - val_loss: 6.2787e-04 - val_accuracy: 0.0316 - lr: 1.2500e-04\n",
            "Epoch 39/100\n",
            "1407/1407 [==============================] - 5s 4ms/step - loss: 7.2730e-04 - accuracy: 0.0335 - val_loss: 6.4125e-04 - val_accuracy: 0.0314 - lr: 1.2500e-04\n",
            "Epoch 40/100\n",
            "1407/1407 [==============================] - 5s 4ms/step - loss: 7.3964e-04 - accuracy: 0.0338 - val_loss: 6.1045e-04 - val_accuracy: 0.0310 - lr: 1.2500e-04\n",
            "Epoch 41/100\n",
            "1407/1407 [==============================] - 5s 4ms/step - loss: 7.4762e-04 - accuracy: 0.0335 - val_loss: 6.2934e-04 - val_accuracy: 0.0311 - lr: 1.2500e-04\n",
            "Epoch 42/100\n",
            "1407/1407 [==============================] - 5s 4ms/step - loss: 7.3588e-04 - accuracy: 0.0336 - val_loss: 6.7566e-04 - val_accuracy: 0.0318 - lr: 1.2500e-04\n",
            "Epoch 43/100\n",
            "1407/1407 [==============================] - 5s 4ms/step - loss: 7.2837e-04 - accuracy: 0.0336 - val_loss: 6.0595e-04 - val_accuracy: 0.0314 - lr: 1.0000e-04\n",
            "Epoch 44/100\n",
            "1407/1407 [==============================] - 5s 4ms/step - loss: 7.3683e-04 - accuracy: 0.0335 - val_loss: 6.1535e-04 - val_accuracy: 0.0312 - lr: 1.0000e-04\n",
            "Epoch 45/100\n",
            "1407/1407 [==============================] - 5s 4ms/step - loss: 7.3041e-04 - accuracy: 0.0337 - val_loss: 6.0051e-04 - val_accuracy: 0.0309 - lr: 1.0000e-04\n",
            "Epoch 46/100\n",
            "1407/1407 [==============================] - 5s 4ms/step - loss: 7.2160e-04 - accuracy: 0.0333 - val_loss: 5.9748e-04 - val_accuracy: 0.0307 - lr: 1.0000e-04\n",
            "Epoch 47/100\n",
            "1407/1407 [==============================] - 5s 4ms/step - loss: 7.0118e-04 - accuracy: 0.0335 - val_loss: 6.0073e-04 - val_accuracy: 0.0307 - lr: 1.0000e-04\n",
            "Epoch 48/100\n",
            "1407/1407 [==============================] - 5s 4ms/step - loss: 7.4304e-04 - accuracy: 0.0333 - val_loss: 5.9747e-04 - val_accuracy: 0.0310 - lr: 1.0000e-04\n",
            "Epoch 49/100\n",
            "1407/1407 [==============================] - 5s 4ms/step - loss: 7.0239e-04 - accuracy: 0.0335 - val_loss: 5.9578e-04 - val_accuracy: 0.0313 - lr: 1.0000e-04\n",
            "Epoch 50/100\n",
            "1407/1407 [==============================] - 8s 6ms/step - loss: 6.9409e-04 - accuracy: 0.0334 - val_loss: 6.1600e-04 - val_accuracy: 0.0314 - lr: 1.0000e-04\n",
            "Epoch 51/100\n",
            "1407/1407 [==============================] - 6s 4ms/step - loss: 7.1141e-04 - accuracy: 0.0335 - val_loss: 5.8936e-04 - val_accuracy: 0.0309 - lr: 1.0000e-04\n",
            "Epoch 52/100\n",
            "1407/1407 [==============================] - 5s 4ms/step - loss: 7.0756e-04 - accuracy: 0.0335 - val_loss: 6.0783e-04 - val_accuracy: 0.0308 - lr: 1.0000e-04\n",
            "Epoch 53/100\n",
            "1407/1407 [==============================] - 5s 4ms/step - loss: 6.7672e-04 - accuracy: 0.0331 - val_loss: 5.9948e-04 - val_accuracy: 0.0310 - lr: 1.0000e-04\n",
            "Epoch 54/100\n",
            "1407/1407 [==============================] - 5s 4ms/step - loss: 6.9280e-04 - accuracy: 0.0333 - val_loss: 5.8569e-04 - val_accuracy: 0.0308 - lr: 1.0000e-04\n",
            "Epoch 55/100\n",
            "1407/1407 [==============================] - 5s 4ms/step - loss: 6.7262e-04 - accuracy: 0.0331 - val_loss: 5.8695e-04 - val_accuracy: 0.0309 - lr: 1.0000e-04\n",
            "Epoch 56/100\n",
            "1407/1407 [==============================] - 5s 4ms/step - loss: 7.1945e-04 - accuracy: 0.0332 - val_loss: 5.7284e-04 - val_accuracy: 0.0309 - lr: 1.0000e-04\n",
            "Epoch 57/100\n",
            "1407/1407 [==============================] - 5s 4ms/step - loss: 6.7716e-04 - accuracy: 0.0332 - val_loss: 5.7743e-04 - val_accuracy: 0.0309 - lr: 1.0000e-04\n",
            "Epoch 58/100\n",
            "1407/1407 [==============================] - 7s 5ms/step - loss: 7.1480e-04 - accuracy: 0.0335 - val_loss: 5.7381e-04 - val_accuracy: 0.0309 - lr: 1.0000e-04\n",
            "Epoch 59/100\n",
            "1407/1407 [==============================] - 6s 4ms/step - loss: 6.3895e-04 - accuracy: 0.0333 - val_loss: 5.9845e-04 - val_accuracy: 0.0308 - lr: 1.0000e-04\n",
            "Epoch 60/100\n",
            "1407/1407 [==============================] - 5s 4ms/step - loss: 7.3819e-04 - accuracy: 0.0331 - val_loss: 5.8905e-04 - val_accuracy: 0.0308 - lr: 1.0000e-04\n",
            "Epoch 61/100\n",
            "1407/1407 [==============================] - 5s 4ms/step - loss: 6.6715e-04 - accuracy: 0.0331 - val_loss: 6.1878e-04 - val_accuracy: 0.0306 - lr: 1.0000e-04\n",
            "Epoch 62/100\n",
            "1407/1407 [==============================] - 5s 4ms/step - loss: 6.8250e-04 - accuracy: 0.0330 - val_loss: 5.6312e-04 - val_accuracy: 0.0307 - lr: 1.0000e-04\n",
            "Epoch 63/100\n",
            "1407/1407 [==============================] - 5s 4ms/step - loss: 6.7911e-04 - accuracy: 0.0332 - val_loss: 5.7199e-04 - val_accuracy: 0.0307 - lr: 1.0000e-04\n",
            "Epoch 64/100\n",
            "1407/1407 [==============================] - 5s 4ms/step - loss: 6.7990e-04 - accuracy: 0.0330 - val_loss: 5.7717e-04 - val_accuracy: 0.0307 - lr: 1.0000e-04\n",
            "Epoch 65/100\n",
            "1407/1407 [==============================] - 5s 4ms/step - loss: 6.9525e-04 - accuracy: 0.0330 - val_loss: 5.6703e-04 - val_accuracy: 0.0307 - lr: 1.0000e-04\n",
            "Epoch 66/100\n",
            "1407/1407 [==============================] - 5s 4ms/step - loss: 6.7443e-04 - accuracy: 0.0329 - val_loss: 5.5974e-04 - val_accuracy: 0.0307 - lr: 1.0000e-04\n",
            "Epoch 67/100\n",
            "1407/1407 [==============================] - 5s 4ms/step - loss: 6.4853e-04 - accuracy: 0.0331 - val_loss: 5.7759e-04 - val_accuracy: 0.0308 - lr: 1.0000e-04\n",
            "Epoch 68/100\n",
            "1407/1407 [==============================] - 6s 4ms/step - loss: 6.5635e-04 - accuracy: 0.0331 - val_loss: 5.7084e-04 - val_accuracy: 0.0307 - lr: 1.0000e-04\n",
            "Epoch 69/100\n",
            "1407/1407 [==============================] - 6s 4ms/step - loss: 6.4906e-04 - accuracy: 0.0332 - val_loss: 5.6679e-04 - val_accuracy: 0.0306 - lr: 1.0000e-04\n",
            "Epoch 70/100\n",
            "1407/1407 [==============================] - 6s 4ms/step - loss: 6.8010e-04 - accuracy: 0.0331 - val_loss: 5.5042e-04 - val_accuracy: 0.0307 - lr: 1.0000e-04\n",
            "Epoch 71/100\n",
            "1407/1407 [==============================] - 5s 4ms/step - loss: 6.2760e-04 - accuracy: 0.0330 - val_loss: 5.5635e-04 - val_accuracy: 0.0307 - lr: 1.0000e-04\n",
            "Epoch 72/100\n",
            "1407/1407 [==============================] - 6s 4ms/step - loss: 6.5109e-04 - accuracy: 0.0330 - val_loss: 5.8265e-04 - val_accuracy: 0.0309 - lr: 1.0000e-04\n",
            "Epoch 73/100\n",
            "1407/1407 [==============================] - 7s 5ms/step - loss: 6.3306e-04 - accuracy: 0.0330 - val_loss: 5.7635e-04 - val_accuracy: 0.0307 - lr: 1.0000e-04\n",
            "Epoch 74/100\n",
            "1407/1407 [==============================] - 7s 5ms/step - loss: 6.3286e-04 - accuracy: 0.0329 - val_loss: 5.8669e-04 - val_accuracy: 0.0307 - lr: 1.0000e-04\n",
            "Epoch 75/100\n",
            "1407/1407 [==============================] - 6s 4ms/step - loss: 6.4024e-04 - accuracy: 0.0328 - val_loss: 5.5033e-04 - val_accuracy: 0.0307 - lr: 1.0000e-04\n",
            "Epoch 76/100\n",
            "1407/1407 [==============================] - 6s 4ms/step - loss: 6.6385e-04 - accuracy: 0.0328 - val_loss: 5.6047e-04 - val_accuracy: 0.0307 - lr: 1.0000e-04\n",
            "Epoch 77/100\n",
            "1407/1407 [==============================] - 6s 4ms/step - loss: 5.9887e-04 - accuracy: 0.0329 - val_loss: 5.5522e-04 - val_accuracy: 0.0307 - lr: 1.0000e-04\n",
            "Epoch 78/100\n",
            "1407/1407 [==============================] - 5s 4ms/step - loss: 6.4041e-04 - accuracy: 0.0328 - val_loss: 5.5267e-04 - val_accuracy: 0.0306 - lr: 1.0000e-04\n",
            "Epoch 79/100\n",
            "1407/1407 [==============================] - 5s 4ms/step - loss: 6.1532e-04 - accuracy: 0.0329 - val_loss: 5.4708e-04 - val_accuracy: 0.0307 - lr: 1.0000e-04\n",
            "Epoch 80/100\n",
            "1407/1407 [==============================] - 5s 4ms/step - loss: 6.1332e-04 - accuracy: 0.0329 - val_loss: 5.7131e-04 - val_accuracy: 0.0307 - lr: 1.0000e-04\n",
            "Epoch 81/100\n",
            "1407/1407 [==============================] - 5s 4ms/step - loss: 6.3040e-04 - accuracy: 0.0329 - val_loss: 5.4626e-04 - val_accuracy: 0.0307 - lr: 1.0000e-04\n",
            "Epoch 82/100\n",
            "1407/1407 [==============================] - 5s 4ms/step - loss: 6.2798e-04 - accuracy: 0.0330 - val_loss: 5.5045e-04 - val_accuracy: 0.0305 - lr: 1.0000e-04\n",
            "Epoch 83/100\n",
            "1407/1407 [==============================] - 5s 4ms/step - loss: 6.1152e-04 - accuracy: 0.0329 - val_loss: 5.5929e-04 - val_accuracy: 0.0307 - lr: 1.0000e-04\n",
            "Epoch 84/100\n",
            "1407/1407 [==============================] - 5s 4ms/step - loss: 6.3493e-04 - accuracy: 0.0330 - val_loss: 5.6157e-04 - val_accuracy: 0.0307 - lr: 1.0000e-04\n",
            "Epoch 85/100\n",
            "1407/1407 [==============================] - 5s 4ms/step - loss: 5.6386e-04 - accuracy: 0.0330 - val_loss: 5.7053e-04 - val_accuracy: 0.0307 - lr: 1.0000e-04\n",
            "Epoch 86/100\n",
            "1407/1407 [==============================] - 5s 4ms/step - loss: 6.1700e-04 - accuracy: 0.0328 - val_loss: 5.5252e-04 - val_accuracy: 0.0305 - lr: 1.0000e-04\n",
            "Epoch 87/100\n",
            "1407/1407 [==============================] - 5s 3ms/step - loss: 6.1969e-04 - accuracy: 0.0328 - val_loss: 5.7874e-04 - val_accuracy: 0.0307 - lr: 1.0000e-04\n",
            "Epoch 88/100\n",
            "1407/1407 [==============================] - 5s 4ms/step - loss: 6.0876e-04 - accuracy: 0.0329 - val_loss: 5.5529e-04 - val_accuracy: 0.0307 - lr: 1.0000e-04\n",
            "Epoch 89/100\n",
            "1407/1407 [==============================] - 5s 4ms/step - loss: 6.2448e-04 - accuracy: 0.0328 - val_loss: 5.6286e-04 - val_accuracy: 0.0307 - lr: 1.0000e-04\n",
            "Epoch 90/100\n",
            "1407/1407 [==============================] - 5s 4ms/step - loss: 6.1297e-04 - accuracy: 0.0330 - val_loss: 5.4324e-04 - val_accuracy: 0.0306 - lr: 1.0000e-04\n",
            "Epoch 91/100\n",
            "1407/1407 [==============================] - 5s 4ms/step - loss: 6.0060e-04 - accuracy: 0.0326 - val_loss: 5.7099e-04 - val_accuracy: 0.0307 - lr: 1.0000e-04\n",
            "Epoch 92/100\n",
            "1407/1407 [==============================] - 5s 4ms/step - loss: 6.0074e-04 - accuracy: 0.0326 - val_loss: 5.5763e-04 - val_accuracy: 0.0307 - lr: 1.0000e-04\n",
            "Epoch 93/100\n",
            "1407/1407 [==============================] - 5s 4ms/step - loss: 6.2739e-04 - accuracy: 0.0327 - val_loss: 5.4478e-04 - val_accuracy: 0.0307 - lr: 1.0000e-04\n",
            "Epoch 94/100\n",
            "1407/1407 [==============================] - 5s 4ms/step - loss: 6.0971e-04 - accuracy: 0.0329 - val_loss: 5.6546e-04 - val_accuracy: 0.0305 - lr: 1.0000e-04\n",
            "Epoch 95/100\n",
            "1407/1407 [==============================] - 5s 4ms/step - loss: 6.0426e-04 - accuracy: 0.0329 - val_loss: 5.3223e-04 - val_accuracy: 0.0305 - lr: 1.0000e-04\n",
            "Epoch 96/100\n",
            "1407/1407 [==============================] - 5s 4ms/step - loss: 6.1619e-04 - accuracy: 0.0327 - val_loss: 5.5454e-04 - val_accuracy: 0.0305 - lr: 1.0000e-04\n",
            "Epoch 97/100\n",
            "1407/1407 [==============================] - 5s 4ms/step - loss: 5.8727e-04 - accuracy: 0.0328 - val_loss: 5.2605e-04 - val_accuracy: 0.0305 - lr: 1.0000e-04\n",
            "Epoch 98/100\n",
            "1407/1407 [==============================] - 6s 4ms/step - loss: 5.9414e-04 - accuracy: 0.0326 - val_loss: 5.3314e-04 - val_accuracy: 0.0305 - lr: 1.0000e-04\n",
            "Epoch 99/100\n",
            "1407/1407 [==============================] - 7s 5ms/step - loss: 5.7126e-04 - accuracy: 0.0326 - val_loss: 5.4082e-04 - val_accuracy: 0.0305 - lr: 1.0000e-04\n",
            "Epoch 100/100\n",
            "1407/1407 [==============================] - 7s 5ms/step - loss: 5.7373e-04 - accuracy: 0.0327 - val_loss: 5.2812e-04 - val_accuracy: 0.0305 - lr: 1.0000e-04\n"
          ]
        }
      ],
      "source": [
        "# Define callbacks\n",
        "early_stopping = EarlyStopping(monitor='val_loss', patience=3, restore_best_weights=True)\n",
        "reduce_lr = ReduceLROnPlateau(monitor='val_loss', factor=0.2, patience=5, verbose=1, mode='min', min_lr=0.0000)\n",
        "model_checkpoint = ModelCheckpoint('best_models/best_model_StackedLSTM.keras', monitor='val_loss', save_best_only=True)\n",
        "\n",
        "\n",
        "\n",
        "# Train the model\n",
        "model_lstm_output = model_lstm.fit(train, y_train, epochs=10,  batch_size=64, callbacks=[early_stopping,model_checkpoint,reduce_lr], validation_data=(test, y_test))"
      ]
    },
    {
      "cell_type": "markdown",
      "metadata": {
        "id": "Ct_S460uGhxP"
      },
      "source": [
        "# **RESULTS**"
      ]
    },
    {
      "cell_type": "markdown",
      "metadata": {},
      "source": [
        "## Evaluate the model"
      ]
    },
    {
      "cell_type": "code",
      "execution_count": 31,
      "metadata": {},
      "outputs": [
        {
          "name": "stdout",
          "output_type": "stream",
          "text": [
            "1173/1173 [==============================] - 3s 1ms/step\n",
            "[[1.9171223e-23 1.8994980e-31 2.8781905e-14 ... 1.0502774e-09\n",
            "  1.1993713e-14 3.0412863e-25]\n",
            " [6.1996522e-23 1.7702702e-31 1.7209940e-11 ... 3.5153307e-11\n",
            "  5.3864297e-13 3.2291136e-21]\n",
            " [1.1003142e-16 1.9940880e-20 1.8454801e-06 ... 4.4159078e-06\n",
            "  8.4378093e-01 1.0900324e-05]\n",
            " ...\n",
            " [3.2796845e-24 8.4256555e-33 1.1794886e-15 ... 3.1241244e-12\n",
            "  1.2827262e-14 1.0035707e-27]\n",
            " [3.1929577e-19 7.9500996e-31 3.6041244e-13 ... 8.4836582e-11\n",
            "  8.4434650e-14 1.9163200e-21]\n",
            " [2.2609537e-18 7.9326233e-30 1.9148500e-11 ... 2.8752009e-10\n",
            "  2.7633477e-12 1.3794446e-17]]\n"
          ]
        }
      ],
      "source": [
        "pred = model_lstm.predict(test)\n",
        "print(pred)"
      ]
    },
    {
      "cell_type": "code",
      "execution_count": 32,
      "metadata": {},
      "outputs": [
        {
          "name": "stdout",
          "output_type": "stream",
          "text": [
            "[[0 0 0 ... 0 0 0]\n",
            " [0 0 0 ... 0 0 0]\n",
            " [0 0 0 ... 0 1 0]\n",
            " ...\n",
            " [0 0 0 ... 0 0 0]\n",
            " [0 0 0 ... 0 0 0]\n",
            " [0 0 0 ... 0 0 0]]\n"
          ]
        }
      ],
      "source": [
        "pred = np.round(pred).astype(int)\n",
        "print(pred)"
      ]
    },
    {
      "cell_type": "code",
      "execution_count": 33,
      "metadata": {},
      "outputs": [
        {
          "name": "stdout",
          "output_type": "stream",
          "text": [
            "[ 0  0 10 ...  0  0  0]\n"
          ]
        },
        {
          "data": {
            "text/plain": [
              "(37518,)"
            ]
          },
          "execution_count": 33,
          "metadata": {},
          "output_type": "execute_result"
        }
      ],
      "source": [
        "pred = np.argmax(pred, axis=1)\n",
        "print(pred)\n",
        "pred.shape"
      ]
    },
    {
      "cell_type": "markdown",
      "metadata": {},
      "source": [
        "## Confusion Matrix"
      ]
    },
    {
      "cell_type": "code",
      "execution_count": 34,
      "metadata": {},
      "outputs": [
        {
          "name": "stdout",
          "output_type": "stream",
          "text": [
            "[[36518     7     4     2     3     0     0     0     1     1]\n",
            " [    0   538     0     0     0     0     0     0     0     1]\n",
            " [    1     0    94     0     2     0     0     0     0     0]\n",
            " [    7     0     0    47     1     0     0     0     0     0]\n",
            " [    3     0     0     0   191     0     0     0     0     0]\n",
            " [    0     0     0     0     0    36     0     0     0     0]\n",
            " [    5     0     0     0     0     0     1     0     3     0]\n",
            " [    4     0     0     0     0     0     0     0     0     0]\n",
            " [    8     0     0     0     0     0     0     0    27     0]\n",
            " [    3     0     0     0     0     0     0     0     0    10]]\n"
          ]
        }
      ],
      "source": [
        "# conf_mat = metrics.confusion_matrix(y_test, pred)\n",
        "# conf_mat\n",
        "\n",
        "# Ensure y_test and pred are numpy arrays\n",
        "y_test = np.array(y_test)\n",
        "pred = np.array(pred)\n",
        "\n",
        "# Check if y_test or pred is in multilabel-indicator format and convert them if necessary\n",
        "if len(y_test.shape) > 1 and y_test.shape[1] > 1:\n",
        "    y_test = np.argmax(y_test, axis=1)\n",
        "\n",
        "if len(pred.shape) > 1 and pred.shape[1] > 1:\n",
        "    pred = np.argmax(pred, axis=1)\n",
        "\n",
        "# Calculate the confusion matrix\n",
        "conf_mat = metrics.confusion_matrix(y_test, pred)\n",
        "\n",
        "# Display the confusion matrix\n",
        "print(conf_mat)"
      ]
    },
    {
      "cell_type": "code",
      "execution_count": 35,
      "metadata": {},
      "outputs": [
        {
          "data": {
            "image/png": "[encoded data removed]",
            "text/plain": [
              "<Figure size 640x480 with 2 Axes>"
            ]
          },
          "metadata": {},
          "output_type": "display_data"
        }
      ],
      "source": [
        "\n",
        "# clabels = ['AccelY', 'BreakY', 'TurnRightX', 'Turn LeftX', 'PositiveZ', 'NegativeZ', 'GyrPositiveX', 'GyrNegativeX', 'GyrPositiveY', 'GyrNegativeY', 'GyrPositiveZ', 'GyrNegativeZ']\n",
        "\n",
        "# cm_display = metrics.ConfusionMatrixDisplay(confusion_matrix = conf_mat, display_labels = clabels)\n",
        "cm_display = metrics.ConfusionMatrixDisplay(confusion_matrix = conf_mat)\n",
        " \n",
        "# display matrix\n",
        "cm_display.plot()\n",
        "plt.show()\n"
      ]
    },
    {
      "cell_type": "markdown",
      "metadata": {},
      "source": [
        "## Performance Metrics"
      ]
    },
    {
      "cell_type": "markdown",
      "metadata": {},
      "source": [
        "- Accuracy = $\\large = \\frac{Correct~Predictions}{All~Predictions}$\n",
        "- Precision for a given class = $\\large = \\frac{Correct~Predictions~for~the~Class}{All~Predictions~for~the~Class}$   \n",
        "- Recall for a given class = $\\large = \\frac{Correct~Predictions~for~the~Class}{All~Instances~of~the~Class}$  \n",
        "\n",
        "- Averaging is a way to get a single number for multiclass. Depending on the importance one wants to give to minority classes: \n",
        "    - Macro average: Compute the metric for each class, and returns the average without considering the proportion for each class in the dataset. For instance:\n",
        "\n",
        "        Precision = $\\large = \\frac{P_{class 1} ~+~ P_{class 2} ~+~ ... ~+~ P_{class n}}{N}$   \n",
        "    \n",
        "    - Weighted average: Compute the metric for each class, and returns the average considering the proportion (weighted) for each class in the dataset. For instance:\n",
        "\n",
        "        Precision = $\\large = \\frac{N_1 ~*~ P_{class 1} ~+~ N_2 ~*~ P_{class 2} ~+~ ... ~+~ N_n ~*~ P_{class n}}{N}$"
      ]
    },
    {
      "cell_type": "code",
      "execution_count": 36,
      "metadata": {},
      "outputs": [
        {
          "name": "stdout",
          "output_type": "stream",
          "text": [
            "Accuracy : 99.85%\n",
            "Precision - Macro: 85.79%\n",
            "Recall - Macro: 74.58%\n",
            "F1-score - Macro: 76.55%\n",
            "Precision - Weighted: 99.84%\n",
            "Recall - Weighted: 99.85%\n",
            "F1-score - Weighted: 99.84%\n"
          ]
        }
      ],
      "source": [
        "# Calculates performance metrics\n",
        "acc = accuracy_score(y_true =  y_test, y_pred = pred)\n",
        "print(f'Accuracy : {np.round(acc*100,2)}%')\n",
        "          \n",
        "precision = precision_score(y_true =  y_test, y_pred = pred, average='macro')\n",
        "print(f'Precision - Macro: {np.round(precision*100,2)}%')\n",
        "\n",
        "recall = recall_score(y_true =  y_test, y_pred = pred, average='macro')\n",
        "print(f'Recall - Macro: {np.round(recall*100,2)}%')\n",
        "\n",
        "f1 = f1_score(y_true =  y_test, y_pred = pred, average='macro')\n",
        "print(f'F1-score - Macro: {np.round(f1*100,2)}%')\n",
        "\n",
        "precision = precision_score(y_true =  y_test, y_pred = pred, average='weighted')\n",
        "print(f'Precision - Weighted: {np.round(precision*100,2)}%')\n",
        "\n",
        "recall = recall_score(y_true =  y_test, y_pred = pred, average='weighted')\n",
        "print(f'Recall - Weighted: {np.round(recall*100,2)}%')\n",
        "\n",
        "f1 = f1_score(y_true =  y_test, y_pred = pred, average='weighted')\n",
        "print(f'F1-score - Weighted: {np.round(f1*100,2)}%')"
      ]
    },
    {
      "cell_type": "markdown",
      "metadata": {
        "id": "d5yRYVkqpv51"
      },
      "source": [
        "# **TEST THE NETWORK**"
      ]
    },
    {
      "cell_type": "code",
      "execution_count": 37,
      "metadata": {
        "id": "mLflDJutrQ0h"
      },
      "outputs": [
        {
          "data": {
            "image/png": "[encoded data removed]",
            "text/plain": [
              "<Figure size 640x480 with 1 Axes>"
            ]
          },
          "metadata": {},
          "output_type": "display_data"
        }
      ],
      "source": [
        "plt.plot(model_lstm_output.history['loss'])\n",
        "plt.plot(model_lstm_output.history['val_loss'])\n",
        "plt.title('Historico de train')\n",
        "plt.xlabel('Epocas de train')\n",
        "plt.ylabel('Função custo')\n",
        "plt.legend(['Erro train', 'Erro test'])\n",
        "plt.show()"
      ]
    },
    {
      "cell_type": "code",
      "execution_count": null,
      "metadata": {
        "id": "RTtErVAPKNQT"
      },
      "outputs": [],
      "source": [
        "accuracy = model_lstm.evaluate(test, y_test)[1]  # Assuming accuracy is the second metric\n",
        "print('Test Accuracy:', accuracy)"
      ]
    },
    {
      "cell_type": "code",
      "execution_count": null,
      "metadata": {
        "colab": {
          "base_uri": "https://localhost:8080/"
        },
        "id": "RTRP1HLnH5VA",
        "outputId": "16236fd5-cb67-4cc2-8018-fe7b9b86945e"
      },
      "outputs": [],
      "source": [
        "loss, accurary = model_lstm.evaluate(test, y_test, batch_size=16)\n",
        "print('Test loss/accurary:', loss, accurary)\n"
      ]
    },
    {
      "cell_type": "code",
      "execution_count": null,
      "metadata": {
        "id": "pLTGBDbnb5kg"
      },
      "outputs": [],
      "source": [
        "test[0]\n",
        "test.shape"
      ]
    },
    {
      "cell_type": "code",
      "execution_count": null,
      "metadata": {
        "id": "sCXg55GxwbGg"
      },
      "outputs": [],
      "source": [
        "i = 0\n",
        "for i in range(100):\n",
        "    a = x_test[i]\n",
        "    b = a.reshape(1, 1, 12)\n",
        "\n",
        "    # Make predictions on new data\n",
        "    prediction = model_lstm.predict(b)\n",
        "    #predicted_class = label_encoder.inverse_transform(prediction)[0]\n",
        "\n",
        "    np.round(prediction, decimals=1, out=prediction)\n",
        "    np.round(x_test[i], decimals=1, out=x_test[i])\n",
        "    #print(\"Value:\", newArray[i + start])\n",
        "    if (np.sum(y_test[i]) > 0):\n",
        "      print(\"X [:\", x_test[i])\n",
        "      print(\"Y [:\", y_test[i])\n",
        "      print(\"PC:\", prediction)\n",
        "      print (i)\n",
        "    i = 1 + 1\n",
        "#PREDICTIONS WITH COLAB MODEL\n",
        "#prediction = model.predict(teste)\n",
        "#print(\"Predicted class:\", prediction)\n",
        "#print(\"Predicted class:\", predicted_class)"
      ]
    },
    {
      "cell_type": "code",
      "execution_count": null,
      "metadata": {
        "colab": {
          "base_uri": "https://localhost:8080/"
        },
        "id": "lmrX4Kzdc0T3",
        "outputId": "3c468fe8-622f-476e-f75c-750a4878ea26"
      },
      "outputs": [],
      "source": [
        "test_value = np.array([0., 0.363, 0.313, 0., 0., 0.31, 0.393, 0., 0., 0.244, 0.247, 0.])\n",
        "test_value = test_value.reshape(1, 1, 12)\n",
        "\n",
        "# Make predictions on new data\n",
        "prediction = model_lstm.predict(test_value)\n",
        "np.round(prediction, decimals=2, out=prediction)\n",
        "\n",
        "print(\"Value    :\", test_value[0][0])\n",
        "print(\"Predicted:\", prediction[0])"
      ]
    },
    {
      "cell_type": "markdown",
      "metadata": {
        "id": "02BdeK0gJrOU"
      },
      "source": [
        "# **SAVE THE MODEL**"
      ]
    },
    {
      "cell_type": "code",
      "execution_count": null,
      "metadata": {
        "colab": {
          "base_uri": "https://localhost:8080/",
          "height": 163
        },
        "id": "KGOyK8rXJvmx",
        "outputId": "7d0a5249-f640-4945-b90c-feaa6b10b3ee"
      },
      "outputs": [],
      "source": [
        "import os\n",
        "import datetime\n",
        "\n",
        "model_name = 'lstm_model_' + datetime.datetime.now().strftime(\"%Y-%m-%d %HH%Mm%Ss\") + '.h5'\n",
        "\n",
        "# Save the model in runtime_saves/models folder\n",
        "model_lstm.save(os.path.join(\".\", 'runtime_saves', 'models', model_name))"
      ]
    },
    {
      "cell_type": "code",
      "execution_count": null,
      "metadata": {},
      "outputs": [],
      "source": [
        "# model sumary\n",
        "model_lstm.summary()"
      ]
    }
  ],
  "metadata": {
    "accelerator": "GPU",
    "colab": {
      "gpuType": "T4",
      "provenance": []
    },
    "kernelspec": {
      "display_name": "Python 3",
      "name": "python3"
    },
    "language_info": {
      "codemirror_mode": {
        "name": "ipython",
        "version": 3
      },
      "file_extension": ".py",
      "mimetype": "text/x-python",
      "name": "python",
      "nbconvert_exporter": "python",
      "pygments_lexer": "ipython3",
      "version": "3.11.4"
    }
  },
  "nbformat": 4,
  "nbformat_minor": 0
}
