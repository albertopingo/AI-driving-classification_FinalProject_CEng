{
  "cells": [
    {
      "cell_type": "markdown",
      "metadata": {
        "id": "RzTK7gM5ydFL"
      },
      "source": [
        "# **IMPORT LIBS**"
      ]
    },
    {
      "cell_type": "code",
      "execution_count": 37,
      "metadata": {
        "id": "HG6VE-z-iIFN"
      },
      "outputs": [],
      "source": [
        "import warnings\n",
        "\n",
        "import os\n",
        "import math\n",
        "import numpy as np\n",
        "import pandas as pd\n",
        "import matplotlib.pyplot as plt\n",
        "\n",
        "import tensorflow as tf\n",
        "from tensorflow.keras.optimizers import Adam\n",
        "\n",
        "\n",
        "import keras\n",
        "from keras.models import Sequential, load_model\n",
        "from keras.layers import LSTM, Dense, Dropout,Conv1D,Flatten,Bidirectional,BatchNormalization\n",
        "from keras.callbacks import EarlyStopping, ReduceLROnPlateau,ModelCheckpoint\n",
        "\n",
        "import keras.backend as K\n",
        "\n",
        "from sklearn.preprocessing import LabelEncoder\n",
        "from sklearn.metrics import confusion_matrix, ConfusionMatrixDisplay\n",
        "#from skimage.transform import rotate, shear, zoom\n",
        "#from imgaug import augmenters as iaa\n",
        "\n",
        "warnings.filterwarnings('ignore')"
      ]
    },
    {
      "cell_type": "code",
      "execution_count": 38,
      "metadata": {},
      "outputs": [
        {
          "name": "stdout",
          "output_type": "stream",
          "text": [
            "Root directory: c:\\Users\\root3\\OneDrive - IPLeiria\\Documentos\\GitHub\\FinalProject-AI-DrivingClassification\n",
            "Dataset directory: c:\\Users\\root3\\OneDrive - IPLeiria\\Documentos\\GitHub\\FinalProject-AI-DrivingClassification\\datasets\\UAH-DRIVESET-v1\\UAH-Processed\n"
          ]
        }
      ],
      "source": [
        "# Make auxiliar folders\n",
        "if not os.path.exists('runtime_saves'):\n",
        "    os.makedirs('runtime_saves')\n",
        "if not os.path.exists('runtime_saves/models'):\n",
        "    os.makedirs('runtime_saves/models')\n",
        "if not os.path.exists('runtime_saves/train&test'):\n",
        "    os.makedirs('runtime_saves/train&test')\n",
        "    \n",
        "current_dir = os.getcwd()\n",
        "\n",
        "root_dir = os.path.abspath(os.path.join(current_dir, os.pardir, os.pardir, os.pardir))\n",
        "\n",
        "datasetUAH_dir = os.path.join(root_dir, 'datasets', 'UAH-DRIVESET-v1', 'UAH-Processed')\n",
        "\n",
        "print(f'Root directory: {root_dir}')\n",
        "print(f'Dataset directory: {datasetUAH_dir}')"
      ]
    },
    {
      "cell_type": "markdown",
      "metadata": {
        "id": "RHBmH_88Ilpx"
      },
      "source": [
        "# **AUX FUNCTIONS**"
      ]
    },
    {
      "cell_type": "code",
      "execution_count": 39,
      "metadata": {
        "id": "F0lXdqGfInKu"
      },
      "outputs": [],
      "source": [
        "def save_manovers_positions_to_csv_file(gps_positions, manovers, filename):\n",
        "  output = np.zeros_like(gps_positions)\n",
        "\n",
        "  # Iterate through the elements of arr2\n",
        "  for i in range(len(manovers)):\n",
        "    # Check if the element in arr2 is 1\n",
        "    if manovers[i] == 1:\n",
        "      # Copy the corresponding values from arr1 to the output array\n",
        "      output[i] = gps_positions[i]\n",
        "\n",
        "  output = output[~np.all(output == 0, axis=1)]\n",
        "  \n",
        "  filename = 'runtime_saves/' + filename\n",
        "    \n",
        "  np.savetxt(filename, output, delimiter=',', fmt='%.9f')\n",
        "\n",
        "\n",
        "\n",
        "def separate_positives_negatives(data):\n",
        "  # Ensure the input is converted to a NumPy array for easier manipulation\n",
        "  data = np.array(data)\n",
        "\n",
        "  # Create two empty arrays to store positive and negative values\n",
        "  positives = np.zeros_like(data)\n",
        "  negatives = np.zeros_like(data)\n",
        "\n",
        "  # Use boolean indexing to separate positive and negative values\n",
        "  positives[data > 0] = data[data > 0]\n",
        "  negatives[data < 0] = -data[data < 0]\n",
        "\n",
        "  # Combine the positive and negative values into a single 2D array\n",
        "  return (positives, negatives)\n",
        "\n",
        "def normalize_between_0_and_max(data):\n",
        "  max_value = np.max(data)\n",
        "  return data / max_value\n",
        "\n",
        "def normalize_between_0_and_max_v2(data, max_value):\n",
        "  return data / max_value\n",
        "\n",
        "def split_train_test(data, test_size=0.2):\n",
        "  # Check if test_size is between 0 and 1\n",
        "  if test_size < 0 or test_size > 1:\n",
        "    raise ValueError(\"test_size must be between 0 and 1.\")\n",
        "\n",
        "  # Get the number of samples\n",
        "  num_samples = data.shape[0]\n",
        "\n",
        "  # Calculate the number of samples for each set\n",
        "  train_size = int(num_samples * (1 - test_size))\n",
        "  test_size = num_samples - train_size\n",
        "\n",
        "  # Randomly shuffle the data for better splitting (optional)\n",
        "  #np.random.shuffle(data)\n",
        "\n",
        "  # Split the data into training and test sets\n",
        "  train_data = data[:train_size]\n",
        "  test_data = data[train_size:]\n",
        "\n",
        "  return train_data, test_data\n",
        "\n",
        "def y_classification(data, threshold):\n",
        "  classification = np.zeros_like(data, dtype=int)  # Initialize output array\n",
        "\n",
        "  for col in range(0, 12):  # Loop through each column\n",
        "    max_value = np.max(data[:, col])\n",
        "    threshold_pos = max_value * threshold\n",
        "    classification[:, col] = np.where(data[:, col] >= threshold_pos, 1, 0)\n",
        "\n",
        "  return classification\n",
        "\n",
        "def max_of_vectors(vec1, vec2, vec3, vec4, vec5, vec6):\n",
        "  # Combine all vectors into a single array\n",
        "  all_vectors = np.array([vec1, vec2, vec3, vec4, vec5, vec6])\n",
        "\n",
        "  # Find the maximum value in the array\n",
        "  max_value = np.max(all_vectors)\n",
        "\n",
        "  return max_value\n",
        "\n",
        "def has_one(data):\n",
        "  \"\"\"\n",
        "  This function receives a numpy array and returns a new array\n",
        "  with 1 if the correspondent row of input array has at least one cellule with 1.\n",
        "  In other case the cellule is 0.\n",
        "\n",
        "  Args:\n",
        "      data: A numpy array of shape (n, 12) with 0 or 1 values in each cell.\n",
        "\n",
        "  Returns:\n",
        "      A numpy array of shape (n, 1) with 1s where the corresponding row in data has at least one 1, and 0s otherwise.\n",
        "  \"\"\"\n",
        "  # We sum each row, and any value greater than zero indicates at least one 1 in that row\n",
        "  return np.sum(data, axis=1)[:, np.newaxis] > 0"
      ]
    },
    {
      "cell_type": "markdown",
      "metadata": {
        "id": "aATQYo4TiWrU"
      },
      "source": [
        "# **IMPORT DATA**"
      ]
    },
    {
      "cell_type": "code",
      "execution_count": 40,
      "metadata": {
        "id": "B5wPPy3OiYj9"
      },
      "outputs": [
        {
          "name": "stdout",
          "output_type": "stream",
          "text": [
            "20151110175712-16km-D1-NORMAL1-SECONDARY.csv added to the dataframe\n",
            "20151110180824-16km-D1-NORMAL2-SECONDARY.csv added to the dataframe\n",
            "20151111123124-25km-D1-NORMAL-MOTORWAY.csv added to the dataframe\n",
            "20151111125233-24km-D1-AGGRESSIVE-MOTORWAY.csv added to the dataframe\n",
            "20151111132348-25km-D1-DROWSY-MOTORWAY.csv added to the dataframe\n",
            "20151111134545-16km-D1-AGGRESSIVE-SECONDARY.csv added to the dataframe\n",
            "20151111135612-13km-D1-DROWSY-SECONDARY.csv added to the dataframe\n",
            "20151120131714-26km-D2-NORMAL-MOTORWAY.csv added to the dataframe\n",
            "20151120133502-26km-D2-AGGRESSIVE-MOTORWAY.csv added to the dataframe\n",
            "20151120135152-25km-D2-DROWSY-MOTORWAY.csv added to the dataframe\n",
            "20151120160904-16km-D2-NORMAL1-SECONDARY.csv added to the dataframe\n",
            "20151120162105-17km-D2-NORMAL2-SECONDARY.csv added to the dataframe\n",
            "20151120163350-16km-D2-AGGRESSIVE-SECONDARY.csv added to the dataframe\n",
            "20151120164606-16km-D2-DROWSY-SECONDARY.csv added to the dataframe\n",
            "20151126110502-26km-D3-NORMAL-MOTORWAY.csv added to the dataframe\n",
            "20151126113754-26km-D3-DROWSY-MOTORWAY.csv added to the dataframe\n",
            "20151126124208-16km-D3-NORMAL1-SECONDARY.csv added to the dataframe\n",
            "20151126125458-16km-D3-NORMAL2-SECONDARY.csv added to the dataframe\n",
            "20151126130707-16km-D3-AGGRESSIVE-SECONDARY.csv added to the dataframe\n",
            "20151126132013-17km-D3-DROWSY-SECONDARY.csv added to the dataframe\n",
            "20151126134736-26km-D3-AGGRESSIVE-MOTORWAY.csv added to the dataframe\n",
            "20151203171800-16km-D4-NORMAL1-SECONDARY.csv added to the dataframe\n",
            "20151203173103-17km-D4-NORMAL2-SECONDARY.csv added to the dataframe\n",
            "20151203174324-16km-D4-AGGRESSIVE-SECONDARY.csv added to the dataframe\n",
            "20151203175637-17km-D4-DROWSY-SECONDARY.csv added to the dataframe\n",
            "20151204152848-25km-D4-NORMAL-MOTORWAY.csv added to the dataframe\n",
            "20151204154908-25km-D4-AGGRESSIVE-MOTORWAY.csv added to the dataframe\n",
            "20151204160823-25km-D4-DROWSY-MOTORWAY.csv added to the dataframe\n",
            "20151209151242-25km-D5-NORMAL-MOTORWAY.csv added to the dataframe\n",
            "20151209153137-25km-D5-AGGRESSIVE-MOTORWAY.csv added to the dataframe\n",
            "20151211160213-25km-D5-DROWSY-MOTORWAY.csv added to the dataframe\n",
            "20151211162829-16km-D5-NORMAL1-SECONDARY.csv added to the dataframe\n",
            "20151211164124-17km-D5-NORMAL2-SECONDARY.csv added to the dataframe\n",
            "20151211165606-12km-D5-AGGRESSIVE-SECONDARY.csv added to the dataframe\n",
            "20151211170502-16km-D5-DROWSY-SECONDARY.csv added to the dataframe\n",
            "20151217162714-26km-D6-NORMAL-MOTORWAY.csv added to the dataframe\n",
            "20151217164730-25km-D6-DROWSY-MOTORWAY.csv added to the dataframe\n",
            "20151221112434-17km-D6-NORMAL-SECONDARY.csv added to the dataframe\n",
            "20151221113846-16km-D6-DROWSY-SECONDARY.csv added to the dataframe\n",
            "20151221120051-26km-D6-AGGRESSIVE-MOTORWAY.csv added to the dataframe\n"
          ]
        }
      ],
      "source": [
        "# Empty dataframe necessary columns\n",
        "df = pd.DataFrame(columns=['accelerometerXAxis', 'accelerometerYAxis', 'accelerometerZAxis', 'gyroscopeXAxis', 'gyroscopeYAxis', 'gyroscopeZAxis', 'latitude', 'longitude'])\n",
        "\n",
        "\n",
        "acelX = df['accelerometerXAxis']\n",
        "acelY = df['accelerometerYAxis']\n",
        "acelZ = df['accelerometerZAxis']\n",
        "\n",
        "gyrX = df['gyroscopeXAxis']\n",
        "gyrY = df['gyroscopeYAxis']\n",
        "gyrZ = df['gyroscopeZAxis']\n",
        "\n",
        "latitude = df['latitude']\n",
        "longitude = df['longitude']\n",
        "\n",
        "# Loop through all the files in the dataset directory\n",
        "for root, dirs, files in os.walk(datasetUAH_dir):\n",
        "    for file in files:\n",
        "        if file.endswith(\".csv\"):\n",
        "            df_aux = pd.read_csv(os.path.join(root, file))\n",
        "            \n",
        "            acelX = pd.concat([acelX, df_aux['accelerometerXAxis']])\n",
        "            acelY = pd.concat([acelY, df_aux['accelerometerYAxis']])\n",
        "            acelZ = pd.concat([acelZ, df_aux['accelerometerZAxis']])\n",
        "            gyrX = pd.concat([gyrX, df_aux['gyroscopeXAxis']])\n",
        "            gyrY = pd.concat([gyrY, df_aux['gyroscopeYAxis']])\n",
        "            gyrZ = pd.concat([gyrZ, df_aux['gyroscopeZAxis']])\n",
        "            latitude = pd.concat([latitude, df_aux['latitude']])\n",
        "            longitude = pd.concat([longitude, df_aux['longitude']])\n",
        "            \n",
        "            print(f'{file} added to the dataframe')"
      ]
    },
    {
      "cell_type": "code",
      "execution_count": 41,
      "metadata": {
        "colab": {
          "base_uri": "https://localhost:8080/"
        },
        "id": "ZzW3XSugY8m3",
        "outputId": "809859f8-a9ef-4638-c9be-f3536c2556c9"
      },
      "outputs": [
        {
          "name": "stdout",
          "output_type": "stream",
          "text": [
            "count       0\n",
            "unique      0\n",
            "top       NaN\n",
            "freq      NaN\n",
            "Name: accelerometerXAxis, dtype: object\n",
            "count       0\n",
            "unique      0\n",
            "top       NaN\n",
            "freq      NaN\n",
            "Name: accelerometerYAxis, dtype: object\n",
            "count       0\n",
            "unique      0\n",
            "top       NaN\n",
            "freq      NaN\n",
            "Name: accelerometerZAxis, dtype: object\n",
            "count       0\n",
            "unique      0\n",
            "top       NaN\n",
            "freq      NaN\n",
            "Name: gyroscopeXAxis, dtype: object\n",
            "count       0\n",
            "unique      0\n",
            "top       NaN\n",
            "freq      NaN\n",
            "Name: gyroscopeYAxis, dtype: object\n",
            "count       0\n",
            "unique      0\n",
            "top       NaN\n",
            "freq      NaN\n",
            "Name: gyroscopeZAxis, dtype: object\n"
          ]
        }
      ],
      "source": [
        "print(df['accelerometerXAxis'].describe())\n",
        "print(df['accelerometerYAxis'].describe())\n",
        "print(df['accelerometerZAxis'].describe())\n",
        "print(df['gyroscopeXAxis'].describe())\n",
        "print(df['gyroscopeYAxis'].describe())\n",
        "print(df['gyroscopeZAxis'].describe())"
      ]
    },
    {
      "cell_type": "markdown",
      "metadata": {
        "id": "eb3I99C7ASnM"
      },
      "source": [
        "# **SEPARATE DATA BY MANOVER**"
      ]
    },
    {
      "cell_type": "code",
      "execution_count": 42,
      "metadata": {
        "id": "IaJIdH4qvx0t"
      },
      "outputs": [],
      "source": [
        "turnRightX, turnLeftX = separate_positives_negatives(acelX)\n",
        "\n",
        "accelY, breakY = separate_positives_negatives(acelY)\n",
        "\n",
        "positiveZ, negativeZ = separate_positives_negatives(acelZ)\n",
        "\n",
        "gyrPositiveX, gyrNegativeX = separate_positives_negatives(gyrX)\n",
        "gyrPositiveY, gyrNegativeY = separate_positives_negatives(gyrY)\n",
        "gyrPositiveZ, gyrNegativeZ = separate_positives_negatives(gyrZ)"
      ]
    },
    {
      "cell_type": "code",
      "execution_count": 43,
      "metadata": {
        "colab": {
          "base_uri": "https://localhost:8080/"
        },
        "id": "OHxP7SVfGrX6",
        "outputId": "462b33e6-f35f-4fe1-bc33-f89dcfe106b5"
      },
      "outputs": [
        {
          "data": {
            "text/plain": [
              "(306303,)"
            ]
          },
          "execution_count": 43,
          "metadata": {},
          "output_type": "execute_result"
        }
      ],
      "source": [
        "turnRightX.shape"
      ]
    },
    {
      "cell_type": "markdown",
      "metadata": {
        "id": "N01_nop2Znt5"
      },
      "source": [
        "# **CLASSIFICATION BASED ON NOT NORMALIZED VALUES**"
      ]
    },
    {
      "cell_type": "code",
      "execution_count": 44,
      "metadata": {
        "id": "ELrWyhmuZnHS"
      },
      "outputs": [],
      "source": [
        "#x1 = np.array(list(zip(turnRightX, turnLeftX, accelY, breakY, positiveZ, negativeZ, gyrPositiveX, gyrNegativeX, gyrPositiveY, gyrNegativeY, gyrPositiveZ, gyrNegativeZ)))\n",
        "\n",
        "#y = y_classification(x1, 0.25)\n",
        "#print (np.sum(y, axis=0))\n",
        "#np.savetxt(\"Y.csv\", y, delimiter=',', fmt='%.0i')"
      ]
    },
    {
      "cell_type": "markdown",
      "metadata": {
        "id": "SPIA30JzCcST"
      },
      "source": [
        "# **NORMALIZE DATA**"
      ]
    },
    {
      "cell_type": "code",
      "execution_count": 45,
      "metadata": {
        "id": "bTCRAhTXZXNL"
      },
      "outputs": [],
      "source": [
        "max_accel = max_of_vectors(turnRightX, turnLeftX, accelY, breakY, positiveZ, negativeZ)\n",
        "max_gyr = max_of_vectors(gyrPositiveX, gyrNegativeX, gyrPositiveY, gyrNegativeY, gyrPositiveZ, gyrNegativeZ)\n",
        "\n",
        "turnRightXn = normalize_between_0_and_max_v2(turnRightX, max_accel)\n",
        "turnLeftXn = normalize_between_0_and_max_v2(turnLeftX, max_accel)\n",
        "accelYn = normalize_between_0_and_max_v2(accelY, max_accel)\n",
        "breakYn = normalize_between_0_and_max_v2(breakY, max_accel)\n",
        "positiveZn = normalize_between_0_and_max_v2(positiveZ, max_accel)\n",
        "negativeZn = normalize_between_0_and_max_v2(negativeZ, max_accel)\n",
        "gyrPositiveXn = normalize_between_0_and_max_v2(gyrPositiveX, max_gyr)\n",
        "gyrNegativeXn = normalize_between_0_and_max_v2(gyrNegativeX, max_gyr)\n",
        "gyrPositiveYn = normalize_between_0_and_max_v2(gyrPositiveY, max_gyr)\n",
        "gyrNegativeYn = normalize_between_0_and_max_v2(gyrNegativeY, max_gyr)\n",
        "gyrPositiveZn = normalize_between_0_and_max_v2(gyrPositiveZ, max_gyr)\n",
        "gyrNegativeZn = normalize_between_0_and_max_v2(gyrNegativeZ, max_gyr)"
      ]
    },
    {
      "cell_type": "markdown",
      "metadata": {
        "id": "YrtvVRZ0Avz8"
      },
      "source": [
        "# **CREATE AN ARRAY WITH ALL DATA**"
      ]
    },
    {
      "cell_type": "code",
      "execution_count": 46,
      "metadata": {
        "id": "ppkRUVMX1c7W"
      },
      "outputs": [],
      "source": [
        "x = np.array(list(zip(turnRightXn, turnLeftXn, accelYn, breakYn, positiveZn, negativeZn, gyrPositiveXn, gyrNegativeXn, gyrPositiveYn, gyrNegativeYn, gyrPositiveZn, gyrNegativeZn)))"
      ]
    },
    {
      "cell_type": "code",
      "execution_count": 47,
      "metadata": {
        "id": "vX4JSKAddzy0"
      },
      "outputs": [
        {
          "data": {
            "text/plain": [
              "(306303, 12)"
            ]
          },
          "execution_count": 47,
          "metadata": {},
          "output_type": "execute_result"
        }
      ],
      "source": [
        "x.shape"
      ]
    },
    {
      "cell_type": "code",
      "execution_count": 48,
      "metadata": {
        "colab": {
          "base_uri": "https://localhost:8080/"
        },
        "id": "tJVtNOyF3bU5",
        "outputId": "a8fca71e-9321-4b0d-d334-51b8ba23f123"
      },
      "outputs": [
        {
          "name": "stdout",
          "output_type": "stream",
          "text": [
            "[   224   1810   1464   7884   2918    390 306303 306303   4944   8828\n",
            "  72830  80789]\n",
            "[[0 0 0 ... 0 0 0]\n",
            " [0 0 0 ... 0 0 0]\n",
            " [0 0 0 ... 0 0 0]\n",
            " ...\n",
            " [0 0 0 ... 1 1 0]\n",
            " [0 0 0 ... 1 1 0]\n",
            " [0 0 0 ... 1 1 0]]\n"
          ]
        }
      ],
      "source": [
        "y = y_classification(x, 0.3)\n",
        "print (np.sum(y, axis=0))\n",
        "\n",
        "filename = 'runtime_saves/' + 'Y.csv'\n",
        "print(y)\n",
        "\n",
        "np.savetxt(filename, y, delimiter=',', fmt='%.0i')"
      ]
    },
    {
      "cell_type": "markdown",
      "metadata": {
        "id": "0IZvV0MhdLBy"
      },
      "source": [
        "# **SHOW MANOVERS ON GOOLGE MAP**"
      ]
    },
    {
      "cell_type": "code",
      "execution_count": 49,
      "metadata": {
        "id": "yvW2QnkTdRiA"
      },
      "outputs": [],
      "source": [
        "positions = np.array(list(zip(latitude, longitude)))\n",
        "manover_accelY = y[:, 2]\n",
        "manover_breakY = y[:, 3]\n",
        "manover_turnRightXn = y[:, 0]\n",
        "manover_turnLeftXn = y[:, 1]\n",
        "gyrPositiveZn = y[:, 10]\n",
        "gyrNegativeZn = y[:, 11]\n",
        "save_manovers_positions_to_csv_file(positions, manover_accelY, \"accelY.csv\")\n",
        "save_manovers_positions_to_csv_file(positions, manover_breakY, \"breakY.csv\")\n",
        "save_manovers_positions_to_csv_file(positions, manover_turnRightXn, \"turnRightX.csv\")\n",
        "save_manovers_positions_to_csv_file(positions, manover_turnLeftXn, \"turnLeftX.csv\")\n",
        "save_manovers_positions_to_csv_file(positions, gyrPositiveZn, \"gyrPositZ.csv\")\n",
        "save_manovers_positions_to_csv_file(positions, gyrNegativeZn, \"gyrNegZ.csv\")"
      ]
    },
    {
      "cell_type": "markdown",
      "metadata": {
        "id": "Fe_78VHvBRJQ"
      },
      "source": [
        "# **PLOT MANOVERS**"
      ]
    },
    {
      "cell_type": "code",
      "execution_count": 50,
      "metadata": {
        "id": "cksFepBiioYu"
      },
      "outputs": [
        {
          "data": {
            "image/png": "[encoded data removed]",
            "text/plain": [
              "<Figure size 640x480 with 1 Axes>"
            ]
          },
          "metadata": {},
          "output_type": "display_data"
        }
      ],
      "source": [
        "plt.plot(y[:, 2], marker='.', linestyle='none')\n",
        "plt.plot(y[:, 3], marker='.', linestyle='none')\n",
        "\n",
        "plt.legend(['Accel Y', 'Break Y'])\n",
        "plt.show()"
      ]
    },
    {
      "cell_type": "markdown",
      "metadata": {
        "id": "lB-CdF_MGToJ"
      },
      "source": [
        "# **SEPARATE DATA IN TRAIN AND TEST**"
      ]
    },
    {
      "cell_type": "code",
      "execution_count": 51,
      "metadata": {
        "id": "Bd56BA3fIORH"
      },
      "outputs": [],
      "source": [
        "x_train, x_test = split_train_test(x, test_size=0.2)\n",
        "\n",
        "y_train, y_test = split_train_test(y, test_size=0.2)"
      ]
    },
    {
      "cell_type": "markdown",
      "metadata": {
        "id": "6d5xKgrEC-ks"
      },
      "source": [
        "# **CREATE THE INPUT TENSORES DATA**"
      ]
    },
    {
      "cell_type": "code",
      "execution_count": 52,
      "metadata": {
        "id": "EOkN2T88doeE"
      },
      "outputs": [
        {
          "name": "stdout",
          "output_type": "stream",
          "text": [
            "(245042, 1, 12)\n",
            "(61261, 1, 12)\n"
          ]
        }
      ],
      "source": [
        "train = x_train.reshape(x_train.shape[0], 1, x_train.shape[1])\n",
        "test = x_test.reshape(x_test.shape[0], 1, x_test.shape[1])\n",
        "\n",
        "print(train.shape)\n",
        "print(test.shape)\n",
        "\n",
        "np.savetxt(\"runtime_saves/train&test/x_train.csv\", x_train, delimiter=',', fmt='%.9f')\n",
        "np.savetxt(\"runtime_saves/train&test/x_test.csv\", x_test, delimiter=',', fmt='%.9f')\n",
        "np.savetxt(\"runtime_saves/train&test/y_train.csv\", y_train, delimiter=',', fmt='%.0i')\n",
        "np.savetxt(\"runtime_saves/train&test/y_test.csv\", y_test, delimiter=',', fmt='%.0i')\n",
        "\n",
        "np.savetxt(\"runtime_saves/train&test/train.csv\", train.reshape(train.shape[0], train.shape[2]), delimiter=',', fmt='%.9f')\n",
        "np.savetxt(\"runtime_saves/train&test/test.csv\", test.reshape(test.shape[0], test.shape[2]), delimiter=',', fmt='%.9f')"
      ]
    },
    {
      "cell_type": "markdown",
      "metadata": {
        "id": "wBfgiQgAGZPW"
      },
      "source": [
        "# **CREATE THE MODEL**"
      ]
    },
    {
      "cell_type": "code",
      "execution_count": 53,
      "metadata": {
        "id": "4wdxfd2JJwmh"
      },
      "outputs": [],
      "source": [
        "# Clear session\n",
        "K.clear_session()\n",
        "\n",
        "# Model configuration\n",
        "dropout1 = 0.5\n",
        "dropout2 = 0.2\n",
        "dropout3 = 0.1\n",
        "initial_learning_rate = 0.001\n",
        "\n",
        "# Define the model\n",
        "model_lstm = Sequential()\n",
        "model_lstm.add(Bidirectional(LSTM(64, return_sequences=True), input_shape=(train.shape[1], train.shape[2])))\n",
        "model_lstm.add(BatchNormalization())\n",
        "model_lstm.add(Dropout(dropout1))\n",
        "model_lstm.add(Bidirectional(LSTM(64, return_sequences=False)))\n",
        "model_lstm.add(BatchNormalization())\n",
        "model_lstm.add(Dropout(dropout2))\n",
        "model_lstm.add(Dense(64, activation='relu'))\n",
        "model_lstm.add(BatchNormalization())\n",
        "model_lstm.add(Dropout(dropout3))\n",
        "model_lstm.add(Dense(12, activation='sigmoid'))\n",
        "\n",
        "\n",
        "\n",
        "# Compile the model\n",
        "model_lstm.compile(loss='binary_crossentropy',optimizer='adam',metrics=['accuracy'])"
      ]
    },
    {
      "cell_type": "markdown",
      "metadata": {
        "id": "khawMeLUGczr"
      },
      "source": [
        "# **TRAIN THE MODEL**"
      ]
    },
    {
      "cell_type": "code",
      "execution_count": 55,
      "metadata": {
        "colab": {
          "base_uri": "https://localhost:8080/"
        },
        "id": "NNkg4Mr-K36t",
        "outputId": "c5ced2dc-cc07-4cc5-d922-f176e6e16542"
      },
      "outputs": [
        {
          "name": "stdout",
          "output_type": "stream",
          "text": [
            "Epoch 1/10\n",
            "\u001b[1m240/240\u001b[0m \u001b[32m━━━━━━━━━━━━━━━━━━━━\u001b[0m\u001b[37m\u001b[0m \u001b[1m7s\u001b[0m 29ms/step - accuracy: 0.2559 - loss: 0.0228 - val_accuracy: 0.1442 - val_loss: 0.0203 - learning_rate: 0.0010\n",
            "Epoch 2/10\n",
            "\u001b[1m240/240\u001b[0m \u001b[32m━━━━━━━━━━━━━━━━━━━━\u001b[0m\u001b[37m\u001b[0m \u001b[1m6s\u001b[0m 26ms/step - accuracy: 0.2424 - loss: 0.0129 - val_accuracy: 0.2996 - val_loss: 0.0106 - learning_rate: 0.0010\n",
            "Epoch 3/10\n",
            "\u001b[1m240/240\u001b[0m \u001b[32m━━━━━━━━━━━━━━━━━━━━\u001b[0m\u001b[37m\u001b[0m \u001b[1m6s\u001b[0m 27ms/step - accuracy: 0.2582 - loss: 0.0097 - val_accuracy: 0.3867 - val_loss: 0.0085 - learning_rate: 0.0010\n",
            "Epoch 4/10\n",
            "\u001b[1m240/240\u001b[0m \u001b[32m━━━━━━━━━━━━━━━━━━━━\u001b[0m\u001b[37m\u001b[0m \u001b[1m7s\u001b[0m 27ms/step - accuracy: 0.2686 - loss: 0.0082 - val_accuracy: 0.4464 - val_loss: 0.0070 - learning_rate: 0.0010\n",
            "Epoch 5/10\n",
            "\u001b[1m240/240\u001b[0m \u001b[32m━━━━━━━━━━━━━━━━━━━━\u001b[0m\u001b[37m\u001b[0m \u001b[1m6s\u001b[0m 26ms/step - accuracy: 0.2864 - loss: 0.0068 - val_accuracy: 0.4256 - val_loss: 0.0057 - learning_rate: 0.0010\n",
            "Epoch 6/10\n",
            "\u001b[1m107/240\u001b[0m \u001b[32m━━━━━━━━\u001b[0m\u001b[37m━━━━━━━━━━━━\u001b[0m \u001b[1m3s\u001b[0m 28ms/step - accuracy: 0.2789 - loss: 0.0066"
          ]
        },
        {
          "ename": "KeyboardInterrupt",
          "evalue": "",
          "output_type": "error",
          "traceback": [
            "\u001b[1;31m---------------------------------------------------------------------------\u001b[0m",
            "\u001b[1;31mKeyboardInterrupt\u001b[0m                         Traceback (most recent call last)",
            "Cell \u001b[1;32mIn[55], line 9\u001b[0m\n\u001b[0;32m      4\u001b[0m model_checkpoint \u001b[38;5;241m=\u001b[39m ModelCheckpoint(\u001b[38;5;124m'\u001b[39m\u001b[38;5;124mbest_models/best_model_BILSTM.keras\u001b[39m\u001b[38;5;124m'\u001b[39m, monitor\u001b[38;5;241m=\u001b[39m\u001b[38;5;124m'\u001b[39m\u001b[38;5;124mval_loss\u001b[39m\u001b[38;5;124m'\u001b[39m, save_best_only\u001b[38;5;241m=\u001b[39m\u001b[38;5;28;01mTrue\u001b[39;00m)\n\u001b[0;32m      8\u001b[0m \u001b[38;5;66;03m# Train the model\u001b[39;00m\n\u001b[1;32m----> 9\u001b[0m model_lstm_output \u001b[38;5;241m=\u001b[39m \u001b[43mmodel_lstm\u001b[49m\u001b[38;5;241;43m.\u001b[39;49m\u001b[43mfit\u001b[49m\u001b[43m(\u001b[49m\u001b[43mtrain\u001b[49m\u001b[43m,\u001b[49m\u001b[43m \u001b[49m\u001b[43my_train\u001b[49m\u001b[43m,\u001b[49m\u001b[43m \u001b[49m\u001b[43mepochs\u001b[49m\u001b[38;5;241;43m=\u001b[39;49m\u001b[38;5;241;43m10\u001b[39;49m\u001b[43m,\u001b[49m\u001b[43m  \u001b[49m\u001b[43mbatch_size\u001b[49m\u001b[38;5;241;43m=\u001b[39;49m\u001b[38;5;241;43m1024\u001b[39;49m\u001b[43m,\u001b[49m\u001b[43m \u001b[49m\u001b[43mcallbacks\u001b[49m\u001b[38;5;241;43m=\u001b[39;49m\u001b[43m[\u001b[49m\u001b[43mearly_stopping\u001b[49m\u001b[43m,\u001b[49m\u001b[43mmodel_checkpoint\u001b[49m\u001b[43m,\u001b[49m\u001b[43mreduce_lr\u001b[49m\u001b[43m]\u001b[49m\u001b[43m,\u001b[49m\u001b[43m \u001b[49m\u001b[43mvalidation_data\u001b[49m\u001b[38;5;241;43m=\u001b[39;49m\u001b[43m(\u001b[49m\u001b[43mtest\u001b[49m\u001b[43m,\u001b[49m\u001b[43m \u001b[49m\u001b[43my_test\u001b[49m\u001b[43m)\u001b[49m\u001b[43m)\u001b[49m\n",
            "File \u001b[1;32m~\\AppData\\Local\\Packages\\PythonSoftwareFoundation.Python.3.10_qbz5n2kfra8p0\\LocalCache\\local-packages\\Python310\\site-packages\\keras\\src\\utils\\traceback_utils.py:118\u001b[0m, in \u001b[0;36mfilter_traceback.<locals>.error_handler\u001b[1;34m(*args, **kwargs)\u001b[0m\n\u001b[0;32m    116\u001b[0m filtered_tb \u001b[38;5;241m=\u001b[39m \u001b[38;5;28;01mNone\u001b[39;00m\n\u001b[0;32m    117\u001b[0m \u001b[38;5;28;01mtry\u001b[39;00m:\n\u001b[1;32m--> 118\u001b[0m     \u001b[38;5;28;01mreturn\u001b[39;00m fn(\u001b[38;5;241m*\u001b[39margs, \u001b[38;5;241m*\u001b[39m\u001b[38;5;241m*\u001b[39mkwargs)\n\u001b[0;32m    119\u001b[0m \u001b[38;5;28;01mexcept\u001b[39;00m \u001b[38;5;167;01mException\u001b[39;00m \u001b[38;5;28;01mas\u001b[39;00m e:\n\u001b[0;32m    120\u001b[0m     filtered_tb \u001b[38;5;241m=\u001b[39m _process_traceback_frames(e\u001b[38;5;241m.\u001b[39m__traceback__)\n",
            "File \u001b[1;32m~\\AppData\\Local\\Packages\\PythonSoftwareFoundation.Python.3.10_qbz5n2kfra8p0\\LocalCache\\local-packages\\Python310\\site-packages\\keras\\src\\backend\\tensorflow\\trainer.py:323\u001b[0m, in \u001b[0;36mTensorFlowTrainer.fit\u001b[1;34m(self, x, y, batch_size, epochs, verbose, callbacks, validation_split, validation_data, shuffle, class_weight, sample_weight, initial_epoch, steps_per_epoch, validation_steps, validation_batch_size, validation_freq)\u001b[0m\n\u001b[0;32m    321\u001b[0m \u001b[38;5;28;01mfor\u001b[39;00m step, iterator \u001b[38;5;129;01min\u001b[39;00m epoch_iterator\u001b[38;5;241m.\u001b[39menumerate_epoch():\n\u001b[0;32m    322\u001b[0m     callbacks\u001b[38;5;241m.\u001b[39mon_train_batch_begin(step)\n\u001b[1;32m--> 323\u001b[0m     logs \u001b[38;5;241m=\u001b[39m \u001b[38;5;28;43mself\u001b[39;49m\u001b[38;5;241;43m.\u001b[39;49m\u001b[43mtrain_function\u001b[49m\u001b[43m(\u001b[49m\u001b[43miterator\u001b[49m\u001b[43m)\u001b[49m\n\u001b[0;32m    324\u001b[0m     callbacks\u001b[38;5;241m.\u001b[39mon_train_batch_end(\n\u001b[0;32m    325\u001b[0m         step, \u001b[38;5;28mself\u001b[39m\u001b[38;5;241m.\u001b[39m_pythonify_logs(logs)\n\u001b[0;32m    326\u001b[0m     )\n\u001b[0;32m    327\u001b[0m     \u001b[38;5;28;01mif\u001b[39;00m \u001b[38;5;28mself\u001b[39m\u001b[38;5;241m.\u001b[39mstop_training:\n",
            "File \u001b[1;32m~\\AppData\\Local\\Packages\\PythonSoftwareFoundation.Python.3.10_qbz5n2kfra8p0\\LocalCache\\local-packages\\Python310\\site-packages\\tensorflow\\python\\util\\traceback_utils.py:150\u001b[0m, in \u001b[0;36mfilter_traceback.<locals>.error_handler\u001b[1;34m(*args, **kwargs)\u001b[0m\n\u001b[0;32m    148\u001b[0m filtered_tb \u001b[38;5;241m=\u001b[39m \u001b[38;5;28;01mNone\u001b[39;00m\n\u001b[0;32m    149\u001b[0m \u001b[38;5;28;01mtry\u001b[39;00m:\n\u001b[1;32m--> 150\u001b[0m   \u001b[38;5;28;01mreturn\u001b[39;00m fn(\u001b[38;5;241m*\u001b[39margs, \u001b[38;5;241m*\u001b[39m\u001b[38;5;241m*\u001b[39mkwargs)\n\u001b[0;32m    151\u001b[0m \u001b[38;5;28;01mexcept\u001b[39;00m \u001b[38;5;167;01mException\u001b[39;00m \u001b[38;5;28;01mas\u001b[39;00m e:\n\u001b[0;32m    152\u001b[0m   filtered_tb \u001b[38;5;241m=\u001b[39m _process_traceback_frames(e\u001b[38;5;241m.\u001b[39m__traceback__)\n",
            "File \u001b[1;32m~\\AppData\\Local\\Packages\\PythonSoftwareFoundation.Python.3.10_qbz5n2kfra8p0\\LocalCache\\local-packages\\Python310\\site-packages\\tensorflow\\python\\eager\\polymorphic_function\\polymorphic_function.py:833\u001b[0m, in \u001b[0;36mFunction.__call__\u001b[1;34m(self, *args, **kwds)\u001b[0m\n\u001b[0;32m    830\u001b[0m compiler \u001b[38;5;241m=\u001b[39m \u001b[38;5;124m\"\u001b[39m\u001b[38;5;124mxla\u001b[39m\u001b[38;5;124m\"\u001b[39m \u001b[38;5;28;01mif\u001b[39;00m \u001b[38;5;28mself\u001b[39m\u001b[38;5;241m.\u001b[39m_jit_compile \u001b[38;5;28;01melse\u001b[39;00m \u001b[38;5;124m\"\u001b[39m\u001b[38;5;124mnonXla\u001b[39m\u001b[38;5;124m\"\u001b[39m\n\u001b[0;32m    832\u001b[0m \u001b[38;5;28;01mwith\u001b[39;00m OptionalXlaContext(\u001b[38;5;28mself\u001b[39m\u001b[38;5;241m.\u001b[39m_jit_compile):\n\u001b[1;32m--> 833\u001b[0m   result \u001b[38;5;241m=\u001b[39m \u001b[38;5;28mself\u001b[39m\u001b[38;5;241m.\u001b[39m_call(\u001b[38;5;241m*\u001b[39margs, \u001b[38;5;241m*\u001b[39m\u001b[38;5;241m*\u001b[39mkwds)\n\u001b[0;32m    835\u001b[0m new_tracing_count \u001b[38;5;241m=\u001b[39m \u001b[38;5;28mself\u001b[39m\u001b[38;5;241m.\u001b[39mexperimental_get_tracing_count()\n\u001b[0;32m    836\u001b[0m without_tracing \u001b[38;5;241m=\u001b[39m (tracing_count \u001b[38;5;241m==\u001b[39m new_tracing_count)\n",
            "File \u001b[1;32m~\\AppData\\Local\\Packages\\PythonSoftwareFoundation.Python.3.10_qbz5n2kfra8p0\\LocalCache\\local-packages\\Python310\\site-packages\\tensorflow\\python\\eager\\polymorphic_function\\polymorphic_function.py:878\u001b[0m, in \u001b[0;36mFunction._call\u001b[1;34m(self, *args, **kwds)\u001b[0m\n\u001b[0;32m    875\u001b[0m \u001b[38;5;28mself\u001b[39m\u001b[38;5;241m.\u001b[39m_lock\u001b[38;5;241m.\u001b[39mrelease()\n\u001b[0;32m    876\u001b[0m \u001b[38;5;66;03m# In this case we have not created variables on the first call. So we can\u001b[39;00m\n\u001b[0;32m    877\u001b[0m \u001b[38;5;66;03m# run the first trace but we should fail if variables are created.\u001b[39;00m\n\u001b[1;32m--> 878\u001b[0m results \u001b[38;5;241m=\u001b[39m \u001b[43mtracing_compilation\u001b[49m\u001b[38;5;241;43m.\u001b[39;49m\u001b[43mcall_function\u001b[49m\u001b[43m(\u001b[49m\n\u001b[0;32m    879\u001b[0m \u001b[43m    \u001b[49m\u001b[43margs\u001b[49m\u001b[43m,\u001b[49m\u001b[43m \u001b[49m\u001b[43mkwds\u001b[49m\u001b[43m,\u001b[49m\u001b[43m \u001b[49m\u001b[38;5;28;43mself\u001b[39;49m\u001b[38;5;241;43m.\u001b[39;49m\u001b[43m_variable_creation_config\u001b[49m\n\u001b[0;32m    880\u001b[0m \u001b[43m\u001b[49m\u001b[43m)\u001b[49m\n\u001b[0;32m    881\u001b[0m \u001b[38;5;28;01mif\u001b[39;00m \u001b[38;5;28mself\u001b[39m\u001b[38;5;241m.\u001b[39m_created_variables:\n\u001b[0;32m    882\u001b[0m   \u001b[38;5;28;01mraise\u001b[39;00m \u001b[38;5;167;01mValueError\u001b[39;00m(\u001b[38;5;124m\"\u001b[39m\u001b[38;5;124mCreating variables on a non-first call to a function\u001b[39m\u001b[38;5;124m\"\u001b[39m\n\u001b[0;32m    883\u001b[0m                    \u001b[38;5;124m\"\u001b[39m\u001b[38;5;124m decorated with tf.function.\u001b[39m\u001b[38;5;124m\"\u001b[39m)\n",
            "File \u001b[1;32m~\\AppData\\Local\\Packages\\PythonSoftwareFoundation.Python.3.10_qbz5n2kfra8p0\\LocalCache\\local-packages\\Python310\\site-packages\\tensorflow\\python\\eager\\polymorphic_function\\tracing_compilation.py:139\u001b[0m, in \u001b[0;36mcall_function\u001b[1;34m(args, kwargs, tracing_options)\u001b[0m\n\u001b[0;32m    137\u001b[0m bound_args \u001b[38;5;241m=\u001b[39m function\u001b[38;5;241m.\u001b[39mfunction_type\u001b[38;5;241m.\u001b[39mbind(\u001b[38;5;241m*\u001b[39margs, \u001b[38;5;241m*\u001b[39m\u001b[38;5;241m*\u001b[39mkwargs)\n\u001b[0;32m    138\u001b[0m flat_inputs \u001b[38;5;241m=\u001b[39m function\u001b[38;5;241m.\u001b[39mfunction_type\u001b[38;5;241m.\u001b[39munpack_inputs(bound_args)\n\u001b[1;32m--> 139\u001b[0m \u001b[38;5;28;01mreturn\u001b[39;00m \u001b[43mfunction\u001b[49m\u001b[38;5;241;43m.\u001b[39;49m\u001b[43m_call_flat\u001b[49m\u001b[43m(\u001b[49m\u001b[43m  \u001b[49m\u001b[38;5;66;43;03m# pylint: disable=protected-access\u001b[39;49;00m\n\u001b[0;32m    140\u001b[0m \u001b[43m    \u001b[49m\u001b[43mflat_inputs\u001b[49m\u001b[43m,\u001b[49m\u001b[43m \u001b[49m\u001b[43mcaptured_inputs\u001b[49m\u001b[38;5;241;43m=\u001b[39;49m\u001b[43mfunction\u001b[49m\u001b[38;5;241;43m.\u001b[39;49m\u001b[43mcaptured_inputs\u001b[49m\n\u001b[0;32m    141\u001b[0m \u001b[43m\u001b[49m\u001b[43m)\u001b[49m\n",
            "File \u001b[1;32m~\\AppData\\Local\\Packages\\PythonSoftwareFoundation.Python.3.10_qbz5n2kfra8p0\\LocalCache\\local-packages\\Python310\\site-packages\\tensorflow\\python\\eager\\polymorphic_function\\concrete_function.py:1322\u001b[0m, in \u001b[0;36mConcreteFunction._call_flat\u001b[1;34m(self, tensor_inputs, captured_inputs)\u001b[0m\n\u001b[0;32m   1318\u001b[0m possible_gradient_type \u001b[38;5;241m=\u001b[39m gradients_util\u001b[38;5;241m.\u001b[39mPossibleTapeGradientTypes(args)\n\u001b[0;32m   1319\u001b[0m \u001b[38;5;28;01mif\u001b[39;00m (possible_gradient_type \u001b[38;5;241m==\u001b[39m gradients_util\u001b[38;5;241m.\u001b[39mPOSSIBLE_GRADIENT_TYPES_NONE\n\u001b[0;32m   1320\u001b[0m     \u001b[38;5;129;01mand\u001b[39;00m executing_eagerly):\n\u001b[0;32m   1321\u001b[0m   \u001b[38;5;66;03m# No tape is watching; skip to running the function.\u001b[39;00m\n\u001b[1;32m-> 1322\u001b[0m   \u001b[38;5;28;01mreturn\u001b[39;00m \u001b[38;5;28;43mself\u001b[39;49m\u001b[38;5;241;43m.\u001b[39;49m\u001b[43m_inference_function\u001b[49m\u001b[38;5;241;43m.\u001b[39;49m\u001b[43mcall_preflattened\u001b[49m\u001b[43m(\u001b[49m\u001b[43margs\u001b[49m\u001b[43m)\u001b[49m\n\u001b[0;32m   1323\u001b[0m forward_backward \u001b[38;5;241m=\u001b[39m \u001b[38;5;28mself\u001b[39m\u001b[38;5;241m.\u001b[39m_select_forward_and_backward_functions(\n\u001b[0;32m   1324\u001b[0m     args,\n\u001b[0;32m   1325\u001b[0m     possible_gradient_type,\n\u001b[0;32m   1326\u001b[0m     executing_eagerly)\n\u001b[0;32m   1327\u001b[0m forward_function, args_with_tangents \u001b[38;5;241m=\u001b[39m forward_backward\u001b[38;5;241m.\u001b[39mforward()\n",
            "File \u001b[1;32m~\\AppData\\Local\\Packages\\PythonSoftwareFoundation.Python.3.10_qbz5n2kfra8p0\\LocalCache\\local-packages\\Python310\\site-packages\\tensorflow\\python\\eager\\polymorphic_function\\atomic_function.py:216\u001b[0m, in \u001b[0;36mAtomicFunction.call_preflattened\u001b[1;34m(self, args)\u001b[0m\n\u001b[0;32m    214\u001b[0m \u001b[38;5;28;01mdef\u001b[39;00m \u001b[38;5;21mcall_preflattened\u001b[39m(\u001b[38;5;28mself\u001b[39m, args: Sequence[core\u001b[38;5;241m.\u001b[39mTensor]) \u001b[38;5;241m-\u001b[39m\u001b[38;5;241m>\u001b[39m Any:\n\u001b[0;32m    215\u001b[0m \u001b[38;5;250m  \u001b[39m\u001b[38;5;124;03m\"\"\"Calls with flattened tensor inputs and returns the structured output.\"\"\"\u001b[39;00m\n\u001b[1;32m--> 216\u001b[0m   flat_outputs \u001b[38;5;241m=\u001b[39m \u001b[38;5;28;43mself\u001b[39;49m\u001b[38;5;241;43m.\u001b[39;49m\u001b[43mcall_flat\u001b[49m\u001b[43m(\u001b[49m\u001b[38;5;241;43m*\u001b[39;49m\u001b[43margs\u001b[49m\u001b[43m)\u001b[49m\n\u001b[0;32m    217\u001b[0m   \u001b[38;5;28;01mreturn\u001b[39;00m \u001b[38;5;28mself\u001b[39m\u001b[38;5;241m.\u001b[39mfunction_type\u001b[38;5;241m.\u001b[39mpack_output(flat_outputs)\n",
            "File \u001b[1;32m~\\AppData\\Local\\Packages\\PythonSoftwareFoundation.Python.3.10_qbz5n2kfra8p0\\LocalCache\\local-packages\\Python310\\site-packages\\tensorflow\\python\\eager\\polymorphic_function\\atomic_function.py:251\u001b[0m, in \u001b[0;36mAtomicFunction.call_flat\u001b[1;34m(self, *args)\u001b[0m\n\u001b[0;32m    249\u001b[0m \u001b[38;5;28;01mwith\u001b[39;00m record\u001b[38;5;241m.\u001b[39mstop_recording():\n\u001b[0;32m    250\u001b[0m   \u001b[38;5;28;01mif\u001b[39;00m \u001b[38;5;28mself\u001b[39m\u001b[38;5;241m.\u001b[39m_bound_context\u001b[38;5;241m.\u001b[39mexecuting_eagerly():\n\u001b[1;32m--> 251\u001b[0m     outputs \u001b[38;5;241m=\u001b[39m \u001b[38;5;28;43mself\u001b[39;49m\u001b[38;5;241;43m.\u001b[39;49m\u001b[43m_bound_context\u001b[49m\u001b[38;5;241;43m.\u001b[39;49m\u001b[43mcall_function\u001b[49m\u001b[43m(\u001b[49m\n\u001b[0;32m    252\u001b[0m \u001b[43m        \u001b[49m\u001b[38;5;28;43mself\u001b[39;49m\u001b[38;5;241;43m.\u001b[39;49m\u001b[43mname\u001b[49m\u001b[43m,\u001b[49m\n\u001b[0;32m    253\u001b[0m \u001b[43m        \u001b[49m\u001b[38;5;28;43mlist\u001b[39;49m\u001b[43m(\u001b[49m\u001b[43margs\u001b[49m\u001b[43m)\u001b[49m\u001b[43m,\u001b[49m\n\u001b[0;32m    254\u001b[0m \u001b[43m        \u001b[49m\u001b[38;5;28;43mlen\u001b[39;49m\u001b[43m(\u001b[49m\u001b[38;5;28;43mself\u001b[39;49m\u001b[38;5;241;43m.\u001b[39;49m\u001b[43mfunction_type\u001b[49m\u001b[38;5;241;43m.\u001b[39;49m\u001b[43mflat_outputs\u001b[49m\u001b[43m)\u001b[49m\u001b[43m,\u001b[49m\n\u001b[0;32m    255\u001b[0m \u001b[43m    \u001b[49m\u001b[43m)\u001b[49m\n\u001b[0;32m    256\u001b[0m   \u001b[38;5;28;01melse\u001b[39;00m:\n\u001b[0;32m    257\u001b[0m     outputs \u001b[38;5;241m=\u001b[39m make_call_op_in_graph(\n\u001b[0;32m    258\u001b[0m         \u001b[38;5;28mself\u001b[39m,\n\u001b[0;32m    259\u001b[0m         \u001b[38;5;28mlist\u001b[39m(args),\n\u001b[0;32m    260\u001b[0m         \u001b[38;5;28mself\u001b[39m\u001b[38;5;241m.\u001b[39m_bound_context\u001b[38;5;241m.\u001b[39mfunction_call_options\u001b[38;5;241m.\u001b[39mas_attrs(),\n\u001b[0;32m    261\u001b[0m     )\n",
            "File \u001b[1;32m~\\AppData\\Local\\Packages\\PythonSoftwareFoundation.Python.3.10_qbz5n2kfra8p0\\LocalCache\\local-packages\\Python310\\site-packages\\tensorflow\\python\\eager\\context.py:1500\u001b[0m, in \u001b[0;36mContext.call_function\u001b[1;34m(self, name, tensor_inputs, num_outputs)\u001b[0m\n\u001b[0;32m   1498\u001b[0m cancellation_context \u001b[38;5;241m=\u001b[39m cancellation\u001b[38;5;241m.\u001b[39mcontext()\n\u001b[0;32m   1499\u001b[0m \u001b[38;5;28;01mif\u001b[39;00m cancellation_context \u001b[38;5;129;01mis\u001b[39;00m \u001b[38;5;28;01mNone\u001b[39;00m:\n\u001b[1;32m-> 1500\u001b[0m   outputs \u001b[38;5;241m=\u001b[39m \u001b[43mexecute\u001b[49m\u001b[38;5;241;43m.\u001b[39;49m\u001b[43mexecute\u001b[49m\u001b[43m(\u001b[49m\n\u001b[0;32m   1501\u001b[0m \u001b[43m      \u001b[49m\u001b[43mname\u001b[49m\u001b[38;5;241;43m.\u001b[39;49m\u001b[43mdecode\u001b[49m\u001b[43m(\u001b[49m\u001b[38;5;124;43m\"\u001b[39;49m\u001b[38;5;124;43mutf-8\u001b[39;49m\u001b[38;5;124;43m\"\u001b[39;49m\u001b[43m)\u001b[49m\u001b[43m,\u001b[49m\n\u001b[0;32m   1502\u001b[0m \u001b[43m      \u001b[49m\u001b[43mnum_outputs\u001b[49m\u001b[38;5;241;43m=\u001b[39;49m\u001b[43mnum_outputs\u001b[49m\u001b[43m,\u001b[49m\n\u001b[0;32m   1503\u001b[0m \u001b[43m      \u001b[49m\u001b[43minputs\u001b[49m\u001b[38;5;241;43m=\u001b[39;49m\u001b[43mtensor_inputs\u001b[49m\u001b[43m,\u001b[49m\n\u001b[0;32m   1504\u001b[0m \u001b[43m      \u001b[49m\u001b[43mattrs\u001b[49m\u001b[38;5;241;43m=\u001b[39;49m\u001b[43mattrs\u001b[49m\u001b[43m,\u001b[49m\n\u001b[0;32m   1505\u001b[0m \u001b[43m      \u001b[49m\u001b[43mctx\u001b[49m\u001b[38;5;241;43m=\u001b[39;49m\u001b[38;5;28;43mself\u001b[39;49m\u001b[43m,\u001b[49m\n\u001b[0;32m   1506\u001b[0m \u001b[43m  \u001b[49m\u001b[43m)\u001b[49m\n\u001b[0;32m   1507\u001b[0m \u001b[38;5;28;01melse\u001b[39;00m:\n\u001b[0;32m   1508\u001b[0m   outputs \u001b[38;5;241m=\u001b[39m execute\u001b[38;5;241m.\u001b[39mexecute_with_cancellation(\n\u001b[0;32m   1509\u001b[0m       name\u001b[38;5;241m.\u001b[39mdecode(\u001b[38;5;124m\"\u001b[39m\u001b[38;5;124mutf-8\u001b[39m\u001b[38;5;124m\"\u001b[39m),\n\u001b[0;32m   1510\u001b[0m       num_outputs\u001b[38;5;241m=\u001b[39mnum_outputs,\n\u001b[1;32m   (...)\u001b[0m\n\u001b[0;32m   1514\u001b[0m       cancellation_manager\u001b[38;5;241m=\u001b[39mcancellation_context,\n\u001b[0;32m   1515\u001b[0m   )\n",
            "File \u001b[1;32m~\\AppData\\Local\\Packages\\PythonSoftwareFoundation.Python.3.10_qbz5n2kfra8p0\\LocalCache\\local-packages\\Python310\\site-packages\\tensorflow\\python\\eager\\execute.py:53\u001b[0m, in \u001b[0;36mquick_execute\u001b[1;34m(op_name, num_outputs, inputs, attrs, ctx, name)\u001b[0m\n\u001b[0;32m     51\u001b[0m \u001b[38;5;28;01mtry\u001b[39;00m:\n\u001b[0;32m     52\u001b[0m   ctx\u001b[38;5;241m.\u001b[39mensure_initialized()\n\u001b[1;32m---> 53\u001b[0m   tensors \u001b[38;5;241m=\u001b[39m \u001b[43mpywrap_tfe\u001b[49m\u001b[38;5;241;43m.\u001b[39;49m\u001b[43mTFE_Py_Execute\u001b[49m\u001b[43m(\u001b[49m\u001b[43mctx\u001b[49m\u001b[38;5;241;43m.\u001b[39;49m\u001b[43m_handle\u001b[49m\u001b[43m,\u001b[49m\u001b[43m \u001b[49m\u001b[43mdevice_name\u001b[49m\u001b[43m,\u001b[49m\u001b[43m \u001b[49m\u001b[43mop_name\u001b[49m\u001b[43m,\u001b[49m\n\u001b[0;32m     54\u001b[0m \u001b[43m                                      \u001b[49m\u001b[43minputs\u001b[49m\u001b[43m,\u001b[49m\u001b[43m \u001b[49m\u001b[43mattrs\u001b[49m\u001b[43m,\u001b[49m\u001b[43m \u001b[49m\u001b[43mnum_outputs\u001b[49m\u001b[43m)\u001b[49m\n\u001b[0;32m     55\u001b[0m \u001b[38;5;28;01mexcept\u001b[39;00m core\u001b[38;5;241m.\u001b[39m_NotOkStatusException \u001b[38;5;28;01mas\u001b[39;00m e:\n\u001b[0;32m     56\u001b[0m   \u001b[38;5;28;01mif\u001b[39;00m name \u001b[38;5;129;01mis\u001b[39;00m \u001b[38;5;129;01mnot\u001b[39;00m \u001b[38;5;28;01mNone\u001b[39;00m:\n",
            "\u001b[1;31mKeyboardInterrupt\u001b[0m: "
          ]
        }
      ],
      "source": [
        "# Define callbacks\n",
        "early_stopping = EarlyStopping(monitor='val_loss', patience=3, restore_best_weights=True)\n",
        "reduce_lr = ReduceLROnPlateau(monitor='val_loss', factor=0.2, patience=5, verbose=1, mode='min', min_lr=0.0000)\n",
        "model_checkpoint = ModelCheckpoint('best_models/best_model_BILSTM.keras', monitor='val_loss', save_best_only=True)\n",
        "\n",
        "\n",
        "\n",
        "# Train the model\n",
        "model_lstm_output = model_lstm.fit(train, y_train, epochs=10,  batch_size=1024, callbacks=[early_stopping,model_checkpoint,reduce_lr], validation_data=(test, y_test))"
      ]
    },
    {
      "cell_type": "markdown",
      "metadata": {
        "id": "Ct_S460uGhxP"
      },
      "source": [
        "# **SHOW THE RESULTS**"
      ]
    },
    {
      "cell_type": "code",
      "execution_count": null,
      "metadata": {
        "id": "mLflDJutrQ0h"
      },
      "outputs": [
        {
          "ename": "KeyError",
          "evalue": "'val_loss'",
          "output_type": "error",
          "traceback": [
            "\u001b[1;31m---------------------------------------------------------------------------\u001b[0m",
            "\u001b[1;31mKeyError\u001b[0m                                  Traceback (most recent call last)",
            "Cell \u001b[1;32mIn[82], line 2\u001b[0m\n\u001b[0;32m      1\u001b[0m plt\u001b[38;5;241m.\u001b[39mplot(model_lstm_output\u001b[38;5;241m.\u001b[39mhistory[\u001b[38;5;124m'\u001b[39m\u001b[38;5;124mloss\u001b[39m\u001b[38;5;124m'\u001b[39m])\n\u001b[1;32m----> 2\u001b[0m plt\u001b[38;5;241m.\u001b[39mplot(\u001b[43mmodel_lstm_output\u001b[49m\u001b[38;5;241;43m.\u001b[39;49m\u001b[43mhistory\u001b[49m\u001b[43m[\u001b[49m\u001b[38;5;124;43m'\u001b[39;49m\u001b[38;5;124;43mval_loss\u001b[39;49m\u001b[38;5;124;43m'\u001b[39;49m\u001b[43m]\u001b[49m)\n\u001b[0;32m      3\u001b[0m plt\u001b[38;5;241m.\u001b[39mtitle(\u001b[38;5;124m'\u001b[39m\u001b[38;5;124mHistorico de train\u001b[39m\u001b[38;5;124m'\u001b[39m)\n\u001b[0;32m      4\u001b[0m plt\u001b[38;5;241m.\u001b[39mxlabel(\u001b[38;5;124m'\u001b[39m\u001b[38;5;124mEpocas de train\u001b[39m\u001b[38;5;124m'\u001b[39m)\n",
            "\u001b[1;31mKeyError\u001b[0m: 'val_loss'"
          ]
        },
        {
          "data": {
            "image/png": "[encoded data removed]",
            "text/plain": [
              "<Figure size 640x480 with 1 Axes>"
            ]
          },
          "metadata": {},
          "output_type": "display_data"
        }
      ],
      "source": [
        "plt.plot(model_lstm_output.history['loss'])\n",
        "plt.plot(model_lstm_output.history['val_loss'])\n",
        "plt.title('Historico de train')\n",
        "plt.xlabel('Epocas de train')\n",
        "plt.ylabel('Função custo')\n",
        "plt.legend(['Erro train', 'Erro test'])\n",
        "plt.show()"
      ]
    },
    {
      "cell_type": "code",
      "execution_count": null,
      "metadata": {
        "id": "RTtErVAPKNQT"
      },
      "outputs": [
        {
          "name": "stdout",
          "output_type": "stream",
          "text": [
            "\u001b[1m1915/1915\u001b[0m \u001b[32m━━━━━━━━━━━━━━━━━━━━\u001b[0m\u001b[37m\u001b[0m \u001b[1m3s\u001b[0m 1ms/step - accuracy: 0.9744 - loss: 0.0049\n",
            "Test Accuracy: 0.958505392074585\n"
          ]
        }
      ],
      "source": [
        "accuracy = model_lstm.evaluate(test, y_test)[1]  # Assuming accuracy is the second metric\n",
        "print('Test Accuracy:', accuracy)"
      ]
    },
    {
      "cell_type": "markdown",
      "metadata": {
        "id": "d5yRYVkqpv51"
      },
      "source": [
        "# **TEST THE NETWORK**"
      ]
    },
    {
      "cell_type": "code",
      "execution_count": null,
      "metadata": {
        "colab": {
          "base_uri": "https://localhost:8080/"
        },
        "id": "RTRP1HLnH5VA",
        "outputId": "16236fd5-cb67-4cc2-8018-fe7b9b86945e"
      },
      "outputs": [
        {
          "name": "stdout",
          "output_type": "stream",
          "text": [
            "\u001b[1m3829/3829\u001b[0m \u001b[32m━━━━━━━━━━━━━━━━━━━━\u001b[0m\u001b[37m\u001b[0m \u001b[1m5s\u001b[0m 1ms/step - accuracy: 0.9744 - loss: 0.0049\n",
            "Test loss/accurary: 0.005052972584962845 0.958505392074585\n"
          ]
        }
      ],
      "source": [
        "loss, accurary = model_lstm.evaluate(test, y_test, batch_size=16)\n",
        "print('Test loss/accurary:', loss, accurary)\n"
      ]
    },
    {
      "cell_type": "markdown",
      "metadata": {},
      "source": [
        "## **Confusion Matrix**"
      ]
    },
    {
      "cell_type": "code",
      "execution_count": null,
      "metadata": {},
      "outputs": [
        {
          "name": "stdout",
          "output_type": "stream",
          "text": [
            "\u001b[1m7658/7658\u001b[0m \u001b[32m━━━━━━━━━━━━━━━━━━━━\u001b[0m\u001b[37m\u001b[0m \u001b[1m10s\u001b[0m 1ms/step\n"
          ]
        },
        {
          "data": {
            "image/png": "[encoded data removed]",
            "text/plain": [
              "<Figure size 640x480 with 2 Axes>"
            ]
          },
          "metadata": {},
          "output_type": "display_data"
        },
        {
          "name": "stdout",
          "output_type": "stream",
          "text": [
            "{'accuracy': [0.3851339817047119, 0.49436014890670776, 0.622925877571106, 0.7165751457214355, 0.7332906126976013, 0.745182454586029, 0.8236016631126404, 0.8227201700210571, 0.8602076172828674, 0.8707772493362427], 'loss': [0.0338653028011322, 0.009111548773944378, 0.007880344055593014, 0.007163382600992918, 0.006868887227028608, 0.00668695755302906, 0.0064515890553593636, 0.006371731404215097, 0.006178255192935467, 0.0061962497420609]}\n"
          ]
        }
      ],
      "source": [
        "y_train_classes = np.argmax(y_train, axis=1)\n",
        "\n",
        "y_pred = model_lstm.predict(train)\n",
        "y_pred_classes = np.argmax(y_pred, axis=1)\n",
        "\n",
        "cm = confusion_matrix(y_train_classes, y_pred_classes)\n",
        "disp = ConfusionMatrixDisplay(confusion_matrix=cm)\n",
        "disp.plot(cmap=plt.cm.Blues)\n",
        "plt.title('Matriz de Confusão')\n",
        "plt.show()\n",
        "\n",
        "print(model_lstm_output.history)"
      ]
    },
    {
      "cell_type": "code",
      "execution_count": null,
      "metadata": {
        "id": "pLTGBDbnb5kg"
      },
      "outputs": [],
      "source": [
        "test[0]\n",
        "test.shape"
      ]
    },
    {
      "cell_type": "code",
      "execution_count": null,
      "metadata": {
        "id": "sCXg55GxwbGg"
      },
      "outputs": [
        {
          "name": "stdout",
          "output_type": "stream",
          "text": [
            "\u001b[1m1/1\u001b[0m \u001b[32m━━━━━━━━━━━━━━━━━━━━\u001b[0m\u001b[37m\u001b[0m \u001b[1m0s\u001b[0m 25ms/step\n",
            "X [: [0.  0.1 0.  0.  0.  0.  0.  0.5 0.  0.  0.  0. ]\n",
            "Y [: [0 0 0 0 0 0 1 1 0 0 0 0]\n",
            "PC: [[0. 0. 0. 0. 0. 0. 1. 1. 0. 0. 0. 0.]]\n",
            "0\n",
            "\u001b[1m1/1\u001b[0m \u001b[32m━━━━━━━━━━━━━━━━━━━━\u001b[0m\u001b[37m\u001b[0m \u001b[1m0s\u001b[0m 30ms/step\n",
            "X [: [0.  0.1 0.  0.  0.  0.  0.  0.5 0.  0.  0.  0. ]\n",
            "Y [: [0 0 0 0 0 0 1 1 0 0 0 0]\n",
            "PC: [[0. 0. 0. 0. 0. 0. 1. 1. 0. 0. 0. 0.]]\n",
            "1\n",
            "\u001b[1m1/1\u001b[0m \u001b[32m━━━━━━━━━━━━━━━━━━━━\u001b[0m\u001b[37m\u001b[0m \u001b[1m0s\u001b[0m 29ms/step\n",
            "X [: [0.  0.1 0.  0.  0.  0.  0.  0.5 0.  0.  0.  0. ]\n",
            "Y [: [0 0 0 0 0 0 1 1 0 0 0 0]\n",
            "PC: [[0. 0. 0. 0. 0. 0. 1. 1. 0. 0. 0. 0.]]\n",
            "2\n",
            "\u001b[1m1/1\u001b[0m \u001b[32m━━━━━━━━━━━━━━━━━━━━\u001b[0m\u001b[37m\u001b[0m \u001b[1m0s\u001b[0m 30ms/step\n",
            "X [: [0.  0.  0.  0.  0.  0.  0.  0.5 0.  0.  0.  0. ]\n",
            "Y [: [0 0 0 0 0 0 1 1 0 0 0 0]\n",
            "PC: [[0. 0. 0. 0. 0. 0. 1. 1. 0. 0. 0. 0.]]\n",
            "3\n",
            "\u001b[1m1/1\u001b[0m \u001b[32m━━━━━━━━━━━━━━━━━━━━\u001b[0m\u001b[37m\u001b[0m \u001b[1m0s\u001b[0m 30ms/step\n",
            "X [: [0.1 0.  0.  0.1 0.  0.  0.  0.5 0.  0.  0.  0. ]\n",
            "Y [: [0 0 0 0 0 0 1 1 0 0 0 0]\n",
            "PC: [[0. 0. 0. 0. 0. 0. 1. 1. 0. 0. 0. 0.]]\n",
            "4\n",
            "\u001b[1m1/1\u001b[0m \u001b[32m━━━━━━━━━━━━━━━━━━━━\u001b[0m\u001b[37m\u001b[0m \u001b[1m0s\u001b[0m 24ms/step\n",
            "X [: [0.  0.  0.  0.  0.  0.1 0.  0.5 0.  0.  0.  0. ]\n",
            "Y [: [0 0 0 0 0 0 1 1 0 0 0 0]\n",
            "PC: [[0. 0. 0. 0. 0. 0. 1. 1. 0. 0. 0. 0.]]\n",
            "5\n",
            "\u001b[1m1/1\u001b[0m \u001b[32m━━━━━━━━━━━━━━━━━━━━\u001b[0m\u001b[37m\u001b[0m \u001b[1m0s\u001b[0m 23ms/step\n",
            "X [: [0.  0.1 0.  0.  0.  0.1 0.  0.5 0.  0.  0.  0. ]\n",
            "Y [: [0 0 0 0 0 0 1 1 0 0 0 0]\n",
            "PC: [[0. 0. 0. 0. 0. 0. 1. 1. 0. 0. 0. 0.]]\n",
            "6\n",
            "\u001b[1m1/1\u001b[0m \u001b[32m━━━━━━━━━━━━━━━━━━━━\u001b[0m\u001b[37m\u001b[0m \u001b[1m0s\u001b[0m 26ms/step\n",
            "X [: [0.  0.  0.  0.  0.  0.  0.  0.5 0.  0.  0.  0. ]\n",
            "Y [: [0 0 0 0 0 0 1 1 0 0 0 0]\n",
            "PC: [[0. 0. 0. 0. 0. 0. 1. 1. 0. 0. 0. 0.]]\n",
            "7\n",
            "\u001b[1m1/1\u001b[0m \u001b[32m━━━━━━━━━━━━━━━━━━━━\u001b[0m\u001b[37m\u001b[0m \u001b[1m0s\u001b[0m 26ms/step\n",
            "X [: [0.  0.  0.  0.  0.  0.  0.  0.5 0.  0.  0.  0. ]\n",
            "Y [: [0 0 0 0 0 0 1 1 0 0 0 0]\n",
            "PC: [[0. 0. 0. 0. 0. 0. 1. 1. 0. 0. 0. 0.]]\n",
            "8\n",
            "\u001b[1m1/1\u001b[0m \u001b[32m━━━━━━━━━━━━━━━━━━━━\u001b[0m\u001b[37m\u001b[0m \u001b[1m0s\u001b[0m 27ms/step\n",
            "X [: [0.  0.  0.  0.  0.  0.  0.  0.5 0.  0.  0.  0. ]\n",
            "Y [: [0 0 0 0 0 0 1 1 0 0 0 0]\n",
            "PC: [[0. 0. 0. 0. 0. 0. 1. 1. 0. 0. 0. 0.]]\n",
            "9\n",
            "\u001b[1m1/1\u001b[0m \u001b[32m━━━━━━━━━━━━━━━━━━━━\u001b[0m\u001b[37m\u001b[0m \u001b[1m0s\u001b[0m 29ms/step\n",
            "X [: [0.  0.  0.  0.  0.  0.  0.  0.5 0.  0.  0.  0. ]\n",
            "Y [: [0 0 0 0 0 0 1 1 0 0 0 0]\n",
            "PC: [[0. 0. 0. 0. 0. 0. 1. 1. 0. 0. 0. 0.]]\n",
            "10\n",
            "\u001b[1m1/1\u001b[0m \u001b[32m━━━━━━━━━━━━━━━━━━━━\u001b[0m\u001b[37m\u001b[0m \u001b[1m0s\u001b[0m 33ms/step\n",
            "X [: [0.  0.  0.  0.  0.  0.1 0.  0.5 0.  0.  0.  0. ]\n",
            "Y [: [0 0 0 0 0 0 1 1 0 0 0 0]\n",
            "PC: [[0. 0. 0. 0. 0. 0. 1. 1. 0. 0. 0. 0.]]\n",
            "11\n",
            "\u001b[1m1/1\u001b[0m \u001b[32m━━━━━━━━━━━━━━━━━━━━\u001b[0m\u001b[37m\u001b[0m \u001b[1m0s\u001b[0m 35ms/step\n",
            "X [: [0.  0.  0.  0.  0.  0.  0.  0.5 0.  0.  0.  0. ]\n",
            "Y [: [0 0 0 0 0 0 1 1 0 0 0 0]\n",
            "PC: [[0. 0. 0. 0. 0. 0. 1. 1. 0. 0. 0. 0.]]\n",
            "12\n",
            "\u001b[1m1/1\u001b[0m \u001b[32m━━━━━━━━━━━━━━━━━━━━\u001b[0m\u001b[37m\u001b[0m \u001b[1m0s\u001b[0m 38ms/step\n",
            "X [: [0.  0.1 0.  0.  0.  0.  0.  0.5 0.  0.  0.  0. ]\n",
            "Y [: [0 0 0 0 0 0 1 1 0 0 0 0]\n",
            "PC: [[0. 0. 0. 0. 0. 0. 1. 1. 0. 0. 0. 0.]]\n",
            "13\n",
            "\u001b[1m1/1\u001b[0m \u001b[32m━━━━━━━━━━━━━━━━━━━━\u001b[0m\u001b[37m\u001b[0m \u001b[1m0s\u001b[0m 53ms/step\n",
            "X [: [0.  0.  0.  0.  0.1 0.  0.  0.5 0.  0.  0.  0. ]\n",
            "Y [: [0 0 0 0 0 0 1 1 0 0 0 0]\n",
            "PC: [[0. 0. 0. 0. 0. 0. 1. 1. 0. 0. 0. 0.]]\n",
            "14\n",
            "\u001b[1m1/1\u001b[0m \u001b[32m━━━━━━━━━━━━━━━━━━━━\u001b[0m\u001b[37m\u001b[0m \u001b[1m0s\u001b[0m 28ms/step\n",
            "X [: [0.  0.  0.  0.  0.  0.  0.  0.5 0.  0.  0.  0. ]\n",
            "Y [: [0 0 0 0 0 0 1 1 0 0 0 0]\n",
            "PC: [[0. 0. 0. 0. 0. 0. 1. 1. 0. 0. 0. 0.]]\n",
            "15\n",
            "\u001b[1m1/1\u001b[0m \u001b[32m━━━━━━━━━━━━━━━━━━━━\u001b[0m\u001b[37m\u001b[0m \u001b[1m0s\u001b[0m 25ms/step\n",
            "X [: [0.  0.1 0.  0.  0.  0.  0.  0.5 0.  0.  0.  0. ]\n",
            "Y [: [0 0 0 0 0 0 1 1 0 0 0 0]\n",
            "PC: [[0. 0. 0. 0. 0. 0. 1. 1. 0. 0. 0. 0.]]\n",
            "16\n",
            "\u001b[1m1/1\u001b[0m \u001b[32m━━━━━━━━━━━━━━━━━━━━\u001b[0m\u001b[37m\u001b[0m \u001b[1m0s\u001b[0m 25ms/step\n",
            "X [: [0.  0.  0.  0.  0.  0.  0.  0.5 0.  0.  0.  0. ]\n",
            "Y [: [0 0 0 0 0 0 1 1 0 0 0 0]\n",
            "PC: [[0. 0. 0. 0. 0. 0. 1. 1. 0. 0. 0. 0.]]\n",
            "17\n",
            "\u001b[1m1/1\u001b[0m \u001b[32m━━━━━━━━━━━━━━━━━━━━\u001b[0m\u001b[37m\u001b[0m \u001b[1m0s\u001b[0m 28ms/step\n",
            "X [: [0.  0.  0.  0.  0.  0.  0.  0.5 0.  0.  0.  0. ]\n",
            "Y [: [0 0 0 0 0 0 1 1 0 0 0 0]\n",
            "PC: [[0. 0. 0. 0. 0. 0. 1. 1. 0. 0. 0. 0.]]\n",
            "18\n",
            "\u001b[1m1/1\u001b[0m \u001b[32m━━━━━━━━━━━━━━━━━━━━\u001b[0m\u001b[37m\u001b[0m \u001b[1m0s\u001b[0m 30ms/step\n",
            "X [: [0.1 0.  0.  0.  0.  0.  0.  0.5 0.  0.  0.  0. ]\n",
            "Y [: [0 0 0 0 0 0 1 1 0 0 0 0]\n",
            "PC: [[0. 0. 0. 0. 0. 0. 1. 1. 0. 0. 0. 0.]]\n",
            "19\n",
            "\u001b[1m1/1\u001b[0m \u001b[32m━━━━━━━━━━━━━━━━━━━━\u001b[0m\u001b[37m\u001b[0m \u001b[1m0s\u001b[0m 29ms/step\n",
            "X [: [0.  0.  0.1 0.  0.  0.  0.  0.5 0.  0.  0.  0. ]\n",
            "Y [: [0 0 0 0 0 0 1 1 0 0 0 0]\n",
            "PC: [[0. 0. 0. 0. 0. 0. 1. 1. 0. 0. 0. 0.]]\n",
            "20\n",
            "\u001b[1m1/1\u001b[0m \u001b[32m━━━━━━━━━━━━━━━━━━━━\u001b[0m\u001b[37m\u001b[0m \u001b[1m0s\u001b[0m 31ms/step\n",
            "X [: [0.  0.  0.  0.  0.  0.  0.  0.5 0.  0.  0.  0. ]\n",
            "Y [: [0 0 0 0 0 0 1 1 0 0 0 0]\n",
            "PC: [[0. 0. 0. 0. 0. 0. 1. 1. 0. 0. 0. 0.]]\n",
            "21\n",
            "\u001b[1m1/1\u001b[0m \u001b[32m━━━━━━━━━━━━━━━━━━━━\u001b[0m\u001b[37m\u001b[0m \u001b[1m0s\u001b[0m 29ms/step\n",
            "X [: [0.  0.  0.  0.  0.  0.  0.  0.5 0.  0.  0.  0. ]\n",
            "Y [: [0 0 0 0 0 0 1 1 0 0 0 0]\n",
            "PC: [[0. 0. 0. 0. 0. 0. 1. 1. 0. 0. 0. 0.]]\n",
            "22\n",
            "\u001b[1m1/1\u001b[0m \u001b[32m━━━━━━━━━━━━━━━━━━━━\u001b[0m\u001b[37m\u001b[0m \u001b[1m0s\u001b[0m 27ms/step\n",
            "X [: [0.  0.1 0.  0.  0.  0.  0.  0.5 0.  0.  0.  0. ]\n",
            "Y [: [0 0 0 0 0 0 1 1 0 0 0 0]\n",
            "PC: [[0. 0. 0. 0. 0. 0. 1. 1. 0. 0. 0. 0.]]\n",
            "23\n",
            "\u001b[1m1/1\u001b[0m \u001b[32m━━━━━━━━━━━━━━━━━━━━\u001b[0m\u001b[37m\u001b[0m \u001b[1m0s\u001b[0m 36ms/step\n",
            "X [: [0.  0.1 0.  0.  0.1 0.  0.  0.5 0.  0.  0.  0. ]\n",
            "Y [: [0 0 0 0 0 0 1 1 0 0 0 0]\n",
            "PC: [[0. 0. 0. 0. 0. 0. 1. 1. 0. 0. 0. 0.]]\n",
            "24\n",
            "\u001b[1m1/1\u001b[0m \u001b[32m━━━━━━━━━━━━━━━━━━━━\u001b[0m\u001b[37m\u001b[0m \u001b[1m0s\u001b[0m 34ms/step\n",
            "X [: [0.  0.1 0.  0.  0.  0.  0.  0.5 0.  0.  0.  0. ]\n",
            "Y [: [0 0 0 0 0 0 1 1 0 0 0 0]\n",
            "PC: [[0. 0. 0. 0. 0. 0. 1. 1. 0. 0. 0. 0.]]\n",
            "25\n",
            "\u001b[1m1/1\u001b[0m \u001b[32m━━━━━━━━━━━━━━━━━━━━\u001b[0m\u001b[37m\u001b[0m \u001b[1m0s\u001b[0m 98ms/step\n",
            "X [: [0.  0.1 0.  0.  0.  0.  0.  0.5 0.  0.  0.  0. ]\n",
            "Y [: [0 0 0 0 0 0 1 1 0 0 0 0]\n",
            "PC: [[0. 0. 0. 0. 0. 0. 1. 1. 0. 0. 0. 0.]]\n",
            "26\n",
            "\u001b[1m1/1\u001b[0m \u001b[32m━━━━━━━━━━━━━━━━━━━━\u001b[0m\u001b[37m\u001b[0m \u001b[1m0s\u001b[0m 37ms/step\n",
            "X [: [0.1 0.  0.  0.  0.  0.  0.  0.5 0.  0.  0.  0. ]\n",
            "Y [: [0 0 0 0 0 0 1 1 0 0 0 0]\n",
            "PC: [[0. 0. 0. 0. 0. 0. 1. 1. 0. 0. 0. 0.]]\n",
            "27\n",
            "\u001b[1m1/1\u001b[0m \u001b[32m━━━━━━━━━━━━━━━━━━━━\u001b[0m\u001b[37m\u001b[0m \u001b[1m0s\u001b[0m 29ms/step\n",
            "X [: [0.  0.  0.  0.  0.  0.  0.  0.5 0.  0.  0.  0. ]\n",
            "Y [: [0 0 0 0 0 0 1 1 0 0 0 0]\n",
            "PC: [[0. 0. 0. 0. 0. 0. 1. 1. 0. 0. 0. 0.]]\n",
            "28\n",
            "\u001b[1m1/1\u001b[0m \u001b[32m━━━━━━━━━━━━━━━━━━━━\u001b[0m\u001b[37m\u001b[0m \u001b[1m0s\u001b[0m 36ms/step\n",
            "X [: [0.  0.  0.  0.  0.  0.  0.  0.5 0.  0.  0.  0. ]\n",
            "Y [: [0 0 0 0 0 0 1 1 0 0 0 0]\n",
            "PC: [[0. 0. 0. 0. 0. 0. 1. 1. 0. 0. 0. 0.]]\n",
            "29\n",
            "\u001b[1m1/1\u001b[0m \u001b[32m━━━━━━━━━━━━━━━━━━━━\u001b[0m\u001b[37m\u001b[0m \u001b[1m0s\u001b[0m 32ms/step\n",
            "X [: [0.  0.1 0.  0.  0.  0.  0.  0.5 0.  0.  0.  0. ]\n",
            "Y [: [0 0 0 0 0 0 1 1 0 0 0 0]\n",
            "PC: [[0. 0. 0. 0. 0. 0. 1. 1. 0. 0. 0. 0.]]\n",
            "30\n",
            "\u001b[1m1/1\u001b[0m \u001b[32m━━━━━━━━━━━━━━━━━━━━\u001b[0m\u001b[37m\u001b[0m \u001b[1m0s\u001b[0m 26ms/step\n",
            "X [: [0.  0.1 0.  0.  0.  0.  0.  0.5 0.  0.  0.  0. ]\n",
            "Y [: [0 0 0 0 0 0 1 1 0 0 0 0]\n",
            "PC: [[0. 0. 0. 0. 0. 0. 1. 1. 0. 0. 0. 0.]]\n",
            "31\n",
            "\u001b[1m1/1\u001b[0m \u001b[32m━━━━━━━━━━━━━━━━━━━━\u001b[0m\u001b[37m\u001b[0m \u001b[1m0s\u001b[0m 40ms/step\n",
            "X [: [0.  0.1 0.  0.  0.  0.  0.  0.5 0.  0.  0.  0. ]\n",
            "Y [: [0 0 0 0 0 0 1 1 0 0 0 0]\n",
            "PC: [[0. 0. 0. 0. 0. 0. 1. 1. 0. 0. 0. 0.]]\n",
            "32\n",
            "\u001b[1m1/1\u001b[0m \u001b[32m━━━━━━━━━━━━━━━━━━━━\u001b[0m\u001b[37m\u001b[0m \u001b[1m0s\u001b[0m 33ms/step\n",
            "X [: [0.  0.  0.  0.  0.  0.  0.  0.5 0.  0.  0.  0. ]\n",
            "Y [: [0 0 0 0 0 0 1 1 0 0 0 0]\n",
            "PC: [[0. 0. 0. 0. 0. 0. 1. 1. 0. 0. 0. 0.]]\n",
            "33\n",
            "\u001b[1m1/1\u001b[0m \u001b[32m━━━━━━━━━━━━━━━━━━━━\u001b[0m\u001b[37m\u001b[0m \u001b[1m0s\u001b[0m 28ms/step\n",
            "X [: [0.1 0.  0.  0.  0.1 0.  0.  0.5 0.  0.  0.  0. ]\n",
            "Y [: [0 0 0 0 0 0 1 1 0 0 0 0]\n",
            "PC: [[0. 0. 0. 0. 0. 0. 1. 1. 0. 0. 0. 0.]]\n",
            "34\n",
            "\u001b[1m1/1\u001b[0m \u001b[32m━━━━━━━━━━━━━━━━━━━━\u001b[0m\u001b[37m\u001b[0m \u001b[1m0s\u001b[0m 29ms/step\n",
            "X [: [0.2 0.  0.  0.  0.  0.  0.  0.5 0.  0.  0.  0. ]\n",
            "Y [: [0 0 0 0 0 0 1 1 0 0 0 0]\n",
            "PC: [[0. 0. 0. 0. 0. 0. 1. 1. 0. 0. 0. 0.]]\n",
            "35\n",
            "\u001b[1m1/1\u001b[0m \u001b[32m━━━━━━━━━━━━━━━━━━━━\u001b[0m\u001b[37m\u001b[0m \u001b[1m0s\u001b[0m 38ms/step\n",
            "X [: [0.  0.  0.  0.  0.  0.  0.  0.5 0.  0.  0.  0. ]\n",
            "Y [: [0 0 0 0 0 0 1 1 0 0 0 0]\n",
            "PC: [[0. 0. 0. 0. 0. 0. 1. 1. 0. 0. 0. 0.]]\n",
            "36\n",
            "\u001b[1m1/1\u001b[0m \u001b[32m━━━━━━━━━━━━━━━━━━━━\u001b[0m\u001b[37m\u001b[0m \u001b[1m0s\u001b[0m 37ms/step\n",
            "X [: [0.  0.1 0.  0.  0.  0.1 0.  0.5 0.  0.  0.  0. ]\n",
            "Y [: [0 0 0 0 0 0 1 1 0 0 0 0]\n",
            "PC: [[0. 0. 0. 0. 0. 0. 1. 1. 0. 0. 0. 0.]]\n",
            "37\n",
            "\u001b[1m1/1\u001b[0m \u001b[32m━━━━━━━━━━━━━━━━━━━━\u001b[0m\u001b[37m\u001b[0m \u001b[1m0s\u001b[0m 29ms/step\n",
            "X [: [0.  0.1 0.  0.  0.  0.  0.  0.5 0.  0.  0.  0. ]\n",
            "Y [: [0 0 0 0 0 0 1 1 0 0 0 0]\n",
            "PC: [[0. 0. 0. 0. 0. 0. 1. 1. 0. 0. 0. 0.]]\n",
            "38\n",
            "\u001b[1m1/1\u001b[0m \u001b[32m━━━━━━━━━━━━━━━━━━━━\u001b[0m\u001b[37m\u001b[0m \u001b[1m0s\u001b[0m 30ms/step\n",
            "X [: [0.  0.  0.  0.  0.1 0.  0.  0.5 0.  0.  0.  0. ]\n",
            "Y [: [0 0 0 0 0 0 1 1 0 0 0 0]\n",
            "PC: [[0. 0. 0. 0. 0. 0. 1. 1. 0. 0. 0. 0.]]\n",
            "39\n",
            "\u001b[1m1/1\u001b[0m \u001b[32m━━━━━━━━━━━━━━━━━━━━\u001b[0m\u001b[37m\u001b[0m \u001b[1m0s\u001b[0m 33ms/step\n",
            "X [: [0.  0.  0.  0.  0.  0.  0.  0.5 0.  0.  0.  0. ]\n",
            "Y [: [0 0 0 0 0 0 1 1 0 0 0 0]\n",
            "PC: [[0. 0. 0. 0. 0. 0. 1. 1. 0. 0. 0. 0.]]\n",
            "40\n",
            "\u001b[1m1/1\u001b[0m \u001b[32m━━━━━━━━━━━━━━━━━━━━\u001b[0m\u001b[37m\u001b[0m \u001b[1m0s\u001b[0m 26ms/step\n",
            "X [: [0.  0.  0.  0.  0.  0.  0.  0.5 0.  0.  0.  0. ]\n",
            "Y [: [0 0 0 0 0 0 1 1 0 0 0 0]\n",
            "PC: [[0. 0. 0. 0. 0. 0. 1. 1. 0. 0. 0. 0.]]\n",
            "41\n",
            "\u001b[1m1/1\u001b[0m \u001b[32m━━━━━━━━━━━━━━━━━━━━\u001b[0m\u001b[37m\u001b[0m \u001b[1m0s\u001b[0m 28ms/step\n",
            "X [: [0.1 0.  0.  0.  0.1 0.  0.  0.5 0.  0.  0.  0. ]\n",
            "Y [: [0 0 0 0 0 0 1 1 0 0 0 0]\n",
            "PC: [[0. 0. 0. 0. 0. 0. 1. 1. 0. 0. 0. 0.]]\n",
            "42\n",
            "\u001b[1m1/1\u001b[0m \u001b[32m━━━━━━━━━━━━━━━━━━━━\u001b[0m\u001b[37m\u001b[0m \u001b[1m0s\u001b[0m 46ms/step\n",
            "X [: [0.  0.  0.1 0.  0.1 0.  0.  0.5 0.  0.  0.  0. ]\n",
            "Y [: [0 0 0 0 0 0 1 1 0 0 0 0]\n",
            "PC: [[0. 0. 0. 0. 0. 0. 1. 1. 0. 0. 0. 0.]]\n",
            "43\n",
            "\u001b[1m1/1\u001b[0m \u001b[32m━━━━━━━━━━━━━━━━━━━━\u001b[0m\u001b[37m\u001b[0m \u001b[1m0s\u001b[0m 27ms/step\n",
            "X [: [0.  0.  0.  0.  0.  0.  0.  0.5 0.  0.  0.  0. ]\n",
            "Y [: [0 0 0 0 0 0 1 1 0 0 0 0]\n",
            "PC: [[0. 0. 0. 0. 0. 0. 1. 1. 0. 0. 0. 0.]]\n",
            "44\n",
            "\u001b[1m1/1\u001b[0m \u001b[32m━━━━━━━━━━━━━━━━━━━━\u001b[0m\u001b[37m\u001b[0m \u001b[1m0s\u001b[0m 25ms/step\n",
            "X [: [0.  0.1 0.  0.  0.  0.  0.  0.5 0.  0.  0.  0. ]\n",
            "Y [: [0 0 0 0 0 0 1 1 0 0 0 0]\n",
            "PC: [[0. 0. 0. 0. 0. 0. 1. 1. 0. 0. 0. 0.]]\n",
            "45\n",
            "\u001b[1m1/1\u001b[0m \u001b[32m━━━━━━━━━━━━━━━━━━━━\u001b[0m\u001b[37m\u001b[0m \u001b[1m0s\u001b[0m 37ms/step\n",
            "X [: [0.  0.  0.1 0.  0.  0.  0.  0.5 0.  0.  0.  0. ]\n",
            "Y [: [0 0 0 0 0 0 1 1 0 0 0 0]\n",
            "PC: [[0. 0. 0. 0. 0. 0. 1. 1. 0. 0. 0. 0.]]\n",
            "46\n",
            "\u001b[1m1/1\u001b[0m \u001b[32m━━━━━━━━━━━━━━━━━━━━\u001b[0m\u001b[37m\u001b[0m \u001b[1m0s\u001b[0m 32ms/step\n",
            "X [: [0.  0.  0.1 0.  0.  0.  0.  0.5 0.  0.  0.  0. ]\n",
            "Y [: [0 0 0 0 0 0 1 1 0 0 0 0]\n",
            "PC: [[0. 0. 0. 0. 0. 0. 1. 1. 0. 0. 0. 0.]]\n",
            "47\n",
            "\u001b[1m1/1\u001b[0m \u001b[32m━━━━━━━━━━━━━━━━━━━━\u001b[0m\u001b[37m\u001b[0m \u001b[1m0s\u001b[0m 31ms/step\n",
            "X [: [0.1 0.  0.  0.  0.1 0.  0.  0.5 0.  0.  0.  0. ]\n",
            "Y [: [0 0 0 0 0 0 1 1 0 0 0 0]\n",
            "PC: [[0.  0.  0.  0.  0.8 0.  1.  1.  0.  0.  0.  0. ]]\n",
            "48\n",
            "\u001b[1m1/1\u001b[0m \u001b[32m━━━━━━━━━━━━━━━━━━━━\u001b[0m\u001b[37m\u001b[0m \u001b[1m0s\u001b[0m 28ms/step\n",
            "X [: [0.  0.  0.1 0.  0.  0.  0.  0.5 0.  0.  0.  0. ]\n",
            "Y [: [0 0 0 0 0 0 1 1 0 0 0 0]\n",
            "PC: [[0. 0. 0. 0. 0. 0. 1. 1. 0. 0. 0. 0.]]\n",
            "49\n",
            "\u001b[1m1/1\u001b[0m \u001b[32m━━━━━━━━━━━━━━━━━━━━\u001b[0m\u001b[37m\u001b[0m \u001b[1m0s\u001b[0m 29ms/step\n",
            "X [: [0.  0.  0.  0.  0.  0.  0.  0.5 0.  0.  0.  0. ]\n",
            "Y [: [0 0 0 0 0 0 1 1 0 0 0 0]\n",
            "PC: [[0. 0. 0. 0. 0. 0. 1. 1. 0. 0. 0. 0.]]\n",
            "50\n",
            "\u001b[1m1/1\u001b[0m \u001b[32m━━━━━━━━━━━━━━━━━━━━\u001b[0m\u001b[37m\u001b[0m \u001b[1m0s\u001b[0m 32ms/step\n",
            "X [: [0.  0.1 0.  0.  0.1 0.  0.  0.5 0.  0.  0.  0. ]\n",
            "Y [: [0 0 0 0 0 0 1 1 0 0 0 0]\n",
            "PC: [[0. 0. 0. 0. 0. 0. 1. 1. 0. 0. 0. 0.]]\n",
            "51\n",
            "\u001b[1m1/1\u001b[0m \u001b[32m━━━━━━━━━━━━━━━━━━━━\u001b[0m\u001b[37m\u001b[0m \u001b[1m0s\u001b[0m 35ms/step\n",
            "X [: [0.  0.  0.1 0.  0.1 0.  0.  0.5 0.  0.  0.  0. ]\n",
            "Y [: [0 0 0 0 0 0 1 1 0 0 0 0]\n",
            "PC: [[0. 0. 0. 0. 0. 0. 1. 1. 0. 0. 0. 0.]]\n",
            "52\n",
            "\u001b[1m1/1\u001b[0m \u001b[32m━━━━━━━━━━━━━━━━━━━━\u001b[0m\u001b[37m\u001b[0m \u001b[1m0s\u001b[0m 36ms/step\n",
            "X [: [0.  0.  0.  0.  0.  0.  0.  0.5 0.  0.  0.  0. ]\n",
            "Y [: [0 0 0 0 0 0 1 1 0 0 0 0]\n",
            "PC: [[0. 0. 0. 0. 0. 0. 1. 1. 0. 0. 0. 0.]]\n",
            "53\n",
            "\u001b[1m1/1\u001b[0m \u001b[32m━━━━━━━━━━━━━━━━━━━━\u001b[0m\u001b[37m\u001b[0m \u001b[1m0s\u001b[0m 30ms/step\n",
            "X [: [0.  0.  0.  0.  0.  0.  0.  0.5 0.  0.  0.  0. ]\n",
            "Y [: [0 0 0 0 0 0 1 1 0 0 0 0]\n",
            "PC: [[0. 0. 0. 0. 0. 0. 1. 1. 0. 0. 0. 0.]]\n",
            "54\n",
            "\u001b[1m1/1\u001b[0m \u001b[32m━━━━━━━━━━━━━━━━━━━━\u001b[0m\u001b[37m\u001b[0m \u001b[1m0s\u001b[0m 35ms/step\n",
            "X [: [0.  0.1 0.1 0.  0.  0.  0.  0.5 0.  0.  0.  0. ]\n",
            "Y [: [0 0 0 0 0 0 1 1 0 0 0 0]\n",
            "PC: [[0. 0. 0. 0. 0. 0. 1. 1. 0. 0. 0. 0.]]\n",
            "55\n",
            "\u001b[1m1/1\u001b[0m \u001b[32m━━━━━━━━━━━━━━━━━━━━\u001b[0m\u001b[37m\u001b[0m \u001b[1m0s\u001b[0m 29ms/step\n",
            "X [: [0.  0.1 0.  0.  0.1 0.  0.  0.5 0.  0.  0.  0. ]\n",
            "Y [: [0 0 0 0 0 0 1 1 0 0 0 0]\n",
            "PC: [[0. 0. 0. 0. 0. 0. 1. 1. 0. 0. 0. 0.]]\n",
            "56\n",
            "\u001b[1m1/1\u001b[0m \u001b[32m━━━━━━━━━━━━━━━━━━━━\u001b[0m\u001b[37m\u001b[0m \u001b[1m0s\u001b[0m 31ms/step\n",
            "X [: [0.  0.  0.  0.  0.  0.  0.  0.5 0.  0.  0.  0. ]\n",
            "Y [: [0 0 0 0 0 0 1 1 0 0 0 0]\n",
            "PC: [[0. 0. 0. 0. 0. 0. 1. 1. 0. 0. 0. 0.]]\n",
            "57\n",
            "\u001b[1m1/1\u001b[0m \u001b[32m━━━━━━━━━━━━━━━━━━━━\u001b[0m\u001b[37m\u001b[0m \u001b[1m0s\u001b[0m 48ms/step\n",
            "X [: [0.  0.  0.  0.  0.  0.  0.  0.5 0.  0.  0.  0. ]\n",
            "Y [: [0 0 0 0 0 0 1 1 0 0 0 0]\n",
            "PC: [[0. 0. 0. 0. 0. 0. 1. 1. 0. 0. 0. 0.]]\n",
            "58\n",
            "\u001b[1m1/1\u001b[0m \u001b[32m━━━━━━━━━━━━━━━━━━━━\u001b[0m\u001b[37m\u001b[0m \u001b[1m0s\u001b[0m 29ms/step\n",
            "X [: [0.  0.  0.  0.  0.  0.  0.  0.5 0.  0.  0.  0. ]\n",
            "Y [: [0 0 0 0 0 0 1 1 0 0 0 0]\n",
            "PC: [[0. 0. 0. 0. 0. 0. 1. 1. 0. 0. 0. 0.]]\n",
            "59\n",
            "\u001b[1m1/1\u001b[0m \u001b[32m━━━━━━━━━━━━━━━━━━━━\u001b[0m\u001b[37m\u001b[0m \u001b[1m0s\u001b[0m 32ms/step\n",
            "X [: [0.  0.  0.  0.  0.  0.  0.  0.5 0.  0.  0.  0. ]\n",
            "Y [: [0 0 0 0 0 0 1 1 0 0 0 0]\n",
            "PC: [[0. 0. 0. 0. 0. 0. 1. 1. 0. 0. 0. 0.]]\n",
            "60\n",
            "\u001b[1m1/1\u001b[0m \u001b[32m━━━━━━━━━━━━━━━━━━━━\u001b[0m\u001b[37m\u001b[0m \u001b[1m0s\u001b[0m 30ms/step\n",
            "X [: [0.  0.  0.  0.  0.  0.  0.  0.5 0.  0.  0.  0. ]\n",
            "Y [: [0 0 0 0 0 0 1 1 0 0 0 0]\n",
            "PC: [[0. 0. 0. 0. 0. 0. 1. 1. 0. 0. 0. 0.]]\n",
            "61\n",
            "\u001b[1m1/1\u001b[0m \u001b[32m━━━━━━━━━━━━━━━━━━━━\u001b[0m\u001b[37m\u001b[0m \u001b[1m0s\u001b[0m 28ms/step\n",
            "X [: [0.  0.1 0.  0.  0.  0.  0.  0.5 0.  0.  0.  0. ]\n",
            "Y [: [0 0 0 0 0 0 1 1 0 0 0 0]\n",
            "PC: [[0. 0. 0. 0. 0. 0. 1. 1. 0. 0. 0. 0.]]\n",
            "62\n",
            "\u001b[1m1/1\u001b[0m \u001b[32m━━━━━━━━━━━━━━━━━━━━\u001b[0m\u001b[37m\u001b[0m \u001b[1m0s\u001b[0m 39ms/step\n",
            "X [: [0.  0.  0.  0.  0.1 0.  0.  0.5 0.  0.  0.  0. ]\n",
            "Y [: [0 0 0 0 0 0 1 1 0 0 0 0]\n",
            "PC: [[0. 0. 0. 0. 0. 0. 1. 1. 0. 0. 0. 0.]]\n",
            "63\n",
            "\u001b[1m1/1\u001b[0m \u001b[32m━━━━━━━━━━━━━━━━━━━━\u001b[0m\u001b[37m\u001b[0m \u001b[1m0s\u001b[0m 29ms/step\n",
            "X [: [0.  0.  0.  0.  0.1 0.  0.  0.5 0.  0.  0.  0. ]\n",
            "Y [: [0 0 0 0 0 0 1 1 0 0 0 0]\n",
            "PC: [[0. 0. 0. 0. 0. 0. 1. 1. 0. 0. 0. 0.]]\n",
            "64\n",
            "\u001b[1m1/1\u001b[0m \u001b[32m━━━━━━━━━━━━━━━━━━━━\u001b[0m\u001b[37m\u001b[0m \u001b[1m0s\u001b[0m 28ms/step\n",
            "X [: [0.  0.  0.  0.  0.  0.  0.  0.5 0.  0.  0.  0. ]\n",
            "Y [: [0 0 0 0 0 0 1 1 0 0 0 0]\n",
            "PC: [[0. 0. 0. 0. 0. 0. 1. 1. 0. 0. 0. 0.]]\n",
            "65\n",
            "\u001b[1m1/1\u001b[0m \u001b[32m━━━━━━━━━━━━━━━━━━━━\u001b[0m\u001b[37m\u001b[0m \u001b[1m0s\u001b[0m 35ms/step\n",
            "X [: [0.  0.  0.  0.1 0.  0.  0.  0.5 0.  0.  0.  0. ]\n",
            "Y [: [0 0 0 0 0 0 1 1 0 0 0 0]\n",
            "PC: [[0. 0. 0. 0. 0. 0. 1. 1. 0. 0. 0. 0.]]\n",
            "66\n",
            "\u001b[1m1/1\u001b[0m \u001b[32m━━━━━━━━━━━━━━━━━━━━\u001b[0m\u001b[37m\u001b[0m \u001b[1m0s\u001b[0m 37ms/step\n",
            "X [: [0.  0.  0.  0.  0.  0.  0.  0.5 0.  0.  0.  0. ]\n",
            "Y [: [0 0 0 0 0 0 1 1 0 0 0 0]\n",
            "PC: [[0. 0. 0. 0. 0. 0. 1. 1. 0. 0. 0. 0.]]\n",
            "67\n",
            "\u001b[1m1/1\u001b[0m \u001b[32m━━━━━━━━━━━━━━━━━━━━\u001b[0m\u001b[37m\u001b[0m \u001b[1m0s\u001b[0m 31ms/step\n",
            "X [: [0.  0.1 0.  0.  0.  0.  0.  0.5 0.  0.  0.  0. ]\n",
            "Y [: [0 0 0 0 0 0 1 1 0 0 0 0]\n",
            "PC: [[0. 0. 0. 0. 0. 0. 1. 1. 0. 0. 0. 0.]]\n",
            "68\n",
            "\u001b[1m1/1\u001b[0m \u001b[32m━━━━━━━━━━━━━━━━━━━━\u001b[0m\u001b[37m\u001b[0m \u001b[1m0s\u001b[0m 33ms/step\n",
            "X [: [0.  0.1 0.  0.  0.  0.  0.  0.5 0.  0.  0.  0. ]\n",
            "Y [: [0 0 0 0 0 0 1 1 0 0 0 0]\n",
            "PC: [[0. 0. 0. 0. 0. 0. 1. 1. 0. 0. 0. 0.]]\n",
            "69\n",
            "\u001b[1m1/1\u001b[0m \u001b[32m━━━━━━━━━━━━━━━━━━━━\u001b[0m\u001b[37m\u001b[0m \u001b[1m0s\u001b[0m 39ms/step\n",
            "X [: [0.  0.1 0.  0.  0.  0.  0.  0.5 0.  0.  0.  0. ]\n",
            "Y [: [0 0 0 0 0 0 1 1 0 0 0 0]\n",
            "PC: [[0. 0. 0. 0. 0. 0. 1. 1. 0. 0. 0. 0.]]\n",
            "70\n",
            "\u001b[1m1/1\u001b[0m \u001b[32m━━━━━━━━━━━━━━━━━━━━\u001b[0m\u001b[37m\u001b[0m \u001b[1m0s\u001b[0m 35ms/step\n",
            "X [: [0.  0.  0.1 0.  0.1 0.  0.  0.5 0.  0.  0.  0. ]\n",
            "Y [: [0 0 0 0 0 0 1 1 0 0 0 0]\n",
            "PC: [[0. 0. 0. 0. 0. 0. 1. 1. 0. 0. 0. 0.]]\n",
            "71\n",
            "\u001b[1m1/1\u001b[0m \u001b[32m━━━━━━━━━━━━━━━━━━━━\u001b[0m\u001b[37m\u001b[0m \u001b[1m0s\u001b[0m 33ms/step\n",
            "X [: [0.  0.  0.  0.1 0.  0.  0.  0.5 0.  0.  0.  0. ]\n",
            "Y [: [0 0 0 0 0 0 1 1 0 0 0 0]\n",
            "PC: [[0. 0. 0. 0. 0. 0. 1. 1. 0. 0. 0. 0.]]\n",
            "72\n",
            "\u001b[1m1/1\u001b[0m \u001b[32m━━━━━━━━━━━━━━━━━━━━\u001b[0m\u001b[37m\u001b[0m \u001b[1m0s\u001b[0m 32ms/step\n",
            "X [: [0.  0.1 0.  0.  0.  0.  0.  0.5 0.  0.  0.  0. ]\n",
            "Y [: [0 0 0 0 0 0 1 1 0 0 0 0]\n",
            "PC: [[0. 0. 0. 0. 0. 0. 1. 1. 0. 0. 0. 0.]]\n",
            "73\n",
            "\u001b[1m1/1\u001b[0m \u001b[32m━━━━━━━━━━━━━━━━━━━━\u001b[0m\u001b[37m\u001b[0m \u001b[1m0s\u001b[0m 52ms/step\n",
            "X [: [0.  0.1 0.  0.  0.  0.  0.  0.5 0.  0.  0.  0. ]\n",
            "Y [: [0 0 0 0 0 0 1 1 0 0 0 0]\n",
            "PC: [[0. 0. 0. 0. 0. 0. 1. 1. 0. 0. 0. 0.]]\n",
            "74\n",
            "\u001b[1m1/1\u001b[0m \u001b[32m━━━━━━━━━━━━━━━━━━━━\u001b[0m\u001b[37m\u001b[0m \u001b[1m0s\u001b[0m 24ms/step\n",
            "X [: [0.  0.  0.  0.  0.1 0.  0.  0.5 0.  0.  0.  0. ]\n",
            "Y [: [0 0 0 0 0 0 1 1 0 0 0 0]\n",
            "PC: [[0. 0. 0. 0. 0. 0. 1. 1. 0. 0. 0. 0.]]\n",
            "75\n",
            "\u001b[1m1/1\u001b[0m \u001b[32m━━━━━━━━━━━━━━━━━━━━\u001b[0m\u001b[37m\u001b[0m \u001b[1m0s\u001b[0m 32ms/step\n",
            "X [: [0.1 0.  0.  0.  0.  0.  0.  0.5 0.  0.  0.  0. ]\n",
            "Y [: [0 0 0 0 0 0 1 1 0 0 0 0]\n",
            "PC: [[0. 0. 0. 0. 0. 0. 1. 1. 0. 0. 0. 0.]]\n",
            "76\n",
            "\u001b[1m1/1\u001b[0m \u001b[32m━━━━━━━━━━━━━━━━━━━━\u001b[0m\u001b[37m\u001b[0m \u001b[1m0s\u001b[0m 32ms/step\n",
            "X [: [0.  0.  0.  0.1 0.  0.  0.  0.5 0.  0.  0.  0. ]\n",
            "Y [: [0 0 0 0 0 0 1 1 0 0 0 0]\n",
            "PC: [[0. 0. 0. 0. 0. 0. 1. 1. 0. 0. 0. 0.]]\n",
            "77\n",
            "\u001b[1m1/1\u001b[0m \u001b[32m━━━━━━━━━━━━━━━━━━━━\u001b[0m\u001b[37m\u001b[0m \u001b[1m0s\u001b[0m 78ms/step\n",
            "X [: [0.  0.  0.  0.  0.  0.  0.  0.5 0.  0.  0.  0. ]\n",
            "Y [: [0 0 0 0 0 0 1 1 0 0 0 0]\n",
            "PC: [[0. 0. 0. 0. 0. 0. 1. 1. 0. 0. 0. 0.]]\n",
            "78\n",
            "\u001b[1m1/1\u001b[0m \u001b[32m━━━━━━━━━━━━━━━━━━━━\u001b[0m\u001b[37m\u001b[0m \u001b[1m0s\u001b[0m 34ms/step\n",
            "X [: [0.  0.  0.  0.  0.  0.  0.  0.5 0.  0.  0.  0. ]\n",
            "Y [: [0 0 0 0 0 0 1 1 0 0 0 0]\n",
            "PC: [[0. 0. 0. 0. 0. 0. 1. 1. 0. 0. 0. 0.]]\n",
            "79\n",
            "\u001b[1m1/1\u001b[0m \u001b[32m━━━━━━━━━━━━━━━━━━━━\u001b[0m\u001b[37m\u001b[0m \u001b[1m0s\u001b[0m 28ms/step\n",
            "X [: [0.  0.  0.  0.  0.1 0.  0.  0.5 0.  0.  0.  0. ]\n",
            "Y [: [0 0 0 0 0 0 1 1 0 0 0 0]\n",
            "PC: [[0. 0. 0. 0. 0. 0. 1. 1. 0. 0. 0. 0.]]\n",
            "80\n",
            "\u001b[1m1/1\u001b[0m \u001b[32m━━━━━━━━━━━━━━━━━━━━\u001b[0m\u001b[37m\u001b[0m \u001b[1m0s\u001b[0m 32ms/step\n",
            "X [: [0.  0.  0.  0.1 0.  0.  0.  0.5 0.  0.  0.  0. ]\n",
            "Y [: [0 0 0 0 0 0 1 1 0 0 0 0]\n",
            "PC: [[0. 0. 0. 0. 0. 0. 1. 1. 0. 0. 0. 0.]]\n",
            "81\n",
            "\u001b[1m1/1\u001b[0m \u001b[32m━━━━━━━━━━━━━━━━━━━━\u001b[0m\u001b[37m\u001b[0m \u001b[1m0s\u001b[0m 31ms/step\n",
            "X [: [0.  0.1 0.  0.  0.  0.  0.  0.5 0.  0.  0.  0. ]\n",
            "Y [: [0 0 0 0 0 0 1 1 0 0 0 0]\n",
            "PC: [[0. 0. 0. 0. 0. 0. 1. 1. 0. 0. 0. 0.]]\n",
            "82\n",
            "\u001b[1m1/1\u001b[0m \u001b[32m━━━━━━━━━━━━━━━━━━━━\u001b[0m\u001b[37m\u001b[0m \u001b[1m0s\u001b[0m 31ms/step\n",
            "X [: [0.  0.  0.  0.  0.  0.  0.  0.5 0.  0.  0.  0. ]\n",
            "Y [: [0 0 0 0 0 0 1 1 0 0 0 0]\n",
            "PC: [[0. 0. 0. 0. 0. 0. 1. 1. 0. 0. 0. 0.]]\n",
            "83\n",
            "\u001b[1m1/1\u001b[0m \u001b[32m━━━━━━━━━━━━━━━━━━━━\u001b[0m\u001b[37m\u001b[0m \u001b[1m0s\u001b[0m 69ms/step\n",
            "X [: [0.  0.  0.  0.  0.  0.  0.  0.5 0.  0.  0.  0. ]\n",
            "Y [: [0 0 0 0 0 0 1 1 0 0 0 0]\n",
            "PC: [[0. 0. 0. 0. 0. 0. 1. 1. 0. 0. 0. 0.]]\n",
            "84\n",
            "\u001b[1m1/1\u001b[0m \u001b[32m━━━━━━━━━━━━━━━━━━━━\u001b[0m\u001b[37m\u001b[0m \u001b[1m0s\u001b[0m 32ms/step\n",
            "X [: [0.  0.  0.  0.  0.  0.  0.  0.5 0.  0.  0.  0. ]\n",
            "Y [: [0 0 0 0 0 0 1 1 0 0 0 0]\n",
            "PC: [[0. 0. 0. 0. 0. 0. 1. 1. 0. 0. 0. 0.]]\n",
            "85\n",
            "\u001b[1m1/1\u001b[0m \u001b[32m━━━━━━━━━━━━━━━━━━━━\u001b[0m\u001b[37m\u001b[0m \u001b[1m0s\u001b[0m 30ms/step\n",
            "X [: [0.  0.1 0.  0.  0.  0.1 0.  0.5 0.  0.  0.  0. ]\n",
            "Y [: [0 0 0 0 0 0 1 1 0 0 0 0]\n",
            "PC: [[0. 0. 0. 0. 0. 0. 1. 1. 0. 0. 0. 0.]]\n",
            "86\n",
            "\u001b[1m1/1\u001b[0m \u001b[32m━━━━━━━━━━━━━━━━━━━━\u001b[0m\u001b[37m\u001b[0m \u001b[1m0s\u001b[0m 39ms/step\n",
            "X [: [0.  0.  0.  0.  0.  0.  0.  0.5 0.  0.  0.  0. ]\n",
            "Y [: [0 0 0 0 0 0 1 1 0 0 0 0]\n",
            "PC: [[0. 0. 0. 0. 0. 0. 1. 1. 0. 0. 0. 0.]]\n",
            "87\n",
            "\u001b[1m1/1\u001b[0m \u001b[32m━━━━━━━━━━━━━━━━━━━━\u001b[0m\u001b[37m\u001b[0m \u001b[1m0s\u001b[0m 41ms/step\n",
            "X [: [0.  0.  0.  0.  0.  0.  0.  0.5 0.  0.  0.  0. ]\n",
            "Y [: [0 0 0 0 0 0 1 1 0 0 0 0]\n",
            "PC: [[0. 0. 0. 0. 0. 0. 1. 1. 0. 0. 0. 0.]]\n",
            "88\n",
            "\u001b[1m1/1\u001b[0m \u001b[32m━━━━━━━━━━━━━━━━━━━━\u001b[0m\u001b[37m\u001b[0m \u001b[1m0s\u001b[0m 71ms/step\n",
            "X [: [0.  0.  0.  0.  0.  0.  0.  0.5 0.  0.  0.  0. ]\n",
            "Y [: [0 0 0 0 0 0 1 1 0 0 0 0]\n",
            "PC: [[0. 0. 0. 0. 0. 0. 1. 1. 0. 0. 0. 0.]]\n",
            "89\n",
            "\u001b[1m1/1\u001b[0m \u001b[32m━━━━━━━━━━━━━━━━━━━━\u001b[0m\u001b[37m\u001b[0m \u001b[1m0s\u001b[0m 39ms/step\n",
            "X [: [0.  0.  0.  0.  0.  0.  0.  0.5 0.  0.  0.  0. ]\n",
            "Y [: [0 0 0 0 0 0 1 1 0 0 0 0]\n",
            "PC: [[0. 0. 0. 0. 0. 0. 1. 1. 0. 0. 0. 0.]]\n",
            "90\n",
            "\u001b[1m1/1\u001b[0m \u001b[32m━━━━━━━━━━━━━━━━━━━━\u001b[0m\u001b[37m\u001b[0m \u001b[1m0s\u001b[0m 68ms/step\n",
            "X [: [0.  0.1 0.  0.  0.  0.  0.  0.5 0.  0.  0.  0. ]\n",
            "Y [: [0 0 0 0 0 0 1 1 0 0 0 0]\n",
            "PC: [[0. 0. 0. 0. 0. 0. 1. 1. 0. 0. 0. 0.]]\n",
            "91\n",
            "\u001b[1m1/1\u001b[0m \u001b[32m━━━━━━━━━━━━━━━━━━━━\u001b[0m\u001b[37m\u001b[0m \u001b[1m0s\u001b[0m 51ms/step\n",
            "X [: [0.  0.  0.  0.  0.  0.  0.  0.5 0.  0.  0.  0. ]\n",
            "Y [: [0 0 0 0 0 0 1 1 0 0 0 0]\n",
            "PC: [[0. 0. 0. 0. 0. 0. 1. 1. 0. 0. 0. 0.]]\n",
            "92\n",
            "\u001b[1m1/1\u001b[0m \u001b[32m━━━━━━━━━━━━━━━━━━━━\u001b[0m\u001b[37m\u001b[0m \u001b[1m0s\u001b[0m 62ms/step\n",
            "X [: [0.1 0.  0.1 0.  0.  0.  0.  0.5 0.  0.  0.  0. ]\n",
            "Y [: [0 0 0 0 0 0 1 1 0 0 0 0]\n",
            "PC: [[0. 0. 0. 0. 0. 0. 1. 1. 0. 0. 0. 0.]]\n",
            "93\n",
            "\u001b[1m1/1\u001b[0m \u001b[32m━━━━━━━━━━━━━━━━━━━━\u001b[0m\u001b[37m\u001b[0m \u001b[1m0s\u001b[0m 30ms/step\n",
            "X [: [0.1 0.  0.  0.  0.  0.  0.  0.5 0.  0.  0.  0. ]\n",
            "Y [: [0 0 0 0 0 0 1 1 0 0 0 0]\n",
            "PC: [[0. 0. 0. 0. 0. 0. 1. 1. 0. 0. 0. 0.]]\n",
            "94\n",
            "\u001b[1m1/1\u001b[0m \u001b[32m━━━━━━━━━━━━━━━━━━━━\u001b[0m\u001b[37m\u001b[0m \u001b[1m0s\u001b[0m 41ms/step\n",
            "X [: [0.  0.  0.  0.  0.  0.  0.  0.5 0.  0.  0.  0. ]\n",
            "Y [: [0 0 0 0 0 0 1 1 0 0 0 0]\n",
            "PC: [[0. 0. 0. 0. 0. 0. 1. 1. 0. 0. 0. 0.]]\n",
            "95\n",
            "\u001b[1m1/1\u001b[0m \u001b[32m━━━━━━━━━━━━━━━━━━━━\u001b[0m\u001b[37m\u001b[0m \u001b[1m0s\u001b[0m 49ms/step\n",
            "X [: [0.  0.  0.  0.  0.  0.  0.  0.5 0.  0.  0.  0. ]\n",
            "Y [: [0 0 0 0 0 0 1 1 0 0 0 0]\n",
            "PC: [[0. 0. 0. 0. 0. 0. 1. 1. 0. 0. 0. 0.]]\n",
            "96\n",
            "\u001b[1m1/1\u001b[0m \u001b[32m━━━━━━━━━━━━━━━━━━━━\u001b[0m\u001b[37m\u001b[0m \u001b[1m0s\u001b[0m 36ms/step\n",
            "X [: [0.  0.1 0.  0.  0.  0.  0.  0.5 0.  0.  0.  0. ]\n",
            "Y [: [0 0 0 0 0 0 1 1 0 0 0 0]\n",
            "PC: [[0. 0. 0. 0. 0. 0. 1. 1. 0. 0. 0. 0.]]\n",
            "97\n",
            "\u001b[1m1/1\u001b[0m \u001b[32m━━━━━━━━━━━━━━━━━━━━\u001b[0m\u001b[37m\u001b[0m \u001b[1m0s\u001b[0m 51ms/step\n",
            "X [: [0.  0.  0.1 0.  0.  0.  0.  0.5 0.  0.  0.  0. ]\n",
            "Y [: [0 0 0 0 0 0 1 1 0 0 0 0]\n",
            "PC: [[0. 0. 0. 0. 0. 0. 1. 1. 0. 0. 0. 0.]]\n",
            "98\n",
            "\u001b[1m1/1\u001b[0m \u001b[32m━━━━━━━━━━━━━━━━━━━━\u001b[0m\u001b[37m\u001b[0m \u001b[1m0s\u001b[0m 36ms/step\n",
            "X [: [0.  0.  0.  0.  0.  0.  0.  0.5 0.  0.  0.  0. ]\n",
            "Y [: [0 0 0 0 0 0 1 1 0 0 0 0]\n",
            "PC: [[0. 0. 0. 0. 0. 0. 1. 1. 0. 0. 0. 0.]]\n",
            "99\n"
          ]
        }
      ],
      "source": [
        "i = 0\n",
        "for i in range(100):\n",
        "    a = x_test[i]\n",
        "    b = a.reshape(1, 1, 12)\n",
        "\n",
        "    # Make predictions on new data\n",
        "    prediction = model_lstm.predict(b)\n",
        "    #predicted_class = label_encoder.inverse_transform(prediction)[0]\n",
        "\n",
        "    np.round(prediction, decimals=1, out=prediction)\n",
        "    np.round(x_test[i], decimals=1, out=x_test[i])\n",
        "    #print(\"Value:\", newArray[i + start])\n",
        "    if (np.sum(y_test[i]) > 0):\n",
        "      print(\"X [:\", x_test[i])\n",
        "      print(\"Y [:\", y_test[i])\n",
        "      print(\"PC:\", prediction)\n",
        "      print (i)\n",
        "    i = 1 + 1\n",
        "#PREDICTIONS WITH COLAB MODEL\n",
        "#prediction = model.predict(teste)\n",
        "#print(\"Predicted class:\", prediction)\n",
        "#print(\"Predicted class:\", predicted_class)"
      ]
    },
    {
      "cell_type": "code",
      "execution_count": null,
      "metadata": {
        "colab": {
          "base_uri": "https://localhost:8080/"
        },
        "id": "lmrX4Kzdc0T3",
        "outputId": "3c468fe8-622f-476e-f75c-750a4878ea26"
      },
      "outputs": [],
      "source": [
        "test_value = np.array([0., 0.363, 0.313, 0., 0., 0.31, 0.393, 0., 0., 0.244, 0.247, 0.])\n",
        "test_value = test_value.reshape(1, 1, 12)\n",
        "\n",
        "# Make predictions on new data\n",
        "prediction = model_lstm.predict(test_value)\n",
        "np.round(prediction, decimals=2, out=prediction)\n",
        "\n",
        "print(\"Value    :\", test_value[0][0])\n",
        "print(\"Predicted:\", prediction[0])"
      ]
    },
    {
      "cell_type": "markdown",
      "metadata": {
        "id": "02BdeK0gJrOU"
      },
      "source": [
        "# **SAVE THE MODEL**"
      ]
    },
    {
      "cell_type": "code",
      "execution_count": null,
      "metadata": {
        "colab": {
          "base_uri": "https://localhost:8080/",
          "height": 163
        },
        "id": "KGOyK8rXJvmx",
        "outputId": "7d0a5249-f640-4945-b90c-feaa6b10b3ee"
      },
      "outputs": [
        {
          "name": "stderr",
          "output_type": "stream",
          "text": [
            "WARNING:absl:You are saving your model as an HDF5 file via `model.save()` or `keras.saving.save_model(model)`. This file format is considered legacy. We recommend using instead the native Keras format, e.g. `model.save('my_model.keras')` or `keras.saving.save_model(model, 'my_model.keras')`. \n"
          ]
        }
      ],
      "source": [
        "import os\n",
        "import datetime\n",
        "\n",
        "model_name = 'lstm_model_CONV' + datetime.datetime.now().strftime(\"%Y-%m-%d %HH%Mm%Ss\") + '.h5'\n",
        "\n",
        "# Save the model in runtime_saves/models folder\n",
        "model_lstm.save(os.path.join(\".\", 'runtime_saves', 'models', model_name))"
      ]
    },
    {
      "cell_type": "code",
      "execution_count": null,
      "metadata": {},
      "outputs": [
        {
          "data": {
            "text/html": [
              "<pre style=\"white-space:pre;overflow-x:auto;line-height:normal;font-family:Menlo,'DejaVu Sans Mono',consolas,'Courier New',monospace\"><span style=\"font-weight: bold\">Model: \"sequential\"</span>\n",
              "</pre>\n"
            ],
            "text/plain": [
              "\u001b[1mModel: \"sequential\"\u001b[0m\n"
            ]
          },
          "metadata": {},
          "output_type": "display_data"
        },
        {
          "data": {
            "text/html": [
              "<pre style=\"white-space:pre;overflow-x:auto;line-height:normal;font-family:Menlo,'DejaVu Sans Mono',consolas,'Courier New',monospace\">┏━━━━━━━━━━━━━━━━━━━━━━━━━━━━━━━━━┳━━━━━━━━━━━━━━━━━━━━━━━━┳━━━━━━━━━━━━━━━┓\n",
              "┃<span style=\"font-weight: bold\"> Layer (type)                    </span>┃<span style=\"font-weight: bold\"> Output Shape           </span>┃<span style=\"font-weight: bold\">       Param # </span>┃\n",
              "┡━━━━━━━━━━━━━━━━━━━━━━━━━━━━━━━━━╇━━━━━━━━━━━━━━━━━━━━━━━━╇━━━━━━━━━━━━━━━┩\n",
              "│ conv1d (<span style=\"color: #0087ff; text-decoration-color: #0087ff\">Conv1D</span>)                 │ (<span style=\"color: #00d7ff; text-decoration-color: #00d7ff\">None</span>, <span style=\"color: #00af00; text-decoration-color: #00af00\">1</span>, <span style=\"color: #00af00; text-decoration-color: #00af00\">64</span>)          │           <span style=\"color: #00af00; text-decoration-color: #00af00\">832</span> │\n",
              "├─────────────────────────────────┼────────────────────────┼───────────────┤\n",
              "│ conv1d_1 (<span style=\"color: #0087ff; text-decoration-color: #0087ff\">Conv1D</span>)               │ (<span style=\"color: #00d7ff; text-decoration-color: #00d7ff\">None</span>, <span style=\"color: #00af00; text-decoration-color: #00af00\">1</span>, <span style=\"color: #00af00; text-decoration-color: #00af00\">64</span>)          │         <span style=\"color: #00af00; text-decoration-color: #00af00\">4,160</span> │\n",
              "├─────────────────────────────────┼────────────────────────┼───────────────┤\n",
              "│ dropout (<span style=\"color: #0087ff; text-decoration-color: #0087ff\">Dropout</span>)               │ (<span style=\"color: #00d7ff; text-decoration-color: #00d7ff\">None</span>, <span style=\"color: #00af00; text-decoration-color: #00af00\">1</span>, <span style=\"color: #00af00; text-decoration-color: #00af00\">64</span>)          │             <span style=\"color: #00af00; text-decoration-color: #00af00\">0</span> │\n",
              "├─────────────────────────────────┼────────────────────────┼───────────────┤\n",
              "│ flatten (<span style=\"color: #0087ff; text-decoration-color: #0087ff\">Flatten</span>)               │ (<span style=\"color: #00d7ff; text-decoration-color: #00d7ff\">None</span>, <span style=\"color: #00af00; text-decoration-color: #00af00\">64</span>)             │             <span style=\"color: #00af00; text-decoration-color: #00af00\">0</span> │\n",
              "├─────────────────────────────────┼────────────────────────┼───────────────┤\n",
              "│ dense (<span style=\"color: #0087ff; text-decoration-color: #0087ff\">Dense</span>)                   │ (<span style=\"color: #00d7ff; text-decoration-color: #00d7ff\">None</span>, <span style=\"color: #00af00; text-decoration-color: #00af00\">64</span>)             │         <span style=\"color: #00af00; text-decoration-color: #00af00\">4,160</span> │\n",
              "├─────────────────────────────────┼────────────────────────┼───────────────┤\n",
              "│ dense_1 (<span style=\"color: #0087ff; text-decoration-color: #0087ff\">Dense</span>)                 │ (<span style=\"color: #00d7ff; text-decoration-color: #00d7ff\">None</span>, <span style=\"color: #00af00; text-decoration-color: #00af00\">12</span>)             │           <span style=\"color: #00af00; text-decoration-color: #00af00\">780</span> │\n",
              "└─────────────────────────────────┴────────────────────────┴───────────────┘\n",
              "</pre>\n"
            ],
            "text/plain": [
              "┏━━━━━━━━━━━━━━━━━━━━━━━━━━━━━━━━━┳━━━━━━━━━━━━━━━━━━━━━━━━┳━━━━━━━━━━━━━━━┓\n",
              "┃\u001b[1m \u001b[0m\u001b[1mLayer (type)                   \u001b[0m\u001b[1m \u001b[0m┃\u001b[1m \u001b[0m\u001b[1mOutput Shape          \u001b[0m\u001b[1m \u001b[0m┃\u001b[1m \u001b[0m\u001b[1m      Param #\u001b[0m\u001b[1m \u001b[0m┃\n",
              "┡━━━━━━━━━━━━━━━━━━━━━━━━━━━━━━━━━╇━━━━━━━━━━━━━━━━━━━━━━━━╇━━━━━━━━━━━━━━━┩\n",
              "│ conv1d (\u001b[38;5;33mConv1D\u001b[0m)                 │ (\u001b[38;5;45mNone\u001b[0m, \u001b[38;5;34m1\u001b[0m, \u001b[38;5;34m64\u001b[0m)          │           \u001b[38;5;34m832\u001b[0m │\n",
              "├─────────────────────────────────┼────────────────────────┼───────────────┤\n",
              "│ conv1d_1 (\u001b[38;5;33mConv1D\u001b[0m)               │ (\u001b[38;5;45mNone\u001b[0m, \u001b[38;5;34m1\u001b[0m, \u001b[38;5;34m64\u001b[0m)          │         \u001b[38;5;34m4,160\u001b[0m │\n",
              "├─────────────────────────────────┼────────────────────────┼───────────────┤\n",
              "│ dropout (\u001b[38;5;33mDropout\u001b[0m)               │ (\u001b[38;5;45mNone\u001b[0m, \u001b[38;5;34m1\u001b[0m, \u001b[38;5;34m64\u001b[0m)          │             \u001b[38;5;34m0\u001b[0m │\n",
              "├─────────────────────────────────┼────────────────────────┼───────────────┤\n",
              "│ flatten (\u001b[38;5;33mFlatten\u001b[0m)               │ (\u001b[38;5;45mNone\u001b[0m, \u001b[38;5;34m64\u001b[0m)             │             \u001b[38;5;34m0\u001b[0m │\n",
              "├─────────────────────────────────┼────────────────────────┼───────────────┤\n",
              "│ dense (\u001b[38;5;33mDense\u001b[0m)                   │ (\u001b[38;5;45mNone\u001b[0m, \u001b[38;5;34m64\u001b[0m)             │         \u001b[38;5;34m4,160\u001b[0m │\n",
              "├─────────────────────────────────┼────────────────────────┼───────────────┤\n",
              "│ dense_1 (\u001b[38;5;33mDense\u001b[0m)                 │ (\u001b[38;5;45mNone\u001b[0m, \u001b[38;5;34m12\u001b[0m)             │           \u001b[38;5;34m780\u001b[0m │\n",
              "└─────────────────────────────────┴────────────────────────┴───────────────┘\n"
            ]
          },
          "metadata": {},
          "output_type": "display_data"
        },
        {
          "data": {
            "text/html": [
              "<pre style=\"white-space:pre;overflow-x:auto;line-height:normal;font-family:Menlo,'DejaVu Sans Mono',consolas,'Courier New',monospace\"><span style=\"font-weight: bold\"> Total params: </span><span style=\"color: #00af00; text-decoration-color: #00af00\">29,798</span> (116.40 KB)\n",
              "</pre>\n"
            ],
            "text/plain": [
              "\u001b[1m Total params: \u001b[0m\u001b[38;5;34m29,798\u001b[0m (116.40 KB)\n"
            ]
          },
          "metadata": {},
          "output_type": "display_data"
        },
        {
          "data": {
            "text/html": [
              "<pre style=\"white-space:pre;overflow-x:auto;line-height:normal;font-family:Menlo,'DejaVu Sans Mono',consolas,'Courier New',monospace\"><span style=\"font-weight: bold\"> Trainable params: </span><span style=\"color: #00af00; text-decoration-color: #00af00\">9,932</span> (38.80 KB)\n",
              "</pre>\n"
            ],
            "text/plain": [
              "\u001b[1m Trainable params: \u001b[0m\u001b[38;5;34m9,932\u001b[0m (38.80 KB)\n"
            ]
          },
          "metadata": {},
          "output_type": "display_data"
        },
        {
          "data": {
            "text/html": [
              "<pre style=\"white-space:pre;overflow-x:auto;line-height:normal;font-family:Menlo,'DejaVu Sans Mono',consolas,'Courier New',monospace\"><span style=\"font-weight: bold\"> Non-trainable params: </span><span style=\"color: #00af00; text-decoration-color: #00af00\">0</span> (0.00 B)\n",
              "</pre>\n"
            ],
            "text/plain": [
              "\u001b[1m Non-trainable params: \u001b[0m\u001b[38;5;34m0\u001b[0m (0.00 B)\n"
            ]
          },
          "metadata": {},
          "output_type": "display_data"
        },
        {
          "data": {
            "text/html": [
              "<pre style=\"white-space:pre;overflow-x:auto;line-height:normal;font-family:Menlo,'DejaVu Sans Mono',consolas,'Courier New',monospace\"><span style=\"font-weight: bold\"> Optimizer params: </span><span style=\"color: #00af00; text-decoration-color: #00af00\">19,866</span> (77.61 KB)\n",
              "</pre>\n"
            ],
            "text/plain": [
              "\u001b[1m Optimizer params: \u001b[0m\u001b[38;5;34m19,866\u001b[0m (77.61 KB)\n"
            ]
          },
          "metadata": {},
          "output_type": "display_data"
        }
      ],
      "source": [
        "# model sumary\n",
        "model_lstm.summary()"
      ]
    }
  ],
  "metadata": {
    "accelerator": "GPU",
    "colab": {
      "gpuType": "T4",
      "provenance": []
    },
    "kernelspec": {
      "display_name": "Python 3",
      "name": "python3"
    },
    "language_info": {
      "codemirror_mode": {
        "name": "ipython",
        "version": 3
      },
      "file_extension": ".py",
      "mimetype": "text/x-python",
      "name": "python",
      "nbconvert_exporter": "python",
      "pygments_lexer": "ipython3",
      "version": "3.10.11"
    }
  },
  "nbformat": 4,
  "nbformat_minor": 0
}
